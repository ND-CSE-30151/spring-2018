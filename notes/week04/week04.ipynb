{
 "cells": [
  {
   "cell_type": "markdown",
   "metadata": {},
   "source": [
    "# Week 4: 2018/02/05-09"
   ]
  },
  {
   "cell_type": "code",
   "execution_count": 1,
   "metadata": {
    "collapsed": true
   },
   "outputs": [],
   "source": [
    "from tock import *"
   ]
  },
  {
   "cell_type": "markdown",
   "metadata": {},
   "source": [
    "# Monday reading\n",
    "\n",
    "Read Section 1.4, focusing on pages 77-79."
   ]
  },
  {
   "cell_type": "markdown",
   "metadata": {},
   "source": [
    "# Tuesday class\n",
    "\n",
    "## Non-regular languages\n",
    "\n",
    "We've seen that regular languages encompass all finite and cofinite languages, and three computational models (DFA, NFA, regular expression) turn out to recognize regular languages. Are there languages that aren't regular? Definitely -- the two classic examples are\n",
    "\n",
    "$$ B = \\{\\mathtt{0}^n \\mathtt{1}^n \\mid n \\geq 0\\} $$\n",
    "$$ G = \\{w w^R \\mid w \\in \\{\\mathtt{0}, \\mathtt{1}\\}^\\ast \\} $$\n",
    "\n",
    "The intuitive reason why is simple. If I give you two strings $u, v$, what information would you need about $u$ to decide whether $uv$ is in the language? Let's say that $L$ is the language of natural base-10 numbers that are divisible by 3. Recall that a number is divisible by 3 iff its digits sum to a multiple of 3. So the only information that you need about $u$ is the sum of its digits, _modulo 3_. That's a finite amount of information, so the language is regular.\n",
    "\n",
    "Now consider $B$. If I give you $u=\\mathtt{000001}$, the only $v$ that matches up with it is $v=\\mathtt{1111}$. The information that you need about $u$ is how many $\\mathtt{0}$'s it contains -- which can be unbounded. So, intuitively, this is not a regular language.\n",
    "\n",
    "## The pumping lemma\n",
    "\n",
    "But how do we really prove that $B$ is not regular? To do this, we entertain the possibility that it _is_ regular. If there were a DFA $M$ that recognizes $B$, we try to \"break\" it by finding a string that is _not_ in $B$ but _is_ accepted by $M$. If we show that we can break _all_ possible DFAs in this way, then that means we've shown that there is _no_ DFA that recognizes $B$. So $B$ is not regular.\n",
    "\n",
    "The way that we are going to find the string that breaks $M$ involves a back-and-forth that is best thought of as a dialogue. Below, we imagine a dialogue between two people named Alice and Bill. Bill proposes $M$. Alice gives Bill a \"test\" string $s$ that $M$ is supposed to accept. But then, she uses the information that Bill reveals to concoct another string, and this is the one that breaks $M$.\n",
    "\n",
    "## A dialogue\n",
    "\n",
    "Alice. The language $B = \\{\\texttt{0}^n \\texttt{1}^n \\mid n \\geq 0\\}$ is not regular.\n",
    "\n",
    "Bill. Yes it is!\n",
    "\n",
    "Alice. Oh really, then show me a DFA that generates it.\n",
    "\n",
    "Bill. Here's one:"
   ]
  },
  {
   "cell_type": "code",
   "execution_count": 2,
   "metadata": {},
   "outputs": [
    {
     "data": {
      "image/svg+xml": [
       "<svg height=\"65pt\" viewBox=\"0.00 0.00 141.00 65.00\" width=\"141pt\" xmlns=\"http://www.w3.org/2000/svg\" xmlns:xlink=\"http://www.w3.org/1999/xlink\">\n",
       "<g class=\"graph\" id=\"graph0\" transform=\"scale(1 1) rotate(0) translate(4 61)\">\n",
       "<title>%3</title>\n",
       "<polygon fill=\"#ffffff\" points=\"-4,4 -4,-61 137.0039,-61 137.0039,4 -4,4\" stroke=\"transparent\"/>\n",
       "<!-- _START -->\n",
       "<g class=\"node\" id=\"node1\">\n",
       "<title>_START</title>\n",
       "</g>\n",
       "<!-- 0 -->\n",
       "<g class=\"node\" id=\"node2\">\n",
       "<title>0</title>\n",
       "<path d=\"M52.6696,-20C52.6696,-20 43.3324,-20 43.3324,-20 40.6657,-20 37.999,-17.3333 37.999,-14.6667 37.999,-14.6667 37.999,-9.3333 37.999,-9.3333 37.999,-6.6667 40.6657,-4 43.3324,-4 43.3324,-4 52.6696,-4 52.6696,-4 55.3363,-4 58.0029,-6.6667 58.0029,-9.3333 58.0029,-9.3333 58.0029,-14.6667 58.0029,-14.6667 58.0029,-17.3333 55.3363,-20 52.6696,-20\" fill=\"none\" stroke=\"#000000\"/>\n",
       "<text fill=\"#000000\" font-family=\"Courier,monospace\" font-size=\"10.00\" text-anchor=\"start\" x=\"42\" y=\"-9\">q1</text>\n",
       "</g>\n",
       "<!-- _START&#45;&gt;0 -->\n",
       "<g class=\"edge\" id=\"edge1\">\n",
       "<title>_START-&gt;0</title>\n",
       "<path d=\"M1.0335,-12C4.1371,-12 20.1615,-12 32.6403,-12\" fill=\"none\" stroke=\"#000000\"/>\n",
       "<polygon fill=\"#000000\" points=\"37.7232,-12 32.7233,-14.2501 35.2232,-12 32.7232,-12.0001 32.7232,-12.0001 32.7232,-12.0001 35.2232,-12 32.7232,-9.7501 37.7232,-12 37.7232,-12\" stroke=\"#000000\"/>\n",
       "</g>\n",
       "<!-- 0&#45;&gt;0 -->\n",
       "<g class=\"edge\" id=\"edge2\">\n",
       "<title>0-&gt;0</title>\n",
       "<path d=\"M43.9045,-20.2534C41.4949,-28.652 42.8604,-38 48.001,-38 52.0974,-38 53.7966,-32.0639 53.0985,-25.4025\" fill=\"none\" stroke=\"#000000\"/>\n",
       "<polygon fill=\"#000000\" points=\"52.0974,-20.2534 55.2604,-24.7321 52.5746,-22.7075 53.0517,-25.1615 53.0517,-25.1615 53.0517,-25.1615 52.5746,-22.7075 50.8431,-25.591 52.0974,-20.2534 52.0974,-20.2534\" stroke=\"#000000\"/>\n",
       "<text fill=\"#000000\" font-family=\"Courier,monospace\" font-size=\"9.00\" text-anchor=\"start\" x=\"45.8005\" y=\"-42.3\">0</text>\n",
       "</g>\n",
       "<!-- 1 -->\n",
       "<g class=\"node\" id=\"node3\">\n",
       "<title>1</title>\n",
       "<path d=\"M123.6713,-20C123.6713,-20 114.3346,-20 114.3346,-20 111.6679,-20 109.0013,-17.3333 109.0013,-14.6667 109.0013,-14.6667 109.0013,-9.3333 109.0013,-9.3333 109.0013,-6.6667 111.6679,-4 114.3346,-4 114.3346,-4 123.6713,-4 123.6713,-4 126.3379,-4 129.0046,-6.6667 129.0046,-9.3333 129.0046,-9.3333 129.0046,-14.6667 129.0046,-14.6667 129.0046,-17.3333 126.3379,-20 123.6713,-20\" fill=\"none\" stroke=\"#000000\"/>\n",
       "<path d=\"M125.0049,-24C125.0049,-24 113.001,-24 113.001,-24 109.001,-24 105.001,-20 105.001,-16 105.001,-16 105.001,-8 105.001,-8 105.001,-4 109.001,0 113.001,0 113.001,0 125.0049,0 125.0049,0 129.0049,0 133.0049,-4 133.0049,-8 133.0049,-8 133.0049,-16 133.0049,-16 133.0049,-20 129.0049,-24 125.0049,-24\" fill=\"none\" stroke=\"#000000\"/>\n",
       "<text fill=\"#000000\" font-family=\"Courier,monospace\" font-size=\"10.00\" text-anchor=\"start\" x=\"113.002\" y=\"-9\">q2</text>\n",
       "</g>\n",
       "<!-- 0&#45;&gt;1 -->\n",
       "<g class=\"edge\" id=\"edge3\">\n",
       "<title>0-&gt;1</title>\n",
       "<path d=\"M58.1738,-12C69.0063,-12 86.4036,-12 99.8235,-12\" fill=\"none\" stroke=\"#000000\"/>\n",
       "<polygon fill=\"#000000\" points=\"104.9328,-12 99.9328,-14.2501 102.4328,-12 99.9328,-12.0001 99.9328,-12.0001 99.9328,-12.0001 102.4328,-12 99.9328,-9.7501 104.9328,-12 104.9328,-12\" stroke=\"#000000\"/>\n",
       "<text fill=\"#000000\" font-family=\"Courier,monospace\" font-size=\"9.00\" text-anchor=\"start\" x=\"79.3015\" y=\"-16.3\">1</text>\n",
       "</g>\n",
       "<!-- 1&#45;&gt;1 -->\n",
       "<g class=\"edge\" id=\"edge4\">\n",
       "<title>1-&gt;1</title>\n",
       "<path d=\"M113.0505,-24.0139C110.9719,-32.9717 112.9561,-42 119.0029,-42 123.916,-42 126.1471,-36.0399 125.696,-29.0001\" fill=\"none\" stroke=\"#000000\"/>\n",
       "<polygon fill=\"#000000\" points=\"124.9553,-24.0139 127.9157,-28.629 125.3227,-26.4868 125.6901,-28.9596 125.6901,-28.9596 125.6901,-28.9596 125.3227,-26.4868 123.4645,-29.2903 124.9553,-24.0139 124.9553,-24.0139\" stroke=\"#000000\"/>\n",
       "<text fill=\"#000000\" font-family=\"Courier,monospace\" font-size=\"9.00\" text-anchor=\"start\" x=\"116.8025\" y=\"-46.3\">1</text>\n",
       "</g>\n",
       "</g>\n",
       "</svg>"
      ],
      "text/plain": [
       "<IPython.core.display.SVG object>"
      ]
     },
     "metadata": {},
     "output_type": "display_data"
    }
   ],
   "source": [
    "m = read_csv(\"pumping1.csv\")\n",
    "m"
   ]
  },
  {
   "cell_type": "markdown",
   "metadata": {},
   "source": [
    "Alice. How many states does it have?\n",
    "\n",
    "Bill. Let me see..."
   ]
  },
  {
   "cell_type": "code",
   "execution_count": 3,
   "metadata": {},
   "outputs": [
    {
     "data": {
      "text/plain": [
       "2"
      ]
     },
     "execution_count": 3,
     "metadata": {},
     "output_type": "execute_result"
    }
   ],
   "source": [
    "p = len(m.states)\n",
    "p"
   ]
  },
  {
   "cell_type": "markdown",
   "metadata": {},
   "source": [
    "Alice. Does your automaton accept the string $s = \\texttt{0}^p \\texttt{1}^p$?"
   ]
  },
  {
   "cell_type": "code",
   "execution_count": 4,
   "metadata": {},
   "outputs": [
    {
     "data": {
      "text/plain": [
       "['0', '0', '1', '1']"
      ]
     },
     "execution_count": 4,
     "metadata": {},
     "output_type": "execute_result"
    }
   ],
   "source": [
    "s = [\"0\"]*p + [\"1\"]*p\n",
    "s"
   ]
  },
  {
   "cell_type": "markdown",
   "metadata": {},
   "source": [
    "Bill. Of course..."
   ]
  },
  {
   "cell_type": "code",
   "execution_count": 5,
   "metadata": {},
   "outputs": [
    {
     "data": {
      "image/svg+xml": [
       "<svg height=\"73pt\" viewBox=\"0.00 0.00 424.02 73.00\" width=\"424pt\" xmlns=\"http://www.w3.org/2000/svg\" xmlns:xlink=\"http://www.w3.org/1999/xlink\">\n",
       "<g class=\"graph\" id=\"graph0\" transform=\"scale(1 1) rotate(0) translate(4 69)\">\n",
       "<title>%3</title>\n",
       "<polygon fill=\"#ffffff\" points=\"-4,4 -4,-69 420.0244,-69 420.0244,4 -4,4\" stroke=\"transparent\"/>\n",
       "<!-- _START -->\n",
       "<g class=\"node\" id=\"node1\">\n",
       "<title>_START</title>\n",
       "</g>\n",
       "<!-- 4 -->\n",
       "<g class=\"node\" id=\"node6\">\n",
       "<title>4</title>\n",
       "<path d=\"M61.6711,-20C61.6711,-20 52.3338,-20 52.3338,-20 49.6672,-20 47.0005,-17.3333 47.0005,-14.6667 47.0005,-14.6667 47.0005,-9.3333 47.0005,-9.3333 47.0005,-6.6667 49.6672,-4 52.3338,-4 52.3338,-4 61.6711,-4 61.6711,-4 64.3377,-4 67.0044,-6.6667 67.0044,-9.3333 67.0044,-9.3333 67.0044,-14.6667 67.0044,-14.6667 67.0044,-17.3333 64.3377,-20 61.6711,-20\" fill=\"none\" stroke=\"#000000\"/>\n",
       "<text fill=\"#000000\" font-family=\"Courier,monospace\" font-size=\"10.00\" text-anchor=\"start\" x=\"51.0015\" y=\"-9\">q1</text>\n",
       "</g>\n",
       "<!-- _START&#45;&gt;4 -->\n",
       "<g class=\"edge\" id=\"edge1\">\n",
       "<title>_START-&gt;4</title>\n",
       "<path d=\"M1.1345,-12C5.065,-12 26.4164,-12 41.5518,-12\" fill=\"none\" stroke=\"#000000\"/>\n",
       "<polygon fill=\"#000000\" points=\"46.803,-12 41.803,-14.2501 44.303,-12 41.803,-12.0001 41.803,-12.0001 41.803,-12.0001 44.303,-12 41.803,-9.7501 46.803,-12 46.803,-12\" stroke=\"#000000\"/>\n",
       "</g>\n",
       "<!-- 0 -->\n",
       "<g class=\"node\" id=\"node2\">\n",
       "<title>0</title>\n",
       "</g>\n",
       "<!-- 7 -->\n",
       "<g class=\"node\" id=\"node9\">\n",
       "<title>7</title>\n",
       "</g>\n",
       "<!-- 0&#45;&gt;7 -->\n",
       "<g class=\"edge\" id=\"edge3\">\n",
       "<title>0-&gt;7</title>\n",
       "<path d=\"M331.306,-50C343.5873,-50 359.5988,-50 372.7423,-50\" fill=\"none\" stroke=\"#ffffff\"/>\n",
       "<polygon fill=\"#ffffff\" points=\"377.8094,-50 372.8094,-52.2501 375.3094,-50 372.8094,-50.0001 372.8094,-50.0001 372.8094,-50.0001 375.3094,-50 372.8093,-47.7501 377.8094,-50 377.8094,-50\" stroke=\"#ffffff\"/>\n",
       "<text fill=\"#000000\" font-family=\"Courier,monospace\" font-size=\"9.00\" text-anchor=\"start\" x=\"352.3191\" y=\"-54.3\">1</text>\n",
       "</g>\n",
       "<!-- 1 -->\n",
       "<g class=\"node\" id=\"node3\">\n",
       "<title>1</title>\n",
       "</g>\n",
       "<!-- 1&#45;&gt;0 -->\n",
       "<g class=\"edge\" id=\"edge4\">\n",
       "<title>1-&gt;0</title>\n",
       "<path d=\"M246.3011,-50C258.5824,-50 274.5939,-50 287.7374,-50\" fill=\"none\" stroke=\"#ffffff\"/>\n",
       "<polygon fill=\"#ffffff\" points=\"292.8045,-50 287.8045,-52.2501 290.3045,-50 287.8045,-50.0001 287.8045,-50.0001 287.8045,-50.0001 290.3045,-50 287.8045,-47.7501 292.8045,-50 292.8045,-50\" stroke=\"#ffffff\"/>\n",
       "<text fill=\"#000000\" font-family=\"Courier,monospace\" font-size=\"9.00\" text-anchor=\"start\" x=\"267.3142\" y=\"-54.3\">1</text>\n",
       "</g>\n",
       "<!-- 2 -->\n",
       "<g class=\"node\" id=\"node4\">\n",
       "<title>2</title>\n",
       "</g>\n",
       "<!-- 2&#45;&gt;1 -->\n",
       "<g class=\"edge\" id=\"edge5\">\n",
       "<title>2-&gt;1</title>\n",
       "<path d=\"M161.2962,-50C173.5776,-50 189.589,-50 202.7325,-50\" fill=\"none\" stroke=\"#ffffff\"/>\n",
       "<polygon fill=\"#ffffff\" points=\"207.7996,-50 202.7997,-52.2501 205.2996,-50 202.7996,-50.0001 202.7996,-50.0001 202.7996,-50.0001 205.2996,-50 202.7996,-47.7501 207.7996,-50 207.7996,-50\" stroke=\"#ffffff\"/>\n",
       "<text fill=\"#000000\" font-family=\"Courier,monospace\" font-size=\"9.00\" text-anchor=\"start\" x=\"182.3093\" y=\"-54.3\">0</text>\n",
       "</g>\n",
       "<!-- 3 -->\n",
       "<g class=\"node\" id=\"node5\">\n",
       "<title>3</title>\n",
       "</g>\n",
       "<!-- 3&#45;&gt;2 -->\n",
       "<g class=\"edge\" id=\"edge6\">\n",
       "<title>3-&gt;2</title>\n",
       "<path d=\"M76.2914,-50C88.5727,-50 104.5842,-50 117.7276,-50\" fill=\"none\" stroke=\"#ffffff\"/>\n",
       "<polygon fill=\"#ffffff\" points=\"122.7947,-50 117.7948,-52.2501 120.2947,-50 117.7947,-50.0001 117.7947,-50.0001 117.7947,-50.0001 120.2947,-50 117.7947,-47.7501 122.7947,-50 122.7947,-50\" stroke=\"#ffffff\"/>\n",
       "<text fill=\"#000000\" font-family=\"Courier,monospace\" font-size=\"9.00\" text-anchor=\"start\" x=\"97.3044\" y=\"-54.3\">0</text>\n",
       "</g>\n",
       "<!-- 5 -->\n",
       "<g class=\"node\" id=\"node7\">\n",
       "<title>5</title>\n",
       "<path d=\"M146.6759,-20C146.6759,-20 137.3387,-20 137.3387,-20 134.672,-20 132.0054,-17.3333 132.0054,-14.6667 132.0054,-14.6667 132.0054,-9.3333 132.0054,-9.3333 132.0054,-6.6667 134.672,-4 137.3387,-4 137.3387,-4 146.6759,-4 146.6759,-4 149.3426,-4 152.0093,-6.6667 152.0093,-9.3333 152.0093,-9.3333 152.0093,-14.6667 152.0093,-14.6667 152.0093,-17.3333 149.3426,-20 146.6759,-20\" fill=\"none\" stroke=\"#000000\"/>\n",
       "<text fill=\"#000000\" font-family=\"Courier,monospace\" font-size=\"10.00\" text-anchor=\"start\" x=\"136.0063\" y=\"-9\">q1</text>\n",
       "</g>\n",
       "<!-- 4&#45;&gt;5 -->\n",
       "<g class=\"edge\" id=\"edge2\">\n",
       "<title>4-&gt;5</title>\n",
       "<path d=\"M67.0874,-12C81.7858,-12 109.219,-12 126.498,-12\" fill=\"none\" stroke=\"#000000\"/>\n",
       "<polygon fill=\"#000000\" points=\"131.9355,-12 126.9355,-14.2501 129.4355,-12 126.9355,-12.0001 126.9355,-12.0001 126.9355,-12.0001 129.4355,-12 126.9354,-9.7501 131.9355,-12 131.9355,-12\" stroke=\"#000000\"/>\n",
       "</g>\n",
       "<!-- 6 -->\n",
       "<g class=\"node\" id=\"node8\">\n",
       "<title>6</title>\n",
       "<path d=\"M231.6808,-20C231.6808,-20 222.3436,-20 222.3436,-20 219.6769,-20 217.0103,-17.3333 217.0103,-14.6667 217.0103,-14.6667 217.0103,-9.3333 217.0103,-9.3333 217.0103,-6.6667 219.6769,-4 222.3436,-4 222.3436,-4 231.6808,-4 231.6808,-4 234.3475,-4 237.0142,-6.6667 237.0142,-9.3333 237.0142,-9.3333 237.0142,-14.6667 237.0142,-14.6667 237.0142,-17.3333 234.3475,-20 231.6808,-20\" fill=\"none\" stroke=\"#000000\"/>\n",
       "<text fill=\"#000000\" font-family=\"Courier,monospace\" font-size=\"10.00\" text-anchor=\"start\" x=\"221.0112\" y=\"-9\">q1</text>\n",
       "</g>\n",
       "<!-- 5&#45;&gt;6 -->\n",
       "<g class=\"edge\" id=\"edge9\">\n",
       "<title>5-&gt;6</title>\n",
       "<path d=\"M152.0923,-12C166.7907,-12 194.2238,-12 211.5028,-12\" fill=\"none\" stroke=\"#000000\"/>\n",
       "<polygon fill=\"#000000\" points=\"216.9403,-12 211.9404,-14.2501 214.4403,-12 211.9403,-12.0001 211.9403,-12.0001 211.9403,-12.0001 214.4403,-12 211.9403,-9.7501 216.9403,-12 216.9403,-12\" stroke=\"#000000\"/>\n",
       "</g>\n",
       "<!-- 9 -->\n",
       "<g class=\"node\" id=\"node11\">\n",
       "<title>9</title>\n",
       "<path d=\"M316.6857,-20C316.6857,-20 307.3485,-20 307.3485,-20 304.6818,-20 302.0151,-17.3333 302.0151,-14.6667 302.0151,-14.6667 302.0151,-9.3333 302.0151,-9.3333 302.0151,-6.6667 304.6818,-4 307.3485,-4 307.3485,-4 316.6857,-4 316.6857,-4 319.3524,-4 322.019,-6.6667 322.019,-9.3333 322.019,-9.3333 322.019,-14.6667 322.019,-14.6667 322.019,-17.3333 319.3524,-20 316.6857,-20\" fill=\"none\" stroke=\"#000000\"/>\n",
       "<text fill=\"#000000\" font-family=\"Courier,monospace\" font-size=\"10.00\" text-anchor=\"start\" x=\"306.0161\" y=\"-9\">q2</text>\n",
       "</g>\n",
       "<!-- 6&#45;&gt;9 -->\n",
       "<g class=\"edge\" id=\"edge8\">\n",
       "<title>6-&gt;9</title>\n",
       "<path d=\"M237.0972,-12C251.7956,-12 279.2287,-12 296.5077,-12\" fill=\"none\" stroke=\"#000000\"/>\n",
       "<polygon fill=\"#000000\" points=\"301.9452,-12 296.9453,-14.2501 299.4452,-12 296.9452,-12.0001 296.9452,-12.0001 296.9452,-12.0001 299.4452,-12 296.9452,-9.7501 301.9452,-12 301.9452,-12\" stroke=\"#000000\"/>\n",
       "</g>\n",
       "<!-- 8 -->\n",
       "<g class=\"node\" id=\"node10\">\n",
       "<title>8</title>\n",
       "<path d=\"M401.6903,-20C401.6903,-20 392.3536,-20 392.3536,-20 389.687,-20 387.0203,-17.3333 387.0203,-14.6667 387.0203,-14.6667 387.0203,-9.3333 387.0203,-9.3333 387.0203,-6.6667 389.687,-4 392.3536,-4 392.3536,-4 401.6903,-4 401.6903,-4 404.357,-4 407.0236,-6.6667 407.0236,-9.3333 407.0236,-9.3333 407.0236,-14.6667 407.0236,-14.6667 407.0236,-17.3333 404.357,-20 401.6903,-20\" fill=\"none\" stroke=\"#000000\"/>\n",
       "<path d=\"M403.0239,-24C403.0239,-24 391.02,-24 391.02,-24 387.02,-24 383.02,-20 383.02,-16 383.02,-16 383.02,-8 383.02,-8 383.02,-4 387.02,0 391.02,0 391.02,0 403.0239,0 403.0239,0 407.0239,0 411.0239,-4 411.0239,-8 411.0239,-8 411.0239,-16 411.0239,-16 411.0239,-20 407.0239,-24 403.0239,-24\" fill=\"none\" stroke=\"#000000\"/>\n",
       "<text fill=\"#000000\" font-family=\"Courier,monospace\" font-size=\"10.00\" text-anchor=\"start\" x=\"391.021\" y=\"-9\">q2</text>\n",
       "</g>\n",
       "<!-- 9&#45;&gt;8 -->\n",
       "<g class=\"edge\" id=\"edge7\">\n",
       "<title>9-&gt;8</title>\n",
       "<path d=\"M322.1021,-12C335.8123,-12 360.6026,-12 377.897,-12\" fill=\"none\" stroke=\"#000000\"/>\n",
       "<polygon fill=\"#000000\" points=\"383.003,-12 378.0031,-14.2501 380.503,-12 378.003,-12.0001 378.003,-12.0001 378.003,-12.0001 380.503,-12 378.003,-9.7501 383.003,-12 383.003,-12\" stroke=\"#000000\"/>\n",
       "</g>\n",
       "</g>\n",
       "</svg>"
      ],
      "text/plain": [
       "<IPython.core.display.SVG object>"
      ]
     },
     "metadata": {},
     "output_type": "display_data"
    }
   ],
   "source": [
    "r = run(m, s)\n",
    "r"
   ]
  },
  {
   "cell_type": "markdown",
   "metadata": {},
   "source": [
    "Alice. Does this run uses a state twice while reading in the first half of the string?\n",
    "\n",
    "Bill. Yes:"
   ]
  },
  {
   "cell_type": "code",
   "execution_count": 6,
   "metadata": {},
   "outputs": [
    {
     "data": {
      "text/html": [
       "q1"
      ],
      "text/plain": [
       "Store(['q1'])"
      ]
     },
     "execution_count": 6,
     "metadata": {},
     "output_type": "execute_result"
    }
   ],
   "source": [
    "path = r.shortest_path()\n",
    "visited = set()\n",
    "for v in path[:p+1]:\n",
    "    if v[0] in visited:\n",
    "        q = v[0]\n",
    "        break\n",
    "    visited.add(v[0])\n",
    "q"
   ]
  },
  {
   "cell_type": "markdown",
   "metadata": {},
   "source": [
    "Alice. What are the strings that it reads up to the first visit, between the first and second visits, and after the second visit?"
   ]
  },
  {
   "cell_type": "code",
   "execution_count": 7,
   "metadata": {},
   "outputs": [
    {
     "name": "stdout",
     "output_type": "stream",
     "text": [
      "[] ['0'] ['0', '1', '1']\n"
     ]
    }
   ],
   "source": [
    "indices = [i for i, v in enumerate(path) if v[0] == q]\n",
    "x = s[:indices[0]]\n",
    "y = s[indices[0]:indices[1]]\n",
    "z = s[indices[1]:]\n",
    "print x, y, z"
   ]
  },
  {
   "cell_type": "markdown",
   "metadata": {},
   "source": [
    "Alice. So, does your automaton accept this string?"
   ]
  },
  {
   "cell_type": "code",
   "execution_count": 8,
   "metadata": {
    "collapsed": true
   },
   "outputs": [],
   "source": [
    "s2 = x + y*2 + z"
   ]
  },
  {
   "cell_type": "markdown",
   "metadata": {},
   "source": [
    "Bill. Let's try it..."
   ]
  },
  {
   "cell_type": "code",
   "execution_count": 9,
   "metadata": {},
   "outputs": [
    {
     "data": {
      "image/svg+xml": [
       "<svg height=\"73pt\" viewBox=\"0.00 0.00 509.03 73.00\" width=\"509pt\" xmlns=\"http://www.w3.org/2000/svg\" xmlns:xlink=\"http://www.w3.org/1999/xlink\">\n",
       "<g class=\"graph\" id=\"graph0\" transform=\"scale(1 1) rotate(0) translate(4 69)\">\n",
       "<title>%3</title>\n",
       "<polygon fill=\"#ffffff\" points=\"-4,4 -4,-69 505.0293,-69 505.0293,4 -4,4\" stroke=\"transparent\"/>\n",
       "<!-- _START -->\n",
       "<g class=\"node\" id=\"node1\">\n",
       "<title>_START</title>\n",
       "</g>\n",
       "<!-- 3 -->\n",
       "<g class=\"node\" id=\"node5\">\n",
       "<title>3</title>\n",
       "<path d=\"M61.6711,-20C61.6711,-20 52.3338,-20 52.3338,-20 49.6672,-20 47.0005,-17.3333 47.0005,-14.6667 47.0005,-14.6667 47.0005,-9.3333 47.0005,-9.3333 47.0005,-6.6667 49.6672,-4 52.3338,-4 52.3338,-4 61.6711,-4 61.6711,-4 64.3377,-4 67.0044,-6.6667 67.0044,-9.3333 67.0044,-9.3333 67.0044,-14.6667 67.0044,-14.6667 67.0044,-17.3333 64.3377,-20 61.6711,-20\" fill=\"none\" stroke=\"#000000\"/>\n",
       "<text fill=\"#000000\" font-family=\"Courier,monospace\" font-size=\"10.00\" text-anchor=\"start\" x=\"51.0015\" y=\"-9\">q1</text>\n",
       "</g>\n",
       "<!-- _START&#45;&gt;3 -->\n",
       "<g class=\"edge\" id=\"edge1\">\n",
       "<title>_START-&gt;3</title>\n",
       "<path d=\"M1.1345,-12C5.065,-12 26.4164,-12 41.5518,-12\" fill=\"none\" stroke=\"#000000\"/>\n",
       "<polygon fill=\"#000000\" points=\"46.803,-12 41.803,-14.2501 44.303,-12 41.803,-12.0001 41.803,-12.0001 41.803,-12.0001 44.303,-12 41.803,-9.7501 46.803,-12 46.803,-12\" stroke=\"#000000\"/>\n",
       "</g>\n",
       "<!-- 0 -->\n",
       "<g class=\"node\" id=\"node2\">\n",
       "<title>0</title>\n",
       "</g>\n",
       "<!-- 2 -->\n",
       "<g class=\"node\" id=\"node4\">\n",
       "<title>2</title>\n",
       "</g>\n",
       "<!-- 0&#45;&gt;2 -->\n",
       "<g class=\"edge\" id=\"edge6\">\n",
       "<title>0-&gt;2</title>\n",
       "<path d=\"M76.2914,-50C88.5727,-50 104.5842,-50 117.7276,-50\" fill=\"none\" stroke=\"#ffffff\"/>\n",
       "<polygon fill=\"#ffffff\" points=\"122.7947,-50 117.7948,-52.2501 120.2947,-50 117.7947,-50.0001 117.7947,-50.0001 117.7947,-50.0001 120.2947,-50 117.7947,-47.7501 122.7947,-50 122.7947,-50\" stroke=\"#ffffff\"/>\n",
       "<text fill=\"#000000\" font-family=\"Courier,monospace\" font-size=\"9.00\" text-anchor=\"start\" x=\"97.3044\" y=\"-54.3\">0</text>\n",
       "</g>\n",
       "<!-- 1 -->\n",
       "<g class=\"node\" id=\"node3\">\n",
       "<title>1</title>\n",
       "</g>\n",
       "<!-- 9 -->\n",
       "<g class=\"node\" id=\"node11\">\n",
       "<title>9</title>\n",
       "</g>\n",
       "<!-- 1&#45;&gt;9 -->\n",
       "<g class=\"edge\" id=\"edge4\">\n",
       "<title>1-&gt;9</title>\n",
       "<path d=\"M246.3011,-50C258.5824,-50 274.5939,-50 287.7374,-50\" fill=\"none\" stroke=\"#ffffff\"/>\n",
       "<polygon fill=\"#ffffff\" points=\"292.8045,-50 287.8045,-52.2501 290.3045,-50 287.8045,-50.0001 287.8045,-50.0001 287.8045,-50.0001 290.3045,-50 287.8045,-47.7501 292.8045,-50 292.8045,-50\" stroke=\"#ffffff\"/>\n",
       "<text fill=\"#000000\" font-family=\"Courier,monospace\" font-size=\"9.00\" text-anchor=\"start\" x=\"267.3142\" y=\"-54.3\">0</text>\n",
       "</g>\n",
       "<!-- 2&#45;&gt;1 -->\n",
       "<g class=\"edge\" id=\"edge5\">\n",
       "<title>2-&gt;1</title>\n",
       "<path d=\"M161.2962,-50C173.5776,-50 189.589,-50 202.7325,-50\" fill=\"none\" stroke=\"#ffffff\"/>\n",
       "<polygon fill=\"#ffffff\" points=\"207.7996,-50 202.7997,-52.2501 205.2996,-50 202.7996,-50.0001 202.7996,-50.0001 202.7996,-50.0001 205.2996,-50 202.7996,-47.7501 207.7996,-50 207.7996,-50\" stroke=\"#ffffff\"/>\n",
       "<text fill=\"#000000\" font-family=\"Courier,monospace\" font-size=\"9.00\" text-anchor=\"start\" x=\"182.3093\" y=\"-54.3\">0</text>\n",
       "</g>\n",
       "<!-- 5 -->\n",
       "<g class=\"node\" id=\"node7\">\n",
       "<title>5</title>\n",
       "<path d=\"M146.6759,-20C146.6759,-20 137.3387,-20 137.3387,-20 134.672,-20 132.0054,-17.3333 132.0054,-14.6667 132.0054,-14.6667 132.0054,-9.3333 132.0054,-9.3333 132.0054,-6.6667 134.672,-4 137.3387,-4 137.3387,-4 146.6759,-4 146.6759,-4 149.3426,-4 152.0093,-6.6667 152.0093,-9.3333 152.0093,-9.3333 152.0093,-14.6667 152.0093,-14.6667 152.0093,-17.3333 149.3426,-20 146.6759,-20\" fill=\"none\" stroke=\"#000000\"/>\n",
       "<text fill=\"#000000\" font-family=\"Courier,monospace\" font-size=\"10.00\" text-anchor=\"start\" x=\"136.0063\" y=\"-9\">q1</text>\n",
       "</g>\n",
       "<!-- 3&#45;&gt;5 -->\n",
       "<g class=\"edge\" id=\"edge9\">\n",
       "<title>3-&gt;5</title>\n",
       "<path d=\"M67.0874,-12C81.7858,-12 109.219,-12 126.498,-12\" fill=\"none\" stroke=\"#000000\"/>\n",
       "<polygon fill=\"#000000\" points=\"131.9355,-12 126.9355,-14.2501 129.4355,-12 126.9355,-12.0001 126.9355,-12.0001 126.9355,-12.0001 129.4355,-12 126.9354,-9.7501 131.9355,-12 131.9355,-12\" stroke=\"#000000\"/>\n",
       "</g>\n",
       "<!-- 4 -->\n",
       "<g class=\"node\" id=\"node6\">\n",
       "<title>4</title>\n",
       "<path d=\"M231.6808,-20C231.6808,-20 222.3436,-20 222.3436,-20 219.6769,-20 217.0103,-17.3333 217.0103,-14.6667 217.0103,-14.6667 217.0103,-9.3333 217.0103,-9.3333 217.0103,-6.6667 219.6769,-4 222.3436,-4 222.3436,-4 231.6808,-4 231.6808,-4 234.3475,-4 237.0142,-6.6667 237.0142,-9.3333 237.0142,-9.3333 237.0142,-14.6667 237.0142,-14.6667 237.0142,-17.3333 234.3475,-20 231.6808,-20\" fill=\"none\" stroke=\"#000000\"/>\n",
       "<text fill=\"#000000\" font-family=\"Courier,monospace\" font-size=\"10.00\" text-anchor=\"start\" x=\"221.0112\" y=\"-9\">q1</text>\n",
       "</g>\n",
       "<!-- 8 -->\n",
       "<g class=\"node\" id=\"node10\">\n",
       "<title>8</title>\n",
       "<path d=\"M316.6857,-20C316.6857,-20 307.3485,-20 307.3485,-20 304.6818,-20 302.0151,-17.3333 302.0151,-14.6667 302.0151,-14.6667 302.0151,-9.3333 302.0151,-9.3333 302.0151,-6.6667 304.6818,-4 307.3485,-4 307.3485,-4 316.6857,-4 316.6857,-4 319.3524,-4 322.019,-6.6667 322.019,-9.3333 322.019,-9.3333 322.019,-14.6667 322.019,-14.6667 322.019,-17.3333 319.3524,-20 316.6857,-20\" fill=\"none\" stroke=\"#000000\"/>\n",
       "<text fill=\"#000000\" font-family=\"Courier,monospace\" font-size=\"10.00\" text-anchor=\"start\" x=\"306.0161\" y=\"-9\">q1</text>\n",
       "</g>\n",
       "<!-- 4&#45;&gt;8 -->\n",
       "<g class=\"edge\" id=\"edge11\">\n",
       "<title>4-&gt;8</title>\n",
       "<path d=\"M237.0972,-12C251.7956,-12 279.2287,-12 296.5077,-12\" fill=\"none\" stroke=\"#000000\"/>\n",
       "<polygon fill=\"#000000\" points=\"301.9452,-12 296.9453,-14.2501 299.4452,-12 296.9452,-12.0001 296.9452,-12.0001 296.9452,-12.0001 299.4452,-12 296.9452,-9.7501 301.9452,-12 301.9452,-12\" stroke=\"#000000\"/>\n",
       "</g>\n",
       "<!-- 5&#45;&gt;4 -->\n",
       "<g class=\"edge\" id=\"edge2\">\n",
       "<title>5-&gt;4</title>\n",
       "<path d=\"M152.0923,-12C166.7907,-12 194.2238,-12 211.5028,-12\" fill=\"none\" stroke=\"#000000\"/>\n",
       "<polygon fill=\"#000000\" points=\"216.9403,-12 211.9404,-14.2501 214.4403,-12 211.9403,-12.0001 211.9403,-12.0001 211.9403,-12.0001 214.4403,-12 211.9403,-9.7501 216.9403,-12 216.9403,-12\" stroke=\"#000000\"/>\n",
       "</g>\n",
       "<!-- 6 -->\n",
       "<g class=\"node\" id=\"node8\">\n",
       "<title>6</title>\n",
       "<path d=\"M486.6952,-20C486.6952,-20 477.3585,-20 477.3585,-20 474.6918,-20 472.0252,-17.3333 472.0252,-14.6667 472.0252,-14.6667 472.0252,-9.3333 472.0252,-9.3333 472.0252,-6.6667 474.6918,-4 477.3585,-4 477.3585,-4 486.6952,-4 486.6952,-4 489.3619,-4 492.0285,-6.6667 492.0285,-9.3333 492.0285,-9.3333 492.0285,-14.6667 492.0285,-14.6667 492.0285,-17.3333 489.3619,-20 486.6952,-20\" fill=\"none\" stroke=\"#000000\"/>\n",
       "<path d=\"M488.0288,-24C488.0288,-24 476.0249,-24 476.0249,-24 472.0249,-24 468.0249,-20 468.0249,-16 468.0249,-16 468.0249,-8 468.0249,-8 468.0249,-4 472.0249,0 476.0249,0 476.0249,0 488.0288,0 488.0288,0 492.0288,0 496.0288,-4 496.0288,-8 496.0288,-8 496.0288,-16 496.0288,-16 496.0288,-20 492.0288,-24 488.0288,-24\" fill=\"none\" stroke=\"#000000\"/>\n",
       "<text fill=\"#000000\" font-family=\"Courier,monospace\" font-size=\"10.00\" text-anchor=\"start\" x=\"476.0259\" y=\"-9\">q2</text>\n",
       "</g>\n",
       "<!-- 7 -->\n",
       "<g class=\"node\" id=\"node9\">\n",
       "<title>7</title>\n",
       "<path d=\"M401.6906,-20C401.6906,-20 392.3534,-20 392.3534,-20 389.6867,-20 387.02,-17.3333 387.02,-14.6667 387.02,-14.6667 387.02,-9.3333 387.02,-9.3333 387.02,-6.6667 389.6867,-4 392.3534,-4 392.3534,-4 401.6906,-4 401.6906,-4 404.3573,-4 407.0239,-6.6667 407.0239,-9.3333 407.0239,-9.3333 407.0239,-14.6667 407.0239,-14.6667 407.0239,-17.3333 404.3573,-20 401.6906,-20\" fill=\"none\" stroke=\"#000000\"/>\n",
       "<text fill=\"#000000\" font-family=\"Courier,monospace\" font-size=\"10.00\" text-anchor=\"start\" x=\"391.021\" y=\"-9\">q2</text>\n",
       "</g>\n",
       "<!-- 7&#45;&gt;6 -->\n",
       "<g class=\"edge\" id=\"edge7\">\n",
       "<title>7-&gt;6</title>\n",
       "<path d=\"M407.107,-12C420.8172,-12 445.6075,-12 462.9019,-12\" fill=\"none\" stroke=\"#000000\"/>\n",
       "<polygon fill=\"#000000\" points=\"468.0079,-12 463.0079,-14.2501 465.5079,-12 463.0079,-12.0001 463.0079,-12.0001 463.0079,-12.0001 465.5079,-12 463.0078,-9.7501 468.0079,-12 468.0079,-12\" stroke=\"#000000\"/>\n",
       "</g>\n",
       "<!-- 8&#45;&gt;7 -->\n",
       "<g class=\"edge\" id=\"edge10\">\n",
       "<title>8-&gt;7</title>\n",
       "<path d=\"M322.1021,-12C336.8005,-12 364.2336,-12 381.5126,-12\" fill=\"none\" stroke=\"#000000\"/>\n",
       "<polygon fill=\"#000000\" points=\"386.9501,-12 381.9502,-14.2501 384.4501,-12 381.9501,-12.0001 381.9501,-12.0001 381.9501,-12.0001 384.4501,-12 381.9501,-9.7501 386.9501,-12 386.9501,-12\" stroke=\"#000000\"/>\n",
       "</g>\n",
       "<!-- 10 -->\n",
       "<g class=\"node\" id=\"node12\">\n",
       "<title>10</title>\n",
       "</g>\n",
       "<!-- 9&#45;&gt;10 -->\n",
       "<g class=\"edge\" id=\"edge3\">\n",
       "<title>9-&gt;10</title>\n",
       "<path d=\"M331.306,-50C343.5873,-50 359.5988,-50 372.7423,-50\" fill=\"none\" stroke=\"#ffffff\"/>\n",
       "<polygon fill=\"#ffffff\" points=\"377.8094,-50 372.8094,-52.2501 375.3094,-50 372.8094,-50.0001 372.8094,-50.0001 372.8094,-50.0001 375.3094,-50 372.8093,-47.7501 377.8094,-50 377.8094,-50\" stroke=\"#ffffff\"/>\n",
       "<text fill=\"#000000\" font-family=\"Courier,monospace\" font-size=\"9.00\" text-anchor=\"start\" x=\"352.3191\" y=\"-54.3\">1</text>\n",
       "</g>\n",
       "<!-- 11 -->\n",
       "<g class=\"node\" id=\"node13\">\n",
       "<title>11</title>\n",
       "</g>\n",
       "<!-- 10&#45;&gt;11 -->\n",
       "<g class=\"edge\" id=\"edge8\">\n",
       "<title>10-&gt;11</title>\n",
       "<path d=\"M416.3109,-50C428.5922,-50 444.6037,-50 457.7472,-50\" fill=\"none\" stroke=\"#ffffff\"/>\n",
       "<polygon fill=\"#ffffff\" points=\"462.8143,-50 457.8143,-52.2501 460.3143,-50 457.8143,-50.0001 457.8143,-50.0001 457.8143,-50.0001 460.3143,-50 457.8142,-47.7501 462.8143,-50 462.8143,-50\" stroke=\"#ffffff\"/>\n",
       "<text fill=\"#000000\" font-family=\"Courier,monospace\" font-size=\"9.00\" text-anchor=\"start\" x=\"437.324\" y=\"-54.3\">1</text>\n",
       "</g>\n",
       "</g>\n",
       "</svg>"
      ],
      "text/plain": [
       "<IPython.core.display.SVG object>"
      ]
     },
     "metadata": {},
     "output_type": "display_data"
    }
   ],
   "source": [
    "run(m, s2)"
   ]
  },
  {
   "cell_type": "markdown",
   "metadata": {},
   "source": [
    "Bill. Doh!"
   ]
  },
  {
   "cell_type": "markdown",
   "metadata": {},
   "source": [
    "## The dialogue, general version\n",
    "\n",
    "In the dialogue above, Bill will lose no matter what automaton he produces. (You can try loading different automata to see what happens. If the automaton doesn't even accept $s$ in the first place, the dialogue will not make sense, but Bill still loses.) But it's not enough to try lots of automata; we need to show that Alice wins for _all_ automata. We now rewrite the dialogue with variables in place of Bill's responses to show that the argument works no matter what he says.\n",
    "\n",
    "Alice. The language $B = \\{\\texttt{0}^n \\texttt{1}^n \\mid n \\geq 0\\}$ is not regular.\n",
    "\n",
    "Bill. Yes it is! Here, I can show you an automaton that --\n",
    "\n",
    "Alice. No, I don't need to see it. Just tell me how many states it has.\n",
    "\n",
    "Bill. It has $p$ states.\n",
    "\n",
    "Alice. Does it accept the string $s = \\texttt{0}^p \\texttt{1}^p$?\n",
    "\n",
    "Bill. Yes.\n",
    "\n",
    "Alice. On reading the first $p$ symbols of $s$, your automaton goes through $(p+1)$ configurations (the starting configuration plus one for each symbol). Since your automaton has only $p$ states, it must be the case, by the pigeonhole principle, that it visits the same state twice.\n",
    "\n",
    "Bill. Yes.\n",
    "\n",
    "Alice. What are the strings that it reads up to the first visit, between the first and second visits, and after the second visit?\n",
    "\n",
    "Bill. $x$, $y$, and $z$.\n",
    "\n",
    "Alice. Does your automaton also accept $xy^2z$?\n",
    "\n",
    "Bill. Yes.\n",
    "\n",
    "Alice. But $y$ consists of only $\\texttt{0}$s, so $xy^2z$ has more $\\texttt{0}$s than $\\texttt{1}$s and does not belong to $B$.\n",
    "\n",
    "Bill. Doh!"
   ]
  },
  {
   "cell_type": "markdown",
   "metadata": {},
   "source": [
    "## The dialogue becomes a proof\n",
    "\n",
    "Notice that Bill has been reduced to uttering variables and agreeing with Alice. So we can just write him out of the dialogue.\n",
    "\n",
    "Claim: The language $B = \\{\\texttt{0}^n \\texttt{1}^n \\mid n \\geq 0\\}$ is not regular.\n",
    "\n",
    "Proof: Suppose, for the sake of contradiction, that there is a finite automaton $M$ that generates $B$. Let $p$ be the number of states in $M$. By assumption, the string $s = \\texttt{0}^p \\texttt{1}^p$ is accepted by $M$. On reading the first $p$ symbols of $s$, $M$ goes through $(p+1)$ configurations (the starting configuration plus one for each symbol). Since $M$ has only $p$ states, it must be the case, by the pigeonhole principle, that it visits the same state twice. Let $x$ be the string read up to the first of those two visits, let $y$ be the string read between those two visits, and let $z$ be the rest of the string. Then $xy^2z$ must also be accepted by $M$. But $y$ must consist of only $\\texttt{0}$s. So $xy^2z$ has more $\\texttt{0}$s than $\\texttt{1}$s. It does not belong to $B$, yet is accepted by $M$, which is a contradiction."
   ]
  },
  {
   "cell_type": "markdown",
   "metadata": {},
   "source": [
    "## The pumping lemma\n",
    "\n",
    "If you were to write more and more of these proofs, however, you would find yourself making the same argument over and over. The pumping lemma is like a boilerplate non-regularity proof that you can use to simplify your proofs.\n",
    "\n",
    "The lemma itself goes like this:\n",
    "\n",
    "1. For all regular languages $A$,\n",
    "2. there exists a $p \\geq 1$ such that\n",
    "3. for all $s \\in A$ such that $|s| \\geq p$,\n",
    "4. there exist $x, y, z$ such that $s = xyz$, $|y| > 0$, $|xy| \\leq p$ and\n",
    "5. for all $i \\geq 0$, $x y^i z \\in A$.\n",
    "\n",
    "And here is how you use it:\n",
    "\n",
    "Claim: The language $B = \\{\\texttt{0}^n \\texttt{1}^n \\mid n \\geq 0\\}$ is not regular.\n",
    "\n",
    "Proof: Suppose, for the sake of contradiction, that $L$ is regular. Let $p$ be the pumping length given by the pumping lemma (line 2). Let $s = \\texttt{0}^p \\texttt{1}^p$ (line 3). Then the pumping lemma writes $s$ as $xyz$, where $|xy| \\leq p$ and $|y| > 0$ (line 4), which means that $y$ consists of only $\\texttt{0}$s. Let $i=2$. The pumping lemma says (line 5) that $xy^iz \\in B$, but $xy^iz$ contains more $\\texttt{0}$s than $\\texttt{1}$s, which is a contradiction.\n",
    "\n",
    "The wording is admittedly awkward. The phrases \"given by the pumping lemma\" and \"the pumping lemma writes\" (the lines previously attributed to Bill) seem to come out of nowhere. The advantage is that this proof is shorter and doesn't need to make reference to an actual automaton. If you prefer to use the longer form, it's fine with me. But, regardless, you need to understand the argument, and it's critical that you remember which variables you get to choose and which variables you don't get to choose. Your job, as Alice, is to choose $s$ (line 3) and $i$ (line 5), and to produce a contradiction, namely, that $xy^iz \\notin L$. Bill chooses $p$ (line 2) and $xyz$ (line 4); since you don't get to choose them, you must write your argument to work for any values of $p$ and $xyz$."
   ]
  },
  {
   "cell_type": "markdown",
   "metadata": {},
   "source": [
    "# Wednesday reading\n",
    "\n",
    "Re-read Section 1.4, paying closer attention this time to pages 80-82.\n",
    "\n",
    "# Thursday class\n",
    "\n",
    "Course Project 1 is due tonight.\n",
    "\n",
    "## More practice with the pumping lemma\n",
    "\n",
    "**Question.** Prove that $L = \\{ ww^R \\mid w \\in \\{\\mathtt{0},\\mathtt{1}\\}^\\ast\\}$ is not regular.\n",
    "\n",
    "**Question.** Prove that $C = \\{w \\in \\{\\mathtt{0}, \\mathtt{1}\\}^\\ast \\mid \\text{$w$ contains an equal number of $\\mathtt{0}$'s and $\\mathtt{1}$'s}\\}$ is not regular.\n",
    "\n",
    "## Using closure properties\n",
    "\n",
    "Example 1.74 mentions an alternative proof strategy that involves the fact that regular languages are closed under intersection (footnote 3 of this chapter, a very important footnote!). This is an extremely common technique that lets you filter out strings that you don't want to deal with.\n",
    "\n",
    "**Question.** Prove that $C = \\{w \\in \\{\\mathtt{0}, \\mathtt{1}\\}^\\ast \\mid \\text{$w$ contains an equal number of $\\mathtt{0}$'s and $\\mathtt{1}$'s}\\}$ is not regular, by intersecting with the language $\\mathtt{0}^\\ast\\mathtt{1}^\\ast$.\n",
    "\n",
    "Another commonly used property is closure under string homomorphisms (Exercise 1.66, 3rd ed. only). Any mapping $f : \\Sigma \\rightarrow \\Sigma^\\ast$ from symbols to strings can be extended to a mapping from strings to strings, called a string homomorphism, defined as follows:\n",
    "\n",
    "\\begin{align*}\n",
    "f(\\varepsilon) &= \\epsilon \\\\\n",
    "f(uv) &= f(u) f(v).\n",
    "\\end{align*}\n",
    "\n",
    "For example, if $\\Sigma = \\{\\mathtt{a}, \\mathtt{b}\\}$, and $f(\\mathtt{a}) = \\mathtt{a}, f(\\mathtt{b}) = \\varepsilon$, then $f$ extended to be a string homomorphism deletes all the $\\mathtt{b}$'s from a string. So this closure property lets you filter out symbols that you don't want to deal with. It also lets you conflate symbols that you don't need to distinguish.\n",
    "\n",
    "**Question.** Prove that if $L$ is regular, then $f(L)$ is regular.\n",
    "\n",
    "**Question.** Prove that $L = \\{w \\in \\{\\mathtt{a}, \\ldots, \\mathtt{z}\\}^\\ast \\mid \\text{$w$ contains an equal number of consonants and vowels}\\}$ is not regular."
   ]
  }
 ],
 "metadata": {
  "kernelspec": {
   "display_name": "Python 2",
   "language": "python",
   "name": "python2"
  },
  "language_info": {
   "codemirror_mode": {
    "name": "ipython",
    "version": 2
   },
   "file_extension": ".py",
   "mimetype": "text/x-python",
   "name": "python",
   "nbconvert_exporter": "python",
   "pygments_lexer": "ipython2",
   "version": "2.7.14"
  }
 },
 "nbformat": 4,
 "nbformat_minor": 1
}
