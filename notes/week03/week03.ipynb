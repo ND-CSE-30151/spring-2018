{
 "cells": [
  {
   "cell_type": "markdown",
   "metadata": {},
   "source": [
    "# Week 3: 2018/01/29-02/02"
   ]
  },
  {
   "cell_type": "code",
   "execution_count": 1,
   "metadata": {},
   "outputs": [],
   "source": [
    "from tock import *"
   ]
  },
  {
   "cell_type": "markdown",
   "metadata": {},
   "source": [
    "# Monday reading\n",
    "\n",
    "Read Section 1.3, but you can save Lemma 1.60 and its proof for next time."
   ]
  },
  {
   "cell_type": "markdown",
   "metadata": {},
   "source": [
    "# Tuesday class\n",
    "\n",
    "## Regular expressions\n",
    "\n",
    "Regular expressions were invented by Stephen Kleene (pronounced clay-knee) back in the 1950s as a characterization of the languages recognized by the earliest neural networks. But they became widely used through various Unix tools, like `grep`, which is where you have likely encountered them.\n",
    "\n",
    "![Regex Golf](http://imgs.xkcd.com/comics/regex_golf.png)\n",
    "\n",
    "There are some differences between Unix regular expressions and true regular expressions. True regular expressions have three operations: concatenation, union ($\\cup$ in the book, `|` in Unix), and Kleene star (`*`). The order of operations is star, then union, then concatenation. Use parentheses to change the order of operations, just as in arithmetic expressions.\n",
    "\n",
    "Unix regular expressions use a dot (`.`) to match any symbol; the book uses $\\Sigma$ for this purpose.\n",
    "\n",
    "Another difference is that Unix regular expressions usually match anywhere in a string, whereas true regular expressions usually must match the entire string. When using `grep`, use the `-Ex` flags to approximate true regular expressions (`-E` to get the union operator, `-x` to match the whole line)."
   ]
  },
  {
   "cell_type": "code",
   "execution_count": 2,
   "metadata": {},
   "outputs": [
    {
     "name": "stdout",
     "output_type": "stream",
     "text": [
      "Overwriting movies.txt\n"
     ]
    }
   ],
   "source": [
    "%%file movies.txt\n",
    "the phantom menace\n",
    "attack of the clones\n",
    "revenge of the sith\n",
    "a new hope\n",
    "the empire strikes back\n",
    "return of the jedi\n",
    "the force awakens\n",
    "rogue one\n",
    "the last jedi\n",
    "solo\n",
    "the motion picture\n",
    "the wrath of khan\n",
    "the search for spock\n",
    "the voyage home\n",
    "the final frontier\n",
    "the undiscovered country\n",
    "generations\n",
    "first contact\n",
    "insurrection\n",
    "nemesis\n",
    "into darkness\n",
    "beyond"
   ]
  },
  {
   "cell_type": "code",
   "execution_count": 3,
   "metadata": {},
   "outputs": [
    {
     "name": "stdout",
     "output_type": "stream",
     "text": [
      "the phantom menace\r\n",
      "attack of the clones\r\n",
      "revenge of the sith\r\n",
      "a new hope\r\n",
      "the empire strikes back\r\n",
      "return of the jedi\r\n",
      "beyond\r\n"
     ]
    }
   ],
   "source": [
    "!grep -Ex '.*(m | (t|n)|b).*' movies.txt"
   ]
  },
  {
   "cell_type": "markdown",
   "metadata": {
    "collapsed": true
   },
   "source": [
    "Almost right.\n",
    "\n",
    "**Question.** Can you fix the regular expression so that it also accepts `the force awakens`, `rogue one`, and `the last jedi`, but not `beyond`?"
   ]
  },
  {
   "cell_type": "markdown",
   "metadata": {},
   "source": [
    "## Converting regular expressions to NFAs\n",
    "\n",
    "Regular expressions are the third \"model of computation\" of this course, and they, too, are equivalent to both DFAs and NFAs. The proof involves algorithms to convert between regular expressions and NFAs. Today we're converting regular expressions to NFAs, which is not as difficult as the subset construction from last time.\n",
    "\n",
    "The algorithm in the book is a slight variation on the algorithm from a paper by Ken Thompson, one of the co-developers of Unix, [for the QED editor](https://swtch.com/~rsc/regexp/regexp1.html), from which are descended `sed`, `grep`, and `vi`. (But many modern regular expression engines actually do not use this algorithm, but one that is asymptotically much slower!)\n",
    "\n",
    "Here's a step by step visualization of the example from the book. You can try different regular expressions to see how they get converted. (Note that in Tock, unlike in Unix tools, symbols in regular expressions are separated by spaces.)"
   ]
  },
  {
   "cell_type": "code",
   "execution_count": 4,
   "metadata": {},
   "outputs": [
    {
     "data": {
      "text/html": [
       "subexpression: a"
      ],
      "text/plain": [
       "<IPython.core.display.HTML object>"
      ]
     },
     "metadata": {},
     "output_type": "display_data"
    },
    {
     "data": {
      "image/svg+xml": [
       "<svg height=\"35pt\" viewBox=\"0.00 0.00 141.00 35.00\" width=\"141pt\" xmlns=\"http://www.w3.org/2000/svg\" xmlns:xlink=\"http://www.w3.org/1999/xlink\">\n",
       "<g class=\"graph\" id=\"graph0\" transform=\"scale(1 1) rotate(0) translate(4 31)\">\n",
       "<title>%3</title>\n",
       "<polygon fill=\"#ffffff\" points=\"-4,4 -4,-31 137.0039,-31 137.0039,4 -4,4\" stroke=\"transparent\"/>\n",
       "<!-- _START -->\n",
       "<g class=\"node\" id=\"node1\">\n",
       "<title>_START</title>\n",
       "</g>\n",
       "<!-- 0 -->\n",
       "<g class=\"node\" id=\"node2\">\n",
       "<title>0</title>\n",
       "<path d=\"M52.6696,-20C52.6696,-20 43.3324,-20 43.3324,-20 40.6657,-20 37.999,-17.3333 37.999,-14.6667 37.999,-14.6667 37.999,-9.3333 37.999,-9.3333 37.999,-6.6667 40.6657,-4 43.3324,-4 43.3324,-4 52.6696,-4 52.6696,-4 55.3363,-4 58.0029,-6.6667 58.0029,-9.3333 58.0029,-9.3333 58.0029,-14.6667 58.0029,-14.6667 58.0029,-17.3333 55.3363,-20 52.6696,-20\" fill=\"none\" stroke=\"#000000\"/>\n",
       "<text fill=\"#000000\" font-family=\"Courier,monospace\" font-size=\"10.00\" text-anchor=\"start\" x=\"42\" y=\"-9\">q1</text>\n",
       "</g>\n",
       "<!-- _START&#45;&gt;0 -->\n",
       "<g class=\"edge\" id=\"edge1\">\n",
       "<title>_START-&gt;0</title>\n",
       "<path d=\"M1.0335,-12C4.1371,-12 20.1615,-12 32.6403,-12\" fill=\"none\" stroke=\"#000000\"/>\n",
       "<polygon fill=\"#000000\" points=\"37.7232,-12 32.7233,-14.2501 35.2232,-12 32.7232,-12.0001 32.7232,-12.0001 32.7232,-12.0001 35.2232,-12 32.7232,-9.7501 37.7232,-12 37.7232,-12\" stroke=\"#000000\"/>\n",
       "</g>\n",
       "<!-- 1 -->\n",
       "<g class=\"node\" id=\"node3\">\n",
       "<title>1</title>\n",
       "<path d=\"M123.6713,-20C123.6713,-20 114.3346,-20 114.3346,-20 111.6679,-20 109.0013,-17.3333 109.0013,-14.6667 109.0013,-14.6667 109.0013,-9.3333 109.0013,-9.3333 109.0013,-6.6667 111.6679,-4 114.3346,-4 114.3346,-4 123.6713,-4 123.6713,-4 126.3379,-4 129.0046,-6.6667 129.0046,-9.3333 129.0046,-9.3333 129.0046,-14.6667 129.0046,-14.6667 129.0046,-17.3333 126.3379,-20 123.6713,-20\" fill=\"none\" stroke=\"#000000\"/>\n",
       "<path d=\"M125.0049,-24C125.0049,-24 113.001,-24 113.001,-24 109.001,-24 105.001,-20 105.001,-16 105.001,-16 105.001,-8 105.001,-8 105.001,-4 109.001,0 113.001,0 113.001,0 125.0049,0 125.0049,0 129.0049,0 133.0049,-4 133.0049,-8 133.0049,-8 133.0049,-16 133.0049,-16 133.0049,-20 129.0049,-24 125.0049,-24\" fill=\"none\" stroke=\"#000000\"/>\n",
       "<text fill=\"#000000\" font-family=\"Courier,monospace\" font-size=\"10.00\" text-anchor=\"start\" x=\"113.002\" y=\"-9\">q2</text>\n",
       "</g>\n",
       "<!-- 0&#45;&gt;1 -->\n",
       "<g class=\"edge\" id=\"edge2\">\n",
       "<title>0-&gt;1</title>\n",
       "<path d=\"M58.1738,-12C69.0063,-12 86.4036,-12 99.8235,-12\" fill=\"none\" stroke=\"#000000\"/>\n",
       "<polygon fill=\"#000000\" points=\"104.9328,-12 99.9328,-14.2501 102.4328,-12 99.9328,-12.0001 99.9328,-12.0001 99.9328,-12.0001 102.4328,-12 99.9328,-9.7501 104.9328,-12 104.9328,-12\" stroke=\"#000000\"/>\n",
       "<text fill=\"#000000\" font-family=\"Courier,monospace\" font-size=\"9.00\" text-anchor=\"start\" x=\"79.3015\" y=\"-16.3\">a</text>\n",
       "</g>\n",
       "</g>\n",
       "</svg>"
      ],
      "text/plain": [
       "<IPython.core.display.SVG object>"
      ]
     },
     "metadata": {},
     "output_type": "display_data"
    },
    {
     "data": {
      "text/html": [
       "subexpression: b"
      ],
      "text/plain": [
       "<IPython.core.display.HTML object>"
      ]
     },
     "metadata": {},
     "output_type": "display_data"
    },
    {
     "data": {
      "image/svg+xml": [
       "<svg height=\"35pt\" viewBox=\"0.00 0.00 141.00 35.00\" width=\"141pt\" xmlns=\"http://www.w3.org/2000/svg\" xmlns:xlink=\"http://www.w3.org/1999/xlink\">\n",
       "<g class=\"graph\" id=\"graph0\" transform=\"scale(1 1) rotate(0) translate(4 31)\">\n",
       "<title>%3</title>\n",
       "<polygon fill=\"#ffffff\" points=\"-4,4 -4,-31 137.0039,-31 137.0039,4 -4,4\" stroke=\"transparent\"/>\n",
       "<!-- _START -->\n",
       "<g class=\"node\" id=\"node1\">\n",
       "<title>_START</title>\n",
       "</g>\n",
       "<!-- 0 -->\n",
       "<g class=\"node\" id=\"node2\">\n",
       "<title>0</title>\n",
       "<path d=\"M52.6696,-20C52.6696,-20 43.3324,-20 43.3324,-20 40.6657,-20 37.999,-17.3333 37.999,-14.6667 37.999,-14.6667 37.999,-9.3333 37.999,-9.3333 37.999,-6.6667 40.6657,-4 43.3324,-4 43.3324,-4 52.6696,-4 52.6696,-4 55.3363,-4 58.0029,-6.6667 58.0029,-9.3333 58.0029,-9.3333 58.0029,-14.6667 58.0029,-14.6667 58.0029,-17.3333 55.3363,-20 52.6696,-20\" fill=\"none\" stroke=\"#000000\"/>\n",
       "<text fill=\"#000000\" font-family=\"Courier,monospace\" font-size=\"10.00\" text-anchor=\"start\" x=\"42\" y=\"-9\">q3</text>\n",
       "</g>\n",
       "<!-- _START&#45;&gt;0 -->\n",
       "<g class=\"edge\" id=\"edge1\">\n",
       "<title>_START-&gt;0</title>\n",
       "<path d=\"M1.0335,-12C4.1371,-12 20.1615,-12 32.6403,-12\" fill=\"none\" stroke=\"#000000\"/>\n",
       "<polygon fill=\"#000000\" points=\"37.7232,-12 32.7233,-14.2501 35.2232,-12 32.7232,-12.0001 32.7232,-12.0001 32.7232,-12.0001 35.2232,-12 32.7232,-9.7501 37.7232,-12 37.7232,-12\" stroke=\"#000000\"/>\n",
       "</g>\n",
       "<!-- 1 -->\n",
       "<g class=\"node\" id=\"node3\">\n",
       "<title>1</title>\n",
       "<path d=\"M123.6713,-20C123.6713,-20 114.3346,-20 114.3346,-20 111.6679,-20 109.0013,-17.3333 109.0013,-14.6667 109.0013,-14.6667 109.0013,-9.3333 109.0013,-9.3333 109.0013,-6.6667 111.6679,-4 114.3346,-4 114.3346,-4 123.6713,-4 123.6713,-4 126.3379,-4 129.0046,-6.6667 129.0046,-9.3333 129.0046,-9.3333 129.0046,-14.6667 129.0046,-14.6667 129.0046,-17.3333 126.3379,-20 123.6713,-20\" fill=\"none\" stroke=\"#000000\"/>\n",
       "<path d=\"M125.0049,-24C125.0049,-24 113.001,-24 113.001,-24 109.001,-24 105.001,-20 105.001,-16 105.001,-16 105.001,-8 105.001,-8 105.001,-4 109.001,0 113.001,0 113.001,0 125.0049,0 125.0049,0 129.0049,0 133.0049,-4 133.0049,-8 133.0049,-8 133.0049,-16 133.0049,-16 133.0049,-20 129.0049,-24 125.0049,-24\" fill=\"none\" stroke=\"#000000\"/>\n",
       "<text fill=\"#000000\" font-family=\"Courier,monospace\" font-size=\"10.00\" text-anchor=\"start\" x=\"113.002\" y=\"-9\">q4</text>\n",
       "</g>\n",
       "<!-- 0&#45;&gt;1 -->\n",
       "<g class=\"edge\" id=\"edge2\">\n",
       "<title>0-&gt;1</title>\n",
       "<path d=\"M58.1738,-12C69.0063,-12 86.4036,-12 99.8235,-12\" fill=\"none\" stroke=\"#000000\"/>\n",
       "<polygon fill=\"#000000\" points=\"104.9328,-12 99.9328,-14.2501 102.4328,-12 99.9328,-12.0001 99.9328,-12.0001 99.9328,-12.0001 102.4328,-12 99.9328,-9.7501 104.9328,-12 104.9328,-12\" stroke=\"#000000\"/>\n",
       "<text fill=\"#000000\" font-family=\"Courier,monospace\" font-size=\"9.00\" text-anchor=\"start\" x=\"79.3015\" y=\"-16.3\">b</text>\n",
       "</g>\n",
       "</g>\n",
       "</svg>"
      ],
      "text/plain": [
       "<IPython.core.display.SVG object>"
      ]
     },
     "metadata": {},
     "output_type": "display_data"
    },
    {
     "data": {
      "text/html": [
       "subexpression: a b"
      ],
      "text/plain": [
       "<IPython.core.display.HTML object>"
      ]
     },
     "metadata": {},
     "output_type": "display_data"
    },
    {
     "data": {
      "image/svg+xml": [
       "<svg height=\"36pt\" viewBox=\"0.00 0.00 274.01 36.00\" width=\"274pt\" xmlns=\"http://www.w3.org/2000/svg\" xmlns:xlink=\"http://www.w3.org/1999/xlink\">\n",
       "<g class=\"graph\" id=\"graph0\" transform=\"scale(1 1) rotate(0) translate(4 32)\">\n",
       "<title>%3</title>\n",
       "<polygon fill=\"#ffffff\" points=\"-4,4 -4,-32 270.0078,-32 270.0078,4 -4,4\" stroke=\"transparent\"/>\n",
       "<!-- _START -->\n",
       "<g class=\"node\" id=\"node1\">\n",
       "<title>_START</title>\n",
       "</g>\n",
       "<!-- 1 -->\n",
       "<g class=\"node\" id=\"node3\">\n",
       "<title>1</title>\n",
       "<path d=\"M52.6696,-20C52.6696,-20 43.3324,-20 43.3324,-20 40.6657,-20 37.999,-17.3333 37.999,-14.6667 37.999,-14.6667 37.999,-9.3333 37.999,-9.3333 37.999,-6.6667 40.6657,-4 43.3324,-4 43.3324,-4 52.6696,-4 52.6696,-4 55.3363,-4 58.0029,-6.6667 58.0029,-9.3333 58.0029,-9.3333 58.0029,-14.6667 58.0029,-14.6667 58.0029,-17.3333 55.3363,-20 52.6696,-20\" fill=\"none\" stroke=\"#000000\"/>\n",
       "<text fill=\"#000000\" font-family=\"Courier,monospace\" font-size=\"10.00\" text-anchor=\"start\" x=\"42\" y=\"-9\">q1</text>\n",
       "</g>\n",
       "<!-- _START&#45;&gt;1 -->\n",
       "<g class=\"edge\" id=\"edge1\">\n",
       "<title>_START-&gt;1</title>\n",
       "<path d=\"M1.0335,-12C4.1371,-12 20.1615,-12 32.6403,-12\" fill=\"none\" stroke=\"#000000\"/>\n",
       "<polygon fill=\"#000000\" points=\"37.7232,-12 32.7233,-14.2501 35.2232,-12 32.7232,-12.0001 32.7232,-12.0001 32.7232,-12.0001 35.2232,-12 32.7232,-9.7501 37.7232,-12 37.7232,-12\" stroke=\"#000000\"/>\n",
       "</g>\n",
       "<!-- 0 -->\n",
       "<g class=\"node\" id=\"node2\">\n",
       "<title>0</title>\n",
       "<path d=\"M119.6715,-20C119.6715,-20 110.3343,-20 110.3343,-20 107.6676,-20 105.001,-17.3333 105.001,-14.6667 105.001,-14.6667 105.001,-9.3333 105.001,-9.3333 105.001,-6.6667 107.6676,-4 110.3343,-4 110.3343,-4 119.6715,-4 119.6715,-4 122.3382,-4 125.0049,-6.6667 125.0049,-9.3333 125.0049,-9.3333 125.0049,-14.6667 125.0049,-14.6667 125.0049,-17.3333 122.3382,-20 119.6715,-20\" fill=\"none\" stroke=\"#000000\"/>\n",
       "<text fill=\"#000000\" font-family=\"Courier,monospace\" font-size=\"10.00\" text-anchor=\"start\" x=\"109.002\" y=\"-9\">q2</text>\n",
       "</g>\n",
       "<!-- 2 -->\n",
       "<g class=\"node\" id=\"node4\">\n",
       "<title>2</title>\n",
       "<path d=\"M185.6735,-20C185.6735,-20 176.3363,-20 176.3363,-20 173.6696,-20 171.0029,-17.3333 171.0029,-14.6667 171.0029,-14.6667 171.0029,-9.3333 171.0029,-9.3333 171.0029,-6.6667 173.6696,-4 176.3363,-4 176.3363,-4 185.6735,-4 185.6735,-4 188.3402,-4 191.0068,-6.6667 191.0068,-9.3333 191.0068,-9.3333 191.0068,-14.6667 191.0068,-14.6667 191.0068,-17.3333 188.3402,-20 185.6735,-20\" fill=\"none\" stroke=\"#000000\"/>\n",
       "<text fill=\"#000000\" font-family=\"Courier,monospace\" font-size=\"10.00\" text-anchor=\"start\" x=\"175.0039\" y=\"-9\">q3</text>\n",
       "</g>\n",
       "<!-- 0&#45;&gt;2 -->\n",
       "<g class=\"edge\" id=\"edge4\">\n",
       "<title>0-&gt;2</title>\n",
       "<path d=\"M125.0272,-12C135.8819,-12 153.3206,-12 165.8504,-12\" fill=\"none\" stroke=\"#000000\"/>\n",
       "<polygon fill=\"#000000\" points=\"170.8863,-12 165.8863,-14.2501 168.3863,-12 165.8863,-12.0001 165.8863,-12.0001 165.8863,-12.0001 168.3863,-12 165.8862,-9.7501 170.8863,-12 170.8863,-12\" stroke=\"#000000\"/>\n",
       "<text fill=\"#000000\" font-family=\"Courier,monospace\" font-size=\"9.00\" text-anchor=\"start\" x=\"145.9165\" y=\"-17.8\">ε</text>\n",
       "</g>\n",
       "<!-- 1&#45;&gt;0 -->\n",
       "<g class=\"edge\" id=\"edge2\">\n",
       "<title>1-&gt;0</title>\n",
       "<path d=\"M58.1771,-12C69.1963,-12 86.8992,-12 99.6188,-12\" fill=\"none\" stroke=\"#000000\"/>\n",
       "<polygon fill=\"#000000\" points=\"104.731,-12 99.7311,-14.2501 102.231,-12 99.731,-12.0001 99.731,-12.0001 99.731,-12.0001 102.231,-12 99.731,-9.7501 104.731,-12 104.731,-12\" stroke=\"#000000\"/>\n",
       "<text fill=\"#000000\" font-family=\"Courier,monospace\" font-size=\"9.00\" text-anchor=\"start\" x=\"79.3015\" y=\"-16.3\">a</text>\n",
       "</g>\n",
       "<!-- 3 -->\n",
       "<g class=\"node\" id=\"node5\">\n",
       "<title>3</title>\n",
       "<path d=\"M256.6752,-20C256.6752,-20 247.3385,-20 247.3385,-20 244.6718,-20 242.0052,-17.3333 242.0052,-14.6667 242.0052,-14.6667 242.0052,-9.3333 242.0052,-9.3333 242.0052,-6.6667 244.6718,-4 247.3385,-4 247.3385,-4 256.6752,-4 256.6752,-4 259.3418,-4 262.0085,-6.6667 262.0085,-9.3333 262.0085,-9.3333 262.0085,-14.6667 262.0085,-14.6667 262.0085,-17.3333 259.3418,-20 256.6752,-20\" fill=\"none\" stroke=\"#000000\"/>\n",
       "<path d=\"M258.0088,-24C258.0088,-24 246.0049,-24 246.0049,-24 242.0049,-24 238.0049,-20 238.0049,-16 238.0049,-16 238.0049,-8 238.0049,-8 238.0049,-4 242.0049,0 246.0049,0 246.0049,0 258.0088,0 258.0088,0 262.0088,0 266.0088,-4 266.0088,-8 266.0088,-8 266.0088,-16 266.0088,-16 266.0088,-20 262.0088,-24 258.0088,-24\" fill=\"none\" stroke=\"#000000\"/>\n",
       "<text fill=\"#000000\" font-family=\"Courier,monospace\" font-size=\"10.00\" text-anchor=\"start\" x=\"246.0059\" y=\"-9\">q4</text>\n",
       "</g>\n",
       "<!-- 2&#45;&gt;3 -->\n",
       "<g class=\"edge\" id=\"edge3\">\n",
       "<title>2-&gt;3</title>\n",
       "<path d=\"M191.1777,-12C202.0102,-12 219.4075,-12 232.8274,-12\" fill=\"none\" stroke=\"#000000\"/>\n",
       "<polygon fill=\"#000000\" points=\"237.9367,-12 232.9368,-14.2501 235.4367,-12 232.9367,-12.0001 232.9367,-12.0001 232.9367,-12.0001 235.4367,-12 232.9367,-9.7501 237.9367,-12 237.9367,-12\" stroke=\"#000000\"/>\n",
       "<text fill=\"#000000\" font-family=\"Courier,monospace\" font-size=\"9.00\" text-anchor=\"start\" x=\"212.3054\" y=\"-16.3\">b</text>\n",
       "</g>\n",
       "</g>\n",
       "</svg>"
      ],
      "text/plain": [
       "<IPython.core.display.SVG object>"
      ]
     },
     "metadata": {},
     "output_type": "display_data"
    },
    {
     "data": {
      "text/html": [
       "subexpression: a"
      ],
      "text/plain": [
       "<IPython.core.display.HTML object>"
      ]
     },
     "metadata": {},
     "output_type": "display_data"
    },
    {
     "data": {
      "image/svg+xml": [
       "<svg height=\"35pt\" viewBox=\"0.00 0.00 141.00 35.00\" width=\"141pt\" xmlns=\"http://www.w3.org/2000/svg\" xmlns:xlink=\"http://www.w3.org/1999/xlink\">\n",
       "<g class=\"graph\" id=\"graph0\" transform=\"scale(1 1) rotate(0) translate(4 31)\">\n",
       "<title>%3</title>\n",
       "<polygon fill=\"#ffffff\" points=\"-4,4 -4,-31 137.0039,-31 137.0039,4 -4,4\" stroke=\"transparent\"/>\n",
       "<!-- _START -->\n",
       "<g class=\"node\" id=\"node1\">\n",
       "<title>_START</title>\n",
       "</g>\n",
       "<!-- 0 -->\n",
       "<g class=\"node\" id=\"node2\">\n",
       "<title>0</title>\n",
       "<path d=\"M52.6696,-20C52.6696,-20 43.3324,-20 43.3324,-20 40.6657,-20 37.999,-17.3333 37.999,-14.6667 37.999,-14.6667 37.999,-9.3333 37.999,-9.3333 37.999,-6.6667 40.6657,-4 43.3324,-4 43.3324,-4 52.6696,-4 52.6696,-4 55.3363,-4 58.0029,-6.6667 58.0029,-9.3333 58.0029,-9.3333 58.0029,-14.6667 58.0029,-14.6667 58.0029,-17.3333 55.3363,-20 52.6696,-20\" fill=\"none\" stroke=\"#000000\"/>\n",
       "<text fill=\"#000000\" font-family=\"Courier,monospace\" font-size=\"10.00\" text-anchor=\"start\" x=\"42\" y=\"-9\">q5</text>\n",
       "</g>\n",
       "<!-- _START&#45;&gt;0 -->\n",
       "<g class=\"edge\" id=\"edge1\">\n",
       "<title>_START-&gt;0</title>\n",
       "<path d=\"M1.0335,-12C4.1371,-12 20.1615,-12 32.6403,-12\" fill=\"none\" stroke=\"#000000\"/>\n",
       "<polygon fill=\"#000000\" points=\"37.7232,-12 32.7233,-14.2501 35.2232,-12 32.7232,-12.0001 32.7232,-12.0001 32.7232,-12.0001 35.2232,-12 32.7232,-9.7501 37.7232,-12 37.7232,-12\" stroke=\"#000000\"/>\n",
       "</g>\n",
       "<!-- 1 -->\n",
       "<g class=\"node\" id=\"node3\">\n",
       "<title>1</title>\n",
       "<path d=\"M123.6713,-20C123.6713,-20 114.3346,-20 114.3346,-20 111.6679,-20 109.0013,-17.3333 109.0013,-14.6667 109.0013,-14.6667 109.0013,-9.3333 109.0013,-9.3333 109.0013,-6.6667 111.6679,-4 114.3346,-4 114.3346,-4 123.6713,-4 123.6713,-4 126.3379,-4 129.0046,-6.6667 129.0046,-9.3333 129.0046,-9.3333 129.0046,-14.6667 129.0046,-14.6667 129.0046,-17.3333 126.3379,-20 123.6713,-20\" fill=\"none\" stroke=\"#000000\"/>\n",
       "<path d=\"M125.0049,-24C125.0049,-24 113.001,-24 113.001,-24 109.001,-24 105.001,-20 105.001,-16 105.001,-16 105.001,-8 105.001,-8 105.001,-4 109.001,0 113.001,0 113.001,0 125.0049,0 125.0049,0 129.0049,0 133.0049,-4 133.0049,-8 133.0049,-8 133.0049,-16 133.0049,-16 133.0049,-20 129.0049,-24 125.0049,-24\" fill=\"none\" stroke=\"#000000\"/>\n",
       "<text fill=\"#000000\" font-family=\"Courier,monospace\" font-size=\"10.00\" text-anchor=\"start\" x=\"113.002\" y=\"-9\">q6</text>\n",
       "</g>\n",
       "<!-- 0&#45;&gt;1 -->\n",
       "<g class=\"edge\" id=\"edge2\">\n",
       "<title>0-&gt;1</title>\n",
       "<path d=\"M58.1738,-12C69.0063,-12 86.4036,-12 99.8235,-12\" fill=\"none\" stroke=\"#000000\"/>\n",
       "<polygon fill=\"#000000\" points=\"104.9328,-12 99.9328,-14.2501 102.4328,-12 99.9328,-12.0001 99.9328,-12.0001 99.9328,-12.0001 102.4328,-12 99.9328,-9.7501 104.9328,-12 104.9328,-12\" stroke=\"#000000\"/>\n",
       "<text fill=\"#000000\" font-family=\"Courier,monospace\" font-size=\"9.00\" text-anchor=\"start\" x=\"79.3015\" y=\"-16.3\">a</text>\n",
       "</g>\n",
       "</g>\n",
       "</svg>"
      ],
      "text/plain": [
       "<IPython.core.display.SVG object>"
      ]
     },
     "metadata": {},
     "output_type": "display_data"
    },
    {
     "data": {
      "text/html": [
       "subexpression: a b|a"
      ],
      "text/plain": [
       "<IPython.core.display.HTML object>"
      ]
     },
     "metadata": {},
     "output_type": "display_data"
    },
    {
     "data": {
      "image/svg+xml": [
       "<svg height=\"75pt\" viewBox=\"0.00 0.00 348.01 75.00\" width=\"348pt\" xmlns=\"http://www.w3.org/2000/svg\" xmlns:xlink=\"http://www.w3.org/1999/xlink\">\n",
       "<g class=\"graph\" id=\"graph0\" transform=\"scale(1 1) rotate(0) translate(4 71)\">\n",
       "<title>%3</title>\n",
       "<polygon fill=\"#ffffff\" points=\"-4,4 -4,-71 344.0098,-71 344.0098,4 -4,4\" stroke=\"transparent\"/>\n",
       "<!-- _START -->\n",
       "<g class=\"node\" id=\"node1\">\n",
       "<title>_START</title>\n",
       "</g>\n",
       "<!-- 4 -->\n",
       "<g class=\"node\" id=\"node6\">\n",
       "<title>4</title>\n",
       "<path d=\"M52.6696,-39C52.6696,-39 43.3324,-39 43.3324,-39 40.6657,-39 37.999,-36.3333 37.999,-33.6667 37.999,-33.6667 37.999,-28.3333 37.999,-28.3333 37.999,-25.6667 40.6657,-23 43.3324,-23 43.3324,-23 52.6696,-23 52.6696,-23 55.3363,-23 58.0029,-25.6667 58.0029,-28.3333 58.0029,-28.3333 58.0029,-33.6667 58.0029,-33.6667 58.0029,-36.3333 55.3363,-39 52.6696,-39\" fill=\"none\" stroke=\"#000000\"/>\n",
       "<text fill=\"#000000\" font-family=\"Courier,monospace\" font-size=\"10.00\" text-anchor=\"start\" x=\"42\" y=\"-28\">q7</text>\n",
       "</g>\n",
       "<!-- _START&#45;&gt;4 -->\n",
       "<g class=\"edge\" id=\"edge1\">\n",
       "<title>_START-&gt;4</title>\n",
       "<path d=\"M1.0335,-31C4.1371,-31 20.1615,-31 32.6403,-31\" fill=\"none\" stroke=\"#000000\"/>\n",
       "<polygon fill=\"#000000\" points=\"37.7232,-31 32.7233,-33.2501 35.2232,-31 32.7232,-31.0001 32.7232,-31.0001 32.7232,-31.0001 35.2232,-31 32.7232,-28.7501 37.7232,-31 37.7232,-31\" stroke=\"#000000\"/>\n",
       "</g>\n",
       "<!-- 0 -->\n",
       "<g class=\"node\" id=\"node2\">\n",
       "<title>0</title>\n",
       "<path d=\"M118.6715,-59C118.6715,-59 109.3343,-59 109.3343,-59 106.6676,-59 104.001,-56.3333 104.001,-53.6667 104.001,-53.6667 104.001,-48.3333 104.001,-48.3333 104.001,-45.6667 106.6676,-43 109.3343,-43 109.3343,-43 118.6715,-43 118.6715,-43 121.3382,-43 124.0049,-45.6667 124.0049,-48.3333 124.0049,-48.3333 124.0049,-53.6667 124.0049,-53.6667 124.0049,-56.3333 121.3382,-59 118.6715,-59\" fill=\"none\" stroke=\"#000000\"/>\n",
       "<text fill=\"#000000\" font-family=\"Courier,monospace\" font-size=\"10.00\" text-anchor=\"start\" x=\"108.002\" y=\"-48\">q1</text>\n",
       "</g>\n",
       "<!-- 1 -->\n",
       "<g class=\"node\" id=\"node3\">\n",
       "<title>1</title>\n",
       "<path d=\"M189.6735,-59C189.6735,-59 180.3363,-59 180.3363,-59 177.6696,-59 175.0029,-56.3333 175.0029,-53.6667 175.0029,-53.6667 175.0029,-48.3333 175.0029,-48.3333 175.0029,-45.6667 177.6696,-43 180.3363,-43 180.3363,-43 189.6735,-43 189.6735,-43 192.3402,-43 195.0068,-45.6667 195.0068,-48.3333 195.0068,-48.3333 195.0068,-53.6667 195.0068,-53.6667 195.0068,-56.3333 192.3402,-59 189.6735,-59\" fill=\"none\" stroke=\"#000000\"/>\n",
       "<text fill=\"#000000\" font-family=\"Courier,monospace\" font-size=\"10.00\" text-anchor=\"start\" x=\"179.0039\" y=\"-48\">q2</text>\n",
       "</g>\n",
       "<!-- 0&#45;&gt;1 -->\n",
       "<g class=\"edge\" id=\"edge2\">\n",
       "<title>0-&gt;1</title>\n",
       "<path d=\"M124.1758,-51C136.0915,-51 155.9506,-51 169.7216,-51\" fill=\"none\" stroke=\"#000000\"/>\n",
       "<polygon fill=\"#000000\" points=\"174.8509,-51 169.8509,-53.2501 172.3509,-51 169.8509,-51.0001 169.8509,-51.0001 169.8509,-51.0001 172.3509,-51 169.8509,-48.7501 174.8509,-51 174.8509,-51\" stroke=\"#000000\"/>\n",
       "<text fill=\"#000000\" font-family=\"Courier,monospace\" font-size=\"9.00\" text-anchor=\"start\" x=\"145.3035\" y=\"-55.3\">a</text>\n",
       "</g>\n",
       "<!-- 2 -->\n",
       "<g class=\"node\" id=\"node4\">\n",
       "<title>2</title>\n",
       "<path d=\"M259.6755,-59C259.6755,-59 250.3382,-59 250.3382,-59 247.6715,-59 245.0049,-56.3333 245.0049,-53.6667 245.0049,-53.6667 245.0049,-48.3333 245.0049,-48.3333 245.0049,-45.6667 247.6715,-43 250.3382,-43 250.3382,-43 259.6755,-43 259.6755,-43 262.3421,-43 265.0088,-45.6667 265.0088,-48.3333 265.0088,-48.3333 265.0088,-53.6667 265.0088,-53.6667 265.0088,-56.3333 262.3421,-59 259.6755,-59\" fill=\"none\" stroke=\"#000000\"/>\n",
       "<text fill=\"#000000\" font-family=\"Courier,monospace\" font-size=\"10.00\" text-anchor=\"start\" x=\"249.0059\" y=\"-48\">q3</text>\n",
       "</g>\n",
       "<!-- 1&#45;&gt;2 -->\n",
       "<g class=\"edge\" id=\"edge4\">\n",
       "<title>1-&gt;2</title>\n",
       "<path d=\"M195.0345,-51C206.7824,-51 226.3618,-51 239.9388,-51\" fill=\"none\" stroke=\"#000000\"/>\n",
       "<polygon fill=\"#000000\" points=\"244.9959,-51 239.9959,-53.2501 242.4959,-51 239.9959,-51.0001 239.9959,-51.0001 239.9959,-51.0001 242.4959,-51 239.9958,-48.7501 244.9959,-51 244.9959,-51\" stroke=\"#000000\"/>\n",
       "<text fill=\"#000000\" font-family=\"Courier,monospace\" font-size=\"9.00\" text-anchor=\"start\" x=\"219.9185\" y=\"-56.8\">ε</text>\n",
       "</g>\n",
       "<!-- 5 -->\n",
       "<g class=\"node\" id=\"node7\">\n",
       "<title>5</title>\n",
       "<path d=\"M330.6771,-59C330.6771,-59 321.3404,-59 321.3404,-59 318.6738,-59 316.0071,-56.3333 316.0071,-53.6667 316.0071,-53.6667 316.0071,-48.3333 316.0071,-48.3333 316.0071,-45.6667 318.6738,-43 321.3404,-43 321.3404,-43 330.6771,-43 330.6771,-43 333.3438,-43 336.0105,-45.6667 336.0105,-48.3333 336.0105,-48.3333 336.0105,-53.6667 336.0105,-53.6667 336.0105,-56.3333 333.3438,-59 330.6771,-59\" fill=\"none\" stroke=\"#000000\"/>\n",
       "<path d=\"M332.0107,-63C332.0107,-63 320.0068,-63 320.0068,-63 316.0068,-63 312.0068,-59 312.0068,-55 312.0068,-55 312.0068,-47 312.0068,-47 312.0068,-43 316.0068,-39 320.0068,-39 320.0068,-39 332.0107,-39 332.0107,-39 336.0107,-39 340.0107,-43 340.0107,-47 340.0107,-47 340.0107,-55 340.0107,-55 340.0107,-59 336.0107,-63 332.0107,-63\" fill=\"none\" stroke=\"#000000\"/>\n",
       "<text fill=\"#000000\" font-family=\"Courier,monospace\" font-size=\"10.00\" text-anchor=\"start\" x=\"320.0078\" y=\"-48\">q4</text>\n",
       "</g>\n",
       "<!-- 2&#45;&gt;5 -->\n",
       "<g class=\"edge\" id=\"edge3\">\n",
       "<title>2-&gt;5</title>\n",
       "<path d=\"M265.1797,-51C276.0122,-51 293.4094,-51 306.8294,-51\" fill=\"none\" stroke=\"#000000\"/>\n",
       "<polygon fill=\"#000000\" points=\"311.9387,-51 306.9387,-53.2501 309.4387,-51 306.9387,-51.0001 306.9387,-51.0001 306.9387,-51.0001 309.4387,-51 306.9386,-48.7501 311.9387,-51 311.9387,-51\" stroke=\"#000000\"/>\n",
       "<text fill=\"#000000\" font-family=\"Courier,monospace\" font-size=\"9.00\" text-anchor=\"start\" x=\"286.3074\" y=\"-55.3\">b</text>\n",
       "</g>\n",
       "<!-- 3 -->\n",
       "<g class=\"node\" id=\"node5\">\n",
       "<title>3</title>\n",
       "<path d=\"M118.6715,-20C118.6715,-20 109.3343,-20 109.3343,-20 106.6676,-20 104.001,-17.3333 104.001,-14.6667 104.001,-14.6667 104.001,-9.3333 104.001,-9.3333 104.001,-6.6667 106.6676,-4 109.3343,-4 109.3343,-4 118.6715,-4 118.6715,-4 121.3382,-4 124.0049,-6.6667 124.0049,-9.3333 124.0049,-9.3333 124.0049,-14.6667 124.0049,-14.6667 124.0049,-17.3333 121.3382,-20 118.6715,-20\" fill=\"none\" stroke=\"#000000\"/>\n",
       "<text fill=\"#000000\" font-family=\"Courier,monospace\" font-size=\"10.00\" text-anchor=\"start\" x=\"108.002\" y=\"-9\">q5</text>\n",
       "</g>\n",
       "<!-- 6 -->\n",
       "<g class=\"node\" id=\"node8\">\n",
       "<title>6</title>\n",
       "<path d=\"M189.6732,-20C189.6732,-20 180.3365,-20 180.3365,-20 177.6699,-20 175.0032,-17.3333 175.0032,-14.6667 175.0032,-14.6667 175.0032,-9.3333 175.0032,-9.3333 175.0032,-6.6667 177.6699,-4 180.3365,-4 180.3365,-4 189.6732,-4 189.6732,-4 192.3399,-4 195.0066,-6.6667 195.0066,-9.3333 195.0066,-9.3333 195.0066,-14.6667 195.0066,-14.6667 195.0066,-17.3333 192.3399,-20 189.6732,-20\" fill=\"none\" stroke=\"#000000\"/>\n",
       "<path d=\"M191.0068,-24C191.0068,-24 179.0029,-24 179.0029,-24 175.0029,-24 171.0029,-20 171.0029,-16 171.0029,-16 171.0029,-8 171.0029,-8 171.0029,-4 175.0029,0 179.0029,0 179.0029,0 191.0068,0 191.0068,0 195.0068,0 199.0068,-4 199.0068,-8 199.0068,-8 199.0068,-16 199.0068,-16 199.0068,-20 195.0068,-24 191.0068,-24\" fill=\"none\" stroke=\"#000000\"/>\n",
       "<text fill=\"#000000\" font-family=\"Courier,monospace\" font-size=\"10.00\" text-anchor=\"start\" x=\"179.0039\" y=\"-9\">q6</text>\n",
       "</g>\n",
       "<!-- 3&#45;&gt;6 -->\n",
       "<g class=\"edge\" id=\"edge5\">\n",
       "<title>3-&gt;6</title>\n",
       "<path d=\"M124.1758,-12C135.0083,-12 152.4055,-12 165.8255,-12\" fill=\"none\" stroke=\"#000000\"/>\n",
       "<polygon fill=\"#000000\" points=\"170.9348,-12 165.9348,-14.2501 168.4348,-12 165.9348,-12.0001 165.9348,-12.0001 165.9348,-12.0001 168.4348,-12 165.9347,-9.7501 170.9348,-12 170.9348,-12\" stroke=\"#000000\"/>\n",
       "<text fill=\"#000000\" font-family=\"Courier,monospace\" font-size=\"9.00\" text-anchor=\"start\" x=\"145.3035\" y=\"-16.3\">a</text>\n",
       "</g>\n",
       "<!-- 4&#45;&gt;0 -->\n",
       "<g class=\"edge\" id=\"edge6\">\n",
       "<title>4-&gt;0</title>\n",
       "<path d=\"M58.0253,-34.0376C68.88,-37.3268 86.3187,-42.6111 98.8485,-46.4079\" fill=\"none\" stroke=\"#000000\"/>\n",
       "<polygon fill=\"#000000\" points=\"103.8843,-47.9338 98.4466,-48.6371 101.4917,-47.2088 99.0992,-46.4838 99.0992,-46.4838 99.0992,-46.4838 101.4917,-47.2088 99.7517,-44.3305 103.8843,-47.9338 103.8843,-47.9338\" stroke=\"#000000\"/>\n",
       "<text fill=\"#000000\" font-family=\"Courier,monospace\" font-size=\"9.00\" text-anchor=\"start\" x=\"78.9146\" y=\"-48.8\">ε</text>\n",
       "</g>\n",
       "<!-- 4&#45;&gt;3 -->\n",
       "<g class=\"edge\" id=\"edge7\">\n",
       "<title>4-&gt;3</title>\n",
       "<path d=\"M57.7009,-22.8859C62.8076,-19.1242 69.3744,-15.0415 76.002,-13 83.2395,-10.7706 91.6239,-10.3389 98.6728,-10.5412\" fill=\"none\" stroke=\"#000000\"/>\n",
       "<polygon fill=\"#000000\" points=\"103.7618,-10.8002 98.6538,-12.793 101.265,-10.6731 98.7682,-10.546 98.7682,-10.546 98.7682,-10.546 101.265,-10.6731 98.8826,-8.2989 103.7618,-10.8002 103.7618,-10.8002\" stroke=\"#000000\"/>\n",
       "<text fill=\"#000000\" font-family=\"Courier,monospace\" font-size=\"9.00\" text-anchor=\"start\" x=\"78.9146\" y=\"-18.8\">ε</text>\n",
       "</g>\n",
       "</g>\n",
       "</svg>"
      ],
      "text/plain": [
       "<IPython.core.display.SVG object>"
      ]
     },
     "metadata": {},
     "output_type": "display_data"
    },
    {
     "data": {
      "text/html": [
       "subexpression: (a b|a)*"
      ],
      "text/plain": [
       "<IPython.core.display.HTML object>"
      ]
     },
     "metadata": {},
     "output_type": "display_data"
    },
    {
     "data": {
      "image/svg+xml": [
       "<svg height=\"160pt\" viewBox=\"0.00 0.00 422.01 160.00\" width=\"422pt\" xmlns=\"http://www.w3.org/2000/svg\" xmlns:xlink=\"http://www.w3.org/1999/xlink\">\n",
       "<g class=\"graph\" id=\"graph0\" transform=\"scale(1 1) rotate(0) translate(4 156)\">\n",
       "<title>%3</title>\n",
       "<polygon fill=\"#ffffff\" points=\"-4,4 -4,-156 418.0117,-156 418.0117,4 -4,4\" stroke=\"transparent\"/>\n",
       "<!-- _START -->\n",
       "<g class=\"node\" id=\"node1\">\n",
       "<title>_START</title>\n",
       "</g>\n",
       "<!-- 2 -->\n",
       "<g class=\"node\" id=\"node4\">\n",
       "<title>2</title>\n",
       "<path d=\"M56.6693,-82C56.6693,-82 47.3326,-82 47.3326,-82 44.666,-82 41.9993,-79.3333 41.9993,-76.6667 41.9993,-76.6667 41.9993,-71.3333 41.9993,-71.3333 41.9993,-68.6667 44.666,-66 47.3326,-66 47.3326,-66 56.6693,-66 56.6693,-66 59.336,-66 62.0027,-68.6667 62.0027,-71.3333 62.0027,-71.3333 62.0027,-76.6667 62.0027,-76.6667 62.0027,-79.3333 59.336,-82 56.6693,-82\" fill=\"none\" stroke=\"#000000\"/>\n",
       "<path d=\"M58.0029,-86C58.0029,-86 45.999,-86 45.999,-86 41.999,-86 37.999,-82 37.999,-78 37.999,-78 37.999,-70 37.999,-70 37.999,-66 41.999,-62 45.999,-62 45.999,-62 58.0029,-62 58.0029,-62 62.0029,-62 66.0029,-66 66.0029,-70 66.0029,-70 66.0029,-78 66.0029,-78 66.0029,-82 62.0029,-86 58.0029,-86\" fill=\"none\" stroke=\"#000000\"/>\n",
       "<text fill=\"#000000\" font-family=\"Courier,monospace\" font-size=\"10.00\" text-anchor=\"start\" x=\"46\" y=\"-71\">q8</text>\n",
       "</g>\n",
       "<!-- _START&#45;&gt;2 -->\n",
       "<g class=\"edge\" id=\"edge1\">\n",
       "<title>_START-&gt;2</title>\n",
       "<path d=\"M1.0784,-74C4.2393,-74 19.7612,-74 32.8465,-74\" fill=\"none\" stroke=\"#000000\"/>\n",
       "<polygon fill=\"#000000\" points=\"37.8941,-74 32.8941,-76.2501 35.3941,-74 32.8941,-74.0001 32.8941,-74.0001 32.8941,-74.0001 35.3941,-74 32.894,-71.7501 37.8941,-74 37.8941,-74\" stroke=\"#000000\"/>\n",
       "</g>\n",
       "<!-- 0 -->\n",
       "<g class=\"node\" id=\"node2\">\n",
       "<title>0</title>\n",
       "<path d=\"M192.6735,-141C192.6735,-141 183.3363,-141 183.3363,-141 180.6696,-141 178.0029,-138.3333 178.0029,-135.6667 178.0029,-135.6667 178.0029,-130.3333 178.0029,-130.3333 178.0029,-127.6667 180.6696,-125 183.3363,-125 183.3363,-125 192.6735,-125 192.6735,-125 195.3402,-125 198.0068,-127.6667 198.0068,-130.3333 198.0068,-130.3333 198.0068,-135.6667 198.0068,-135.6667 198.0068,-138.3333 195.3402,-141 192.6735,-141\" fill=\"none\" stroke=\"#000000\"/>\n",
       "<text fill=\"#000000\" font-family=\"Courier,monospace\" font-size=\"10.00\" text-anchor=\"start\" x=\"182.0039\" y=\"-130\">q1</text>\n",
       "</g>\n",
       "<!-- 1 -->\n",
       "<g class=\"node\" id=\"node3\">\n",
       "<title>1</title>\n",
       "<path d=\"M263.6755,-146C263.6755,-146 254.3382,-146 254.3382,-146 251.6715,-146 249.0049,-143.3333 249.0049,-140.6667 249.0049,-140.6667 249.0049,-135.3333 249.0049,-135.3333 249.0049,-132.6667 251.6715,-130 254.3382,-130 254.3382,-130 263.6755,-130 263.6755,-130 266.3421,-130 269.0088,-132.6667 269.0088,-135.3333 269.0088,-135.3333 269.0088,-140.6667 269.0088,-140.6667 269.0088,-143.3333 266.3421,-146 263.6755,-146\" fill=\"none\" stroke=\"#000000\"/>\n",
       "<text fill=\"#000000\" font-family=\"Courier,monospace\" font-size=\"10.00\" text-anchor=\"start\" x=\"253.0059\" y=\"-135\">q2</text>\n",
       "</g>\n",
       "<!-- 0&#45;&gt;1 -->\n",
       "<g class=\"edge\" id=\"edge2\">\n",
       "<title>0-&gt;1</title>\n",
       "<path d=\"M198.1777,-133.7164C210.0935,-134.5555 229.9526,-135.954 243.7235,-136.9237\" fill=\"none\" stroke=\"#000000\"/>\n",
       "<polygon fill=\"#000000\" points=\"248.8529,-137.285 243.7071,-139.1781 246.359,-137.1093 243.8652,-136.9336 243.8652,-136.9336 243.8652,-136.9336 246.359,-137.1093 244.0233,-134.6892 248.8529,-137.285 248.8529,-137.285\" stroke=\"#000000\"/>\n",
       "<text fill=\"#000000\" font-family=\"Courier,monospace\" font-size=\"9.00\" text-anchor=\"start\" x=\"219.3054\" y=\"-139.3\">a</text>\n",
       "</g>\n",
       "<!-- 3 -->\n",
       "<g class=\"node\" id=\"node5\">\n",
       "<title>3</title>\n",
       "<path d=\"M333.6774,-143C333.6774,-143 324.3402,-143 324.3402,-143 321.6735,-143 319.0068,-140.3333 319.0068,-137.6667 319.0068,-137.6667 319.0068,-132.3333 319.0068,-132.3333 319.0068,-129.6667 321.6735,-127 324.3402,-127 324.3402,-127 333.6774,-127 333.6774,-127 336.3441,-127 339.0107,-129.6667 339.0107,-132.3333 339.0107,-132.3333 339.0107,-137.6667 339.0107,-137.6667 339.0107,-140.3333 336.3441,-143 333.6774,-143\" fill=\"none\" stroke=\"#000000\"/>\n",
       "<text fill=\"#000000\" font-family=\"Courier,monospace\" font-size=\"10.00\" text-anchor=\"start\" x=\"323.0078\" y=\"-132\">q3</text>\n",
       "</g>\n",
       "<!-- 1&#45;&gt;3 -->\n",
       "<g class=\"edge\" id=\"edge4\">\n",
       "<title>1-&gt;3</title>\n",
       "<path d=\"M269.0364,-137.5702C280.7843,-137.0667 300.3638,-136.2276 313.9407,-135.6458\" fill=\"none\" stroke=\"#000000\"/>\n",
       "<polygon fill=\"#000000\" points=\"318.9978,-135.429 314.0988,-137.8911 316.5001,-135.5361 314.0024,-135.6432 314.0024,-135.6432 314.0024,-135.6432 316.5001,-135.5361 313.906,-133.3953 318.9978,-135.429 318.9978,-135.429\" stroke=\"#000000\"/>\n",
       "<text fill=\"#000000\" font-family=\"Courier,monospace\" font-size=\"9.00\" text-anchor=\"start\" x=\"293.9204\" y=\"-141.8\">ε</text>\n",
       "</g>\n",
       "<!-- 5 -->\n",
       "<g class=\"node\" id=\"node7\">\n",
       "<title>5</title>\n",
       "<path d=\"M126.6715,-82C126.6715,-82 117.3343,-82 117.3343,-82 114.6676,-82 112.001,-79.3333 112.001,-76.6667 112.001,-76.6667 112.001,-71.3333 112.001,-71.3333 112.001,-68.6667 114.6676,-66 117.3343,-66 117.3343,-66 126.6715,-66 126.6715,-66 129.3382,-66 132.0049,-68.6667 132.0049,-71.3333 132.0049,-71.3333 132.0049,-76.6667 132.0049,-76.6667 132.0049,-79.3333 129.3382,-82 126.6715,-82\" fill=\"none\" stroke=\"#000000\"/>\n",
       "<text fill=\"#000000\" font-family=\"Courier,monospace\" font-size=\"10.00\" text-anchor=\"start\" x=\"116.002\" y=\"-71\">q7</text>\n",
       "</g>\n",
       "<!-- 2&#45;&gt;5 -->\n",
       "<g class=\"edge\" id=\"edge10\">\n",
       "<title>2-&gt;5</title>\n",
       "<path d=\"M66.1669,-74C77.9461,-74 94.6753,-74 106.7472,-74\" fill=\"none\" stroke=\"#000000\"/>\n",
       "<polygon fill=\"#000000\" points=\"111.9314,-74 106.9315,-76.2501 109.4314,-74 106.9314,-74.0001 106.9314,-74.0001 106.9314,-74.0001 109.4314,-74 106.9314,-71.7501 111.9314,-74 111.9314,-74\" stroke=\"#000000\"/>\n",
       "<text fill=\"#000000\" font-family=\"Courier,monospace\" font-size=\"9.00\" text-anchor=\"start\" x=\"86.9146\" y=\"-79.8\">ε</text>\n",
       "</g>\n",
       "<!-- 6 -->\n",
       "<g class=\"node\" id=\"node8\">\n",
       "<title>6</title>\n",
       "<path d=\"M404.6791,-120C404.6791,-120 395.3424,-120 395.3424,-120 392.6757,-120 390.0091,-117.3333 390.0091,-114.6667 390.0091,-114.6667 390.0091,-109.3333 390.0091,-109.3333 390.0091,-106.6667 392.6757,-104 395.3424,-104 395.3424,-104 404.6791,-104 404.6791,-104 407.3457,-104 410.0124,-106.6667 410.0124,-109.3333 410.0124,-109.3333 410.0124,-114.6667 410.0124,-114.6667 410.0124,-117.3333 407.3457,-120 404.6791,-120\" fill=\"none\" stroke=\"#000000\"/>\n",
       "<path d=\"M406.0127,-124C406.0127,-124 394.0088,-124 394.0088,-124 390.0088,-124 386.0088,-120 386.0088,-116 386.0088,-116 386.0088,-108 386.0088,-108 386.0088,-104 390.0088,-100 394.0088,-100 394.0088,-100 406.0127,-100 406.0127,-100 410.0127,-100 414.0127,-104 414.0127,-108 414.0127,-108 414.0127,-116 414.0127,-116 414.0127,-120 410.0127,-124 406.0127,-124\" fill=\"none\" stroke=\"#000000\"/>\n",
       "<text fill=\"#000000\" font-family=\"Courier,monospace\" font-size=\"10.00\" text-anchor=\"start\" x=\"394.0098\" y=\"-109\">q4</text>\n",
       "</g>\n",
       "<!-- 3&#45;&gt;6 -->\n",
       "<g class=\"edge\" id=\"edge3\">\n",
       "<title>3-&gt;6</title>\n",
       "<path d=\"M339.1816,-131.7047C350.0141,-128.1956 367.4114,-122.5601 380.8313,-118.2129\" fill=\"none\" stroke=\"#000000\"/>\n",
       "<polygon fill=\"#000000\" points=\"385.9406,-116.5578 381.8774,-120.2392 383.5623,-117.3283 381.184,-118.0987 381.184,-118.0987 381.184,-118.0987 383.5623,-117.3283 380.4905,-115.9582 385.9406,-116.5578 385.9406,-116.5578\" stroke=\"#000000\"/>\n",
       "<text fill=\"#000000\" font-family=\"Courier,monospace\" font-size=\"9.00\" text-anchor=\"start\" x=\"360.3093\" y=\"-129.3\">b</text>\n",
       "</g>\n",
       "<!-- 4 -->\n",
       "<g class=\"node\" id=\"node6\">\n",
       "<title>4</title>\n",
       "<path d=\"M192.6735,-16C192.6735,-16 183.3363,-16 183.3363,-16 180.6696,-16 178.0029,-13.3333 178.0029,-10.6667 178.0029,-10.6667 178.0029,-5.3333 178.0029,-5.3333 178.0029,-2.6667 180.6696,0 183.3363,0 183.3363,0 192.6735,0 192.6735,0 195.3402,0 198.0068,-2.6667 198.0068,-5.3333 198.0068,-5.3333 198.0068,-10.6667 198.0068,-10.6667 198.0068,-13.3333 195.3402,-16 192.6735,-16\" fill=\"none\" stroke=\"#000000\"/>\n",
       "<text fill=\"#000000\" font-family=\"Courier,monospace\" font-size=\"10.00\" text-anchor=\"start\" x=\"182.0039\" y=\"-5\">q5</text>\n",
       "</g>\n",
       "<!-- 7 -->\n",
       "<g class=\"node\" id=\"node9\">\n",
       "<title>7</title>\n",
       "<path d=\"M263.6752,-43C263.6752,-43 254.3385,-43 254.3385,-43 251.6718,-43 249.0052,-40.3333 249.0052,-37.6667 249.0052,-37.6667 249.0052,-32.3333 249.0052,-32.3333 249.0052,-29.6667 251.6718,-27 254.3385,-27 254.3385,-27 263.6752,-27 263.6752,-27 266.3418,-27 269.0085,-29.6667 269.0085,-32.3333 269.0085,-32.3333 269.0085,-37.6667 269.0085,-37.6667 269.0085,-40.3333 266.3418,-43 263.6752,-43\" fill=\"none\" stroke=\"#000000\"/>\n",
       "<path d=\"M265.0088,-47C265.0088,-47 253.0049,-47 253.0049,-47 249.0049,-47 245.0049,-43 245.0049,-39 245.0049,-39 245.0049,-31 245.0049,-31 245.0049,-27 249.0049,-23 253.0049,-23 253.0049,-23 265.0088,-23 265.0088,-23 269.0088,-23 273.0088,-27 273.0088,-31 273.0088,-31 273.0088,-39 273.0088,-39 273.0088,-43 269.0088,-47 265.0088,-47\" fill=\"none\" stroke=\"#000000\"/>\n",
       "<text fill=\"#000000\" font-family=\"Courier,monospace\" font-size=\"10.00\" text-anchor=\"start\" x=\"253.0059\" y=\"-32\">q6</text>\n",
       "</g>\n",
       "<!-- 4&#45;&gt;7 -->\n",
       "<g class=\"edge\" id=\"edge5\">\n",
       "<title>4-&gt;7</title>\n",
       "<path d=\"M198.1777,-11.8684C209.1061,-16.0242 226.7159,-22.7207 240.1827,-27.8417\" fill=\"none\" stroke=\"#000000\"/>\n",
       "<polygon fill=\"#000000\" points=\"244.9367,-29.6495 239.4634,-29.9754 242.6,-28.7609 240.2632,-27.8723 240.2632,-27.8723 240.2632,-27.8723 242.6,-28.7609 241.063,-25.7692 244.9367,-29.6495 244.9367,-29.6495\" stroke=\"#000000\"/>\n",
       "<text fill=\"#000000\" font-family=\"Courier,monospace\" font-size=\"9.00\" text-anchor=\"start\" x=\"219.3054\" y=\"-27.3\">a</text>\n",
       "</g>\n",
       "<!-- 5&#45;&gt;0 -->\n",
       "<g class=\"edge\" id=\"edge7\">\n",
       "<title>5-&gt;0</title>\n",
       "<path d=\"M127.3406,-82.145C132.5368,-89.681 140.9553,-100.9076 150.0039,-109 157.0362,-115.2891 165.9023,-120.9911 173.3015,-125.2576\" fill=\"none\" stroke=\"#000000\"/>\n",
       "<polygon fill=\"#000000\" points=\"177.6894,-127.7211 172.228,-127.2353 175.5095,-126.4972 173.3295,-125.2733 173.3295,-125.2733 173.3295,-125.2733 175.5095,-126.4972 174.431,-123.3114 177.6894,-127.7211 177.6894,-127.7211\" stroke=\"#000000\"/>\n",
       "<text fill=\"#000000\" font-family=\"Courier,monospace\" font-size=\"9.00\" text-anchor=\"start\" x=\"152.9165\" y=\"-121.8\">ε</text>\n",
       "</g>\n",
       "<!-- 5&#45;&gt;4 -->\n",
       "<g class=\"edge\" id=\"edge8\">\n",
       "<title>5-&gt;4</title>\n",
       "<path d=\"M124.3788,-65.7917C128.068,-54.4308 136.2216,-33.9645 150.0039,-22 156.4747,-16.3827 165.3971,-12.9408 172.9703,-10.8762\" fill=\"none\" stroke=\"#000000\"/>\n",
       "<polygon fill=\"#000000\" points=\"177.951,-9.6571 173.6293,-13.0314 175.5227,-10.2515 173.0943,-10.8459 173.0943,-10.8459 173.0943,-10.8459 175.5227,-10.2515 172.5594,-8.6604 177.951,-9.6571 177.951,-9.6571\" stroke=\"#000000\"/>\n",
       "<text fill=\"#000000\" font-family=\"Courier,monospace\" font-size=\"9.00\" text-anchor=\"start\" x=\"152.9165\" y=\"-27.8\">ε</text>\n",
       "</g>\n",
       "<!-- 6&#45;&gt;5 -->\n",
       "<g class=\"edge\" id=\"edge6\">\n",
       "<title>6-&gt;5</title>\n",
       "<path d=\"M385.8078,-106.8494C371.6235,-102.1721 349.0998,-96 329.0088,-96 188.0049,-96 188.0049,-96 188.0049,-96 169.7173,-96 149.9746,-88.3046 136.8947,-82.0164\" fill=\"none\" stroke=\"#000000\"/>\n",
       "<polygon fill=\"#000000\" points=\"132.3923,-79.7802 137.8713,-79.9893 134.6314,-80.8923 136.8704,-82.0044 136.8704,-82.0044 136.8704,-82.0044 134.6314,-80.8923 135.8696,-84.0196 132.3923,-79.7802 132.3923,-79.7802\" stroke=\"#000000\"/>\n",
       "<text fill=\"#000000\" font-family=\"Courier,monospace\" font-size=\"9.00\" text-anchor=\"start\" x=\"256.9194\" y=\"-101.8\">ε</text>\n",
       "</g>\n",
       "<!-- 7&#45;&gt;5 -->\n",
       "<g class=\"edge\" id=\"edge9\">\n",
       "<title>7-&gt;5</title>\n",
       "<path d=\"M244.9869,-38.991C219.1087,-46.3575 164.0422,-62.033 137.2623,-69.6562\" fill=\"none\" stroke=\"#000000\"/>\n",
       "<polygon fill=\"#000000\" points=\"132.3005,-71.0687 136.4934,-67.5356 134.705,-70.3842 137.1094,-69.6997 137.1094,-69.6997 137.1094,-69.6997 134.705,-70.3842 137.7255,-71.8637 132.3005,-71.0687 132.3005,-71.0687\" stroke=\"#000000\"/>\n",
       "<text fill=\"#000000\" font-family=\"Courier,monospace\" font-size=\"9.00\" text-anchor=\"start\" x=\"185.9175\" y=\"-63.8\">ε</text>\n",
       "</g>\n",
       "</g>\n",
       "</svg>"
      ],
      "text/plain": [
       "<IPython.core.display.SVG object>"
      ]
     },
     "metadata": {},
     "output_type": "display_data"
    }
   ],
   "source": [
    "m = from_regexp('(a b|a)*', display_steps=True)"
   ]
  },
  {
   "cell_type": "code",
   "execution_count": 5,
   "metadata": {},
   "outputs": [
    {
     "data": {
      "text/html": [
       "subexpression: a"
      ],
      "text/plain": [
       "<IPython.core.display.HTML object>"
      ]
     },
     "metadata": {},
     "output_type": "display_data"
    },
    {
     "data": {
      "image/svg+xml": [
       "<svg height=\"35pt\" viewBox=\"0.00 0.00 153.01 35.00\" width=\"153pt\" xmlns=\"http://www.w3.org/2000/svg\" xmlns:xlink=\"http://www.w3.org/1999/xlink\">\n",
       "<g class=\"graph\" id=\"graph0\" transform=\"scale(1 1) rotate(0) translate(4 31)\">\n",
       "<title>%3</title>\n",
       "<polygon fill=\"#ffffff\" points=\"-4,4 -4,-31 149.0059,-31 149.0059,4 -4,4\" stroke=\"transparent\"/>\n",
       "<!-- _START -->\n",
       "<g class=\"node\" id=\"node1\">\n",
       "<title>_START</title>\n",
       "</g>\n",
       "<!-- 0 -->\n",
       "<g class=\"node\" id=\"node2\">\n",
       "<title>0</title>\n",
       "<path d=\"M58.6711,-20C58.6711,-20 43.3319,-20 43.3319,-20 40.6652,-20 37.9985,-17.3333 37.9985,-14.6667 37.9985,-14.6667 37.9985,-9.3333 37.9985,-9.3333 37.9985,-6.6667 40.6652,-4 43.3319,-4 43.3319,-4 58.6711,-4 58.6711,-4 61.3377,-4 64.0044,-6.6667 64.0044,-9.3333 64.0044,-9.3333 64.0044,-14.6667 64.0044,-14.6667 64.0044,-17.3333 61.3377,-20 58.6711,-20\" fill=\"none\" stroke=\"#000000\"/>\n",
       "<text fill=\"#000000\" font-family=\"Courier,monospace\" font-size=\"10.00\" text-anchor=\"start\" x=\"42\" y=\"-9\">q01</text>\n",
       "</g>\n",
       "<!-- _START&#45;&gt;0 -->\n",
       "<g class=\"edge\" id=\"edge1\">\n",
       "<title>_START-&gt;0</title>\n",
       "<path d=\"M1.0672,-12C4.1772,-12 19.4906,-12 32.349,-12\" fill=\"none\" stroke=\"#000000\"/>\n",
       "<polygon fill=\"#000000\" points=\"37.6667,-12 32.6668,-14.2501 35.1667,-12 32.6667,-12.0001 32.6667,-12.0001 32.6667,-12.0001 35.1667,-12 32.6667,-9.7501 37.6667,-12 37.6667,-12\" stroke=\"#000000\"/>\n",
       "</g>\n",
       "<!-- 1 -->\n",
       "<g class=\"node\" id=\"node3\">\n",
       "<title>1</title>\n",
       "<path d=\"M135.6736,-20C135.6736,-20 120.3351,-20 120.3351,-20 117.6685,-20 115.0018,-17.3333 115.0018,-14.6667 115.0018,-14.6667 115.0018,-9.3333 115.0018,-9.3333 115.0018,-6.6667 117.6685,-4 120.3351,-4 120.3351,-4 135.6736,-4 135.6736,-4 138.3403,-4 141.007,-6.6667 141.007,-9.3333 141.007,-9.3333 141.007,-14.6667 141.007,-14.6667 141.007,-17.3333 138.3403,-20 135.6736,-20\" fill=\"none\" stroke=\"#000000\"/>\n",
       "<path d=\"M137.0073,-24C137.0073,-24 119.0015,-24 119.0015,-24 115.0015,-24 111.0015,-20 111.0015,-16 111.0015,-16 111.0015,-8 111.0015,-8 111.0015,-4 115.0015,0 119.0015,0 119.0015,0 137.0073,0 137.0073,0 141.0073,0 145.0073,-4 145.0073,-8 145.0073,-8 145.0073,-16 145.0073,-16 145.0073,-20 141.0073,-24 137.0073,-24\" fill=\"none\" stroke=\"#000000\"/>\n",
       "<text fill=\"#000000\" font-family=\"Courier,monospace\" font-size=\"10.00\" text-anchor=\"start\" x=\"119.0029\" y=\"-9\">q02</text>\n",
       "</g>\n",
       "<!-- 0&#45;&gt;1 -->\n",
       "<g class=\"edge\" id=\"edge2\">\n",
       "<title>0-&gt;1</title>\n",
       "<path d=\"M64.064,-12C75.4281,-12 92.1441,-12 105.6346,-12\" fill=\"none\" stroke=\"#000000\"/>\n",
       "<polygon fill=\"#000000\" points=\"110.8163,-12 105.8163,-14.2501 108.3163,-12 105.8163,-12.0001 105.8163,-12.0001 105.8163,-12.0001 108.3163,-12 105.8162,-9.7501 110.8163,-12 110.8163,-12\" stroke=\"#000000\"/>\n",
       "<text fill=\"#000000\" font-family=\"Courier,monospace\" font-size=\"9.00\" text-anchor=\"start\" x=\"85.3025\" y=\"-16.3\">a</text>\n",
       "</g>\n",
       "</g>\n",
       "</svg>"
      ],
      "text/plain": [
       "<IPython.core.display.SVG object>"
      ]
     },
     "metadata": {},
     "output_type": "display_data"
    },
    {
     "data": {
      "text/html": [
       "subexpression: b"
      ],
      "text/plain": [
       "<IPython.core.display.HTML object>"
      ]
     },
     "metadata": {},
     "output_type": "display_data"
    },
    {
     "data": {
      "image/svg+xml": [
       "<svg height=\"35pt\" viewBox=\"0.00 0.00 153.01 35.00\" width=\"153pt\" xmlns=\"http://www.w3.org/2000/svg\" xmlns:xlink=\"http://www.w3.org/1999/xlink\">\n",
       "<g class=\"graph\" id=\"graph0\" transform=\"scale(1 1) rotate(0) translate(4 31)\">\n",
       "<title>%3</title>\n",
       "<polygon fill=\"#ffffff\" points=\"-4,4 -4,-31 149.0059,-31 149.0059,4 -4,4\" stroke=\"transparent\"/>\n",
       "<!-- _START -->\n",
       "<g class=\"node\" id=\"node1\">\n",
       "<title>_START</title>\n",
       "</g>\n",
       "<!-- 0 -->\n",
       "<g class=\"node\" id=\"node2\">\n",
       "<title>0</title>\n",
       "<path d=\"M58.6711,-20C58.6711,-20 43.3319,-20 43.3319,-20 40.6652,-20 37.9985,-17.3333 37.9985,-14.6667 37.9985,-14.6667 37.9985,-9.3333 37.9985,-9.3333 37.9985,-6.6667 40.6652,-4 43.3319,-4 43.3319,-4 58.6711,-4 58.6711,-4 61.3377,-4 64.0044,-6.6667 64.0044,-9.3333 64.0044,-9.3333 64.0044,-14.6667 64.0044,-14.6667 64.0044,-17.3333 61.3377,-20 58.6711,-20\" fill=\"none\" stroke=\"#000000\"/>\n",
       "<text fill=\"#000000\" font-family=\"Courier,monospace\" font-size=\"10.00\" text-anchor=\"start\" x=\"42\" y=\"-9\">q03</text>\n",
       "</g>\n",
       "<!-- _START&#45;&gt;0 -->\n",
       "<g class=\"edge\" id=\"edge1\">\n",
       "<title>_START-&gt;0</title>\n",
       "<path d=\"M1.0672,-12C4.1772,-12 19.4906,-12 32.349,-12\" fill=\"none\" stroke=\"#000000\"/>\n",
       "<polygon fill=\"#000000\" points=\"37.6667,-12 32.6668,-14.2501 35.1667,-12 32.6667,-12.0001 32.6667,-12.0001 32.6667,-12.0001 35.1667,-12 32.6667,-9.7501 37.6667,-12 37.6667,-12\" stroke=\"#000000\"/>\n",
       "</g>\n",
       "<!-- 1 -->\n",
       "<g class=\"node\" id=\"node3\">\n",
       "<title>1</title>\n",
       "<path d=\"M135.6736,-20C135.6736,-20 120.3351,-20 120.3351,-20 117.6685,-20 115.0018,-17.3333 115.0018,-14.6667 115.0018,-14.6667 115.0018,-9.3333 115.0018,-9.3333 115.0018,-6.6667 117.6685,-4 120.3351,-4 120.3351,-4 135.6736,-4 135.6736,-4 138.3403,-4 141.007,-6.6667 141.007,-9.3333 141.007,-9.3333 141.007,-14.6667 141.007,-14.6667 141.007,-17.3333 138.3403,-20 135.6736,-20\" fill=\"none\" stroke=\"#000000\"/>\n",
       "<path d=\"M137.0073,-24C137.0073,-24 119.0015,-24 119.0015,-24 115.0015,-24 111.0015,-20 111.0015,-16 111.0015,-16 111.0015,-8 111.0015,-8 111.0015,-4 115.0015,0 119.0015,0 119.0015,0 137.0073,0 137.0073,0 141.0073,0 145.0073,-4 145.0073,-8 145.0073,-8 145.0073,-16 145.0073,-16 145.0073,-20 141.0073,-24 137.0073,-24\" fill=\"none\" stroke=\"#000000\"/>\n",
       "<text fill=\"#000000\" font-family=\"Courier,monospace\" font-size=\"10.00\" text-anchor=\"start\" x=\"119.0029\" y=\"-9\">q04</text>\n",
       "</g>\n",
       "<!-- 0&#45;&gt;1 -->\n",
       "<g class=\"edge\" id=\"edge2\">\n",
       "<title>0-&gt;1</title>\n",
       "<path d=\"M64.064,-12C75.4281,-12 92.1441,-12 105.6346,-12\" fill=\"none\" stroke=\"#000000\"/>\n",
       "<polygon fill=\"#000000\" points=\"110.8163,-12 105.8163,-14.2501 108.3163,-12 105.8163,-12.0001 105.8163,-12.0001 105.8163,-12.0001 108.3163,-12 105.8162,-9.7501 110.8163,-12 110.8163,-12\" stroke=\"#000000\"/>\n",
       "<text fill=\"#000000\" font-family=\"Courier,monospace\" font-size=\"9.00\" text-anchor=\"start\" x=\"85.3025\" y=\"-16.3\">b</text>\n",
       "</g>\n",
       "</g>\n",
       "</svg>"
      ],
      "text/plain": [
       "<IPython.core.display.SVG object>"
      ]
     },
     "metadata": {},
     "output_type": "display_data"
    },
    {
     "data": {
      "text/html": [
       "subexpression: a|b"
      ],
      "text/plain": [
       "<IPython.core.display.HTML object>"
      ]
     },
     "metadata": {},
     "output_type": "display_data"
    },
    {
     "data": {
      "image/svg+xml": [
       "<svg height=\"77pt\" viewBox=\"0.00 0.00 225.01 77.00\" width=\"225pt\" xmlns=\"http://www.w3.org/2000/svg\" xmlns:xlink=\"http://www.w3.org/1999/xlink\">\n",
       "<g class=\"graph\" id=\"graph0\" transform=\"scale(1 1) rotate(0) translate(4 73)\">\n",
       "<title>%3</title>\n",
       "<polygon fill=\"#ffffff\" points=\"-4,4 -4,-73 221.0088,-73 221.0088,4 -4,4\" stroke=\"transparent\"/>\n",
       "<!-- _START -->\n",
       "<g class=\"node\" id=\"node1\">\n",
       "<title>_START</title>\n",
       "</g>\n",
       "<!-- 1 -->\n",
       "<g class=\"node\" id=\"node3\">\n",
       "<title>1</title>\n",
       "<path d=\"M58.6711,-41C58.6711,-41 43.3319,-41 43.3319,-41 40.6652,-41 37.9985,-38.3333 37.9985,-35.6667 37.9985,-35.6667 37.9985,-30.3333 37.9985,-30.3333 37.9985,-27.6667 40.6652,-25 43.3319,-25 43.3319,-25 58.6711,-25 58.6711,-25 61.3377,-25 64.0044,-27.6667 64.0044,-30.3333 64.0044,-30.3333 64.0044,-35.6667 64.0044,-35.6667 64.0044,-38.3333 61.3377,-41 58.6711,-41\" fill=\"none\" stroke=\"#000000\"/>\n",
       "<text fill=\"#000000\" font-family=\"Courier,monospace\" font-size=\"10.00\" text-anchor=\"start\" x=\"42\" y=\"-30\">q05</text>\n",
       "</g>\n",
       "<!-- _START&#45;&gt;1 -->\n",
       "<g class=\"edge\" id=\"edge1\">\n",
       "<title>_START-&gt;1</title>\n",
       "<path d=\"M1.0672,-33C4.1772,-33 19.4906,-33 32.349,-33\" fill=\"none\" stroke=\"#000000\"/>\n",
       "<polygon fill=\"#000000\" points=\"37.6667,-33 32.6668,-35.2501 35.1667,-33 32.6667,-33.0001 32.6667,-33.0001 32.6667,-33.0001 35.1667,-33 32.6667,-30.7501 37.6667,-33 37.6667,-33\" stroke=\"#000000\"/>\n",
       "</g>\n",
       "<!-- 0 -->\n",
       "<g class=\"node\" id=\"node2\">\n",
       "<title>0</title>\n",
       "<path d=\"M207.6766,-62C207.6766,-62 192.3381,-62 192.3381,-62 189.6714,-62 187.0047,-59.3333 187.0047,-56.6667 187.0047,-56.6667 187.0047,-51.3333 187.0047,-51.3333 187.0047,-48.6667 189.6714,-46 192.3381,-46 192.3381,-46 207.6766,-46 207.6766,-46 210.3432,-46 213.0099,-48.6667 213.0099,-51.3333 213.0099,-51.3333 213.0099,-56.6667 213.0099,-56.6667 213.0099,-59.3333 210.3432,-62 207.6766,-62\" fill=\"none\" stroke=\"#000000\"/>\n",
       "<path d=\"M209.0103,-66C209.0103,-66 191.0044,-66 191.0044,-66 187.0044,-66 183.0044,-62 183.0044,-58 183.0044,-58 183.0044,-50 183.0044,-50 183.0044,-46 187.0044,-42 191.0044,-42 191.0044,-42 209.0103,-42 209.0103,-42 213.0103,-42 217.0103,-46 217.0103,-50 217.0103,-50 217.0103,-58 217.0103,-58 217.0103,-62 213.0103,-66 209.0103,-66\" fill=\"none\" stroke=\"#000000\"/>\n",
       "<text fill=\"#000000\" font-family=\"Courier,monospace\" font-size=\"10.00\" text-anchor=\"start\" x=\"191.0059\" y=\"-51\">q02</text>\n",
       "</g>\n",
       "<!-- 3 -->\n",
       "<g class=\"node\" id=\"node5\">\n",
       "<title>3</title>\n",
       "<path d=\"M130.674,-62C130.674,-62 115.3348,-62 115.3348,-62 112.6681,-62 110.0015,-59.3333 110.0015,-56.6667 110.0015,-56.6667 110.0015,-51.3333 110.0015,-51.3333 110.0015,-48.6667 112.6681,-46 115.3348,-46 115.3348,-46 130.674,-46 130.674,-46 133.3407,-46 136.0073,-48.6667 136.0073,-51.3333 136.0073,-51.3333 136.0073,-56.6667 136.0073,-56.6667 136.0073,-59.3333 133.3407,-62 130.674,-62\" fill=\"none\" stroke=\"#000000\"/>\n",
       "<text fill=\"#000000\" font-family=\"Courier,monospace\" font-size=\"10.00\" text-anchor=\"start\" x=\"114.0029\" y=\"-51\">q01</text>\n",
       "</g>\n",
       "<!-- 1&#45;&gt;3 -->\n",
       "<g class=\"edge\" id=\"edge5\">\n",
       "<title>1-&gt;3</title>\n",
       "<path d=\"M64.2079,-36.8517C75.6771,-40.1968 92.3897,-45.0711 105.0678,-48.7687\" fill=\"none\" stroke=\"#000000\"/>\n",
       "<polygon fill=\"#000000\" points=\"109.8817,-50.1727 104.4516,-50.9327 107.4817,-49.4727 105.0817,-48.7727 105.0817,-48.7727 105.0817,-48.7727 107.4817,-49.4727 105.7117,-46.6127 109.8817,-50.1727 109.8817,-50.1727\" stroke=\"#000000\"/>\n",
       "<text fill=\"#000000\" font-family=\"Courier,monospace\" font-size=\"9.00\" text-anchor=\"start\" x=\"84.9155\" y=\"-49.8\">ε</text>\n",
       "</g>\n",
       "<!-- 4 -->\n",
       "<g class=\"node\" id=\"node6\">\n",
       "<title>4</title>\n",
       "<path d=\"M130.674,-21C130.674,-21 115.3348,-21 115.3348,-21 112.6681,-21 110.0015,-18.3333 110.0015,-15.6667 110.0015,-15.6667 110.0015,-10.3333 110.0015,-10.3333 110.0015,-7.6667 112.6681,-5 115.3348,-5 115.3348,-5 130.674,-5 130.674,-5 133.3407,-5 136.0073,-7.6667 136.0073,-10.3333 136.0073,-10.3333 136.0073,-15.6667 136.0073,-15.6667 136.0073,-18.3333 133.3407,-21 130.674,-21\" fill=\"none\" stroke=\"#000000\"/>\n",
       "<text fill=\"#000000\" font-family=\"Courier,monospace\" font-size=\"10.00\" text-anchor=\"start\" x=\"114.0029\" y=\"-10\">q03</text>\n",
       "</g>\n",
       "<!-- 1&#45;&gt;4 -->\n",
       "<g class=\"edge\" id=\"edge4\">\n",
       "<title>1-&gt;4</title>\n",
       "<path d=\"M62.8408,-24.9414C68.4104,-21.571 75.2921,-17.983 82.0029,-16 89.2028,-13.8725 97.4082,-12.9869 104.5773,-12.6817\" fill=\"none\" stroke=\"#000000\"/>\n",
       "<polygon fill=\"#000000\" points=\"109.8237,-12.5506 104.8816,-14.9249 107.3245,-12.6131 104.8253,-12.6756 104.8253,-12.6756 104.8253,-12.6756 107.3245,-12.6131 104.769,-10.4263 109.8237,-12.5506 109.8237,-12.5506\" stroke=\"#000000\"/>\n",
       "<text fill=\"#000000\" font-family=\"Courier,monospace\" font-size=\"9.00\" text-anchor=\"start\" x=\"84.9155\" y=\"-21.8\">ε</text>\n",
       "</g>\n",
       "<!-- 2 -->\n",
       "<g class=\"node\" id=\"node4\">\n",
       "<title>2</title>\n",
       "<path d=\"M207.6766,-20C207.6766,-20 192.3381,-20 192.3381,-20 189.6714,-20 187.0047,-17.3333 187.0047,-14.6667 187.0047,-14.6667 187.0047,-9.3333 187.0047,-9.3333 187.0047,-6.6667 189.6714,-4 192.3381,-4 192.3381,-4 207.6766,-4 207.6766,-4 210.3432,-4 213.0099,-6.6667 213.0099,-9.3333 213.0099,-9.3333 213.0099,-14.6667 213.0099,-14.6667 213.0099,-17.3333 210.3432,-20 207.6766,-20\" fill=\"none\" stroke=\"#000000\"/>\n",
       "<path d=\"M209.0103,-24C209.0103,-24 191.0044,-24 191.0044,-24 187.0044,-24 183.0044,-20 183.0044,-16 183.0044,-16 183.0044,-8 183.0044,-8 183.0044,-4 187.0044,0 191.0044,0 191.0044,0 209.0103,0 209.0103,0 213.0103,0 217.0103,-4 217.0103,-8 217.0103,-8 217.0103,-16 217.0103,-16 217.0103,-20 213.0103,-24 209.0103,-24\" fill=\"none\" stroke=\"#000000\"/>\n",
       "<text fill=\"#000000\" font-family=\"Courier,monospace\" font-size=\"10.00\" text-anchor=\"start\" x=\"191.0059\" y=\"-9\">q04</text>\n",
       "</g>\n",
       "<!-- 3&#45;&gt;0 -->\n",
       "<g class=\"edge\" id=\"edge3\">\n",
       "<title>3-&gt;0</title>\n",
       "<path d=\"M136.0669,-54C147.431,-54 164.147,-54 177.6375,-54\" fill=\"none\" stroke=\"#000000\"/>\n",
       "<polygon fill=\"#000000\" points=\"182.8192,-54 177.8193,-56.2501 180.3192,-54 177.8192,-54.0001 177.8192,-54.0001 177.8192,-54.0001 180.3192,-54 177.8192,-51.7501 182.8192,-54 182.8192,-54\" stroke=\"#000000\"/>\n",
       "<text fill=\"#000000\" font-family=\"Courier,monospace\" font-size=\"9.00\" text-anchor=\"start\" x=\"157.3054\" y=\"-58.3\">a</text>\n",
       "</g>\n",
       "<!-- 4&#45;&gt;2 -->\n",
       "<g class=\"edge\" id=\"edge2\">\n",
       "<title>4-&gt;2</title>\n",
       "<path d=\"M136.0669,-12.8304C147.431,-12.6828 164.147,-12.4657 177.6375,-12.2905\" fill=\"none\" stroke=\"#000000\"/>\n",
       "<polygon fill=\"#000000\" points=\"182.8192,-12.2232 177.8489,-14.538 180.3194,-12.2557 177.8196,-12.2882 177.8196,-12.2882 177.8196,-12.2882 180.3194,-12.2557 177.7904,-10.0384 182.8192,-12.2232 182.8192,-12.2232\" stroke=\"#000000\"/>\n",
       "<text fill=\"#000000\" font-family=\"Courier,monospace\" font-size=\"9.00\" text-anchor=\"start\" x=\"157.3054\" y=\"-16.3\">b</text>\n",
       "</g>\n",
       "</g>\n",
       "</svg>"
      ],
      "text/plain": [
       "<IPython.core.display.SVG object>"
      ]
     },
     "metadata": {},
     "output_type": "display_data"
    },
    {
     "data": {
      "text/html": [
       "subexpression: (a|b)*"
      ],
      "text/plain": [
       "<IPython.core.display.HTML object>"
      ]
     },
     "metadata": {},
     "output_type": "display_data"
    },
    {
     "data": {
      "image/svg+xml": [
       "<svg height=\"123pt\" viewBox=\"0.00 0.00 305.01 123.35\" width=\"305pt\" xmlns=\"http://www.w3.org/2000/svg\" xmlns:xlink=\"http://www.w3.org/1999/xlink\">\n",
       "<g class=\"graph\" id=\"graph0\" transform=\"scale(1 1) rotate(0) translate(4 119.346)\">\n",
       "<title>%3</title>\n",
       "<polygon fill=\"#ffffff\" points=\"-4,4 -4,-119.346 301.0117,-119.346 301.0117,4 -4,4\" stroke=\"transparent\"/>\n",
       "<!-- _START -->\n",
       "<g class=\"node\" id=\"node1\">\n",
       "<title>_START</title>\n",
       "</g>\n",
       "<!-- 3 -->\n",
       "<g class=\"node\" id=\"node5\">\n",
       "<title>3</title>\n",
       "<path d=\"M62.6707,-61.346C62.6707,-61.346 47.3322,-61.346 47.3322,-61.346 44.6655,-61.346 41.9989,-58.6793 41.9989,-56.0127 41.9989,-56.0127 41.9989,-50.6793 41.9989,-50.6793 41.9989,-48.0127 44.6655,-45.346 47.3322,-45.346 47.3322,-45.346 62.6707,-45.346 62.6707,-45.346 65.3374,-45.346 68.004,-48.0127 68.004,-50.6793 68.004,-50.6793 68.004,-56.0127 68.004,-56.0127 68.004,-58.6793 65.3374,-61.346 62.6707,-61.346\" fill=\"none\" stroke=\"#000000\"/>\n",
       "<path d=\"M64.0044,-65.346C64.0044,-65.346 45.9985,-65.346 45.9985,-65.346 41.9985,-65.346 37.9985,-61.346 37.9985,-57.346 37.9985,-57.346 37.9985,-49.346 37.9985,-49.346 37.9985,-45.346 41.9985,-41.346 45.9985,-41.346 45.9985,-41.346 64.0044,-41.346 64.0044,-41.346 68.0044,-41.346 72.0044,-45.346 72.0044,-49.346 72.0044,-49.346 72.0044,-57.346 72.0044,-57.346 72.0044,-61.346 68.0044,-65.346 64.0044,-65.346\" fill=\"none\" stroke=\"#000000\"/>\n",
       "<text fill=\"#000000\" font-family=\"Courier,monospace\" font-size=\"10.00\" text-anchor=\"start\" x=\"46\" y=\"-50.346\">q06</text>\n",
       "</g>\n",
       "<!-- _START&#45;&gt;3 -->\n",
       "<g class=\"edge\" id=\"edge1\">\n",
       "<title>_START-&gt;3</title>\n",
       "<path d=\"M1.1121,-53.346C4.292,-53.346 19.2929,-53.346 32.6625,-53.346\" fill=\"none\" stroke=\"#000000\"/>\n",
       "<polygon fill=\"#000000\" points=\"37.869,-53.346 32.8691,-55.5961 35.369,-53.346 32.869,-53.3461 32.869,-53.3461 32.869,-53.3461 35.369,-53.346 32.869,-51.0961 37.869,-53.346 37.869,-53.346\" stroke=\"#000000\"/>\n",
       "</g>\n",
       "<!-- 0 -->\n",
       "<g class=\"node\" id=\"node2\">\n",
       "<title>0</title>\n",
       "<path d=\"M287.6795,-92.346C287.6795,-92.346 272.341,-92.346 272.341,-92.346 269.6743,-92.346 267.0077,-89.6793 267.0077,-87.0127 267.0077,-87.0127 267.0077,-81.6793 267.0077,-81.6793 267.0077,-79.0127 269.6743,-76.346 272.341,-76.346 272.341,-76.346 287.6795,-76.346 287.6795,-76.346 290.3462,-76.346 293.0128,-79.0127 293.0128,-81.6793 293.0128,-81.6793 293.0128,-87.0127 293.0128,-87.0127 293.0128,-89.6793 290.3462,-92.346 287.6795,-92.346\" fill=\"none\" stroke=\"#000000\"/>\n",
       "<path d=\"M289.0132,-96.346C289.0132,-96.346 271.0073,-96.346 271.0073,-96.346 267.0073,-96.346 263.0073,-92.346 263.0073,-88.346 263.0073,-88.346 263.0073,-80.346 263.0073,-80.346 263.0073,-76.346 267.0073,-72.346 271.0073,-72.346 271.0073,-72.346 289.0132,-72.346 289.0132,-72.346 293.0132,-72.346 297.0132,-76.346 297.0132,-80.346 297.0132,-80.346 297.0132,-88.346 297.0132,-88.346 297.0132,-92.346 293.0132,-96.346 289.0132,-96.346\" fill=\"none\" stroke=\"#000000\"/>\n",
       "<text fill=\"#000000\" font-family=\"Courier,monospace\" font-size=\"10.00\" text-anchor=\"start\" x=\"271.0088\" y=\"-81.346\">q02</text>\n",
       "</g>\n",
       "<!-- 2 -->\n",
       "<g class=\"node\" id=\"node4\">\n",
       "<title>2</title>\n",
       "<path d=\"M138.674,-61.346C138.674,-61.346 123.3348,-61.346 123.3348,-61.346 120.6681,-61.346 118.0015,-58.6793 118.0015,-56.0127 118.0015,-56.0127 118.0015,-50.6793 118.0015,-50.6793 118.0015,-48.0127 120.6681,-45.346 123.3348,-45.346 123.3348,-45.346 138.674,-45.346 138.674,-45.346 141.3407,-45.346 144.0073,-48.0127 144.0073,-50.6793 144.0073,-50.6793 144.0073,-56.0127 144.0073,-56.0127 144.0073,-58.6793 141.3407,-61.346 138.674,-61.346\" fill=\"none\" stroke=\"#000000\"/>\n",
       "<text fill=\"#000000\" font-family=\"Courier,monospace\" font-size=\"10.00\" text-anchor=\"start\" x=\"122.0029\" y=\"-50.346\">q05</text>\n",
       "</g>\n",
       "<!-- 0&#45;&gt;2 -->\n",
       "<g class=\"edge\" id=\"edge2\">\n",
       "<title>0-&gt;2</title>\n",
       "<path d=\"M262.8562,-91.4878C257.2663,-93.4717 250.9651,-95.3533 245.0088,-96.346 208.1769,-102.4844 195.2324,-100.3832 162.0059,-83.346 153.7751,-79.1256 146.2707,-71.9953 140.7075,-65.7449\" fill=\"none\" stroke=\"#000000\"/>\n",
       "<polygon fill=\"#000000\" points=\"137.181,-61.6049 142.1361,-63.9522 138.8021,-63.508 140.4233,-65.4112 140.4233,-65.4112 140.4233,-65.4112 138.8021,-63.508 138.7104,-66.8702 137.181,-61.6049 137.181,-61.6049\" stroke=\"#000000\"/>\n",
       "<text fill=\"#000000\" font-family=\"Courier,monospace\" font-size=\"9.00\" text-anchor=\"start\" x=\"200.9199\" y=\"-105.146\">ε</text>\n",
       "</g>\n",
       "<!-- 1 -->\n",
       "<g class=\"node\" id=\"node3\">\n",
       "<title>1</title>\n",
       "<path d=\"M210.6769,-79.346C210.6769,-79.346 195.3377,-79.346 195.3377,-79.346 192.6711,-79.346 190.0044,-76.6793 190.0044,-74.0127 190.0044,-74.0127 190.0044,-68.6793 190.0044,-68.6793 190.0044,-66.0127 192.6711,-63.346 195.3377,-63.346 195.3377,-63.346 210.6769,-63.346 210.6769,-63.346 213.3436,-63.346 216.0103,-66.0127 216.0103,-68.6793 216.0103,-68.6793 216.0103,-74.0127 216.0103,-74.0127 216.0103,-76.6793 213.3436,-79.346 210.6769,-79.346\" fill=\"none\" stroke=\"#000000\"/>\n",
       "<text fill=\"#000000\" font-family=\"Courier,monospace\" font-size=\"10.00\" text-anchor=\"start\" x=\"194.0059\" y=\"-68.346\">q01</text>\n",
       "</g>\n",
       "<!-- 1&#45;&gt;0 -->\n",
       "<g class=\"edge\" id=\"edge4\">\n",
       "<title>1-&gt;0</title>\n",
       "<path d=\"M216.0698,-73.5513C227.4339,-75.4698 244.15,-78.2919 257.6404,-80.5694\" fill=\"none\" stroke=\"#000000\"/>\n",
       "<polygon fill=\"#000000\" points=\"262.8221,-81.4442 257.5173,-82.8304 260.357,-81.028 257.8919,-80.6118 257.8919,-80.6118 257.8919,-80.6118 260.357,-81.028 258.2665,-78.3932 262.8221,-81.4442 262.8221,-81.4442\" stroke=\"#000000\"/>\n",
       "<text fill=\"#000000\" font-family=\"Courier,monospace\" font-size=\"9.00\" text-anchor=\"start\" x=\"237.3083\" y=\"-81.646\">a</text>\n",
       "</g>\n",
       "<!-- 2&#45;&gt;1 -->\n",
       "<g class=\"edge\" id=\"edge8\">\n",
       "<title>2-&gt;1</title>\n",
       "<path d=\"M144.2108,-56.6475C155.5785,-59.4893 172.0972,-63.6188 184.7332,-66.7777\" fill=\"none\" stroke=\"#000000\"/>\n",
       "<polygon fill=\"#000000\" points=\"189.8846,-68.0654 184.4882,-69.0356 187.4592,-67.4591 185.0339,-66.8527 185.0339,-66.8527 185.0339,-66.8527 187.4592,-67.4591 185.5796,-64.6699 189.8846,-68.0654 189.8846,-68.0654\" stroke=\"#000000\"/>\n",
       "<text fill=\"#000000\" font-family=\"Courier,monospace\" font-size=\"9.00\" text-anchor=\"start\" x=\"164.9185\" y=\"-69.146\">ε</text>\n",
       "</g>\n",
       "<!-- 4 -->\n",
       "<g class=\"node\" id=\"node6\">\n",
       "<title>4</title>\n",
       "<path d=\"M210.6769,-44.346C210.6769,-44.346 195.3377,-44.346 195.3377,-44.346 192.6711,-44.346 190.0044,-41.6793 190.0044,-39.0127 190.0044,-39.0127 190.0044,-33.6793 190.0044,-33.6793 190.0044,-31.0127 192.6711,-28.346 195.3377,-28.346 195.3377,-28.346 210.6769,-28.346 210.6769,-28.346 213.3436,-28.346 216.0103,-31.0127 216.0103,-33.6793 216.0103,-33.6793 216.0103,-39.0127 216.0103,-39.0127 216.0103,-41.6793 213.3436,-44.346 210.6769,-44.346\" fill=\"none\" stroke=\"#000000\"/>\n",
       "<text fill=\"#000000\" font-family=\"Courier,monospace\" font-size=\"10.00\" text-anchor=\"start\" x=\"194.0059\" y=\"-33.346\">q03</text>\n",
       "</g>\n",
       "<!-- 2&#45;&gt;4 -->\n",
       "<g class=\"edge\" id=\"edge7\">\n",
       "<title>2-&gt;4</title>\n",
       "<path d=\"M141.5678,-45.3363C147.2897,-41.5007 154.6741,-37.3201 162.0059,-35.346 169.2381,-33.3986 177.4493,-33.2204 184.6139,-33.6862\" fill=\"none\" stroke=\"#000000\"/>\n",
       "<polygon fill=\"#000000\" points=\"189.8553,-34.1494 184.6766,-35.9505 187.365,-33.9293 184.8747,-33.7092 184.8747,-33.7092 184.8747,-33.7092 187.365,-33.9293 185.0728,-31.4679 189.8553,-34.1494 189.8553,-34.1494\" stroke=\"#000000\"/>\n",
       "<text fill=\"#000000\" font-family=\"Courier,monospace\" font-size=\"9.00\" text-anchor=\"start\" x=\"164.9185\" y=\"-41.146\">ε</text>\n",
       "</g>\n",
       "<!-- 3&#45;&gt;2 -->\n",
       "<g class=\"edge\" id=\"edge5\">\n",
       "<title>3-&gt;2</title>\n",
       "<path d=\"M72.2477,-53.346C84.3576,-53.346 100.5238,-53.346 112.8334,-53.346\" fill=\"none\" stroke=\"#000000\"/>\n",
       "<polygon fill=\"#000000\" points=\"117.8498,-53.346 112.8498,-55.5961 115.3498,-53.346 112.8498,-53.3461 112.8498,-53.3461 112.8498,-53.3461 115.3498,-53.346 112.8497,-51.0961 117.8498,-53.346 117.8498,-53.346\" stroke=\"#000000\"/>\n",
       "<text fill=\"#000000\" font-family=\"Courier,monospace\" font-size=\"9.00\" text-anchor=\"start\" x=\"92.9155\" y=\"-59.146\">ε</text>\n",
       "</g>\n",
       "<!-- 5 -->\n",
       "<g class=\"node\" id=\"node7\">\n",
       "<title>5</title>\n",
       "<path d=\"M287.6795,-33.346C287.6795,-33.346 272.341,-33.346 272.341,-33.346 269.6743,-33.346 267.0077,-30.6793 267.0077,-28.0127 267.0077,-28.0127 267.0077,-22.6793 267.0077,-22.6793 267.0077,-20.0127 269.6743,-17.346 272.341,-17.346 272.341,-17.346 287.6795,-17.346 287.6795,-17.346 290.3462,-17.346 293.0128,-20.0127 293.0128,-22.6793 293.0128,-22.6793 293.0128,-28.0127 293.0128,-28.0127 293.0128,-30.6793 290.3462,-33.346 287.6795,-33.346\" fill=\"none\" stroke=\"#000000\"/>\n",
       "<path d=\"M289.0132,-37.346C289.0132,-37.346 271.0073,-37.346 271.0073,-37.346 267.0073,-37.346 263.0073,-33.346 263.0073,-29.346 263.0073,-29.346 263.0073,-21.346 263.0073,-21.346 263.0073,-17.346 267.0073,-13.346 271.0073,-13.346 271.0073,-13.346 289.0132,-13.346 289.0132,-13.346 293.0132,-13.346 297.0132,-17.346 297.0132,-21.346 297.0132,-21.346 297.0132,-29.346 297.0132,-29.346 297.0132,-33.346 293.0132,-37.346 289.0132,-37.346\" fill=\"none\" stroke=\"#000000\"/>\n",
       "<text fill=\"#000000\" font-family=\"Courier,monospace\" font-size=\"10.00\" text-anchor=\"start\" x=\"271.0088\" y=\"-22.346\">q04</text>\n",
       "</g>\n",
       "<!-- 4&#45;&gt;5 -->\n",
       "<g class=\"edge\" id=\"edge3\">\n",
       "<title>4-&gt;5</title>\n",
       "<path d=\"M216.0698,-34.48C227.4339,-32.8566 244.15,-30.4687 257.6404,-28.5416\" fill=\"none\" stroke=\"#000000\"/>\n",
       "<polygon fill=\"#000000\" points=\"262.8221,-27.8013 258.1906,-30.7359 260.3473,-28.1549 257.8724,-28.5085 257.8724,-28.5085 257.8724,-28.5085 260.3473,-28.1549 257.5542,-26.2811 262.8221,-27.8013 262.8221,-27.8013\" stroke=\"#000000\"/>\n",
       "<text fill=\"#000000\" font-family=\"Courier,monospace\" font-size=\"9.00\" text-anchor=\"start\" x=\"237.3083\" y=\"-35.646\">b</text>\n",
       "</g>\n",
       "<!-- 5&#45;&gt;2 -->\n",
       "<g class=\"edge\" id=\"edge6\">\n",
       "<title>5-&gt;2</title>\n",
       "<path d=\"M262.7522,-15.171C244.3802,-5.7058 214.6225,5.6817 190.0059,-3.346 169.3934,-10.9052 151.0413,-29.2068 140.4714,-41.4437\" fill=\"none\" stroke=\"#000000\"/>\n",
       "<polygon fill=\"#000000\" points=\"137.1932,-45.3368 138.6927,-40.0629 138.8035,-43.4245 140.4138,-41.5122 140.4138,-41.5122 140.4138,-41.5122 138.8035,-43.4245 142.1349,-42.9614 137.1932,-45.3368 137.1932,-45.3368\" stroke=\"#000000\"/>\n",
       "<text fill=\"#000000\" font-family=\"Courier,monospace\" font-size=\"9.00\" text-anchor=\"start\" x=\"200.9199\" y=\"-9.146\">ε</text>\n",
       "</g>\n",
       "</g>\n",
       "</svg>"
      ],
      "text/plain": [
       "<IPython.core.display.SVG object>"
      ]
     },
     "metadata": {},
     "output_type": "display_data"
    },
    {
     "data": {
      "text/html": [
       "subexpression: a"
      ],
      "text/plain": [
       "<IPython.core.display.HTML object>"
      ]
     },
     "metadata": {},
     "output_type": "display_data"
    },
    {
     "data": {
      "image/svg+xml": [
       "<svg height=\"35pt\" viewBox=\"0.00 0.00 153.01 35.00\" width=\"153pt\" xmlns=\"http://www.w3.org/2000/svg\" xmlns:xlink=\"http://www.w3.org/1999/xlink\">\n",
       "<g class=\"graph\" id=\"graph0\" transform=\"scale(1 1) rotate(0) translate(4 31)\">\n",
       "<title>%3</title>\n",
       "<polygon fill=\"#ffffff\" points=\"-4,4 -4,-31 149.0059,-31 149.0059,4 -4,4\" stroke=\"transparent\"/>\n",
       "<!-- _START -->\n",
       "<g class=\"node\" id=\"node1\">\n",
       "<title>_START</title>\n",
       "</g>\n",
       "<!-- 1 -->\n",
       "<g class=\"node\" id=\"node3\">\n",
       "<title>1</title>\n",
       "<path d=\"M58.6711,-20C58.6711,-20 43.3319,-20 43.3319,-20 40.6652,-20 37.9985,-17.3333 37.9985,-14.6667 37.9985,-14.6667 37.9985,-9.3333 37.9985,-9.3333 37.9985,-6.6667 40.6652,-4 43.3319,-4 43.3319,-4 58.6711,-4 58.6711,-4 61.3377,-4 64.0044,-6.6667 64.0044,-9.3333 64.0044,-9.3333 64.0044,-14.6667 64.0044,-14.6667 64.0044,-17.3333 61.3377,-20 58.6711,-20\" fill=\"none\" stroke=\"#000000\"/>\n",
       "<text fill=\"#000000\" font-family=\"Courier,monospace\" font-size=\"10.00\" text-anchor=\"start\" x=\"42\" y=\"-9\">q07</text>\n",
       "</g>\n",
       "<!-- _START&#45;&gt;1 -->\n",
       "<g class=\"edge\" id=\"edge1\">\n",
       "<title>_START-&gt;1</title>\n",
       "<path d=\"M1.0672,-12C4.1772,-12 19.4906,-12 32.349,-12\" fill=\"none\" stroke=\"#000000\"/>\n",
       "<polygon fill=\"#000000\" points=\"37.6667,-12 32.6668,-14.2501 35.1667,-12 32.6667,-12.0001 32.6667,-12.0001 32.6667,-12.0001 35.1667,-12 32.6667,-9.7501 37.6667,-12 37.6667,-12\" stroke=\"#000000\"/>\n",
       "</g>\n",
       "<!-- 0 -->\n",
       "<g class=\"node\" id=\"node2\">\n",
       "<title>0</title>\n",
       "<path d=\"M135.6736,-20C135.6736,-20 120.3351,-20 120.3351,-20 117.6685,-20 115.0018,-17.3333 115.0018,-14.6667 115.0018,-14.6667 115.0018,-9.3333 115.0018,-9.3333 115.0018,-6.6667 117.6685,-4 120.3351,-4 120.3351,-4 135.6736,-4 135.6736,-4 138.3403,-4 141.007,-6.6667 141.007,-9.3333 141.007,-9.3333 141.007,-14.6667 141.007,-14.6667 141.007,-17.3333 138.3403,-20 135.6736,-20\" fill=\"none\" stroke=\"#000000\"/>\n",
       "<path d=\"M137.0073,-24C137.0073,-24 119.0015,-24 119.0015,-24 115.0015,-24 111.0015,-20 111.0015,-16 111.0015,-16 111.0015,-8 111.0015,-8 111.0015,-4 115.0015,0 119.0015,0 119.0015,0 137.0073,0 137.0073,0 141.0073,0 145.0073,-4 145.0073,-8 145.0073,-8 145.0073,-16 145.0073,-16 145.0073,-20 141.0073,-24 137.0073,-24\" fill=\"none\" stroke=\"#000000\"/>\n",
       "<text fill=\"#000000\" font-family=\"Courier,monospace\" font-size=\"10.00\" text-anchor=\"start\" x=\"119.0029\" y=\"-9\">q08</text>\n",
       "</g>\n",
       "<!-- 1&#45;&gt;0 -->\n",
       "<g class=\"edge\" id=\"edge2\">\n",
       "<title>1-&gt;0</title>\n",
       "<path d=\"M64.064,-12C75.4281,-12 92.1441,-12 105.6346,-12\" fill=\"none\" stroke=\"#000000\"/>\n",
       "<polygon fill=\"#000000\" points=\"110.8163,-12 105.8163,-14.2501 108.3163,-12 105.8163,-12.0001 105.8163,-12.0001 105.8163,-12.0001 108.3163,-12 105.8162,-9.7501 110.8163,-12 110.8163,-12\" stroke=\"#000000\"/>\n",
       "<text fill=\"#000000\" font-family=\"Courier,monospace\" font-size=\"9.00\" text-anchor=\"start\" x=\"85.3025\" y=\"-16.3\">a</text>\n",
       "</g>\n",
       "</g>\n",
       "</svg>"
      ],
      "text/plain": [
       "<IPython.core.display.SVG object>"
      ]
     },
     "metadata": {},
     "output_type": "display_data"
    },
    {
     "data": {
      "text/html": [
       "subexpression: b"
      ],
      "text/plain": [
       "<IPython.core.display.HTML object>"
      ]
     },
     "metadata": {},
     "output_type": "display_data"
    },
    {
     "data": {
      "image/svg+xml": [
       "<svg height=\"35pt\" viewBox=\"0.00 0.00 153.01 35.00\" width=\"153pt\" xmlns=\"http://www.w3.org/2000/svg\" xmlns:xlink=\"http://www.w3.org/1999/xlink\">\n",
       "<g class=\"graph\" id=\"graph0\" transform=\"scale(1 1) rotate(0) translate(4 31)\">\n",
       "<title>%3</title>\n",
       "<polygon fill=\"#ffffff\" points=\"-4,4 -4,-31 149.0059,-31 149.0059,4 -4,4\" stroke=\"transparent\"/>\n",
       "<!-- _START -->\n",
       "<g class=\"node\" id=\"node1\">\n",
       "<title>_START</title>\n",
       "</g>\n",
       "<!-- 0 -->\n",
       "<g class=\"node\" id=\"node2\">\n",
       "<title>0</title>\n",
       "<path d=\"M58.6711,-20C58.6711,-20 43.3319,-20 43.3319,-20 40.6652,-20 37.9985,-17.3333 37.9985,-14.6667 37.9985,-14.6667 37.9985,-9.3333 37.9985,-9.3333 37.9985,-6.6667 40.6652,-4 43.3319,-4 43.3319,-4 58.6711,-4 58.6711,-4 61.3377,-4 64.0044,-6.6667 64.0044,-9.3333 64.0044,-9.3333 64.0044,-14.6667 64.0044,-14.6667 64.0044,-17.3333 61.3377,-20 58.6711,-20\" fill=\"none\" stroke=\"#000000\"/>\n",
       "<text fill=\"#000000\" font-family=\"Courier,monospace\" font-size=\"10.00\" text-anchor=\"start\" x=\"42\" y=\"-9\">q09</text>\n",
       "</g>\n",
       "<!-- _START&#45;&gt;0 -->\n",
       "<g class=\"edge\" id=\"edge1\">\n",
       "<title>_START-&gt;0</title>\n",
       "<path d=\"M1.0672,-12C4.1772,-12 19.4906,-12 32.349,-12\" fill=\"none\" stroke=\"#000000\"/>\n",
       "<polygon fill=\"#000000\" points=\"37.6667,-12 32.6668,-14.2501 35.1667,-12 32.6667,-12.0001 32.6667,-12.0001 32.6667,-12.0001 35.1667,-12 32.6667,-9.7501 37.6667,-12 37.6667,-12\" stroke=\"#000000\"/>\n",
       "</g>\n",
       "<!-- 1 -->\n",
       "<g class=\"node\" id=\"node3\">\n",
       "<title>1</title>\n",
       "<path d=\"M135.6736,-20C135.6736,-20 120.3351,-20 120.3351,-20 117.6685,-20 115.0018,-17.3333 115.0018,-14.6667 115.0018,-14.6667 115.0018,-9.3333 115.0018,-9.3333 115.0018,-6.6667 117.6685,-4 120.3351,-4 120.3351,-4 135.6736,-4 135.6736,-4 138.3403,-4 141.007,-6.6667 141.007,-9.3333 141.007,-9.3333 141.007,-14.6667 141.007,-14.6667 141.007,-17.3333 138.3403,-20 135.6736,-20\" fill=\"none\" stroke=\"#000000\"/>\n",
       "<path d=\"M137.0073,-24C137.0073,-24 119.0015,-24 119.0015,-24 115.0015,-24 111.0015,-20 111.0015,-16 111.0015,-16 111.0015,-8 111.0015,-8 111.0015,-4 115.0015,0 119.0015,0 119.0015,0 137.0073,0 137.0073,0 141.0073,0 145.0073,-4 145.0073,-8 145.0073,-8 145.0073,-16 145.0073,-16 145.0073,-20 141.0073,-24 137.0073,-24\" fill=\"none\" stroke=\"#000000\"/>\n",
       "<text fill=\"#000000\" font-family=\"Courier,monospace\" font-size=\"10.00\" text-anchor=\"start\" x=\"119.0029\" y=\"-9\">q10</text>\n",
       "</g>\n",
       "<!-- 0&#45;&gt;1 -->\n",
       "<g class=\"edge\" id=\"edge2\">\n",
       "<title>0-&gt;1</title>\n",
       "<path d=\"M64.064,-12C75.4281,-12 92.1441,-12 105.6346,-12\" fill=\"none\" stroke=\"#000000\"/>\n",
       "<polygon fill=\"#000000\" points=\"110.8163,-12 105.8163,-14.2501 108.3163,-12 105.8163,-12.0001 105.8163,-12.0001 105.8163,-12.0001 108.3163,-12 105.8162,-9.7501 110.8163,-12 110.8163,-12\" stroke=\"#000000\"/>\n",
       "<text fill=\"#000000\" font-family=\"Courier,monospace\" font-size=\"9.00\" text-anchor=\"start\" x=\"85.3025\" y=\"-16.3\">b</text>\n",
       "</g>\n",
       "</g>\n",
       "</svg>"
      ],
      "text/plain": [
       "<IPython.core.display.SVG object>"
      ]
     },
     "metadata": {},
     "output_type": "display_data"
    },
    {
     "data": {
      "text/html": [
       "subexpression: a"
      ],
      "text/plain": [
       "<IPython.core.display.HTML object>"
      ]
     },
     "metadata": {},
     "output_type": "display_data"
    },
    {
     "data": {
      "image/svg+xml": [
       "<svg height=\"35pt\" viewBox=\"0.00 0.00 153.01 35.00\" width=\"153pt\" xmlns=\"http://www.w3.org/2000/svg\" xmlns:xlink=\"http://www.w3.org/1999/xlink\">\n",
       "<g class=\"graph\" id=\"graph0\" transform=\"scale(1 1) rotate(0) translate(4 31)\">\n",
       "<title>%3</title>\n",
       "<polygon fill=\"#ffffff\" points=\"-4,4 -4,-31 149.0059,-31 149.0059,4 -4,4\" stroke=\"transparent\"/>\n",
       "<!-- _START -->\n",
       "<g class=\"node\" id=\"node1\">\n",
       "<title>_START</title>\n",
       "</g>\n",
       "<!-- 0 -->\n",
       "<g class=\"node\" id=\"node2\">\n",
       "<title>0</title>\n",
       "<path d=\"M58.6711,-20C58.6711,-20 43.3319,-20 43.3319,-20 40.6652,-20 37.9985,-17.3333 37.9985,-14.6667 37.9985,-14.6667 37.9985,-9.3333 37.9985,-9.3333 37.9985,-6.6667 40.6652,-4 43.3319,-4 43.3319,-4 58.6711,-4 58.6711,-4 61.3377,-4 64.0044,-6.6667 64.0044,-9.3333 64.0044,-9.3333 64.0044,-14.6667 64.0044,-14.6667 64.0044,-17.3333 61.3377,-20 58.6711,-20\" fill=\"none\" stroke=\"#000000\"/>\n",
       "<text fill=\"#000000\" font-family=\"Courier,monospace\" font-size=\"10.00\" text-anchor=\"start\" x=\"42\" y=\"-9\">q11</text>\n",
       "</g>\n",
       "<!-- _START&#45;&gt;0 -->\n",
       "<g class=\"edge\" id=\"edge1\">\n",
       "<title>_START-&gt;0</title>\n",
       "<path d=\"M1.0672,-12C4.1772,-12 19.4906,-12 32.349,-12\" fill=\"none\" stroke=\"#000000\"/>\n",
       "<polygon fill=\"#000000\" points=\"37.6667,-12 32.6668,-14.2501 35.1667,-12 32.6667,-12.0001 32.6667,-12.0001 32.6667,-12.0001 35.1667,-12 32.6667,-9.7501 37.6667,-12 37.6667,-12\" stroke=\"#000000\"/>\n",
       "</g>\n",
       "<!-- 1 -->\n",
       "<g class=\"node\" id=\"node3\">\n",
       "<title>1</title>\n",
       "<path d=\"M135.6736,-20C135.6736,-20 120.3351,-20 120.3351,-20 117.6685,-20 115.0018,-17.3333 115.0018,-14.6667 115.0018,-14.6667 115.0018,-9.3333 115.0018,-9.3333 115.0018,-6.6667 117.6685,-4 120.3351,-4 120.3351,-4 135.6736,-4 135.6736,-4 138.3403,-4 141.007,-6.6667 141.007,-9.3333 141.007,-9.3333 141.007,-14.6667 141.007,-14.6667 141.007,-17.3333 138.3403,-20 135.6736,-20\" fill=\"none\" stroke=\"#000000\"/>\n",
       "<path d=\"M137.0073,-24C137.0073,-24 119.0015,-24 119.0015,-24 115.0015,-24 111.0015,-20 111.0015,-16 111.0015,-16 111.0015,-8 111.0015,-8 111.0015,-4 115.0015,0 119.0015,0 119.0015,0 137.0073,0 137.0073,0 141.0073,0 145.0073,-4 145.0073,-8 145.0073,-8 145.0073,-16 145.0073,-16 145.0073,-20 141.0073,-24 137.0073,-24\" fill=\"none\" stroke=\"#000000\"/>\n",
       "<text fill=\"#000000\" font-family=\"Courier,monospace\" font-size=\"10.00\" text-anchor=\"start\" x=\"119.0029\" y=\"-9\">q12</text>\n",
       "</g>\n",
       "<!-- 0&#45;&gt;1 -->\n",
       "<g class=\"edge\" id=\"edge2\">\n",
       "<title>0-&gt;1</title>\n",
       "<path d=\"M64.064,-12C75.4281,-12 92.1441,-12 105.6346,-12\" fill=\"none\" stroke=\"#000000\"/>\n",
       "<polygon fill=\"#000000\" points=\"110.8163,-12 105.8163,-14.2501 108.3163,-12 105.8163,-12.0001 105.8163,-12.0001 105.8163,-12.0001 108.3163,-12 105.8162,-9.7501 110.8163,-12 110.8163,-12\" stroke=\"#000000\"/>\n",
       "<text fill=\"#000000\" font-family=\"Courier,monospace\" font-size=\"9.00\" text-anchor=\"start\" x=\"85.3025\" y=\"-16.3\">a</text>\n",
       "</g>\n",
       "</g>\n",
       "</svg>"
      ],
      "text/plain": [
       "<IPython.core.display.SVG object>"
      ]
     },
     "metadata": {},
     "output_type": "display_data"
    },
    {
     "data": {
      "text/html": [
       "subexpression: (a|b)* a b a"
      ],
      "text/plain": [
       "<IPython.core.display.HTML object>"
      ]
     },
     "metadata": {},
     "output_type": "display_data"
    },
    {
     "data": {
      "image/svg+xml": [
       "<svg height=\"174pt\" viewBox=\"0.00 0.00 732.03 174.00\" width=\"732pt\" xmlns=\"http://www.w3.org/2000/svg\" xmlns:xlink=\"http://www.w3.org/1999/xlink\">\n",
       "<g class=\"graph\" id=\"graph0\" transform=\"scale(1 1) rotate(0) translate(4 170)\">\n",
       "<title>%3</title>\n",
       "<polygon fill=\"#ffffff\" points=\"-4,4 -4,-170 728.0293,-170 728.0293,4 -4,4\" stroke=\"transparent\"/>\n",
       "<!-- _START -->\n",
       "<g class=\"node\" id=\"node1\">\n",
       "<title>_START</title>\n",
       "</g>\n",
       "<!-- 10 -->\n",
       "<g class=\"node\" id=\"node12\">\n",
       "<title>10</title>\n",
       "<path d=\"M58.6711,-24C58.6711,-24 43.3319,-24 43.3319,-24 40.6652,-24 37.9985,-21.3333 37.9985,-18.6667 37.9985,-18.6667 37.9985,-13.3333 37.9985,-13.3333 37.9985,-10.6667 40.6652,-8 43.3319,-8 43.3319,-8 58.6711,-8 58.6711,-8 61.3377,-8 64.0044,-10.6667 64.0044,-13.3333 64.0044,-13.3333 64.0044,-18.6667 64.0044,-18.6667 64.0044,-21.3333 61.3377,-24 58.6711,-24\" fill=\"none\" stroke=\"#000000\"/>\n",
       "<text fill=\"#000000\" font-family=\"Courier,monospace\" font-size=\"10.00\" text-anchor=\"start\" x=\"42\" y=\"-13\">q06</text>\n",
       "</g>\n",
       "<!-- _START&#45;&gt;10 -->\n",
       "<g class=\"edge\" id=\"edge1\">\n",
       "<title>_START-&gt;10</title>\n",
       "<path d=\"M1.0672,-16C4.1772,-16 19.4906,-16 32.349,-16\" fill=\"none\" stroke=\"#000000\"/>\n",
       "<polygon fill=\"#000000\" points=\"37.6667,-16 32.6668,-18.2501 35.1667,-16 32.6667,-16.0001 32.6667,-16.0001 32.6667,-16.0001 35.1667,-16 32.6667,-13.7501 37.6667,-16 37.6667,-16\" stroke=\"#000000\"/>\n",
       "</g>\n",
       "<!-- 0 -->\n",
       "<g class=\"node\" id=\"node2\">\n",
       "<title>0</title>\n",
       "<path d=\"M202.6769,-136C202.6769,-136 187.3377,-136 187.3377,-136 184.6711,-136 182.0044,-133.3333 182.0044,-130.6667 182.0044,-130.6667 182.0044,-125.3333 182.0044,-125.3333 182.0044,-122.6667 184.6711,-120 187.3377,-120 187.3377,-120 202.6769,-120 202.6769,-120 205.3436,-120 208.0103,-122.6667 208.0103,-125.3333 208.0103,-125.3333 208.0103,-130.6667 208.0103,-130.6667 208.0103,-133.3333 205.3436,-136 202.6769,-136\" fill=\"none\" stroke=\"#000000\"/>\n",
       "<text fill=\"#000000\" font-family=\"Courier,monospace\" font-size=\"10.00\" text-anchor=\"start\" x=\"186.0059\" y=\"-125\">q01</text>\n",
       "</g>\n",
       "<!-- 1 -->\n",
       "<g class=\"node\" id=\"node3\">\n",
       "<title>1</title>\n",
       "<path d=\"M275.6799,-136C275.6799,-136 260.3407,-136 260.3407,-136 257.674,-136 255.0073,-133.3333 255.0073,-130.6667 255.0073,-130.6667 255.0073,-125.3333 255.0073,-125.3333 255.0073,-122.6667 257.674,-120 260.3407,-120 260.3407,-120 275.6799,-120 275.6799,-120 278.3465,-120 281.0132,-122.6667 281.0132,-125.3333 281.0132,-125.3333 281.0132,-130.6667 281.0132,-130.6667 281.0132,-133.3333 278.3465,-136 275.6799,-136\" fill=\"none\" stroke=\"#000000\"/>\n",
       "<text fill=\"#000000\" font-family=\"Courier,monospace\" font-size=\"10.00\" text-anchor=\"start\" x=\"259.0088\" y=\"-125\">q02</text>\n",
       "</g>\n",
       "<!-- 0&#45;&gt;1 -->\n",
       "<g class=\"edge\" id=\"edge9\">\n",
       "<title>0-&gt;1</title>\n",
       "<path d=\"M208.0588,-128C219.5422,-128 236.3954,-128 249.3109,-128\" fill=\"none\" stroke=\"#000000\"/>\n",
       "<polygon fill=\"#000000\" points=\"254.5779,-128 249.5779,-130.2501 252.0779,-128 249.5779,-128.0001 249.5779,-128.0001 249.5779,-128.0001 252.0779,-128 249.5778,-125.7501 254.5779,-128 254.5779,-128\" stroke=\"#000000\"/>\n",
       "<text fill=\"#000000\" font-family=\"Courier,monospace\" font-size=\"9.00\" text-anchor=\"start\" x=\"229.3083\" y=\"-132.3\">a</text>\n",
       "</g>\n",
       "<!-- 2 -->\n",
       "<g class=\"node\" id=\"node4\">\n",
       "<title>2</title>\n",
       "<path d=\"M130.674,-97C130.674,-97 115.3348,-97 115.3348,-97 112.6681,-97 110.0015,-94.3333 110.0015,-91.6667 110.0015,-91.6667 110.0015,-86.3333 110.0015,-86.3333 110.0015,-83.6667 112.6681,-81 115.3348,-81 115.3348,-81 130.674,-81 130.674,-81 133.3407,-81 136.0073,-83.6667 136.0073,-86.3333 136.0073,-86.3333 136.0073,-91.6667 136.0073,-91.6667 136.0073,-94.3333 133.3407,-97 130.674,-97\" fill=\"none\" stroke=\"#000000\"/>\n",
       "<text fill=\"#000000\" font-family=\"Courier,monospace\" font-size=\"10.00\" text-anchor=\"start\" x=\"114.0029\" y=\"-86\">q05</text>\n",
       "</g>\n",
       "<!-- 1&#45;&gt;2 -->\n",
       "<g class=\"edge\" id=\"edge7\">\n",
       "<title>1-&gt;2</title>\n",
       "<path d=\"M258.0685,-136.0522C252.2937,-140.2043 244.664,-144.8408 237.0088,-147 213.4655,-153.6406 205.5905,-151.4921 182.0059,-145 168.3945,-141.2532 164.7343,-139.1766 154.0059,-130 144.5076,-121.8756 136.1227,-110.3683 130.4761,-101.6118\" fill=\"none\" stroke=\"#000000\"/>\n",
       "<polygon fill=\"#000000\" points=\"127.6312,-97.069 132.192,-100.1124 128.9581,-99.1878 130.2851,-101.3066 130.2851,-101.3066 130.2851,-101.3066 128.9581,-99.1878 128.3781,-102.5008 127.6312,-97.069 127.6312,-97.069\" stroke=\"#000000\"/>\n",
       "<text fill=\"#000000\" font-family=\"Courier,monospace\" font-size=\"9.00\" text-anchor=\"start\" x=\"192.9199\" y=\"-155.8\">ε</text>\n",
       "</g>\n",
       "<!-- 5 -->\n",
       "<g class=\"node\" id=\"node7\">\n",
       "<title>5</title>\n",
       "<path d=\"M347.6828,-69C347.6828,-69 332.3436,-69 332.3436,-69 329.6769,-69 327.0103,-66.3333 327.0103,-63.6667 327.0103,-63.6667 327.0103,-58.3333 327.0103,-58.3333 327.0103,-55.6667 329.6769,-53 332.3436,-53 332.3436,-53 347.6828,-53 347.6828,-53 350.3494,-53 353.0161,-55.6667 353.0161,-58.3333 353.0161,-58.3333 353.0161,-63.6667 353.0161,-63.6667 353.0161,-66.3333 350.3494,-69 347.6828,-69\" fill=\"none\" stroke=\"#000000\"/>\n",
       "<text fill=\"#000000\" font-family=\"Courier,monospace\" font-size=\"10.00\" text-anchor=\"start\" x=\"331.0117\" y=\"-58\">q07</text>\n",
       "</g>\n",
       "<!-- 1&#45;&gt;5 -->\n",
       "<g class=\"edge\" id=\"edge6\">\n",
       "<title>1-&gt;5</title>\n",
       "<path d=\"M276.8392,-119.7845C289.4709,-108.0305 312.7725,-86.3479 327.272,-72.8559\" fill=\"none\" stroke=\"#000000\"/>\n",
       "<polygon fill=\"#000000\" points=\"331.112,-69.2827 328.9843,-74.336 329.2818,-70.9858 327.4516,-72.6888 327.4516,-72.6888 327.4516,-72.6888 329.2818,-70.9858 325.9188,-71.0416 331.112,-69.2827 331.112,-69.2827\" stroke=\"#000000\"/>\n",
       "<text fill=\"#000000\" font-family=\"Courier,monospace\" font-size=\"9.00\" text-anchor=\"start\" x=\"301.9243\" y=\"-103.8\">ε</text>\n",
       "</g>\n",
       "<!-- 2&#45;&gt;0 -->\n",
       "<g class=\"edge\" id=\"edge16\">\n",
       "<title>2-&gt;0</title>\n",
       "<path d=\"M136.2657,-96.3065C141.7505,-99.3195 148.1786,-102.839 154.0059,-106 161.5061,-110.0685 169.7972,-114.5249 176.9496,-118.3565\" fill=\"none\" stroke=\"#000000\"/>\n",
       "<polygon fill=\"#000000\" points=\"181.6957,-120.8969 176.2256,-120.521 179.4916,-119.7171 177.2874,-118.5373 177.2874,-118.5373 177.2874,-118.5373 179.4916,-119.7171 178.3493,-116.5536 181.6957,-120.8969 181.6957,-120.8969\" stroke=\"#000000\"/>\n",
       "<text fill=\"#000000\" font-family=\"Courier,monospace\" font-size=\"9.00\" text-anchor=\"start\" x=\"156.9185\" y=\"-115.8\">ε</text>\n",
       "</g>\n",
       "<!-- 3 -->\n",
       "<g class=\"node\" id=\"node5\">\n",
       "<title>3</title>\n",
       "<path d=\"M202.6769,-102C202.6769,-102 187.3377,-102 187.3377,-102 184.6711,-102 182.0044,-99.3333 182.0044,-96.6667 182.0044,-96.6667 182.0044,-91.3333 182.0044,-91.3333 182.0044,-88.6667 184.6711,-86 187.3377,-86 187.3377,-86 202.6769,-86 202.6769,-86 205.3436,-86 208.0103,-88.6667 208.0103,-91.3333 208.0103,-91.3333 208.0103,-96.6667 208.0103,-96.6667 208.0103,-99.3333 205.3436,-102 202.6769,-102\" fill=\"none\" stroke=\"#000000\"/>\n",
       "<text fill=\"#000000\" font-family=\"Courier,monospace\" font-size=\"10.00\" text-anchor=\"start\" x=\"186.0059\" y=\"-91\">q03</text>\n",
       "</g>\n",
       "<!-- 2&#45;&gt;3 -->\n",
       "<g class=\"edge\" id=\"edge15\">\n",
       "<title>2-&gt;3</title>\n",
       "<path d=\"M136.3171,-88.9752C144.3473,-89.0471 154.7763,-89.2939 164.0059,-90 168.1148,-90.3143 172.5139,-90.7941 176.6695,-91.3136\" fill=\"none\" stroke=\"#000000\"/>\n",
       "<polygon fill=\"#000000\" points=\"181.7628,-91.9833 176.5121,-93.5622 179.2841,-91.6574 176.8054,-91.3314 176.8054,-91.3314 176.8054,-91.3314 179.2841,-91.6574 177.0988,-89.1006 181.7628,-91.9833 181.7628,-91.9833\" stroke=\"#000000\"/>\n",
       "<text fill=\"#000000\" font-family=\"Courier,monospace\" font-size=\"9.00\" text-anchor=\"start\" x=\"156.9185\" y=\"-95.8\">ε</text>\n",
       "</g>\n",
       "<!-- 4 -->\n",
       "<g class=\"node\" id=\"node6\">\n",
       "<title>4</title>\n",
       "<path d=\"M275.6799,-69C275.6799,-69 260.3407,-69 260.3407,-69 257.674,-69 255.0073,-66.3333 255.0073,-63.6667 255.0073,-63.6667 255.0073,-58.3333 255.0073,-58.3333 255.0073,-55.6667 257.674,-53 260.3407,-53 260.3407,-53 275.6799,-53 275.6799,-53 278.3465,-53 281.0132,-55.6667 281.0132,-58.3333 281.0132,-58.3333 281.0132,-63.6667 281.0132,-63.6667 281.0132,-66.3333 278.3465,-69 275.6799,-69\" fill=\"none\" stroke=\"#000000\"/>\n",
       "<text fill=\"#000000\" font-family=\"Courier,monospace\" font-size=\"10.00\" text-anchor=\"start\" x=\"259.0088\" y=\"-58\">q04</text>\n",
       "</g>\n",
       "<!-- 3&#45;&gt;4 -->\n",
       "<g class=\"edge\" id=\"edge8\">\n",
       "<title>3-&gt;4</title>\n",
       "<path d=\"M208.0588,-88.1003C219.7473,-82.8166 236.9991,-75.0182 249.999,-69.1418\" fill=\"none\" stroke=\"#000000\"/>\n",
       "<polygon fill=\"#000000\" points=\"254.5779,-67.0719 250.9486,-71.1818 252.2998,-68.1017 250.0217,-69.1315 250.0217,-69.1315 250.0217,-69.1315 252.2998,-68.1017 249.0949,-67.0813 254.5779,-67.0719 254.5779,-67.0719\" stroke=\"#000000\"/>\n",
       "<text fill=\"#000000\" font-family=\"Courier,monospace\" font-size=\"9.00\" text-anchor=\"start\" x=\"229.3083\" y=\"-83.3\">b</text>\n",
       "</g>\n",
       "<!-- 4&#45;&gt;2 -->\n",
       "<g class=\"edge\" id=\"edge14\">\n",
       "<title>4-&gt;2</title>\n",
       "<path d=\"M254.9923,-59.2428C237.9747,-57.3427 207.3514,-55.2911 182.0059,-61 167.2946,-64.3136 151.944,-71.7417 140.5891,-78.1148\" fill=\"none\" stroke=\"#000000\"/>\n",
       "<polygon fill=\"#000000\" points=\"135.9809,-80.7664 139.1925,-76.3224 138.1478,-79.5195 140.3147,-78.2726 140.3147,-78.2726 140.3147,-78.2726 138.1478,-79.5195 141.4369,-80.2228 135.9809,-80.7664 135.9809,-80.7664\" stroke=\"#000000\"/>\n",
       "<text fill=\"#000000\" font-family=\"Courier,monospace\" font-size=\"9.00\" text-anchor=\"start\" x=\"192.9199\" y=\"-66.8\">ε</text>\n",
       "</g>\n",
       "<!-- 4&#45;&gt;5 -->\n",
       "<g class=\"edge\" id=\"edge13\">\n",
       "<title>4-&gt;5</title>\n",
       "<path d=\"M281.2167,-61C292.5844,-61 309.1031,-61 321.7391,-61\" fill=\"none\" stroke=\"#000000\"/>\n",
       "<polygon fill=\"#000000\" points=\"326.8905,-61 321.8905,-63.2501 324.3905,-61 321.8905,-61.0001 321.8905,-61.0001 321.8905,-61.0001 324.3905,-61 321.8904,-58.7501 326.8905,-61 326.8905,-61\" stroke=\"#000000\"/>\n",
       "<text fill=\"#000000\" font-family=\"Courier,monospace\" font-size=\"9.00\" text-anchor=\"start\" x=\"301.9243\" y=\"-66.8\">ε</text>\n",
       "</g>\n",
       "<!-- 6 -->\n",
       "<g class=\"node\" id=\"node8\">\n",
       "<title>6</title>\n",
       "<path d=\"M420.6857,-69C420.6857,-69 405.3465,-69 405.3465,-69 402.6799,-69 400.0132,-66.3333 400.0132,-63.6667 400.0132,-63.6667 400.0132,-58.3333 400.0132,-58.3333 400.0132,-55.6667 402.6799,-53 405.3465,-53 405.3465,-53 420.6857,-53 420.6857,-53 423.3524,-53 426.019,-55.6667 426.019,-58.3333 426.019,-58.3333 426.019,-63.6667 426.019,-63.6667 426.019,-66.3333 423.3524,-69 420.6857,-69\" fill=\"none\" stroke=\"#000000\"/>\n",
       "<text fill=\"#000000\" font-family=\"Courier,monospace\" font-size=\"10.00\" text-anchor=\"start\" x=\"404.0146\" y=\"-58\">q08</text>\n",
       "</g>\n",
       "<!-- 5&#45;&gt;6 -->\n",
       "<g class=\"edge\" id=\"edge12\">\n",
       "<title>5-&gt;6</title>\n",
       "<path d=\"M353.0646,-61C364.5481,-61 381.4013,-61 394.3168,-61\" fill=\"none\" stroke=\"#000000\"/>\n",
       "<polygon fill=\"#000000\" points=\"399.5837,-61 394.5838,-63.2501 397.0837,-61 394.5837,-61.0001 394.5837,-61.0001 394.5837,-61.0001 397.0837,-61 394.5837,-58.7501 399.5837,-61 399.5837,-61\" stroke=\"#000000\"/>\n",
       "<text fill=\"#000000\" font-family=\"Courier,monospace\" font-size=\"9.00\" text-anchor=\"start\" x=\"374.3142\" y=\"-65.3\">a</text>\n",
       "</g>\n",
       "<!-- 7 -->\n",
       "<g class=\"node\" id=\"node9\">\n",
       "<title>7</title>\n",
       "<path d=\"M492.6886,-69C492.6886,-69 477.3494,-69 477.3494,-69 474.6828,-69 472.0161,-66.3333 472.0161,-63.6667 472.0161,-63.6667 472.0161,-58.3333 472.0161,-58.3333 472.0161,-55.6667 474.6828,-53 477.3494,-53 477.3494,-53 492.6886,-53 492.6886,-53 495.3553,-53 498.022,-55.6667 498.022,-58.3333 498.022,-58.3333 498.022,-63.6667 498.022,-63.6667 498.022,-66.3333 495.3553,-69 492.6886,-69\" fill=\"none\" stroke=\"#000000\"/>\n",
       "<text fill=\"#000000\" font-family=\"Courier,monospace\" font-size=\"10.00\" text-anchor=\"start\" x=\"476.0176\" y=\"-58\">q09</text>\n",
       "</g>\n",
       "<!-- 6&#45;&gt;7 -->\n",
       "<g class=\"edge\" id=\"edge2\">\n",
       "<title>6-&gt;7</title>\n",
       "<path d=\"M426.2226,-61C437.5903,-61 454.1089,-61 466.7449,-61\" fill=\"none\" stroke=\"#000000\"/>\n",
       "<polygon fill=\"#000000\" points=\"471.8963,-61 466.8964,-63.2501 469.3963,-61 466.8963,-61.0001 466.8963,-61.0001 466.8963,-61.0001 469.3963,-61 466.8963,-58.7501 471.8963,-61 471.8963,-61\" stroke=\"#000000\"/>\n",
       "<text fill=\"#000000\" font-family=\"Courier,monospace\" font-size=\"9.00\" text-anchor=\"start\" x=\"446.9302\" y=\"-66.8\">ε</text>\n",
       "</g>\n",
       "<!-- 8 -->\n",
       "<g class=\"node\" id=\"node10\">\n",
       "<title>8</title>\n",
       "<path d=\"M565.6916,-69C565.6916,-69 550.3524,-69 550.3524,-69 547.6857,-69 545.019,-66.3333 545.019,-63.6667 545.019,-63.6667 545.019,-58.3333 545.019,-58.3333 545.019,-55.6667 547.6857,-53 550.3524,-53 550.3524,-53 565.6916,-53 565.6916,-53 568.3582,-53 571.0249,-55.6667 571.0249,-58.3333 571.0249,-58.3333 571.0249,-63.6667 571.0249,-63.6667 571.0249,-66.3333 568.3582,-69 565.6916,-69\" fill=\"none\" stroke=\"#000000\"/>\n",
       "<text fill=\"#000000\" font-family=\"Courier,monospace\" font-size=\"10.00\" text-anchor=\"start\" x=\"549.0205\" y=\"-58\">q10</text>\n",
       "</g>\n",
       "<!-- 7&#45;&gt;8 -->\n",
       "<g class=\"edge\" id=\"edge3\">\n",
       "<title>7-&gt;8</title>\n",
       "<path d=\"M498.0705,-61C509.5539,-61 526.4072,-61 539.3226,-61\" fill=\"none\" stroke=\"#000000\"/>\n",
       "<polygon fill=\"#000000\" points=\"544.5896,-61 539.5896,-63.2501 542.0896,-61 539.5896,-61.0001 539.5896,-61.0001 539.5896,-61.0001 542.0896,-61 539.5896,-58.7501 544.5896,-61 544.5896,-61\" stroke=\"#000000\"/>\n",
       "<text fill=\"#000000\" font-family=\"Courier,monospace\" font-size=\"9.00\" text-anchor=\"start\" x=\"519.3201\" y=\"-65.3\">b</text>\n",
       "</g>\n",
       "<!-- 9 -->\n",
       "<g class=\"node\" id=\"node11\">\n",
       "<title>9</title>\n",
       "<path d=\"M637.6945,-69C637.6945,-69 622.3553,-69 622.3553,-69 619.6886,-69 617.022,-66.3333 617.022,-63.6667 617.022,-63.6667 617.022,-58.3333 617.022,-58.3333 617.022,-55.6667 619.6886,-53 622.3553,-53 622.3553,-53 637.6945,-53 637.6945,-53 640.3612,-53 643.0278,-55.6667 643.0278,-58.3333 643.0278,-58.3333 643.0278,-63.6667 643.0278,-63.6667 643.0278,-66.3333 640.3612,-69 637.6945,-69\" fill=\"none\" stroke=\"#000000\"/>\n",
       "<text fill=\"#000000\" font-family=\"Courier,monospace\" font-size=\"10.00\" text-anchor=\"start\" x=\"621.0234\" y=\"-58\">q11</text>\n",
       "</g>\n",
       "<!-- 8&#45;&gt;9 -->\n",
       "<g class=\"edge\" id=\"edge5\">\n",
       "<title>8-&gt;9</title>\n",
       "<path d=\"M571.2284,-61C582.5961,-61 599.1148,-61 611.7508,-61\" fill=\"none\" stroke=\"#000000\"/>\n",
       "<polygon fill=\"#000000\" points=\"616.9022,-61 611.9022,-63.2501 614.4022,-61 611.9022,-61.0001 611.9022,-61.0001 611.9022,-61.0001 614.4022,-61 611.9021,-58.7501 616.9022,-61 616.9022,-61\" stroke=\"#000000\"/>\n",
       "<text fill=\"#000000\" font-family=\"Courier,monospace\" font-size=\"9.00\" text-anchor=\"start\" x=\"591.936\" y=\"-66.8\">ε</text>\n",
       "</g>\n",
       "<!-- 11 -->\n",
       "<g class=\"node\" id=\"node13\">\n",
       "<title>11</title>\n",
       "<path d=\"M714.6971,-69C714.6971,-69 699.3586,-69 699.3586,-69 696.6919,-69 694.0252,-66.3333 694.0252,-63.6667 694.0252,-63.6667 694.0252,-58.3333 694.0252,-58.3333 694.0252,-55.6667 696.6919,-53 699.3586,-53 699.3586,-53 714.6971,-53 714.6971,-53 717.3638,-53 720.0304,-55.6667 720.0304,-58.3333 720.0304,-58.3333 720.0304,-63.6667 720.0304,-63.6667 720.0304,-66.3333 717.3638,-69 714.6971,-69\" fill=\"none\" stroke=\"#000000\"/>\n",
       "<path d=\"M716.0308,-73C716.0308,-73 698.0249,-73 698.0249,-73 694.0249,-73 690.0249,-69 690.0249,-65 690.0249,-65 690.0249,-57 690.0249,-57 690.0249,-53 694.0249,-49 698.0249,-49 698.0249,-49 716.0308,-49 716.0308,-49 720.0308,-49 724.0308,-53 724.0308,-57 724.0308,-57 724.0308,-65 724.0308,-65 724.0308,-69 720.0308,-73 716.0308,-73\" fill=\"none\" stroke=\"#000000\"/>\n",
       "<text fill=\"#000000\" font-family=\"Courier,monospace\" font-size=\"10.00\" text-anchor=\"start\" x=\"698.0264\" y=\"-58\">q12</text>\n",
       "</g>\n",
       "<!-- 9&#45;&gt;11 -->\n",
       "<g class=\"edge\" id=\"edge4\">\n",
       "<title>9-&gt;11</title>\n",
       "<path d=\"M643.0874,-61C654.4515,-61 671.1676,-61 684.658,-61\" fill=\"none\" stroke=\"#000000\"/>\n",
       "<polygon fill=\"#000000\" points=\"689.8397,-61 684.8398,-63.2501 687.3397,-61 684.8397,-61.0001 684.8397,-61.0001 684.8397,-61.0001 687.3397,-61 684.8397,-58.7501 689.8397,-61 689.8397,-61\" stroke=\"#000000\"/>\n",
       "<text fill=\"#000000\" font-family=\"Courier,monospace\" font-size=\"9.00\" text-anchor=\"start\" x=\"664.3259\" y=\"-65.3\">a</text>\n",
       "</g>\n",
       "<!-- 10&#45;&gt;2 -->\n",
       "<g class=\"edge\" id=\"edge11\">\n",
       "<title>10-&gt;2</title>\n",
       "<path d=\"M58.9821,-24.0912C71.6738,-36.9586 96.5243,-62.1532 111.2536,-77.0865\" fill=\"none\" stroke=\"#000000\"/>\n",
       "<polygon fill=\"#000000\" points=\"114.7667,-80.6482 109.6536,-78.6684 113.0111,-78.8683 111.2555,-77.0884 111.2555,-77.0884 111.2555,-77.0884 113.0111,-78.8683 112.8574,-75.5084 114.7667,-80.6482 114.7667,-80.6482\" stroke=\"#000000\"/>\n",
       "<text fill=\"#000000\" font-family=\"Courier,monospace\" font-size=\"9.00\" text-anchor=\"start\" x=\"84.9155\" y=\"-61.8\">ε</text>\n",
       "</g>\n",
       "<!-- 10&#45;&gt;5 -->\n",
       "<g class=\"edge\" id=\"edge10\">\n",
       "<title>10-&gt;5</title>\n",
       "<path d=\"M64.0785,-11.286C78.36,-6.5664 102.0035,0 123.0044,0 123.0044,0 123.0044,0 268.0103,0 297.5119,0 321.1356,-30.181 332.5539,-48.0844\" fill=\"none\" stroke=\"#000000\"/>\n",
       "<polygon fill=\"#000000\" points=\"335.4455,-52.7733 330.9058,-49.6985 334.1332,-50.6454 332.8209,-48.5175 332.8209,-48.5175 332.8209,-48.5175 334.1332,-50.6454 334.736,-47.3364 335.4455,-52.7733 335.4455,-52.7733\" stroke=\"#000000\"/>\n",
       "<text fill=\"#000000\" font-family=\"Courier,monospace\" font-size=\"9.00\" text-anchor=\"start\" x=\"192.9199\" y=\"-5.8\">ε</text>\n",
       "</g>\n",
       "</g>\n",
       "</svg>"
      ],
      "text/plain": [
       "<IPython.core.display.SVG object>"
      ]
     },
     "metadata": {},
     "output_type": "display_data"
    }
   ],
   "source": [
    "m = from_regexp('(a|b)* a b a', display_steps=True)"
   ]
  },
  {
   "cell_type": "markdown",
   "metadata": {},
   "source": [
    "**Question.** If a regular expression has $n$ symbols, how big will the resulting NFA be?\n",
    "\n",
    "For a very cool \"real-time\" visualization of (a slightly different version of) this construction, see [Debuggex](https://www.debuggex.com)."
   ]
  },
  {
   "cell_type": "markdown",
   "metadata": {},
   "source": [
    "# Wednesday reading\n",
    "\n",
    "Read or reread Lemma 1.60 and its proof, which (in my opinion) is the most complicated one so far."
   ]
  },
  {
   "cell_type": "markdown",
   "metadata": {},
   "source": [
    "# Thursday class\n",
    "\n",
    "Homework 2 is due this evening.\n",
    "\n",
    "## NFAs to regular expressions"
   ]
  },
  {
   "cell_type": "markdown",
   "metadata": {},
   "source": [
    "Today we're completing the proof from last time by converting NFAs to regular expressions. The algorithm for this is known as the _state elimination_ algorithm, because it eliminates the states of the NFA one by one. \n",
    "\n",
    "To make this construction simpler, the new concept of a generalized NFA (GNFA) is introduced. In this course, GNFAs are a \"throwaway\" formalism; they exist just to make this proof possible. But elsewhere they might be useful in their own right. A GNFA is a NFA whose transitions can be labeled with regular expressions instead of symbols. A GNFA can follow a transition if the next $k \\geq 0$ symbols match the regular expression; when it follows the transition, it consumes those $k$ symbols.\n",
    "\n",
    "The algorithm first changes the NFA into a GNFA that has a single start state with no incoming edges and a single accept state with no outgoing edges. This makes the final step of the algorithm simpler. The book also creates a lot of transitions labeled $\\emptyset$; these are not shown in the figures below, and they're not shown in the book, either. In fact, as far as I'm concerned, you can pretend they don't exist.\n",
    "\n",
    "The algorithm then eliminates the (non-start, non-accept) states one by one. When there is just one transition left, its label is the final answer. (If you're not using $\\emptyset$ transitions, then there is a special case: if there are no transitions left, then the answer is $\\emptyset$.) The order of elimination is arbitrary, although some orders may lead to more compact regular expressions than others. Tock eliminates states in reverse alphabetical order, for no particularly good reason."
   ]
  },
  {
   "cell_type": "markdown",
   "metadata": {},
   "source": [
    "Let's start with a simpler example than the one in the book, a NFA whose state diagram is _acyclic_."
   ]
  },
  {
   "cell_type": "code",
   "execution_count": 6,
   "metadata": {},
   "outputs": [
    {
     "data": {
      "image/svg+xml": [
       "<svg height=\"56pt\" viewBox=\"0.00 0.00 251.00 56.00\" width=\"251pt\" xmlns=\"http://www.w3.org/2000/svg\" xmlns:xlink=\"http://www.w3.org/1999/xlink\">\n",
       "<g class=\"graph\" id=\"graph0\" transform=\"scale(1 1) rotate(0) translate(4 52)\">\n",
       "<title>%3</title>\n",
       "<polygon fill=\"#ffffff\" points=\"-4,4 -4,-52 247.0039,-52 247.0039,4 -4,4\" stroke=\"transparent\"/>\n",
       "<!-- _START -->\n",
       "<g class=\"node\" id=\"node1\">\n",
       "<title>_START</title>\n",
       "</g>\n",
       "<!-- 3 -->\n",
       "<g class=\"node\" id=\"node5\">\n",
       "<title>3</title>\n",
       "<path d=\"M47.3341,-20C47.3341,-20 42.6668,-20 42.6668,-20 40.3332,-20 37.9995,-17.6663 37.9995,-15.3327 37.9995,-15.3327 37.9995,-8.6673 37.9995,-8.6673 37.9995,-6.3337 40.3332,-4 42.6668,-4 42.6668,-4 47.3341,-4 47.3341,-4 49.6678,-4 52.0015,-6.3337 52.0015,-8.6673 52.0015,-8.6673 52.0015,-15.3327 52.0015,-15.3327 52.0015,-17.6663 49.6678,-20 47.3341,-20\" fill=\"none\" stroke=\"#000000\"/>\n",
       "<text fill=\"#000000\" font-family=\"Courier,monospace\" font-size=\"10.00\" text-anchor=\"middle\" x=\"45.0005\" y=\"-9\">1</text>\n",
       "</g>\n",
       "<!-- _START&#45;&gt;3 -->\n",
       "<g class=\"edge\" id=\"edge1\">\n",
       "<title>_START-&gt;3</title>\n",
       "<path d=\"M1.2724,-12C4.962,-12 21.0921,-12 32.6887,-12\" fill=\"none\" stroke=\"#000000\"/>\n",
       "<polygon fill=\"#000000\" points=\"37.9431,-12 32.9432,-14.2501 35.4431,-12 32.9431,-12.0001 32.9431,-12.0001 32.9431,-12.0001 35.4431,-12 32.9431,-9.7501 37.9431,-12 37.9431,-12\" stroke=\"#000000\"/>\n",
       "</g>\n",
       "<!-- 0 -->\n",
       "<g class=\"node\" id=\"node2\">\n",
       "<title>0</title>\n",
       "<path d=\"M108.3351,-41C108.3351,-41 103.6678,-41 103.6678,-41 101.3341,-41 99.0005,-38.6663 99.0005,-36.3327 99.0005,-36.3327 99.0005,-29.6673 99.0005,-29.6673 99.0005,-27.3337 101.3341,-25 103.6678,-25 103.6678,-25 108.3351,-25 108.3351,-25 110.6688,-25 113.0024,-27.3337 113.0024,-29.6673 113.0024,-29.6673 113.0024,-36.3327 113.0024,-36.3327 113.0024,-38.6663 110.6688,-41 108.3351,-41\" fill=\"none\" stroke=\"#000000\"/>\n",
       "<text fill=\"#000000\" font-family=\"Courier,monospace\" font-size=\"10.00\" text-anchor=\"start\" x=\"103.001\" y=\"-30\">2</text>\n",
       "</g>\n",
       "<!-- 2 -->\n",
       "<g class=\"node\" id=\"node4\">\n",
       "<title>2</title>\n",
       "<path d=\"M169.3361,-41C169.3361,-41 164.6688,-41 164.6688,-41 162.3351,-41 160.0015,-38.6663 160.0015,-36.3327 160.0015,-36.3327 160.0015,-29.6673 160.0015,-29.6673 160.0015,-27.3337 162.3351,-25 164.6688,-25 164.6688,-25 169.3361,-25 169.3361,-25 171.6698,-25 174.0034,-27.3337 174.0034,-29.6673 174.0034,-29.6673 174.0034,-36.3327 174.0034,-36.3327 174.0034,-38.6663 171.6698,-41 169.3361,-41\" fill=\"none\" stroke=\"#000000\"/>\n",
       "<text fill=\"#000000\" font-family=\"Courier,monospace\" font-size=\"10.00\" text-anchor=\"start\" x=\"164.002\" y=\"-30\">3</text>\n",
       "</g>\n",
       "<!-- 0&#45;&gt;2 -->\n",
       "<g class=\"edge\" id=\"edge5\">\n",
       "<title>0-&gt;2</title>\n",
       "<path d=\"M113.4814,-33C123.7445,-33 142.3217,-33 154.6619,-33\" fill=\"none\" stroke=\"#000000\"/>\n",
       "<polygon fill=\"#000000\" points=\"159.8405,-33 154.8405,-35.2501 157.3405,-33 154.8405,-33.0001 154.8405,-33.0001 154.8405,-33.0001 157.3405,-33 154.8404,-30.7501 159.8405,-33 159.8405,-33\" stroke=\"#000000\"/>\n",
       "<text fill=\"#000000\" font-family=\"Courier,monospace\" font-size=\"9.00\" text-anchor=\"start\" x=\"134.3015\" y=\"-37.3\">b</text>\n",
       "</g>\n",
       "<!-- 1 -->\n",
       "<g class=\"node\" id=\"node3\">\n",
       "<title>1</title>\n",
       "<path d=\"M234.337,-20C234.337,-20 229.6698,-20 229.6698,-20 227.3362,-20 225.0026,-17.6664 225.0026,-15.3328 225.0026,-15.3328 225.0026,-8.6672 225.0026,-8.6672 225.0026,-6.3336 227.3362,-4 229.6698,-4 229.6698,-4 234.337,-4 234.337,-4 236.6706,-4 239.0042,-6.3336 239.0042,-8.6672 239.0042,-8.6672 239.0042,-15.3328 239.0042,-15.3328 239.0042,-17.6664 236.6706,-20 234.337,-20\" fill=\"none\" stroke=\"#000000\"/>\n",
       "<path d=\"M235.6704,-24C235.6704,-24 228.3364,-24 228.3364,-24 224.6694,-24 221.0024,-20.333 221.0024,-16.666 221.0024,-16.666 221.0024,-7.334 221.0024,-7.334 221.0024,-3.667 224.6694,0 228.3364,0 228.3364,0 235.6704,0 235.6704,0 239.3374,0 243.0044,-3.667 243.0044,-7.334 243.0044,-7.334 243.0044,-16.666 243.0044,-16.666 243.0044,-20.333 239.3374,-24 235.6704,-24\" fill=\"none\" stroke=\"#000000\"/>\n",
       "<text fill=\"#000000\" font-family=\"Courier,monospace\" font-size=\"10.00\" text-anchor=\"start\" x=\"229.0029\" y=\"-9\">4</text>\n",
       "</g>\n",
       "<!-- 2&#45;&gt;1 -->\n",
       "<g class=\"edge\" id=\"edge4\">\n",
       "<title>2-&gt;1</title>\n",
       "<path d=\"M174.207,-30.6724C184.1285,-27.4671 202.2807,-21.6026 215.6034,-17.2984\" fill=\"none\" stroke=\"#000000\"/>\n",
       "<polygon fill=\"#000000\" points=\"220.623,-15.6767 216.5569,-19.3549 218.2441,-16.4453 215.8652,-17.2139 215.8652,-17.2139 215.8652,-17.2139 218.2441,-16.4453 215.1734,-15.0728 220.623,-15.6767 220.623,-15.6767\" stroke=\"#000000\"/>\n",
       "<text fill=\"#000000\" font-family=\"Courier,monospace\" font-size=\"9.00\" text-anchor=\"start\" x=\"195.3025\" y=\"-28.3\">c</text>\n",
       "</g>\n",
       "<!-- 3&#45;&gt;0 -->\n",
       "<g class=\"edge\" id=\"edge2\">\n",
       "<title>3-&gt;0</title>\n",
       "<path d=\"M52.4804,-14.575C62.836,-18.14 81.6561,-24.619 93.9929,-28.866\" fill=\"none\" stroke=\"#000000\"/>\n",
       "<polygon fill=\"#000000\" points=\"98.8395,-30.5345 93.3794,-31.0343 96.4757,-29.7206 94.1118,-28.9068 94.1118,-28.9068 94.1118,-28.9068 96.4757,-29.7206 94.8442,-26.7794 98.8395,-30.5345 98.8395,-30.5345\" stroke=\"#000000\"/>\n",
       "<text fill=\"#000000\" font-family=\"Courier,monospace\" font-size=\"9.00\" text-anchor=\"start\" x=\"73.3005\" y=\"-28.3\">a</text>\n",
       "</g>\n",
       "<!-- 3&#45;&gt;1 -->\n",
       "<g class=\"edge\" id=\"edge3\">\n",
       "<title>3-&gt;1</title>\n",
       "<path d=\"M52.1029,-12C79.1914,-12 176.4547,-12 215.5555,-12\" fill=\"none\" stroke=\"#000000\"/>\n",
       "<polygon fill=\"#000000\" points=\"220.8872,-12 215.8872,-14.2501 218.3872,-12 215.8872,-12.0001 215.8872,-12.0001 215.8872,-12.0001 218.3872,-12 215.8871,-9.7501 220.8872,-12 220.8872,-12\" stroke=\"#000000\"/>\n",
       "<text fill=\"#000000\" font-family=\"Courier,monospace\" font-size=\"9.00\" text-anchor=\"start\" x=\"134.3015\" y=\"-16.3\">a</text>\n",
       "</g>\n",
       "</g>\n",
       "</svg>"
      ],
      "text/plain": [
       "<IPython.core.display.SVG object>"
      ]
     },
     "metadata": {},
     "output_type": "display_data"
    }
   ],
   "source": [
    "m = read_csv('acyclic.csv')\n",
    "m"
   ]
  },
  {
   "cell_type": "code",
   "execution_count": 7,
   "metadata": {},
   "outputs": [
    {
     "data": {
      "image/svg+xml": [
       "<svg height=\"56pt\" viewBox=\"0.00 0.00 425.01 56.00\" width=\"425pt\" xmlns=\"http://www.w3.org/2000/svg\" xmlns:xlink=\"http://www.w3.org/1999/xlink\">\n",
       "<g class=\"graph\" id=\"graph0\" transform=\"scale(1 1) rotate(0) translate(4 52)\">\n",
       "<title>%3</title>\n",
       "<polygon fill=\"#ffffff\" points=\"-4,4 -4,-52 421.0146,-52 421.0146,4 -4,4\" stroke=\"transparent\"/>\n",
       "<!-- _START -->\n",
       "<g class=\"node\" id=\"node1\">\n",
       "<title>_START</title>\n",
       "</g>\n",
       "<!-- 0 -->\n",
       "<g class=\"node\" id=\"node2\">\n",
       "<title>0</title>\n",
       "<path d=\"M70.674,-20C70.674,-20 43.3309,-20 43.3309,-20 40.6642,-20 37.9976,-17.3333 37.9976,-14.6667 37.9976,-14.6667 37.9976,-9.3333 37.9976,-9.3333 37.9976,-6.6667 40.6642,-4 43.3309,-4 43.3309,-4 70.674,-4 70.674,-4 73.3407,-4 76.0073,-6.6667 76.0073,-9.3333 76.0073,-9.3333 76.0073,-14.6667 76.0073,-14.6667 76.0073,-17.3333 73.3407,-20 70.674,-20\" fill=\"none\" stroke=\"#000000\"/>\n",
       "<text fill=\"#000000\" font-family=\"Courier,monospace\" font-size=\"10.00\" text-anchor=\"start\" x=\"42\" y=\"-9\">start</text>\n",
       "</g>\n",
       "<!-- _START&#45;&gt;0 -->\n",
       "<g class=\"edge\" id=\"edge1\">\n",
       "<title>_START-&gt;0</title>\n",
       "<path d=\"M1.1345,-12C4.3241,-12 18.9859,-12 32.4885,-12\" fill=\"none\" stroke=\"#000000\"/>\n",
       "<polygon fill=\"#000000\" points=\"37.7747,-12 32.7748,-14.2501 35.2747,-12 32.7747,-12.0001 32.7747,-12.0001 32.7747,-12.0001 35.2747,-12 32.7747,-9.7501 37.7747,-12 37.7747,-12\" stroke=\"#000000\"/>\n",
       "</g>\n",
       "<!-- 5 -->\n",
       "<g class=\"node\" id=\"node7\">\n",
       "<title>5</title>\n",
       "<path d=\"M131.339,-20C131.339,-20 126.6717,-20 126.6717,-20 124.3381,-20 122.0044,-17.6663 122.0044,-15.3327 122.0044,-15.3327 122.0044,-8.6673 122.0044,-8.6673 122.0044,-6.3337 124.3381,-4 126.6717,-4 126.6717,-4 131.339,-4 131.339,-4 133.6727,-4 136.0063,-6.3337 136.0063,-8.6673 136.0063,-8.6673 136.0063,-15.3327 136.0063,-15.3327 136.0063,-17.6663 133.6727,-20 131.339,-20\" fill=\"none\" stroke=\"#000000\"/>\n",
       "<text fill=\"#000000\" font-family=\"Courier,monospace\" font-size=\"10.00\" text-anchor=\"middle\" x=\"129.0054\" y=\"-9\">1</text>\n",
       "</g>\n",
       "<!-- 0&#45;&gt;5 -->\n",
       "<g class=\"edge\" id=\"edge4\">\n",
       "<title>0-&gt;5</title>\n",
       "<path d=\"M76.2979,-12C89.0682,-12 105.442,-12 116.5258,-12\" fill=\"none\" stroke=\"#000000\"/>\n",
       "<polygon fill=\"#000000\" points=\"121.7926,-12 116.7926,-14.2501 119.2926,-12 116.7926,-12.0001 116.7926,-12.0001 116.7926,-12.0001 119.2926,-12 116.7925,-9.7501 121.7926,-12 121.7926,-12\" stroke=\"#000000\"/>\n",
       "<text fill=\"#000000\" font-family=\"Courier,monospace\" font-size=\"9.00\" text-anchor=\"start\" x=\"96.9175\" y=\"-17.8\">ε</text>\n",
       "</g>\n",
       "<!-- 1 -->\n",
       "<g class=\"node\" id=\"node3\">\n",
       "<title>1</title>\n",
       "<path d=\"M407.6838,-20C407.6838,-20 374.3396,-20 374.3396,-20 371.673,-20 369.0063,-17.3333 369.0063,-14.6667 369.0063,-14.6667 369.0063,-9.3333 369.0063,-9.3333 369.0063,-6.6667 371.673,-4 374.3396,-4 374.3396,-4 407.6838,-4 407.6838,-4 410.3505,-4 413.0171,-6.6667 413.0171,-9.3333 413.0171,-9.3333 413.0171,-14.6667 413.0171,-14.6667 413.0171,-17.3333 410.3505,-20 407.6838,-20\" fill=\"none\" stroke=\"#000000\"/>\n",
       "<path d=\"M409.0176,-24C409.0176,-24 373.0059,-24 373.0059,-24 369.0059,-24 365.0059,-20 365.0059,-16 365.0059,-16 365.0059,-8 365.0059,-8 365.0059,-4 369.0059,0 373.0059,0 373.0059,0 409.0176,0 409.0176,0 413.0176,0 417.0176,-4 417.0176,-8 417.0176,-8 417.0176,-16 417.0176,-16 417.0176,-20 413.0176,-24 409.0176,-24\" fill=\"none\" stroke=\"#000000\"/>\n",
       "<text fill=\"#000000\" font-family=\"Courier,monospace\" font-size=\"10.00\" text-anchor=\"start\" x=\"373.0088\" y=\"-9\">accept</text>\n",
       "</g>\n",
       "<!-- 2 -->\n",
       "<g class=\"node\" id=\"node4\">\n",
       "<title>2</title>\n",
       "<path d=\"M192.34,-41C192.34,-41 187.6727,-41 187.6727,-41 185.339,-41 183.0054,-38.6663 183.0054,-36.3327 183.0054,-36.3327 183.0054,-29.6673 183.0054,-29.6673 183.0054,-27.3337 185.339,-25 187.6727,-25 187.6727,-25 192.34,-25 192.34,-25 194.6737,-25 197.0073,-27.3337 197.0073,-29.6673 197.0073,-29.6673 197.0073,-36.3327 197.0073,-36.3327 197.0073,-38.6663 194.6737,-41 192.34,-41\" fill=\"none\" stroke=\"#000000\"/>\n",
       "<text fill=\"#000000\" font-family=\"Courier,monospace\" font-size=\"10.00\" text-anchor=\"middle\" x=\"190.0063\" y=\"-30\">2</text>\n",
       "</g>\n",
       "<!-- 4 -->\n",
       "<g class=\"node\" id=\"node6\">\n",
       "<title>4</title>\n",
       "<path d=\"M253.341,-41C253.341,-41 248.6737,-41 248.6737,-41 246.34,-41 244.0063,-38.6663 244.0063,-36.3327 244.0063,-36.3327 244.0063,-29.6673 244.0063,-29.6673 244.0063,-27.3337 246.34,-25 248.6737,-25 248.6737,-25 253.341,-25 253.341,-25 255.6746,-25 258.0083,-27.3337 258.0083,-29.6673 258.0083,-29.6673 258.0083,-36.3327 258.0083,-36.3327 258.0083,-38.6663 255.6746,-41 253.341,-41\" fill=\"none\" stroke=\"#000000\"/>\n",
       "<text fill=\"#000000\" font-family=\"Courier,monospace\" font-size=\"10.00\" text-anchor=\"middle\" x=\"251.0073\" y=\"-30\">3</text>\n",
       "</g>\n",
       "<!-- 2&#45;&gt;4 -->\n",
       "<g class=\"edge\" id=\"edge6\">\n",
       "<title>2-&gt;4</title>\n",
       "<path d=\"M197.4863,-33C207.7494,-33 226.3266,-33 238.6667,-33\" fill=\"none\" stroke=\"#000000\"/>\n",
       "<polygon fill=\"#000000\" points=\"243.8454,-33 238.8454,-35.2501 241.3454,-33 238.8454,-33.0001 238.8454,-33.0001 238.8454,-33.0001 241.3454,-33 238.8453,-30.7501 243.8454,-33 243.8454,-33\" stroke=\"#000000\"/>\n",
       "<text fill=\"#000000\" font-family=\"Courier,monospace\" font-size=\"9.00\" text-anchor=\"start\" x=\"218.3064\" y=\"-37.3\">b</text>\n",
       "</g>\n",
       "<!-- 3 -->\n",
       "<g class=\"node\" id=\"node5\">\n",
       "<title>3</title>\n",
       "<path d=\"M314.342,-20C314.342,-20 309.6746,-20 309.6746,-20 307.341,-20 305.0073,-17.6663 305.0073,-15.3327 305.0073,-15.3327 305.0073,-8.6673 305.0073,-8.6673 305.0073,-6.3337 307.341,-4 309.6746,-4 309.6746,-4 314.342,-4 314.342,-4 316.6756,-4 319.0093,-6.3337 319.0093,-8.6673 319.0093,-8.6673 319.0093,-15.3327 319.0093,-15.3327 319.0093,-17.6663 316.6756,-20 314.342,-20\" fill=\"none\" stroke=\"#000000\"/>\n",
       "<text fill=\"#000000\" font-family=\"Courier,monospace\" font-size=\"10.00\" text-anchor=\"start\" x=\"309.0078\" y=\"-9\">4</text>\n",
       "</g>\n",
       "<!-- 3&#45;&gt;1 -->\n",
       "<g class=\"edge\" id=\"edge7\">\n",
       "<title>3-&gt;1</title>\n",
       "<path d=\"M319.0193,-12C328.18,-12 344.8206,-12 359.7971,-12\" fill=\"none\" stroke=\"#000000\"/>\n",
       "<polygon fill=\"#000000\" points=\"364.799,-12 359.7991,-14.2501 362.299,-12 359.799,-12.0001 359.799,-12.0001 359.799,-12.0001 362.299,-12 359.799,-9.7501 364.799,-12 364.799,-12\" stroke=\"#000000\"/>\n",
       "<text fill=\"#000000\" font-family=\"Courier,monospace\" font-size=\"9.00\" text-anchor=\"start\" x=\"339.9214\" y=\"-17.8\">ε</text>\n",
       "</g>\n",
       "<!-- 4&#45;&gt;3 -->\n",
       "<g class=\"edge\" id=\"edge5\">\n",
       "<title>4-&gt;3</title>\n",
       "<path d=\"M258.4872,-30.425C268.8429,-26.86 287.663,-20.381 299.9997,-16.134\" fill=\"none\" stroke=\"#000000\"/>\n",
       "<polygon fill=\"#000000\" points=\"304.8464,-14.4655 300.8511,-18.2206 302.4825,-15.2794 300.1187,-16.0932 300.1187,-16.0932 300.1187,-16.0932 302.4825,-15.2794 299.3862,-13.9657 304.8464,-14.4655 304.8464,-14.4655\" stroke=\"#000000\"/>\n",
       "<text fill=\"#000000\" font-family=\"Courier,monospace\" font-size=\"9.00\" text-anchor=\"start\" x=\"279.3074\" y=\"-28.3\">c</text>\n",
       "</g>\n",
       "<!-- 5&#45;&gt;2 -->\n",
       "<g class=\"edge\" id=\"edge2\">\n",
       "<title>5-&gt;2</title>\n",
       "<path d=\"M136.4853,-14.575C146.8409,-18.14 165.661,-24.619 177.9978,-28.866\" fill=\"none\" stroke=\"#000000\"/>\n",
       "<polygon fill=\"#000000\" points=\"182.8444,-30.5345 177.3843,-31.0343 180.4805,-29.7206 178.1167,-28.9068 178.1167,-28.9068 178.1167,-28.9068 180.4805,-29.7206 178.8491,-26.7794 182.8444,-30.5345 182.8444,-30.5345\" stroke=\"#000000\"/>\n",
       "<text fill=\"#000000\" font-family=\"Courier,monospace\" font-size=\"9.00\" text-anchor=\"start\" x=\"157.3054\" y=\"-28.3\">a</text>\n",
       "</g>\n",
       "<!-- 5&#45;&gt;3 -->\n",
       "<g class=\"edge\" id=\"edge3\">\n",
       "<title>5-&gt;3</title>\n",
       "<path d=\"M136.406,-12C164.4612,-12 264.4517,-12 299.6451,-12\" fill=\"none\" stroke=\"#000000\"/>\n",
       "<polygon fill=\"#000000\" points=\"304.7161,-12 299.7162,-14.2501 302.2161,-12 299.7161,-12.0001 299.7161,-12.0001 299.7161,-12.0001 302.2161,-12 299.7161,-9.7501 304.7161,-12 304.7161,-12\" stroke=\"#000000\"/>\n",
       "<text fill=\"#000000\" font-family=\"Courier,monospace\" font-size=\"9.00\" text-anchor=\"start\" x=\"218.3064\" y=\"-16.3\">a</text>\n",
       "</g>\n",
       "</g>\n",
       "</svg>"
      ],
      "text/plain": [
       "<IPython.core.display.SVG object>"
      ]
     },
     "metadata": {},
     "output_type": "display_data"
    },
    {
     "data": {
      "text/html": [
       "eliminate 4"
      ],
      "text/plain": [
       "<IPython.core.display.HTML object>"
      ]
     },
     "metadata": {},
     "output_type": "display_data"
    },
    {
     "data": {
      "image/svg+xml": [
       "<svg height=\"56pt\" viewBox=\"0.00 0.00 365.01 56.00\" width=\"365pt\" xmlns=\"http://www.w3.org/2000/svg\" xmlns:xlink=\"http://www.w3.org/1999/xlink\">\n",
       "<g class=\"graph\" id=\"graph0\" transform=\"scale(1 1) rotate(0) translate(4 52)\">\n",
       "<title>%3</title>\n",
       "<polygon fill=\"#ffffff\" points=\"-4,4 -4,-52 361.0137,-52 361.0137,4 -4,4\" stroke=\"transparent\"/>\n",
       "<!-- _START -->\n",
       "<g class=\"node\" id=\"node1\">\n",
       "<title>_START</title>\n",
       "</g>\n",
       "<!-- 0 -->\n",
       "<g class=\"node\" id=\"node2\">\n",
       "<title>0</title>\n",
       "<path d=\"M70.674,-35C70.674,-35 43.3309,-35 43.3309,-35 40.6642,-35 37.9976,-32.3333 37.9976,-29.6667 37.9976,-29.6667 37.9976,-24.3333 37.9976,-24.3333 37.9976,-21.6667 40.6642,-19 43.3309,-19 43.3309,-19 70.674,-19 70.674,-19 73.3407,-19 76.0073,-21.6667 76.0073,-24.3333 76.0073,-24.3333 76.0073,-29.6667 76.0073,-29.6667 76.0073,-32.3333 73.3407,-35 70.674,-35\" fill=\"none\" stroke=\"#000000\"/>\n",
       "<text fill=\"#000000\" font-family=\"Courier,monospace\" font-size=\"10.00\" text-anchor=\"start\" x=\"42\" y=\"-24\">start</text>\n",
       "</g>\n",
       "<!-- _START&#45;&gt;0 -->\n",
       "<g class=\"edge\" id=\"edge1\">\n",
       "<title>_START-&gt;0</title>\n",
       "<path d=\"M1.1345,-27C4.3241,-27 18.9859,-27 32.4885,-27\" fill=\"none\" stroke=\"#000000\"/>\n",
       "<polygon fill=\"#000000\" points=\"37.7747,-27 32.7748,-29.2501 35.2747,-27 32.7747,-27.0001 32.7747,-27.0001 32.7747,-27.0001 35.2747,-27 32.7747,-24.7501 37.7747,-27 37.7747,-27\" stroke=\"#000000\"/>\n",
       "</g>\n",
       "<!-- 4 -->\n",
       "<g class=\"node\" id=\"node6\">\n",
       "<title>4</title>\n",
       "<path d=\"M131.339,-35C131.339,-35 126.6717,-35 126.6717,-35 124.3381,-35 122.0044,-32.6663 122.0044,-30.3327 122.0044,-30.3327 122.0044,-23.6673 122.0044,-23.6673 122.0044,-21.3337 124.3381,-19 126.6717,-19 126.6717,-19 131.339,-19 131.339,-19 133.6727,-19 136.0063,-21.3337 136.0063,-23.6673 136.0063,-23.6673 136.0063,-30.3327 136.0063,-30.3327 136.0063,-32.6663 133.6727,-35 131.339,-35\" fill=\"none\" stroke=\"#000000\"/>\n",
       "<text fill=\"#000000\" font-family=\"Courier,monospace\" font-size=\"10.00\" text-anchor=\"middle\" x=\"129.0054\" y=\"-24\">1</text>\n",
       "</g>\n",
       "<!-- 0&#45;&gt;4 -->\n",
       "<g class=\"edge\" id=\"edge4\">\n",
       "<title>0-&gt;4</title>\n",
       "<path d=\"M76.2979,-27C89.0682,-27 105.442,-27 116.5258,-27\" fill=\"none\" stroke=\"#000000\"/>\n",
       "<polygon fill=\"#000000\" points=\"121.7926,-27 116.7926,-29.2501 119.2926,-27 116.7926,-27.0001 116.7926,-27.0001 116.7926,-27.0001 119.2926,-27 116.7925,-24.7501 121.7926,-27 121.7926,-27\" stroke=\"#000000\"/>\n",
       "<text fill=\"#000000\" font-family=\"Courier,monospace\" font-size=\"9.00\" text-anchor=\"start\" x=\"96.9175\" y=\"-32.8\">ε</text>\n",
       "</g>\n",
       "<!-- 1 -->\n",
       "<g class=\"node\" id=\"node3\">\n",
       "<title>1</title>\n",
       "<path d=\"M347.6828,-35C347.6828,-35 314.3387,-35 314.3387,-35 311.672,-35 309.0053,-32.3333 309.0053,-29.6667 309.0053,-29.6667 309.0053,-24.3333 309.0053,-24.3333 309.0053,-21.6667 311.672,-19 314.3387,-19 314.3387,-19 347.6828,-19 347.6828,-19 350.3495,-19 353.0162,-21.6667 353.0162,-24.3333 353.0162,-24.3333 353.0162,-29.6667 353.0162,-29.6667 353.0162,-32.3333 350.3495,-35 347.6828,-35\" fill=\"none\" stroke=\"#000000\"/>\n",
       "<path d=\"M349.0166,-39C349.0166,-39 313.0049,-39 313.0049,-39 309.0049,-39 305.0049,-35 305.0049,-31 305.0049,-31 305.0049,-23 305.0049,-23 305.0049,-19 309.0049,-15 313.0049,-15 313.0049,-15 349.0166,-15 349.0166,-15 353.0166,-15 357.0166,-19 357.0166,-23 357.0166,-23 357.0166,-31 357.0166,-31 357.0166,-35 353.0166,-39 349.0166,-39\" fill=\"none\" stroke=\"#000000\"/>\n",
       "<text fill=\"#000000\" font-family=\"Courier,monospace\" font-size=\"10.00\" text-anchor=\"start\" x=\"313.0078\" y=\"-24\">accept</text>\n",
       "</g>\n",
       "<!-- 2 -->\n",
       "<g class=\"node\" id=\"node4\">\n",
       "<title>2</title>\n",
       "<path d=\"M192.34,-16C192.34,-16 187.6727,-16 187.6727,-16 185.339,-16 183.0054,-13.6663 183.0054,-11.3327 183.0054,-11.3327 183.0054,-4.6673 183.0054,-4.6673 183.0054,-2.3337 185.339,0 187.6727,0 187.6727,0 192.34,0 192.34,0 194.6737,0 197.0073,-2.3337 197.0073,-4.6673 197.0073,-4.6673 197.0073,-11.3327 197.0073,-11.3327 197.0073,-13.6663 194.6737,-16 192.34,-16\" fill=\"none\" stroke=\"#000000\"/>\n",
       "<text fill=\"#000000\" font-family=\"Courier,monospace\" font-size=\"10.00\" text-anchor=\"middle\" x=\"190.0063\" y=\"-5\">2</text>\n",
       "</g>\n",
       "<!-- 3 -->\n",
       "<g class=\"node\" id=\"node5\">\n",
       "<title>3</title>\n",
       "<path d=\"M253.341,-16C253.341,-16 248.6737,-16 248.6737,-16 246.34,-16 244.0063,-13.6663 244.0063,-11.3327 244.0063,-11.3327 244.0063,-4.6673 244.0063,-4.6673 244.0063,-2.3337 246.34,0 248.6737,0 248.6737,0 253.341,0 253.341,0 255.6746,0 258.0083,-2.3337 258.0083,-4.6673 258.0083,-4.6673 258.0083,-11.3327 258.0083,-11.3327 258.0083,-13.6663 255.6746,-16 253.341,-16\" fill=\"none\" stroke=\"#000000\"/>\n",
       "<text fill=\"#000000\" font-family=\"Courier,monospace\" font-size=\"10.00\" text-anchor=\"middle\" x=\"251.0073\" y=\"-5\">3</text>\n",
       "</g>\n",
       "<!-- 2&#45;&gt;3 -->\n",
       "<g class=\"edge\" id=\"edge6\">\n",
       "<title>2-&gt;3</title>\n",
       "<path d=\"M197.4863,-8C207.7494,-8 226.3266,-8 238.6667,-8\" fill=\"none\" stroke=\"#000000\"/>\n",
       "<polygon fill=\"#000000\" points=\"243.8454,-8 238.8454,-10.2501 241.3454,-8 238.8454,-8.0001 238.8454,-8.0001 238.8454,-8.0001 241.3454,-8 238.8453,-5.7501 243.8454,-8 243.8454,-8\" stroke=\"#000000\"/>\n",
       "<text fill=\"#000000\" font-family=\"Courier,monospace\" font-size=\"9.00\" text-anchor=\"start\" x=\"218.3064\" y=\"-12.3\">b</text>\n",
       "</g>\n",
       "<!-- 3&#45;&gt;1 -->\n",
       "<g class=\"edge\" id=\"edge5\">\n",
       "<title>3-&gt;1</title>\n",
       "<path d=\"M258.192,-9.5384C265.4676,-11.1099 277.0378,-13.6465 287.0078,-16 291.1942,-16.9882 295.5975,-18.0556 299.9345,-19.1232\" fill=\"none\" stroke=\"#000000\"/>\n",
       "<polygon fill=\"#000000\" points=\"304.9784,-20.372 299.5841,-21.3544 302.5516,-19.7712 300.1249,-19.1703 300.1249,-19.1703 300.1249,-19.1703 302.5516,-19.7712 300.6657,-16.9863 304.9784,-20.372 304.9784,-20.372\" stroke=\"#000000\"/>\n",
       "<text fill=\"#000000\" font-family=\"Courier,monospace\" font-size=\"9.00\" text-anchor=\"start\" x=\"279.3074\" y=\"-20.3\">c</text>\n",
       "</g>\n",
       "<!-- 4&#45;&gt;1 -->\n",
       "<g class=\"edge\" id=\"edge3\">\n",
       "<title>4-&gt;1</title>\n",
       "<path d=\"M136.4071,-28.5005C141.3633,-29.427 148.0467,-30.5263 154.0059,-31 212.932,-35.6842 227.9565,-33.6784 287.0078,-31 291.1937,-30.8101 295.5968,-30.5192 299.9337,-30.1789\" fill=\"none\" stroke=\"#000000\"/>\n",
       "<polygon fill=\"#000000\" points=\"304.9774,-29.7599 300.1809,-32.4162 302.486,-29.9669 299.9946,-30.1739 299.9946,-30.1739 299.9946,-30.1739 302.486,-29.9669 299.8083,-27.9317 304.9774,-29.7599 304.9774,-29.7599\" stroke=\"#000000\"/>\n",
       "<text fill=\"#000000\" font-family=\"Courier,monospace\" font-size=\"9.00\" text-anchor=\"start\" x=\"218.3064\" y=\"-37.3\">a</text>\n",
       "</g>\n",
       "<!-- 4&#45;&gt;2 -->\n",
       "<g class=\"edge\" id=\"edge2\">\n",
       "<title>4-&gt;2</title>\n",
       "<path d=\"M136.2954,-23.3384C141.2046,-20.9867 147.8773,-18.0077 154.0059,-16 161.8604,-13.4268 170.9479,-11.4145 178.0275,-10.0517\" fill=\"none\" stroke=\"#000000\"/>\n",
       "<polygon fill=\"#000000\" points=\"182.9962,-9.1376 178.4859,-12.2552 180.5375,-9.59 178.0787,-10.0424 178.0787,-10.0424 178.0787,-10.0424 180.5375,-9.59 177.6716,-7.8295 182.9962,-9.1376 182.9962,-9.1376\" stroke=\"#000000\"/>\n",
       "<text fill=\"#000000\" font-family=\"Courier,monospace\" font-size=\"9.00\" text-anchor=\"start\" x=\"157.3054\" y=\"-20.3\">a</text>\n",
       "</g>\n",
       "</g>\n",
       "</svg>"
      ],
      "text/plain": [
       "<IPython.core.display.SVG object>"
      ]
     },
     "metadata": {},
     "output_type": "display_data"
    },
    {
     "data": {
      "text/html": [
       "eliminate 3"
      ],
      "text/plain": [
       "<IPython.core.display.HTML object>"
      ]
     },
     "metadata": {},
     "output_type": "display_data"
    },
    {
     "data": {
      "image/svg+xml": [
       "<svg height=\"64pt\" viewBox=\"0.00 0.00 315.01 64.00\" width=\"315pt\" xmlns=\"http://www.w3.org/2000/svg\" xmlns:xlink=\"http://www.w3.org/1999/xlink\">\n",
       "<g class=\"graph\" id=\"graph0\" transform=\"scale(1 1) rotate(0) translate(4 60)\">\n",
       "<title>%3</title>\n",
       "<polygon fill=\"#ffffff\" points=\"-4,4 -4,-60 311.0127,-60 311.0127,4 -4,4\" stroke=\"transparent\"/>\n",
       "<!-- _START -->\n",
       "<g class=\"node\" id=\"node1\">\n",
       "<title>_START</title>\n",
       "</g>\n",
       "<!-- 0 -->\n",
       "<g class=\"node\" id=\"node2\">\n",
       "<title>0</title>\n",
       "<path d=\"M70.674,-38C70.674,-38 43.3309,-38 43.3309,-38 40.6642,-38 37.9976,-35.3333 37.9976,-32.6667 37.9976,-32.6667 37.9976,-27.3333 37.9976,-27.3333 37.9976,-24.6667 40.6642,-22 43.3309,-22 43.3309,-22 70.674,-22 70.674,-22 73.3407,-22 76.0073,-24.6667 76.0073,-27.3333 76.0073,-27.3333 76.0073,-32.6667 76.0073,-32.6667 76.0073,-35.3333 73.3407,-38 70.674,-38\" fill=\"none\" stroke=\"#000000\"/>\n",
       "<text fill=\"#000000\" font-family=\"Courier,monospace\" font-size=\"10.00\" text-anchor=\"start\" x=\"42\" y=\"-27\">start</text>\n",
       "</g>\n",
       "<!-- _START&#45;&gt;0 -->\n",
       "<g class=\"edge\" id=\"edge1\">\n",
       "<title>_START-&gt;0</title>\n",
       "<path d=\"M1.1345,-30C4.3241,-30 18.9859,-30 32.4885,-30\" fill=\"none\" stroke=\"#000000\"/>\n",
       "<polygon fill=\"#000000\" points=\"37.7747,-30 32.7748,-32.2501 35.2747,-30 32.7747,-30.0001 32.7747,-30.0001 32.7747,-30.0001 35.2747,-30 32.7747,-27.7501 37.7747,-30 37.7747,-30\" stroke=\"#000000\"/>\n",
       "</g>\n",
       "<!-- 3 -->\n",
       "<g class=\"node\" id=\"node5\">\n",
       "<title>3</title>\n",
       "<path d=\"M131.339,-38C131.339,-38 126.6717,-38 126.6717,-38 124.3381,-38 122.0044,-35.6663 122.0044,-33.3327 122.0044,-33.3327 122.0044,-26.6673 122.0044,-26.6673 122.0044,-24.3337 124.3381,-22 126.6717,-22 126.6717,-22 131.339,-22 131.339,-22 133.6727,-22 136.0063,-24.3337 136.0063,-26.6673 136.0063,-26.6673 136.0063,-33.3327 136.0063,-33.3327 136.0063,-35.6663 133.6727,-38 131.339,-38\" fill=\"none\" stroke=\"#000000\"/>\n",
       "<text fill=\"#000000\" font-family=\"Courier,monospace\" font-size=\"10.00\" text-anchor=\"middle\" x=\"129.0054\" y=\"-27\">1</text>\n",
       "</g>\n",
       "<!-- 0&#45;&gt;3 -->\n",
       "<g class=\"edge\" id=\"edge4\">\n",
       "<title>0-&gt;3</title>\n",
       "<path d=\"M76.2979,-30C89.0682,-30 105.442,-30 116.5258,-30\" fill=\"none\" stroke=\"#000000\"/>\n",
       "<polygon fill=\"#000000\" points=\"121.7926,-30 116.7926,-32.2501 119.2926,-30 116.7926,-30.0001 116.7926,-30.0001 116.7926,-30.0001 119.2926,-30 116.7925,-27.7501 121.7926,-30 121.7926,-30\" stroke=\"#000000\"/>\n",
       "<text fill=\"#000000\" font-family=\"Courier,monospace\" font-size=\"9.00\" text-anchor=\"start\" x=\"96.9175\" y=\"-35.8\">ε</text>\n",
       "</g>\n",
       "<!-- 1 -->\n",
       "<g class=\"node\" id=\"node3\">\n",
       "<title>1</title>\n",
       "<path d=\"M297.6818,-38C297.6818,-38 264.3377,-38 264.3377,-38 261.671,-38 259.0044,-35.3333 259.0044,-32.6667 259.0044,-32.6667 259.0044,-27.3333 259.0044,-27.3333 259.0044,-24.6667 261.671,-22 264.3377,-22 264.3377,-22 297.6818,-22 297.6818,-22 300.3485,-22 303.0152,-24.6667 303.0152,-27.3333 303.0152,-27.3333 303.0152,-32.6667 303.0152,-32.6667 303.0152,-35.3333 300.3485,-38 297.6818,-38\" fill=\"none\" stroke=\"#000000\"/>\n",
       "<path d=\"M299.0156,-42C299.0156,-42 263.0039,-42 263.0039,-42 259.0039,-42 255.0039,-38 255.0039,-34 255.0039,-34 255.0039,-26 255.0039,-26 255.0039,-22 259.0039,-18 263.0039,-18 263.0039,-18 299.0156,-18 299.0156,-18 303.0156,-18 307.0156,-22 307.0156,-26 307.0156,-26 307.0156,-34 307.0156,-34 307.0156,-38 303.0156,-42 299.0156,-42\" fill=\"none\" stroke=\"#000000\"/>\n",
       "<text fill=\"#000000\" font-family=\"Courier,monospace\" font-size=\"10.00\" text-anchor=\"start\" x=\"263.0068\" y=\"-27\">accept</text>\n",
       "</g>\n",
       "<!-- 2 -->\n",
       "<g class=\"node\" id=\"node4\">\n",
       "<title>2</title>\n",
       "<path d=\"M192.34,-16C192.34,-16 187.6727,-16 187.6727,-16 185.339,-16 183.0054,-13.6663 183.0054,-11.3327 183.0054,-11.3327 183.0054,-4.6673 183.0054,-4.6673 183.0054,-2.3337 185.339,0 187.6727,0 187.6727,0 192.34,0 192.34,0 194.6737,0 197.0073,-2.3337 197.0073,-4.6673 197.0073,-4.6673 197.0073,-11.3327 197.0073,-11.3327 197.0073,-13.6663 194.6737,-16 192.34,-16\" fill=\"none\" stroke=\"#000000\"/>\n",
       "<text fill=\"#000000\" font-family=\"Courier,monospace\" font-size=\"10.00\" text-anchor=\"middle\" x=\"190.0063\" y=\"-5\">2</text>\n",
       "</g>\n",
       "<!-- 2&#45;&gt;1 -->\n",
       "<g class=\"edge\" id=\"edge5\">\n",
       "<title>2-&gt;1</title>\n",
       "<path d=\"M197.1472,-9.7263C208.3308,-12.4299 230.6444,-17.8242 249.4447,-22.3692\" fill=\"none\" stroke=\"#000000\"/>\n",
       "<polygon fill=\"#000000\" points=\"254.642,-23.6256 249.2532,-24.6376 252.212,-23.0381 249.782,-22.4506 249.782,-22.4506 249.782,-22.4506 252.212,-23.0381 250.3107,-20.2636 254.642,-23.6256 254.642,-23.6256\" stroke=\"#000000\"/>\n",
       "<text fill=\"#000000\" font-family=\"Courier,monospace\" font-size=\"9.00\" text-anchor=\"start\" x=\"217.9055\" y=\"-23.3\">b c</text>\n",
       "</g>\n",
       "<!-- 3&#45;&gt;1 -->\n",
       "<g class=\"edge\" id=\"edge3\">\n",
       "<title>3-&gt;1</title>\n",
       "<path d=\"M136.2987,-32.9954C141.2092,-34.846 147.8823,-37.0441 154.0059,-38 190.4538,-43.6895 200.2666,-41.3127 237.0068,-38 241.0305,-37.6372 245.2364,-37.0914 249.3841,-36.452\" fill=\"none\" stroke=\"#000000\"/>\n",
       "<polygon fill=\"#000000\" points=\"254.5887,-35.5987 250.0186,-38.6281 252.1216,-36.0032 249.6545,-36.4077 249.6545,-36.4077 249.6545,-36.4077 252.1216,-36.0032 249.2905,-34.1874 254.5887,-35.5987 254.5887,-35.5987\" stroke=\"#000000\"/>\n",
       "<text fill=\"#000000\" font-family=\"Courier,monospace\" font-size=\"9.00\" text-anchor=\"start\" x=\"187.8059\" y=\"-45.3\">a</text>\n",
       "</g>\n",
       "<!-- 3&#45;&gt;2 -->\n",
       "<g class=\"edge\" id=\"edge2\">\n",
       "<title>3-&gt;2</title>\n",
       "<path d=\"M136.4853,-27.3024C146.8409,-23.5676 165.661,-16.7801 177.9978,-12.3309\" fill=\"none\" stroke=\"#000000\"/>\n",
       "<polygon fill=\"#000000\" points=\"182.8444,-10.583 178.9043,-14.3959 180.4927,-11.4311 178.1409,-12.2793 178.1409,-12.2793 178.1409,-12.2793 180.4927,-11.4311 177.3776,-10.1628 182.8444,-10.583 182.8444,-10.583\" stroke=\"#000000\"/>\n",
       "<text fill=\"#000000\" font-family=\"Courier,monospace\" font-size=\"9.00\" text-anchor=\"start\" x=\"157.3054\" y=\"-24.3\">a</text>\n",
       "</g>\n",
       "</g>\n",
       "</svg>"
      ],
      "text/plain": [
       "<IPython.core.display.SVG object>"
      ]
     },
     "metadata": {},
     "output_type": "display_data"
    },
    {
     "data": {
      "text/html": [
       "eliminate 2"
      ],
      "text/plain": [
       "<IPython.core.display.HTML object>"
      ]
     },
     "metadata": {},
     "output_type": "display_data"
    },
    {
     "data": {
      "image/svg+xml": [
       "<svg height=\"36pt\" viewBox=\"0.00 0.00 275.01 36.00\" width=\"275pt\" xmlns=\"http://www.w3.org/2000/svg\" xmlns:xlink=\"http://www.w3.org/1999/xlink\">\n",
       "<g class=\"graph\" id=\"graph0\" transform=\"scale(1 1) rotate(0) translate(4 32)\">\n",
       "<title>%3</title>\n",
       "<polygon fill=\"#ffffff\" points=\"-4,4 -4,-32 271.0117,-32 271.0117,4 -4,4\" stroke=\"transparent\"/>\n",
       "<!-- _START -->\n",
       "<g class=\"node\" id=\"node1\">\n",
       "<title>_START</title>\n",
       "</g>\n",
       "<!-- 0 -->\n",
       "<g class=\"node\" id=\"node2\">\n",
       "<title>0</title>\n",
       "<path d=\"M70.674,-20C70.674,-20 43.3309,-20 43.3309,-20 40.6642,-20 37.9976,-17.3333 37.9976,-14.6667 37.9976,-14.6667 37.9976,-9.3333 37.9976,-9.3333 37.9976,-6.6667 40.6642,-4 43.3309,-4 43.3309,-4 70.674,-4 70.674,-4 73.3407,-4 76.0073,-6.6667 76.0073,-9.3333 76.0073,-9.3333 76.0073,-14.6667 76.0073,-14.6667 76.0073,-17.3333 73.3407,-20 70.674,-20\" fill=\"none\" stroke=\"#000000\"/>\n",
       "<text fill=\"#000000\" font-family=\"Courier,monospace\" font-size=\"10.00\" text-anchor=\"start\" x=\"42\" y=\"-9\">start</text>\n",
       "</g>\n",
       "<!-- _START&#45;&gt;0 -->\n",
       "<g class=\"edge\" id=\"edge1\">\n",
       "<title>_START-&gt;0</title>\n",
       "<path d=\"M1.1345,-12C4.3241,-12 18.9859,-12 32.4885,-12\" fill=\"none\" stroke=\"#000000\"/>\n",
       "<polygon fill=\"#000000\" points=\"37.7747,-12 32.7748,-14.2501 35.2747,-12 32.7747,-12.0001 32.7747,-12.0001 32.7747,-12.0001 35.2747,-12 32.7747,-9.7501 37.7747,-12 37.7747,-12\" stroke=\"#000000\"/>\n",
       "</g>\n",
       "<!-- 2 -->\n",
       "<g class=\"node\" id=\"node4\">\n",
       "<title>2</title>\n",
       "<path d=\"M131.339,-20C131.339,-20 126.6717,-20 126.6717,-20 124.3381,-20 122.0044,-17.6663 122.0044,-15.3327 122.0044,-15.3327 122.0044,-8.6673 122.0044,-8.6673 122.0044,-6.3337 124.3381,-4 126.6717,-4 126.6717,-4 131.339,-4 131.339,-4 133.6727,-4 136.0063,-6.3337 136.0063,-8.6673 136.0063,-8.6673 136.0063,-15.3327 136.0063,-15.3327 136.0063,-17.6663 133.6727,-20 131.339,-20\" fill=\"none\" stroke=\"#000000\"/>\n",
       "<text fill=\"#000000\" font-family=\"Courier,monospace\" font-size=\"10.00\" text-anchor=\"middle\" x=\"129.0054\" y=\"-9\">1</text>\n",
       "</g>\n",
       "<!-- 0&#45;&gt;2 -->\n",
       "<g class=\"edge\" id=\"edge3\">\n",
       "<title>0-&gt;2</title>\n",
       "<path d=\"M76.2979,-12C89.0682,-12 105.442,-12 116.5258,-12\" fill=\"none\" stroke=\"#000000\"/>\n",
       "<polygon fill=\"#000000\" points=\"121.7926,-12 116.7926,-14.2501 119.2926,-12 116.7926,-12.0001 116.7926,-12.0001 116.7926,-12.0001 119.2926,-12 116.7925,-9.7501 121.7926,-12 121.7926,-12\" stroke=\"#000000\"/>\n",
       "<text fill=\"#000000\" font-family=\"Courier,monospace\" font-size=\"9.00\" text-anchor=\"start\" x=\"96.9175\" y=\"-17.8\">ε</text>\n",
       "</g>\n",
       "<!-- 1 -->\n",
       "<g class=\"node\" id=\"node3\">\n",
       "<title>1</title>\n",
       "<path d=\"M257.6809,-20C257.6809,-20 224.3367,-20 224.3367,-20 221.67,-20 219.0034,-17.3333 219.0034,-14.6667 219.0034,-14.6667 219.0034,-9.3333 219.0034,-9.3333 219.0034,-6.6667 221.67,-4 224.3367,-4 224.3367,-4 257.6809,-4 257.6809,-4 260.3475,-4 263.0142,-6.6667 263.0142,-9.3333 263.0142,-9.3333 263.0142,-14.6667 263.0142,-14.6667 263.0142,-17.3333 260.3475,-20 257.6809,-20\" fill=\"none\" stroke=\"#000000\"/>\n",
       "<path d=\"M259.0146,-24C259.0146,-24 223.0029,-24 223.0029,-24 219.0029,-24 215.0029,-20 215.0029,-16 215.0029,-16 215.0029,-8 215.0029,-8 215.0029,-4 219.0029,0 223.0029,0 223.0029,0 259.0146,0 259.0146,0 263.0146,0 267.0146,-4 267.0146,-8 267.0146,-8 267.0146,-16 267.0146,-16 267.0146,-20 263.0146,-24 259.0146,-24\" fill=\"none\" stroke=\"#000000\"/>\n",
       "<text fill=\"#000000\" font-family=\"Courier,monospace\" font-size=\"10.00\" text-anchor=\"start\" x=\"223.0059\" y=\"-9\">accept</text>\n",
       "</g>\n",
       "<!-- 2&#45;&gt;1 -->\n",
       "<g class=\"edge\" id=\"edge2\">\n",
       "<title>2-&gt;1</title>\n",
       "<path d=\"M136.0117,-12C150.4086,-12 184.0958,-12 209.4578,-12\" fill=\"none\" stroke=\"#000000\"/>\n",
       "<polygon fill=\"#000000\" points=\"214.7335,-12 209.7335,-14.2501 212.2335,-12 209.7335,-12.0001 209.7335,-12.0001 209.7335,-12.0001 212.2335,-12 209.7334,-9.7501 214.7335,-12 214.7335,-12\" stroke=\"#000000\"/>\n",
       "<text fill=\"#000000\" font-family=\"Courier,monospace\" font-size=\"9.00\" text-anchor=\"start\" x=\"157.1028\" y=\"-16.3\">a|a b c</text>\n",
       "</g>\n",
       "</g>\n",
       "</svg>"
      ],
      "text/plain": [
       "<IPython.core.display.SVG object>"
      ]
     },
     "metadata": {},
     "output_type": "display_data"
    },
    {
     "data": {
      "text/html": [
       "eliminate 1"
      ],
      "text/plain": [
       "<IPython.core.display.HTML object>"
      ]
     },
     "metadata": {},
     "output_type": "display_data"
    },
    {
     "data": {
      "image/svg+xml": [
       "<svg height=\"35pt\" viewBox=\"0.00 0.00 215.01 35.00\" width=\"215pt\" xmlns=\"http://www.w3.org/2000/svg\" xmlns:xlink=\"http://www.w3.org/1999/xlink\">\n",
       "<g class=\"graph\" id=\"graph0\" transform=\"scale(1 1) rotate(0) translate(4 31)\">\n",
       "<title>%3</title>\n",
       "<polygon fill=\"#ffffff\" points=\"-4,4 -4,-31 211.0107,-31 211.0107,4 -4,4\" stroke=\"transparent\"/>\n",
       "<!-- _START -->\n",
       "<g class=\"node\" id=\"node1\">\n",
       "<title>_START</title>\n",
       "</g>\n",
       "<!-- 0 -->\n",
       "<g class=\"node\" id=\"node2\">\n",
       "<title>0</title>\n",
       "<path d=\"M70.674,-20C70.674,-20 43.3309,-20 43.3309,-20 40.6642,-20 37.9976,-17.3333 37.9976,-14.6667 37.9976,-14.6667 37.9976,-9.3333 37.9976,-9.3333 37.9976,-6.6667 40.6642,-4 43.3309,-4 43.3309,-4 70.674,-4 70.674,-4 73.3407,-4 76.0073,-6.6667 76.0073,-9.3333 76.0073,-9.3333 76.0073,-14.6667 76.0073,-14.6667 76.0073,-17.3333 73.3407,-20 70.674,-20\" fill=\"none\" stroke=\"#000000\"/>\n",
       "<text fill=\"#000000\" font-family=\"Courier,monospace\" font-size=\"10.00\" text-anchor=\"start\" x=\"42\" y=\"-9\">start</text>\n",
       "</g>\n",
       "<!-- _START&#45;&gt;0 -->\n",
       "<g class=\"edge\" id=\"edge1\">\n",
       "<title>_START-&gt;0</title>\n",
       "<path d=\"M1.1345,-12C4.3241,-12 18.9859,-12 32.4885,-12\" fill=\"none\" stroke=\"#000000\"/>\n",
       "<polygon fill=\"#000000\" points=\"37.7747,-12 32.7748,-14.2501 35.2747,-12 32.7747,-12.0001 32.7747,-12.0001 32.7747,-12.0001 35.2747,-12 32.7747,-9.7501 37.7747,-12 37.7747,-12\" stroke=\"#000000\"/>\n",
       "</g>\n",
       "<!-- 1 -->\n",
       "<g class=\"node\" id=\"node3\">\n",
       "<title>1</title>\n",
       "<path d=\"M197.6799,-20C197.6799,-20 164.3357,-20 164.3357,-20 161.6691,-20 159.0024,-17.3333 159.0024,-14.6667 159.0024,-14.6667 159.0024,-9.3333 159.0024,-9.3333 159.0024,-6.6667 161.6691,-4 164.3357,-4 164.3357,-4 197.6799,-4 197.6799,-4 200.3466,-4 203.0132,-6.6667 203.0132,-9.3333 203.0132,-9.3333 203.0132,-14.6667 203.0132,-14.6667 203.0132,-17.3333 200.3466,-20 197.6799,-20\" fill=\"none\" stroke=\"#000000\"/>\n",
       "<path d=\"M199.0137,-24C199.0137,-24 163.002,-24 163.002,-24 159.002,-24 155.002,-20 155.002,-16 155.002,-16 155.002,-8 155.002,-8 155.002,-4 159.002,0 163.002,0 163.002,0 199.0137,0 199.0137,0 203.0137,0 207.0137,-4 207.0137,-8 207.0137,-8 207.0137,-16 207.0137,-16 207.0137,-20 203.0137,-24 199.0137,-24\" fill=\"none\" stroke=\"#000000\"/>\n",
       "<text fill=\"#000000\" font-family=\"Courier,monospace\" font-size=\"10.00\" text-anchor=\"start\" x=\"163.0049\" y=\"-9\">accept</text>\n",
       "</g>\n",
       "<!-- 0&#45;&gt;1 -->\n",
       "<g class=\"edge\" id=\"edge2\">\n",
       "<title>0-&gt;1</title>\n",
       "<path d=\"M76.1065,-12C95.6866,-12 126.4618,-12 149.6248,-12\" fill=\"none\" stroke=\"#000000\"/>\n",
       "<polygon fill=\"#000000\" points=\"154.7414,-12 149.7415,-14.2501 152.2414,-12 149.7414,-12.0001 149.7414,-12.0001 149.7414,-12.0001 152.2414,-12 149.7414,-9.7501 154.7414,-12 154.7414,-12\" stroke=\"#000000\"/>\n",
       "<text fill=\"#000000\" font-family=\"Courier,monospace\" font-size=\"9.00\" text-anchor=\"start\" x=\"97.1018\" y=\"-16.3\">a|a b c</text>\n",
       "</g>\n",
       "</g>\n",
       "</svg>"
      ],
      "text/plain": [
       "<IPython.core.display.SVG object>"
      ]
     },
     "metadata": {},
     "output_type": "display_data"
    },
    {
     "data": {
      "text/html": [
       "a|a b c"
      ],
      "text/plain": [
       "<tock.regexps.RegularExpression at 0x10bfc0a90>"
      ]
     },
     "execution_count": 7,
     "metadata": {},
     "output_type": "execute_result"
    }
   ],
   "source": [
    "to_regexp(m, display_steps=True)"
   ]
  },
  {
   "cell_type": "markdown",
   "metadata": {},
   "source": [
    "Eliminating 4 is not very interesting; let's skip it for now. Eliminating 3 concatenates the `b` and `c` transitions into a single `bc` transition. Then, eliminating 2 concatenates the `a` and `bc` transitions into a single `abc` transition. But now there are two parallel transitions, from state 1 to the accept state. So these are unioned into a single `a|abc` transition. Finally, eliminating 1 is not very interesting.\n",
    "\n",
    "The general procedure for eliminating a state is shown in Figure 1.63. Now here's an example with a cycle in it; these give rise to Kleene stars in the resulting expression."
   ]
  },
  {
   "cell_type": "code",
   "execution_count": 8,
   "metadata": {},
   "outputs": [
    {
     "data": {
      "image/svg+xml": [
       "<svg height=\"78pt\" viewBox=\"0.00 0.00 136.00 78.00\" width=\"136pt\" xmlns=\"http://www.w3.org/2000/svg\" xmlns:xlink=\"http://www.w3.org/1999/xlink\">\n",
       "<g class=\"graph\" id=\"graph0\" transform=\"scale(1 1) rotate(0) translate(4 74)\">\n",
       "<title>%3</title>\n",
       "<polygon fill=\"#ffffff\" points=\"-4,4 -4,-74 132,-74 132,4 -4,4\" stroke=\"transparent\"/>\n",
       "<!-- _START -->\n",
       "<g class=\"node\" id=\"node1\">\n",
       "<title>_START</title>\n",
       "</g>\n",
       "<!-- 0 -->\n",
       "<g class=\"node\" id=\"node2\">\n",
       "<title>0</title>\n",
       "<path d=\"M47.8337,-20C47.8337,-20 43.1663,-20 43.1663,-20 40.8327,-20 38.499,-17.6663 38.499,-15.3327 38.499,-15.3327 38.499,-8.6673 38.499,-8.6673 38.499,-6.3337 40.8327,-4 43.1663,-4 43.1663,-4 47.8337,-4 47.8337,-4 50.1673,-4 52.501,-6.3337 52.501,-8.6673 52.501,-8.6673 52.501,-15.3327 52.501,-15.3327 52.501,-17.6663 50.1673,-20 47.8337,-20\" fill=\"none\" stroke=\"#000000\"/>\n",
       "<text fill=\"#000000\" font-family=\"Courier,monospace\" font-size=\"10.00\" text-anchor=\"start\" x=\"42.4995\" y=\"-9\">1</text>\n",
       "</g>\n",
       "<!-- _START&#45;&gt;0 -->\n",
       "<g class=\"edge\" id=\"edge1\">\n",
       "<title>_START-&gt;0</title>\n",
       "<path d=\"M1.0054,-12C4.1203,-12 20.9736,-12 33.0166,-12\" fill=\"none\" stroke=\"#000000\"/>\n",
       "<polygon fill=\"#000000\" points=\"38.1447,-12 33.1447,-14.2501 35.6447,-12 33.1447,-12.0001 33.1447,-12.0001 33.1447,-12.0001 35.6447,-12 33.1447,-9.7501 38.1447,-12 38.1447,-12\" stroke=\"#000000\"/>\n",
       "</g>\n",
       "<!-- 0&#45;&gt;0 -->\n",
       "<g class=\"edge\" id=\"edge2\">\n",
       "<title>0-&gt;0</title>\n",
       "<path d=\"M41.6962,-20.2534C39.4586,-28.652 40.7266,-38 45.5,-38 49.3038,-38 50.8816,-32.0639 50.2334,-25.4025\" fill=\"none\" stroke=\"#000000\"/>\n",
       "<polygon fill=\"#000000\" points=\"49.3038,-20.2534 52.4064,-24.7741 49.748,-22.7137 50.1922,-25.1739 50.1922,-25.1739 50.1922,-25.1739 49.748,-22.7137 47.978,-25.5737 49.3038,-20.2534 49.3038,-20.2534\" stroke=\"#000000\"/>\n",
       "<text fill=\"#000000\" font-family=\"Courier,monospace\" font-size=\"9.00\" text-anchor=\"start\" x=\"43.2996\" y=\"-42.3\">a</text>\n",
       "</g>\n",
       "<!-- 1 -->\n",
       "<g class=\"node\" id=\"node3\">\n",
       "<title>1</title>\n",
       "<path d=\"M116.3336,-20C116.3336,-20 111.6664,-20 111.6664,-20 109.3328,-20 106.9992,-17.6664 106.9992,-15.3328 106.9992,-15.3328 106.9992,-8.6672 106.9992,-8.6672 106.9992,-6.3336 109.3328,-4 111.6664,-4 111.6664,-4 116.3336,-4 116.3336,-4 118.6672,-4 121.0008,-6.3336 121.0008,-8.6672 121.0008,-8.6672 121.0008,-15.3328 121.0008,-15.3328 121.0008,-17.6664 118.6672,-20 116.3336,-20\" fill=\"none\" stroke=\"#000000\"/>\n",
       "<path d=\"M117.667,-24C117.667,-24 110.333,-24 110.333,-24 106.666,-24 102.999,-20.333 102.999,-16.666 102.999,-16.666 102.999,-7.334 102.999,-7.334 102.999,-3.667 106.666,0 110.333,0 110.333,0 117.667,0 117.667,0 121.334,0 125.001,-3.667 125.001,-7.334 125.001,-7.334 125.001,-16.666 125.001,-16.666 125.001,-20.333 121.334,-24 117.667,-24\" fill=\"none\" stroke=\"#000000\"/>\n",
       "<text fill=\"#000000\" font-family=\"Courier,monospace\" font-size=\"10.00\" text-anchor=\"middle\" x=\"114\" y=\"-9\">2</text>\n",
       "</g>\n",
       "<!-- 0&#45;&gt;1 -->\n",
       "<g class=\"edge\" id=\"edge3\">\n",
       "<title>0-&gt;1</title>\n",
       "<path d=\"M52.5727,-12C63.0743,-12 83.0898,-12 97.4207,-12\" fill=\"none\" stroke=\"#000000\"/>\n",
       "<polygon fill=\"#000000\" points=\"102.7916,-12 97.7917,-14.2501 100.2916,-12 97.7916,-12.0001 97.7916,-12.0001 97.7916,-12.0001 100.2916,-12 97.7916,-9.7501 102.7916,-12 102.7916,-12\" stroke=\"#000000\"/>\n",
       "<text fill=\"#000000\" font-family=\"Courier,monospace\" font-size=\"9.00\" text-anchor=\"start\" x=\"74.2996\" y=\"-16.3\">b</text>\n",
       "</g>\n",
       "<!-- 1&#45;&gt;1 -->\n",
       "<g class=\"edge\" id=\"edge4\">\n",
       "<title>1-&gt;1</title>\n",
       "<path d=\"M108.0476,-24.0139C105.969,-32.9717 107.9531,-42 114,-42 118.9131,-42 121.1441,-36.0399 120.6931,-29.0001\" fill=\"none\" stroke=\"#000000\"/>\n",
       "<polygon fill=\"#000000\" points=\"119.9524,-24.0139 122.9128,-28.629 120.3198,-26.4868 120.6872,-28.9596 120.6872,-28.9596 120.6872,-28.9596 120.3198,-26.4868 118.4616,-29.2903 119.9524,-24.0139 119.9524,-24.0139\" stroke=\"#000000\"/>\n",
       "<text fill=\"#000000\" font-family=\"Courier,monospace\" font-size=\"9.00\" text-anchor=\"start\" x=\"111.7996\" y=\"-59.8\">a</text>\n",
       "<text fill=\"#000000\" font-family=\"Courier,monospace\" font-size=\"9.00\" text-anchor=\"start\" x=\"111.7996\" y=\"-46.8\">b</text>\n",
       "</g>\n",
       "</g>\n",
       "</svg>"
      ],
      "text/plain": [
       "<IPython.core.display.SVG object>"
      ]
     },
     "metadata": {},
     "output_type": "display_data"
    }
   ],
   "source": [
    "m66 = read_csv('sipser-1-66.csv')\n",
    "m66"
   ]
  },
  {
   "cell_type": "code",
   "execution_count": 9,
   "metadata": {},
   "outputs": [
    {
     "data": {
      "image/svg+xml": [
       "<svg height=\"61pt\" viewBox=\"0.00 0.00 305.01 61.00\" width=\"305pt\" xmlns=\"http://www.w3.org/2000/svg\" xmlns:xlink=\"http://www.w3.org/1999/xlink\">\n",
       "<g class=\"graph\" id=\"graph0\" transform=\"scale(1 1) rotate(0) translate(4 57)\">\n",
       "<title>%3</title>\n",
       "<polygon fill=\"#ffffff\" points=\"-4,4 -4,-57 301.0107,-57 301.0107,4 -4,4\" stroke=\"transparent\"/>\n",
       "<!-- _START -->\n",
       "<g class=\"node\" id=\"node1\">\n",
       "<title>_START</title>\n",
       "</g>\n",
       "<!-- 0 -->\n",
       "<g class=\"node\" id=\"node2\">\n",
       "<title>0</title>\n",
       "<path d=\"M70.674,-20C70.674,-20 43.3309,-20 43.3309,-20 40.6642,-20 37.9976,-17.3333 37.9976,-14.6667 37.9976,-14.6667 37.9976,-9.3333 37.9976,-9.3333 37.9976,-6.6667 40.6642,-4 43.3309,-4 43.3309,-4 70.674,-4 70.674,-4 73.3407,-4 76.0073,-6.6667 76.0073,-9.3333 76.0073,-9.3333 76.0073,-14.6667 76.0073,-14.6667 76.0073,-17.3333 73.3407,-20 70.674,-20\" fill=\"none\" stroke=\"#000000\"/>\n",
       "<text fill=\"#000000\" font-family=\"Courier,monospace\" font-size=\"10.00\" text-anchor=\"start\" x=\"42\" y=\"-9\">start</text>\n",
       "</g>\n",
       "<!-- _START&#45;&gt;0 -->\n",
       "<g class=\"edge\" id=\"edge1\">\n",
       "<title>_START-&gt;0</title>\n",
       "<path d=\"M1.1345,-12C4.3241,-12 18.9859,-12 32.4885,-12\" fill=\"none\" stroke=\"#000000\"/>\n",
       "<polygon fill=\"#000000\" points=\"37.7747,-12 32.7748,-14.2501 35.2747,-12 32.7747,-12.0001 32.7747,-12.0001 32.7747,-12.0001 35.2747,-12 32.7747,-9.7501 37.7747,-12 37.7747,-12\" stroke=\"#000000\"/>\n",
       "</g>\n",
       "<!-- 3 -->\n",
       "<g class=\"node\" id=\"node5\">\n",
       "<title>3</title>\n",
       "<path d=\"M131.8385,-20C131.8385,-20 127.1712,-20 127.1712,-20 124.8376,-20 122.5039,-17.6663 122.5039,-15.3327 122.5039,-15.3327 122.5039,-8.6673 122.5039,-8.6673 122.5039,-6.3337 124.8376,-4 127.1712,-4 127.1712,-4 131.8385,-4 131.8385,-4 134.1722,-4 136.5059,-6.3337 136.5059,-8.6673 136.5059,-8.6673 136.5059,-15.3327 136.5059,-15.3327 136.5059,-17.6663 134.1722,-20 131.8385,-20\" fill=\"none\" stroke=\"#000000\"/>\n",
       "<text fill=\"#000000\" font-family=\"Courier,monospace\" font-size=\"10.00\" text-anchor=\"middle\" x=\"129.5049\" y=\"-9\">1</text>\n",
       "</g>\n",
       "<!-- 0&#45;&gt;3 -->\n",
       "<g class=\"edge\" id=\"edge4\">\n",
       "<title>0-&gt;3</title>\n",
       "<path d=\"M76.0516,-12C89.0316,-12 105.8419,-12 117.1145,-12\" fill=\"none\" stroke=\"#000000\"/>\n",
       "<polygon fill=\"#000000\" points=\"122.1624,-12 117.1624,-14.2501 119.6624,-12 117.1624,-12.0001 117.1624,-12.0001 117.1624,-12.0001 119.6624,-12 117.1623,-9.7501 122.1624,-12 122.1624,-12\" stroke=\"#000000\"/>\n",
       "<text fill=\"#000000\" font-family=\"Courier,monospace\" font-size=\"9.00\" text-anchor=\"start\" x=\"96.9175\" y=\"-17.8\">ε</text>\n",
       "</g>\n",
       "<!-- 1 -->\n",
       "<g class=\"node\" id=\"node3\">\n",
       "<title>1</title>\n",
       "<path d=\"M287.6799,-20C287.6799,-20 254.3357,-20 254.3357,-20 251.6691,-20 249.0024,-17.3333 249.0024,-14.6667 249.0024,-14.6667 249.0024,-9.3333 249.0024,-9.3333 249.0024,-6.6667 251.6691,-4 254.3357,-4 254.3357,-4 287.6799,-4 287.6799,-4 290.3466,-4 293.0132,-6.6667 293.0132,-9.3333 293.0132,-9.3333 293.0132,-14.6667 293.0132,-14.6667 293.0132,-17.3333 290.3466,-20 287.6799,-20\" fill=\"none\" stroke=\"#000000\"/>\n",
       "<path d=\"M289.0137,-24C289.0137,-24 253.002,-24 253.002,-24 249.002,-24 245.002,-20 245.002,-16 245.002,-16 245.002,-8 245.002,-8 245.002,-4 249.002,0 253.002,0 253.002,0 289.0137,0 289.0137,0 293.0137,0 297.0137,-4 297.0137,-8 297.0137,-8 297.0137,-16 297.0137,-16 297.0137,-20 293.0137,-24 289.0137,-24\" fill=\"none\" stroke=\"#000000\"/>\n",
       "<text fill=\"#000000\" font-family=\"Courier,monospace\" font-size=\"10.00\" text-anchor=\"start\" x=\"253.0049\" y=\"-9\">accept</text>\n",
       "</g>\n",
       "<!-- 2 -->\n",
       "<g class=\"node\" id=\"node4\">\n",
       "<title>2</title>\n",
       "<path d=\"M193.8385,-20C193.8385,-20 189.1712,-20 189.1712,-20 186.8376,-20 184.5039,-17.6663 184.5039,-15.3327 184.5039,-15.3327 184.5039,-8.6673 184.5039,-8.6673 184.5039,-6.3337 186.8376,-4 189.1712,-4 189.1712,-4 193.8385,-4 193.8385,-4 196.1722,-4 198.5059,-6.3337 198.5059,-8.6673 198.5059,-8.6673 198.5059,-15.3327 198.5059,-15.3327 198.5059,-17.6663 196.1722,-20 193.8385,-20\" fill=\"none\" stroke=\"#000000\"/>\n",
       "<text fill=\"#000000\" font-family=\"Courier,monospace\" font-size=\"10.00\" text-anchor=\"middle\" x=\"191.5049\" y=\"-9\">2</text>\n",
       "</g>\n",
       "<!-- 2&#45;&gt;1 -->\n",
       "<g class=\"edge\" id=\"edge6\">\n",
       "<title>2-&gt;1</title>\n",
       "<path d=\"M198.5602,-12C207.8471,-12 224.7732,-12 239.9304,-12\" fill=\"none\" stroke=\"#000000\"/>\n",
       "<polygon fill=\"#000000\" points=\"244.9893,-12 239.9894,-14.2501 242.4893,-12 239.9893,-12.0001 239.9893,-12.0001 239.9893,-12.0001 242.4893,-12 239.9893,-9.7501 244.9893,-12 244.9893,-12\" stroke=\"#000000\"/>\n",
       "<text fill=\"#000000\" font-family=\"Courier,monospace\" font-size=\"9.00\" text-anchor=\"start\" x=\"219.9175\" y=\"-17.8\">ε</text>\n",
       "</g>\n",
       "<!-- 2&#45;&gt;2 -->\n",
       "<g class=\"edge\" id=\"edge5\">\n",
       "<title>2-&gt;2</title>\n",
       "<path d=\"M187.1158,-20.2534C184.5341,-28.652 185.9971,-38 191.5049,-38 195.8939,-38 197.7145,-32.0639 196.9665,-25.4025\" fill=\"none\" stroke=\"#000000\"/>\n",
       "<polygon fill=\"#000000\" points=\"195.8939,-20.2534 199.1164,-24.6895 196.4038,-22.7009 196.9137,-25.1484 196.9137,-25.1484 196.9137,-25.1484 196.4038,-22.7009 194.7109,-25.6073 195.8939,-20.2534 195.8939,-20.2534\" stroke=\"#000000\"/>\n",
       "<text fill=\"#000000\" font-family=\"Courier,monospace\" font-size=\"9.00\" text-anchor=\"start\" x=\"183.4036\" y=\"-42.3\">a|b</text>\n",
       "</g>\n",
       "<!-- 3&#45;&gt;2 -->\n",
       "<g class=\"edge\" id=\"edge3\">\n",
       "<title>3-&gt;2</title>\n",
       "<path d=\"M136.6171,-12C146.9883,-12 166.4105,-12 179.1494,-12\" fill=\"none\" stroke=\"#000000\"/>\n",
       "<polygon fill=\"#000000\" points=\"184.4756,-12 179.4757,-14.2501 181.9756,-12 179.4756,-12.0001 179.4756,-12.0001 179.4756,-12.0001 181.9756,-12 179.4756,-9.7501 184.4756,-12 184.4756,-12\" stroke=\"#000000\"/>\n",
       "<text fill=\"#000000\" font-family=\"Courier,monospace\" font-size=\"9.00\" text-anchor=\"start\" x=\"158.3044\" y=\"-16.3\">b</text>\n",
       "</g>\n",
       "<!-- 3&#45;&gt;3 -->\n",
       "<g class=\"edge\" id=\"edge2\">\n",
       "<title>3-&gt;3</title>\n",
       "<path d=\"M125.1158,-20.2534C122.5341,-28.652 123.9971,-38 129.5049,-38 133.8939,-38 135.7145,-32.0639 134.9665,-25.4025\" fill=\"none\" stroke=\"#000000\"/>\n",
       "<polygon fill=\"#000000\" points=\"133.8939,-20.2534 137.1164,-24.6895 134.4038,-22.7009 134.9137,-25.1484 134.9137,-25.1484 134.9137,-25.1484 134.4038,-22.7009 132.7109,-25.6073 133.8939,-20.2534 133.8939,-20.2534\" stroke=\"#000000\"/>\n",
       "<text fill=\"#000000\" font-family=\"Courier,monospace\" font-size=\"9.00\" text-anchor=\"start\" x=\"127.3044\" y=\"-42.3\">a</text>\n",
       "</g>\n",
       "</g>\n",
       "</svg>"
      ],
      "text/plain": [
       "<IPython.core.display.SVG object>"
      ]
     },
     "metadata": {},
     "output_type": "display_data"
    },
    {
     "data": {
      "text/html": [
       "eliminate 2"
      ],
      "text/plain": [
       "<IPython.core.display.HTML object>"
      ]
     },
     "metadata": {},
     "output_type": "display_data"
    },
    {
     "data": {
      "image/svg+xml": [
       "<svg height=\"61pt\" viewBox=\"0.00 0.00 282.01 61.00\" width=\"282pt\" xmlns=\"http://www.w3.org/2000/svg\" xmlns:xlink=\"http://www.w3.org/1999/xlink\">\n",
       "<g class=\"graph\" id=\"graph0\" transform=\"scale(1 1) rotate(0) translate(4 57)\">\n",
       "<title>%3</title>\n",
       "<polygon fill=\"#ffffff\" points=\"-4,4 -4,-57 278.0107,-57 278.0107,4 -4,4\" stroke=\"transparent\"/>\n",
       "<!-- _START -->\n",
       "<g class=\"node\" id=\"node1\">\n",
       "<title>_START</title>\n",
       "</g>\n",
       "<!-- 0 -->\n",
       "<g class=\"node\" id=\"node2\">\n",
       "<title>0</title>\n",
       "<path d=\"M70.674,-20C70.674,-20 43.3309,-20 43.3309,-20 40.6642,-20 37.9976,-17.3333 37.9976,-14.6667 37.9976,-14.6667 37.9976,-9.3333 37.9976,-9.3333 37.9976,-6.6667 40.6642,-4 43.3309,-4 43.3309,-4 70.674,-4 70.674,-4 73.3407,-4 76.0073,-6.6667 76.0073,-9.3333 76.0073,-9.3333 76.0073,-14.6667 76.0073,-14.6667 76.0073,-17.3333 73.3407,-20 70.674,-20\" fill=\"none\" stroke=\"#000000\"/>\n",
       "<text fill=\"#000000\" font-family=\"Courier,monospace\" font-size=\"10.00\" text-anchor=\"start\" x=\"42\" y=\"-9\">start</text>\n",
       "</g>\n",
       "<!-- _START&#45;&gt;0 -->\n",
       "<g class=\"edge\" id=\"edge1\">\n",
       "<title>_START-&gt;0</title>\n",
       "<path d=\"M1.1345,-12C4.3241,-12 18.9859,-12 32.4885,-12\" fill=\"none\" stroke=\"#000000\"/>\n",
       "<polygon fill=\"#000000\" points=\"37.7747,-12 32.7748,-14.2501 35.2747,-12 32.7747,-12.0001 32.7747,-12.0001 32.7747,-12.0001 35.2747,-12 32.7747,-9.7501 37.7747,-12 37.7747,-12\" stroke=\"#000000\"/>\n",
       "</g>\n",
       "<!-- 2 -->\n",
       "<g class=\"node\" id=\"node4\">\n",
       "<title>2</title>\n",
       "<path d=\"M131.8385,-20C131.8385,-20 127.1712,-20 127.1712,-20 124.8376,-20 122.5039,-17.6663 122.5039,-15.3327 122.5039,-15.3327 122.5039,-8.6673 122.5039,-8.6673 122.5039,-6.3337 124.8376,-4 127.1712,-4 127.1712,-4 131.8385,-4 131.8385,-4 134.1722,-4 136.5059,-6.3337 136.5059,-8.6673 136.5059,-8.6673 136.5059,-15.3327 136.5059,-15.3327 136.5059,-17.6663 134.1722,-20 131.8385,-20\" fill=\"none\" stroke=\"#000000\"/>\n",
       "<text fill=\"#000000\" font-family=\"Courier,monospace\" font-size=\"10.00\" text-anchor=\"middle\" x=\"129.5049\" y=\"-9\">1</text>\n",
       "</g>\n",
       "<!-- 0&#45;&gt;2 -->\n",
       "<g class=\"edge\" id=\"edge4\">\n",
       "<title>0-&gt;2</title>\n",
       "<path d=\"M76.0516,-12C89.0316,-12 105.8419,-12 117.1145,-12\" fill=\"none\" stroke=\"#000000\"/>\n",
       "<polygon fill=\"#000000\" points=\"122.1624,-12 117.1624,-14.2501 119.6624,-12 117.1624,-12.0001 117.1624,-12.0001 117.1624,-12.0001 119.6624,-12 117.1623,-9.7501 122.1624,-12 122.1624,-12\" stroke=\"#000000\"/>\n",
       "<text fill=\"#000000\" font-family=\"Courier,monospace\" font-size=\"9.00\" text-anchor=\"start\" x=\"96.9175\" y=\"-17.8\">ε</text>\n",
       "</g>\n",
       "<!-- 1 -->\n",
       "<g class=\"node\" id=\"node3\">\n",
       "<title>1</title>\n",
       "<path d=\"M264.6799,-20C264.6799,-20 231.3357,-20 231.3357,-20 228.6691,-20 226.0024,-17.3333 226.0024,-14.6667 226.0024,-14.6667 226.0024,-9.3333 226.0024,-9.3333 226.0024,-6.6667 228.6691,-4 231.3357,-4 231.3357,-4 264.6799,-4 264.6799,-4 267.3466,-4 270.0132,-6.6667 270.0132,-9.3333 270.0132,-9.3333 270.0132,-14.6667 270.0132,-14.6667 270.0132,-17.3333 267.3466,-20 264.6799,-20\" fill=\"none\" stroke=\"#000000\"/>\n",
       "<path d=\"M266.0137,-24C266.0137,-24 230.002,-24 230.002,-24 226.002,-24 222.002,-20 222.002,-16 222.002,-16 222.002,-8 222.002,-8 222.002,-4 226.002,0 230.002,0 230.002,0 266.0137,0 266.0137,0 270.0137,0 274.0137,-4 274.0137,-8 274.0137,-8 274.0137,-16 274.0137,-16 274.0137,-20 270.0137,-24 266.0137,-24\" fill=\"none\" stroke=\"#000000\"/>\n",
       "<text fill=\"#000000\" font-family=\"Courier,monospace\" font-size=\"10.00\" text-anchor=\"start\" x=\"230.0049\" y=\"-9\">accept</text>\n",
       "</g>\n",
       "<!-- 2&#45;&gt;1 -->\n",
       "<g class=\"edge\" id=\"edge3\">\n",
       "<title>2-&gt;1</title>\n",
       "<path d=\"M136.5629,-12C151.8847,-12 189.001,-12 216.2062,-12\" fill=\"none\" stroke=\"#000000\"/>\n",
       "<polygon fill=\"#000000\" points=\"221.5057,-12 216.5057,-14.2501 219.0057,-12 216.5057,-12.0001 216.5057,-12.0001 216.5057,-12.0001 219.0057,-12 216.5056,-9.7501 221.5057,-12 221.5057,-12\" stroke=\"#000000\"/>\n",
       "<text fill=\"#000000\" font-family=\"Courier,monospace\" font-size=\"9.00\" text-anchor=\"start\" x=\"158.4014\" y=\"-16.3\">b (a|b)*</text>\n",
       "</g>\n",
       "<!-- 2&#45;&gt;2 -->\n",
       "<g class=\"edge\" id=\"edge2\">\n",
       "<title>2-&gt;2</title>\n",
       "<path d=\"M125.1158,-20.2534C122.5341,-28.652 123.9971,-38 129.5049,-38 133.8939,-38 135.7145,-32.0639 134.9665,-25.4025\" fill=\"none\" stroke=\"#000000\"/>\n",
       "<polygon fill=\"#000000\" points=\"133.8939,-20.2534 137.1164,-24.6895 134.4038,-22.7009 134.9137,-25.1484 134.9137,-25.1484 134.9137,-25.1484 134.4038,-22.7009 132.7109,-25.6073 133.8939,-20.2534 133.8939,-20.2534\" stroke=\"#000000\"/>\n",
       "<text fill=\"#000000\" font-family=\"Courier,monospace\" font-size=\"9.00\" text-anchor=\"start\" x=\"127.3044\" y=\"-42.3\">a</text>\n",
       "</g>\n",
       "</g>\n",
       "</svg>"
      ],
      "text/plain": [
       "<IPython.core.display.SVG object>"
      ]
     },
     "metadata": {},
     "output_type": "display_data"
    },
    {
     "data": {
      "text/html": [
       "eliminate 1"
      ],
      "text/plain": [
       "<IPython.core.display.HTML object>"
      ]
     },
     "metadata": {},
     "output_type": "display_data"
    },
    {
     "data": {
      "image/svg+xml": [
       "<svg height=\"35pt\" viewBox=\"0.00 0.00 237.01 35.00\" width=\"237pt\" xmlns=\"http://www.w3.org/2000/svg\" xmlns:xlink=\"http://www.w3.org/1999/xlink\">\n",
       "<g class=\"graph\" id=\"graph0\" transform=\"scale(1 1) rotate(0) translate(4 31)\">\n",
       "<title>%3</title>\n",
       "<polygon fill=\"#ffffff\" points=\"-4,4 -4,-31 233.0107,-31 233.0107,4 -4,4\" stroke=\"transparent\"/>\n",
       "<!-- _START -->\n",
       "<g class=\"node\" id=\"node1\">\n",
       "<title>_START</title>\n",
       "</g>\n",
       "<!-- 0 -->\n",
       "<g class=\"node\" id=\"node2\">\n",
       "<title>0</title>\n",
       "<path d=\"M70.674,-20C70.674,-20 43.3309,-20 43.3309,-20 40.6642,-20 37.9976,-17.3333 37.9976,-14.6667 37.9976,-14.6667 37.9976,-9.3333 37.9976,-9.3333 37.9976,-6.6667 40.6642,-4 43.3309,-4 43.3309,-4 70.674,-4 70.674,-4 73.3407,-4 76.0073,-6.6667 76.0073,-9.3333 76.0073,-9.3333 76.0073,-14.6667 76.0073,-14.6667 76.0073,-17.3333 73.3407,-20 70.674,-20\" fill=\"none\" stroke=\"#000000\"/>\n",
       "<text fill=\"#000000\" font-family=\"Courier,monospace\" font-size=\"10.00\" text-anchor=\"start\" x=\"42\" y=\"-9\">start</text>\n",
       "</g>\n",
       "<!-- _START&#45;&gt;0 -->\n",
       "<g class=\"edge\" id=\"edge1\">\n",
       "<title>_START-&gt;0</title>\n",
       "<path d=\"M1.1345,-12C4.3241,-12 18.9859,-12 32.4885,-12\" fill=\"none\" stroke=\"#000000\"/>\n",
       "<polygon fill=\"#000000\" points=\"37.7747,-12 32.7748,-14.2501 35.2747,-12 32.7747,-12.0001 32.7747,-12.0001 32.7747,-12.0001 35.2747,-12 32.7747,-9.7501 37.7747,-12 37.7747,-12\" stroke=\"#000000\"/>\n",
       "</g>\n",
       "<!-- 1 -->\n",
       "<g class=\"node\" id=\"node3\">\n",
       "<title>1</title>\n",
       "<path d=\"M219.6799,-20C219.6799,-20 186.3357,-20 186.3357,-20 183.6691,-20 181.0024,-17.3333 181.0024,-14.6667 181.0024,-14.6667 181.0024,-9.3333 181.0024,-9.3333 181.0024,-6.6667 183.6691,-4 186.3357,-4 186.3357,-4 219.6799,-4 219.6799,-4 222.3466,-4 225.0132,-6.6667 225.0132,-9.3333 225.0132,-9.3333 225.0132,-14.6667 225.0132,-14.6667 225.0132,-17.3333 222.3466,-20 219.6799,-20\" fill=\"none\" stroke=\"#000000\"/>\n",
       "<path d=\"M221.0137,-24C221.0137,-24 185.002,-24 185.002,-24 181.002,-24 177.002,-20 177.002,-16 177.002,-16 177.002,-8 177.002,-8 177.002,-4 181.002,0 185.002,0 185.002,0 221.0137,0 221.0137,0 225.0137,0 229.0137,-4 229.0137,-8 229.0137,-8 229.0137,-16 229.0137,-16 229.0137,-20 225.0137,-24 221.0137,-24\" fill=\"none\" stroke=\"#000000\"/>\n",
       "<text fill=\"#000000\" font-family=\"Courier,monospace\" font-size=\"10.00\" text-anchor=\"start\" x=\"185.0049\" y=\"-9\">accept</text>\n",
       "</g>\n",
       "<!-- 0&#45;&gt;1 -->\n",
       "<g class=\"edge\" id=\"edge2\">\n",
       "<title>0-&gt;1</title>\n",
       "<path d=\"M76.0901,-12C100.3221,-12 142.4605,-12 171.4935,-12\" fill=\"none\" stroke=\"#000000\"/>\n",
       "<polygon fill=\"#000000\" points=\"176.7548,-12 171.7549,-14.2501 174.2548,-12 171.7548,-12.0001 171.7548,-12.0001 171.7548,-12.0001 174.2548,-12 171.7548,-9.7501 176.7548,-12 176.7548,-12\" stroke=\"#000000\"/>\n",
       "<text fill=\"#000000\" font-family=\"Courier,monospace\" font-size=\"9.00\" text-anchor=\"start\" x=\"97.3\" y=\"-16.3\">a* b (a|b)*</text>\n",
       "</g>\n",
       "</g>\n",
       "</svg>"
      ],
      "text/plain": [
       "<IPython.core.display.SVG object>"
      ]
     },
     "metadata": {},
     "output_type": "display_data"
    },
    {
     "data": {
      "text/html": [
       "a* b (a|b)*"
      ],
      "text/plain": [
       "<tock.regexps.RegularExpression at 0x10bfc0dd0>"
      ]
     },
     "execution_count": 9,
     "metadata": {},
     "output_type": "execute_result"
    }
   ],
   "source": [
    "to_regexp(m66, display_steps=True)"
   ]
  },
  {
   "cell_type": "markdown",
   "metadata": {},
   "source": [
    "Eliminating state 2 looks similar to before, but the self-loops turn into subexpressions inside Kleene stars.\n",
    "\n",
    "One more example:"
   ]
  },
  {
   "cell_type": "code",
   "execution_count": 10,
   "metadata": {},
   "outputs": [
    {
     "data": {
      "image/svg+xml": [
       "<svg height=\"113pt\" viewBox=\"0.00 0.00 198.00 113.00\" width=\"198pt\" xmlns=\"http://www.w3.org/2000/svg\" xmlns:xlink=\"http://www.w3.org/1999/xlink\">\n",
       "<g class=\"graph\" id=\"graph0\" transform=\"scale(1 1) rotate(0) translate(4 109)\">\n",
       "<title>%3</title>\n",
       "<polygon fill=\"#ffffff\" points=\"-4,4 -4,-109 194.0029,-109 194.0029,4 -4,4\" stroke=\"transparent\"/>\n",
       "<!-- _START -->\n",
       "<g class=\"node\" id=\"node1\">\n",
       "<title>_START</title>\n",
       "</g>\n",
       "<!-- 2 -->\n",
       "<g class=\"node\" id=\"node4\">\n",
       "<title>2</title>\n",
       "<path d=\"M47.3341,-53C47.3341,-53 42.6668,-53 42.6668,-53 40.3332,-53 37.9995,-50.6663 37.9995,-48.3327 37.9995,-48.3327 37.9995,-41.6673 37.9995,-41.6673 37.9995,-39.3337 40.3332,-37 42.6668,-37 42.6668,-37 47.3341,-37 47.3341,-37 49.6678,-37 52.0015,-39.3337 52.0015,-41.6673 52.0015,-41.6673 52.0015,-48.3327 52.0015,-48.3327 52.0015,-50.6663 49.6678,-53 47.3341,-53\" fill=\"none\" stroke=\"#000000\"/>\n",
       "<text fill=\"#000000\" font-family=\"Courier,monospace\" font-size=\"10.00\" text-anchor=\"middle\" x=\"45.0005\" y=\"-42\">1</text>\n",
       "</g>\n",
       "<!-- _START&#45;&gt;2 -->\n",
       "<g class=\"edge\" id=\"edge1\">\n",
       "<title>_START-&gt;2</title>\n",
       "<path d=\"M1.2724,-45C4.962,-45 21.0921,-45 32.6887,-45\" fill=\"none\" stroke=\"#000000\"/>\n",
       "<polygon fill=\"#000000\" points=\"37.9431,-45 32.9432,-47.2501 35.4431,-45 32.9431,-45.0001 32.9431,-45.0001 32.9431,-45.0001 35.4431,-45 32.9431,-42.7501 37.9431,-45 37.9431,-45\" stroke=\"#000000\"/>\n",
       "</g>\n",
       "<!-- 0 -->\n",
       "<g class=\"node\" id=\"node2\">\n",
       "<title>0</title>\n",
       "<path d=\"M181.336,-68C181.336,-68 176.6688,-68 176.6688,-68 174.3352,-68 172.0016,-65.6664 172.0016,-63.3328 172.0016,-63.3328 172.0016,-56.6672 172.0016,-56.6672 172.0016,-54.3336 174.3352,-52 176.6688,-52 176.6688,-52 181.336,-52 181.336,-52 183.6696,-52 186.0032,-54.3336 186.0032,-56.6672 186.0032,-56.6672 186.0032,-63.3328 186.0032,-63.3328 186.0032,-65.6664 183.6696,-68 181.336,-68\" fill=\"none\" stroke=\"#000000\"/>\n",
       "<path d=\"M182.6694,-72C182.6694,-72 175.3354,-72 175.3354,-72 171.6685,-72 168.0015,-68.333 168.0015,-64.666 168.0015,-64.666 168.0015,-55.334 168.0015,-55.334 168.0015,-51.667 171.6685,-48 175.3354,-48 175.3354,-48 182.6694,-48 182.6694,-48 186.3364,-48 190.0034,-51.667 190.0034,-55.334 190.0034,-55.334 190.0034,-64.666 190.0034,-64.666 190.0034,-68.333 186.3364,-72 182.6694,-72\" fill=\"none\" stroke=\"#000000\"/>\n",
       "<text fill=\"#000000\" font-family=\"Courier,monospace\" font-size=\"10.00\" text-anchor=\"middle\" x=\"179.0024\" y=\"-57\">2</text>\n",
       "</g>\n",
       "<!-- 0&#45;&gt;0 -->\n",
       "<g class=\"edge\" id=\"edge7\">\n",
       "<title>0-&gt;0</title>\n",
       "<path d=\"M173.3807,-72.0139C171.4176,-80.9717 173.2915,-90 179.0024,-90 183.6426,-90 185.7497,-84.0399 185.3237,-77.0001\" fill=\"none\" stroke=\"#000000\"/>\n",
       "<polygon fill=\"#000000\" points=\"184.6241,-72.0139 187.5471,-76.6527 184.9715,-74.4896 185.3189,-76.9654 185.3189,-76.9654 185.3189,-76.9654 184.9715,-74.4896 183.0908,-77.2781 184.6241,-72.0139 184.6241,-72.0139\" stroke=\"#000000\"/>\n",
       "<text fill=\"#000000\" font-family=\"Courier,monospace\" font-size=\"9.00\" text-anchor=\"start\" x=\"176.802\" y=\"-94.3\">b</text>\n",
       "</g>\n",
       "<!-- 0&#45;&gt;2 -->\n",
       "<g class=\"edge\" id=\"edge6\">\n",
       "<title>0-&gt;2</title>\n",
       "<path d=\"M167.7865,-58.7445C142.9522,-55.9646 83.4714,-49.3064 57.4945,-46.3986\" fill=\"none\" stroke=\"#000000\"/>\n",
       "<polygon fill=\"#000000\" points=\"52.205,-45.8065 57.4243,-44.1267 54.6895,-46.0846 57.174,-46.3628 57.174,-46.3628 57.174,-46.3628 54.6895,-46.0846 56.9236,-48.5988 52.205,-45.8065 52.205,-45.8065\" stroke=\"#000000\"/>\n",
       "<text fill=\"#000000\" font-family=\"Courier,monospace\" font-size=\"9.00\" text-anchor=\"start\" x=\"107.801\" y=\"-57.3\">a</text>\n",
       "</g>\n",
       "<!-- 1 -->\n",
       "<g class=\"node\" id=\"node3\">\n",
       "<title>1</title>\n",
       "<path d=\"M112.3351,-20C112.3351,-20 107.6679,-20 107.6679,-20 105.3343,-20 103.0007,-17.6664 103.0007,-15.3328 103.0007,-15.3328 103.0007,-8.6672 103.0007,-8.6672 103.0007,-6.3336 105.3343,-4 107.6679,-4 107.6679,-4 112.3351,-4 112.3351,-4 114.6687,-4 117.0023,-6.3336 117.0023,-8.6672 117.0023,-8.6672 117.0023,-15.3328 117.0023,-15.3328 117.0023,-17.6664 114.6687,-20 112.3351,-20\" fill=\"none\" stroke=\"#000000\"/>\n",
       "<path d=\"M113.6685,-24C113.6685,-24 106.3345,-24 106.3345,-24 102.6675,-24 99.0005,-20.333 99.0005,-16.666 99.0005,-16.666 99.0005,-7.334 99.0005,-7.334 99.0005,-3.667 102.6675,0 106.3345,0 106.3345,0 113.6685,0 113.6685,0 117.3354,0 121.0024,-3.667 121.0024,-7.334 121.0024,-7.334 121.0024,-16.666 121.0024,-16.666 121.0024,-20.333 117.3354,-24 113.6685,-24\" fill=\"none\" stroke=\"#000000\"/>\n",
       "<text fill=\"#000000\" font-family=\"Courier,monospace\" font-size=\"10.00\" text-anchor=\"start\" x=\"107.001\" y=\"-9\">3</text>\n",
       "</g>\n",
       "<!-- 1&#45;&gt;0 -->\n",
       "<g class=\"edge\" id=\"edge5\">\n",
       "<title>1-&gt;0</title>\n",
       "<path d=\"M121.0767,-16.0633C129.4302,-19.4039 140.9558,-24.6178 150.002,-31 155.2745,-34.7199 160.4484,-39.4403 164.9327,-43.9867\" fill=\"none\" stroke=\"#000000\"/>\n",
       "<polygon fill=\"#000000\" points=\"168.5243,-47.739 163.4415,-45.6828 166.7956,-45.9329 165.0669,-44.1269 165.0669,-44.1269 165.0669,-44.1269 166.7956,-45.9329 166.6923,-42.5711 168.5243,-47.739 168.5243,-47.739\" stroke=\"#000000\"/>\n",
       "<text fill=\"#000000\" font-family=\"Courier,monospace\" font-size=\"9.00\" text-anchor=\"start\" x=\"142.3015\" y=\"-35.3\">a</text>\n",
       "</g>\n",
       "<!-- 1&#45;&gt;2 -->\n",
       "<g class=\"edge\" id=\"edge4\">\n",
       "<title>1-&gt;2</title>\n",
       "<path d=\"M98.8264,-6.7739C90.4206,-3.6536 78.8733,-1.1487 70.001,-6 59.8792,-11.5345 53.2513,-23.1106 49.3797,-32.2206\" fill=\"none\" stroke=\"#000000\"/>\n",
       "<polygon fill=\"#000000\" points=\"47.5076,-36.974 47.2464,-31.4972 48.4238,-34.6479 49.3399,-32.3217 49.3399,-32.3217 49.3399,-32.3217 48.4238,-34.6479 51.4334,-33.1463 47.5076,-36.974 47.5076,-36.974\" stroke=\"#000000\"/>\n",
       "<text fill=\"#000000\" font-family=\"Courier,monospace\" font-size=\"9.00\" text-anchor=\"start\" x=\"73.3005\" y=\"-10.3\">b</text>\n",
       "</g>\n",
       "<!-- 2&#45;&gt;0 -->\n",
       "<g class=\"edge\" id=\"edge3\">\n",
       "<title>2-&gt;0</title>\n",
       "<path d=\"M49.6725,-53.0056C54.0428,-59.7327 61.2077,-69.0232 70.001,-74 81.3834,-80.4422 85.9695,-77.8848 99.001,-79 121.6938,-80.942 128.3135,-80.9532 150.002,-74 154.3642,-72.6015 158.9049,-70.664 163.063,-68.6758\" fill=\"none\" stroke=\"#000000\"/>\n",
       "<polygon fill=\"#000000\" points=\"167.7348,-66.3478 164.2632,-70.5917 165.4972,-67.4629 163.2597,-68.5779 163.2597,-68.5779 163.2597,-68.5779 165.4972,-67.4629 162.2561,-66.564 167.7348,-66.3478 167.7348,-66.3478\" stroke=\"#000000\"/>\n",
       "<text fill=\"#000000\" font-family=\"Courier,monospace\" font-size=\"9.00\" text-anchor=\"start\" x=\"107.801\" y=\"-84.3\">a</text>\n",
       "</g>\n",
       "<!-- 2&#45;&gt;1 -->\n",
       "<g class=\"edge\" id=\"edge2\">\n",
       "<title>2-&gt;1</title>\n",
       "<path d=\"M52.3685,-40.7027C57.3105,-37.8629 63.9906,-34.1059 70.001,-31 77.7702,-26.9852 86.5326,-22.787 93.8717,-19.361\" fill=\"none\" stroke=\"#000000\"/>\n",
       "<polygon fill=\"#000000\" points=\"98.6955,-17.1243 95.1059,-21.2689 96.4274,-18.176 94.1594,-19.2277 94.1594,-19.2277 94.1594,-19.2277 96.4274,-18.176 93.2129,-17.1864 98.6955,-17.1243 98.6955,-17.1243\" stroke=\"#000000\"/>\n",
       "<text fill=\"#000000\" font-family=\"Courier,monospace\" font-size=\"9.00\" text-anchor=\"start\" x=\"73.3005\" y=\"-35.3\">b</text>\n",
       "</g>\n",
       "</g>\n",
       "</svg>"
      ],
      "text/plain": [
       "<IPython.core.display.SVG object>"
      ]
     },
     "metadata": {},
     "output_type": "display_data"
    }
   ],
   "source": [
    "m68 = read_csv('sipser-1-68.csv')\n",
    "m68"
   ]
  },
  {
   "cell_type": "code",
   "execution_count": 11,
   "metadata": {},
   "outputs": [
    {
     "data": {
      "image/svg+xml": [
       "<svg height=\"93pt\" viewBox=\"0.00 0.00 365.01 93.04\" width=\"365pt\" xmlns=\"http://www.w3.org/2000/svg\" xmlns:xlink=\"http://www.w3.org/1999/xlink\">\n",
       "<g class=\"graph\" id=\"graph0\" transform=\"scale(1 1) rotate(0) translate(4 89.0391)\">\n",
       "<title>%3</title>\n",
       "<polygon fill=\"#ffffff\" points=\"-4,4 -4,-89.0391 361.0127,-89.0391 361.0127,4 -4,4\" stroke=\"transparent\"/>\n",
       "<!-- _START -->\n",
       "<g class=\"node\" id=\"node1\">\n",
       "<title>_START</title>\n",
       "</g>\n",
       "<!-- 0 -->\n",
       "<g class=\"node\" id=\"node2\">\n",
       "<title>0</title>\n",
       "<path d=\"M70.674,-41.0391C70.674,-41.0391 43.3309,-41.0391 43.3309,-41.0391 40.6642,-41.0391 37.9976,-38.3725 37.9976,-35.7058 37.9976,-35.7058 37.9976,-30.3725 37.9976,-30.3725 37.9976,-27.7058 40.6642,-25.0391 43.3309,-25.0391 43.3309,-25.0391 70.674,-25.0391 70.674,-25.0391 73.3407,-25.0391 76.0073,-27.7058 76.0073,-30.3725 76.0073,-30.3725 76.0073,-35.7058 76.0073,-35.7058 76.0073,-38.3725 73.3407,-41.0391 70.674,-41.0391\" fill=\"none\" stroke=\"#000000\"/>\n",
       "<text fill=\"#000000\" font-family=\"Courier,monospace\" font-size=\"10.00\" text-anchor=\"start\" x=\"42\" y=\"-30.0391\">start</text>\n",
       "</g>\n",
       "<!-- _START&#45;&gt;0 -->\n",
       "<g class=\"edge\" id=\"edge1\">\n",
       "<title>_START-&gt;0</title>\n",
       "<path d=\"M1.1345,-33.0391C4.3241,-33.0391 18.9859,-33.0391 32.4885,-33.0391\" fill=\"none\" stroke=\"#000000\"/>\n",
       "<polygon fill=\"#000000\" points=\"37.7747,-33.0391 32.7748,-35.2892 35.2747,-33.0392 32.7747,-33.0392 32.7747,-33.0392 32.7747,-33.0392 35.2747,-33.0392 32.7747,-30.7892 37.7747,-33.0391 37.7747,-33.0391\" stroke=\"#000000\"/>\n",
       "</g>\n",
       "<!-- 2 -->\n",
       "<g class=\"node\" id=\"node4\">\n",
       "<title>2</title>\n",
       "<path d=\"M131.339,-41.0391C131.339,-41.0391 126.6717,-41.0391 126.6717,-41.0391 124.3381,-41.0391 122.0044,-38.7055 122.0044,-36.3718 122.0044,-36.3718 122.0044,-29.7064 122.0044,-29.7064 122.0044,-27.3728 124.3381,-25.0391 126.6717,-25.0391 126.6717,-25.0391 131.339,-25.0391 131.339,-25.0391 133.6727,-25.0391 136.0063,-27.3728 136.0063,-29.7064 136.0063,-29.7064 136.0063,-36.3718 136.0063,-36.3718 136.0063,-38.7055 133.6727,-41.0391 131.339,-41.0391\" fill=\"none\" stroke=\"#000000\"/>\n",
       "<text fill=\"#000000\" font-family=\"Courier,monospace\" font-size=\"10.00\" text-anchor=\"middle\" x=\"129.0054\" y=\"-30.0391\">1</text>\n",
       "</g>\n",
       "<!-- 0&#45;&gt;2 -->\n",
       "<g class=\"edge\" id=\"edge4\">\n",
       "<title>0-&gt;2</title>\n",
       "<path d=\"M76.2979,-33.0391C89.0682,-33.0391 105.442,-33.0391 116.5258,-33.0391\" fill=\"none\" stroke=\"#000000\"/>\n",
       "<polygon fill=\"#000000\" points=\"121.7926,-33.0391 116.7926,-35.2892 119.2926,-33.0392 116.7926,-33.0392 116.7926,-33.0392 116.7926,-33.0392 119.2926,-33.0392 116.7925,-30.7892 121.7926,-33.0391 121.7926,-33.0391\" stroke=\"#000000\"/>\n",
       "<text fill=\"#000000\" font-family=\"Courier,monospace\" font-size=\"9.00\" text-anchor=\"start\" x=\"96.9175\" y=\"-38.8391\">ε</text>\n",
       "</g>\n",
       "<!-- 1 -->\n",
       "<g class=\"node\" id=\"node3\">\n",
       "<title>1</title>\n",
       "<path d=\"M347.6818,-58.0391C347.6818,-58.0391 314.3377,-58.0391 314.3377,-58.0391 311.671,-58.0391 309.0044,-55.3725 309.0044,-52.7058 309.0044,-52.7058 309.0044,-47.3725 309.0044,-47.3725 309.0044,-44.7058 311.671,-42.0391 314.3377,-42.0391 314.3377,-42.0391 347.6818,-42.0391 347.6818,-42.0391 350.3485,-42.0391 353.0152,-44.7058 353.0152,-47.3725 353.0152,-47.3725 353.0152,-52.7058 353.0152,-52.7058 353.0152,-55.3725 350.3485,-58.0391 347.6818,-58.0391\" fill=\"none\" stroke=\"#000000\"/>\n",
       "<path d=\"M349.0156,-62.0391C349.0156,-62.0391 313.0039,-62.0391 313.0039,-62.0391 309.0039,-62.0391 305.0039,-58.0391 305.0039,-54.0391 305.0039,-54.0391 305.0039,-46.0391 305.0039,-46.0391 305.0039,-42.0391 309.0039,-38.0391 313.0039,-38.0391 313.0039,-38.0391 349.0156,-38.0391 349.0156,-38.0391 353.0156,-38.0391 357.0156,-42.0391 357.0156,-46.0391 357.0156,-46.0391 357.0156,-54.0391 357.0156,-54.0391 357.0156,-58.0391 353.0156,-62.0391 349.0156,-62.0391\" fill=\"none\" stroke=\"#000000\"/>\n",
       "<text fill=\"#000000\" font-family=\"Courier,monospace\" font-size=\"10.00\" text-anchor=\"start\" x=\"313.0068\" y=\"-47.0391\">accept</text>\n",
       "</g>\n",
       "<!-- 3 -->\n",
       "<g class=\"node\" id=\"node5\">\n",
       "<title>3</title>\n",
       "<path d=\"M192.34,-81.0391C192.34,-81.0391 187.6727,-81.0391 187.6727,-81.0391 185.339,-81.0391 183.0054,-78.7055 183.0054,-76.3718 183.0054,-76.3718 183.0054,-69.7064 183.0054,-69.7064 183.0054,-67.3728 185.339,-65.0391 187.6727,-65.0391 187.6727,-65.0391 192.34,-65.0391 192.34,-65.0391 194.6737,-65.0391 197.0073,-67.3728 197.0073,-69.7064 197.0073,-69.7064 197.0073,-76.3718 197.0073,-76.3718 197.0073,-78.7055 194.6737,-81.0391 192.34,-81.0391\" fill=\"none\" stroke=\"#000000\"/>\n",
       "<text fill=\"#000000\" font-family=\"Courier,monospace\" font-size=\"10.00\" text-anchor=\"middle\" x=\"190.0063\" y=\"-70.0391\">3</text>\n",
       "</g>\n",
       "<!-- 2&#45;&gt;3 -->\n",
       "<g class=\"edge\" id=\"edge2\">\n",
       "<title>2-&gt;3</title>\n",
       "<path d=\"M132.9541,-41.2041C137.1033,-48.8705 144.3675,-60.0332 154.0059,-66.0391 161.068,-70.4398 170.3018,-72.1716 177.6495,-72.8127\" fill=\"none\" stroke=\"#000000\"/>\n",
       "<polygon fill=\"#000000\" points=\"182.8335,-73.1164 177.7104,-75.07 180.3377,-72.9701 177.842,-72.8239 177.842,-72.8239 177.842,-72.8239 180.3377,-72.9701 177.9737,-70.5777 182.8335,-73.1164 182.8335,-73.1164\" stroke=\"#000000\"/>\n",
       "<text fill=\"#000000\" font-family=\"Courier,monospace\" font-size=\"9.00\" text-anchor=\"start\" x=\"157.3054\" y=\"-74.3391\">b</text>\n",
       "</g>\n",
       "<!-- 4 -->\n",
       "<g class=\"node\" id=\"node6\">\n",
       "<title>4</title>\n",
       "<path d=\"M253.8405,-20.0391C253.8405,-20.0391 249.1732,-20.0391 249.1732,-20.0391 246.8395,-20.0391 244.5059,-17.7055 244.5059,-15.3718 244.5059,-15.3718 244.5059,-8.7064 244.5059,-8.7064 244.5059,-6.3728 246.8395,-4.0391 249.1732,-4.0391 249.1732,-4.0391 253.8405,-4.0391 253.8405,-4.0391 256.1742,-4.0391 258.5078,-6.3728 258.5078,-8.7064 258.5078,-8.7064 258.5078,-15.3718 258.5078,-15.3718 258.5078,-17.7055 256.1742,-20.0391 253.8405,-20.0391\" fill=\"none\" stroke=\"#000000\"/>\n",
       "<text fill=\"#000000\" font-family=\"Courier,monospace\" font-size=\"10.00\" text-anchor=\"middle\" x=\"251.5068\" y=\"-9.0391\">2</text>\n",
       "</g>\n",
       "<!-- 2&#45;&gt;4 -->\n",
       "<g class=\"edge\" id=\"edge3\">\n",
       "<title>2-&gt;4</title>\n",
       "<path d=\"M136.3015,-31.7884C156.6055,-28.3077 213.9326,-18.4804 239.2397,-14.142\" fill=\"none\" stroke=\"#000000\"/>\n",
       "<polygon fill=\"#000000\" points=\"244.4024,-13.257 239.8544,-16.3196 241.9383,-13.6795 239.4742,-14.1019 239.4742,-14.1019 239.4742,-14.1019 241.9383,-13.6795 239.094,-11.8843 244.4024,-13.257 244.4024,-13.257\" stroke=\"#000000\"/>\n",
       "<text fill=\"#000000\" font-family=\"Courier,monospace\" font-size=\"9.00\" text-anchor=\"start\" x=\"187.8059\" y=\"-27.3391\">a</text>\n",
       "</g>\n",
       "<!-- 3&#45;&gt;1 -->\n",
       "<g class=\"edge\" id=\"edge7\">\n",
       "<title>3-&gt;1</title>\n",
       "<path d=\"M197.261,-71.8998C209.8369,-69.921 236.4986,-65.7088 259.0068,-62.0391 272.2494,-59.8801 286.8541,-57.4544 299.4291,-55.3518\" fill=\"none\" stroke=\"#000000\"/>\n",
       "<polygon fill=\"#000000\" points=\"304.6843,-54.4723 300.1243,-57.5169 302.2185,-54.885 299.7528,-55.2977 299.7528,-55.2977 299.7528,-55.2977 302.2185,-54.885 299.3814,-53.0786 304.6843,-54.4723 304.6843,-54.4723\" stroke=\"#000000\"/>\n",
       "<text fill=\"#000000\" font-family=\"Courier,monospace\" font-size=\"9.00\" text-anchor=\"start\" x=\"249.4194\" y=\"-69.8391\">ε</text>\n",
       "</g>\n",
       "<!-- 3&#45;&gt;2 -->\n",
       "<g class=\"edge\" id=\"edge5\">\n",
       "<title>3-&gt;2</title>\n",
       "<path d=\"M183.7522,-64.8571C179.0938,-59.2217 172.3007,-51.9017 165.0059,-47.0391 157.7135,-42.1782 148.4846,-38.6317 141.1968,-36.3245\" fill=\"none\" stroke=\"#000000\"/>\n",
       "<polygon fill=\"#000000\" points=\"136.0663,-34.8004 141.5001,-34.0675 138.4628,-35.5124 140.8593,-36.2243 140.8593,-36.2243 140.8593,-36.2243 138.4628,-35.5124 140.2186,-38.3812 136.0663,-34.8004 136.0663,-34.8004\" stroke=\"#000000\"/>\n",
       "<text fill=\"#000000\" font-family=\"Courier,monospace\" font-size=\"9.00\" text-anchor=\"start\" x=\"157.3054\" y=\"-51.3391\">b</text>\n",
       "</g>\n",
       "<!-- 3&#45;&gt;4 -->\n",
       "<g class=\"edge\" id=\"edge6\">\n",
       "<title>3-&gt;4</title>\n",
       "<path d=\"M197.0612,-66.0416C207.6979,-55.4915 227.9323,-35.4219 240.5136,-22.9429\" fill=\"none\" stroke=\"#000000\"/>\n",
       "<polygon fill=\"#000000\" points=\"244.1533,-19.3328 242.1879,-24.4514 242.3783,-21.0933 240.6034,-22.8539 240.6034,-22.8539 240.6034,-22.8539 242.3783,-21.0933 239.0189,-21.2564 244.1533,-19.3328 244.1533,-19.3328\" stroke=\"#000000\"/>\n",
       "<text fill=\"#000000\" font-family=\"Courier,monospace\" font-size=\"9.00\" text-anchor=\"start\" x=\"218.3064\" y=\"-51.3391\">a</text>\n",
       "</g>\n",
       "<!-- 4&#45;&gt;1 -->\n",
       "<g class=\"edge\" id=\"edge10\">\n",
       "<title>4-&gt;1</title>\n",
       "<path d=\"M258.5622,-15.4114C268.0676,-19.9547 285.5759,-28.3231 300.9993,-35.695\" fill=\"none\" stroke=\"#000000\"/>\n",
       "<polygon fill=\"#000000\" points=\"305.7077,-37.9455 300.2262,-37.8193 303.4521,-36.8674 301.1965,-35.7893 301.1965,-35.7893 301.1965,-35.7893 303.4521,-36.8674 302.1669,-33.7592 305.7077,-37.9455 305.7077,-37.9455\" stroke=\"#000000\"/>\n",
       "<text fill=\"#000000\" font-family=\"Courier,monospace\" font-size=\"9.00\" text-anchor=\"start\" x=\"279.9194\" y=\"-33.8391\">ε</text>\n",
       "</g>\n",
       "<!-- 4&#45;&gt;2 -->\n",
       "<g class=\"edge\" id=\"edge8\">\n",
       "<title>4-&gt;2</title>\n",
       "<path d=\"M244.1961,-9.0651C231.5473,-4.3397 204.8381,3.782 183.0059,-2.0391 166.9203,-6.328 150.6461,-16.675 140.2313,-24.2394\" fill=\"none\" stroke=\"#000000\"/>\n",
       "<polygon fill=\"#000000\" points=\"136.1441,-27.2852 138.8089,-22.4933 138.1487,-25.7913 140.1533,-24.2975 140.1533,-24.2975 140.1533,-24.2975 138.1487,-25.7913 141.4978,-26.1016 136.1441,-27.2852 136.1441,-27.2852\" stroke=\"#000000\"/>\n",
       "<text fill=\"#000000\" font-family=\"Courier,monospace\" font-size=\"9.00\" text-anchor=\"start\" x=\"187.8059\" y=\"-6.3391\">a</text>\n",
       "</g>\n",
       "<!-- 4&#45;&gt;4 -->\n",
       "<g class=\"edge\" id=\"edge9\">\n",
       "<title>4-&gt;4</title>\n",
       "<path d=\"M247.1178,-20.2926C244.536,-28.6911 245.999,-38.0391 251.5068,-38.0391 255.8959,-38.0391 257.7164,-32.1031 256.9685,-25.4417\" fill=\"none\" stroke=\"#000000\"/>\n",
       "<polygon fill=\"#000000\" points=\"255.8959,-20.2926 259.1183,-24.7286 256.4057,-22.74 256.9156,-25.1875 256.9156,-25.1875 256.9156,-25.1875 256.4057,-22.74 254.7129,-25.6464 255.8959,-20.2926 255.8959,-20.2926\" stroke=\"#000000\"/>\n",
       "<text fill=\"#000000\" font-family=\"Courier,monospace\" font-size=\"9.00\" text-anchor=\"start\" x=\"249.3064\" y=\"-42.3391\">b</text>\n",
       "</g>\n",
       "</g>\n",
       "</svg>"
      ],
      "text/plain": [
       "<IPython.core.display.SVG object>"
      ]
     },
     "metadata": {},
     "output_type": "display_data"
    },
    {
     "data": {
      "text/html": [
       "eliminate 3"
      ],
      "text/plain": [
       "<IPython.core.display.HTML object>"
      ]
     },
     "metadata": {},
     "output_type": "display_data"
    },
    {
     "data": {
      "image/svg+xml": [
       "<svg height=\"95pt\" viewBox=\"0.00 0.00 327.01 95.07\" width=\"327pt\" xmlns=\"http://www.w3.org/2000/svg\" xmlns:xlink=\"http://www.w3.org/1999/xlink\">\n",
       "<g class=\"graph\" id=\"graph0\" transform=\"scale(1 1) rotate(0) translate(4 91.0706)\">\n",
       "<title>%3</title>\n",
       "<polygon fill=\"#ffffff\" points=\"-4,4 -4,-91.0706 323.0107,-91.0706 323.0107,4 -4,4\" stroke=\"transparent\"/>\n",
       "<!-- _START -->\n",
       "<g class=\"node\" id=\"node1\">\n",
       "<title>_START</title>\n",
       "</g>\n",
       "<!-- 0 -->\n",
       "<g class=\"node\" id=\"node2\">\n",
       "<title>0</title>\n",
       "<path d=\"M70.674,-54.0706C70.674,-54.0706 43.3309,-54.0706 43.3309,-54.0706 40.6642,-54.0706 37.9976,-51.404 37.9976,-48.7373 37.9976,-48.7373 37.9976,-43.404 37.9976,-43.404 37.9976,-40.7373 40.6642,-38.0706 43.3309,-38.0706 43.3309,-38.0706 70.674,-38.0706 70.674,-38.0706 73.3407,-38.0706 76.0073,-40.7373 76.0073,-43.404 76.0073,-43.404 76.0073,-48.7373 76.0073,-48.7373 76.0073,-51.404 73.3407,-54.0706 70.674,-54.0706\" fill=\"none\" stroke=\"#000000\"/>\n",
       "<text fill=\"#000000\" font-family=\"Courier,monospace\" font-size=\"10.00\" text-anchor=\"start\" x=\"42\" y=\"-43.0706\">start</text>\n",
       "</g>\n",
       "<!-- _START&#45;&gt;0 -->\n",
       "<g class=\"edge\" id=\"edge1\">\n",
       "<title>_START-&gt;0</title>\n",
       "<path d=\"M1.1345,-46.0706C4.3241,-46.0706 18.9859,-46.0706 32.4885,-46.0706\" fill=\"none\" stroke=\"#000000\"/>\n",
       "<polygon fill=\"#000000\" points=\"37.7747,-46.0706 32.7748,-48.3207 35.2747,-46.0707 32.7747,-46.0707 32.7747,-46.0707 32.7747,-46.0707 35.2747,-46.0707 32.7747,-43.8207 37.7747,-46.0706 37.7747,-46.0706\" stroke=\"#000000\"/>\n",
       "</g>\n",
       "<!-- 2 -->\n",
       "<g class=\"node\" id=\"node4\">\n",
       "<title>2</title>\n",
       "<path d=\"M131.8385,-54.0706C131.8385,-54.0706 127.1712,-54.0706 127.1712,-54.0706 124.8376,-54.0706 122.5039,-51.737 122.5039,-49.4033 122.5039,-49.4033 122.5039,-42.7379 122.5039,-42.7379 122.5039,-40.4043 124.8376,-38.0706 127.1712,-38.0706 127.1712,-38.0706 131.8385,-38.0706 131.8385,-38.0706 134.1722,-38.0706 136.5059,-40.4043 136.5059,-42.7379 136.5059,-42.7379 136.5059,-49.4033 136.5059,-49.4033 136.5059,-51.737 134.1722,-54.0706 131.8385,-54.0706\" fill=\"none\" stroke=\"#000000\"/>\n",
       "<text fill=\"#000000\" font-family=\"Courier,monospace\" font-size=\"10.00\" text-anchor=\"middle\" x=\"129.5049\" y=\"-43.0706\">1</text>\n",
       "</g>\n",
       "<!-- 0&#45;&gt;2 -->\n",
       "<g class=\"edge\" id=\"edge5\">\n",
       "<title>0-&gt;2</title>\n",
       "<path d=\"M76.0516,-46.0706C89.0316,-46.0706 105.8419,-46.0706 117.1145,-46.0706\" fill=\"none\" stroke=\"#000000\"/>\n",
       "<polygon fill=\"#000000\" points=\"122.1624,-46.0706 117.1624,-48.3207 119.6624,-46.0707 117.1624,-46.0707 117.1624,-46.0707 117.1624,-46.0707 119.6624,-46.0707 117.1623,-43.8207 122.1624,-46.0706 122.1624,-46.0706\" stroke=\"#000000\"/>\n",
       "<text fill=\"#000000\" font-family=\"Courier,monospace\" font-size=\"9.00\" text-anchor=\"start\" x=\"96.9175\" y=\"-51.8706\">ε</text>\n",
       "</g>\n",
       "<!-- 1 -->\n",
       "<g class=\"node\" id=\"node3\">\n",
       "<title>1</title>\n",
       "<path d=\"M309.6799,-54.0706C309.6799,-54.0706 276.3357,-54.0706 276.3357,-54.0706 273.6691,-54.0706 271.0024,-51.404 271.0024,-48.7373 271.0024,-48.7373 271.0024,-43.404 271.0024,-43.404 271.0024,-40.7373 273.6691,-38.0706 276.3357,-38.0706 276.3357,-38.0706 309.6799,-38.0706 309.6799,-38.0706 312.3466,-38.0706 315.0132,-40.7373 315.0132,-43.404 315.0132,-43.404 315.0132,-48.7373 315.0132,-48.7373 315.0132,-51.404 312.3466,-54.0706 309.6799,-54.0706\" fill=\"none\" stroke=\"#000000\"/>\n",
       "<path d=\"M311.0137,-58.0706C311.0137,-58.0706 275.002,-58.0706 275.002,-58.0706 271.002,-58.0706 267.002,-54.0706 267.002,-50.0706 267.002,-50.0706 267.002,-42.0706 267.002,-42.0706 267.002,-38.0706 271.002,-34.0706 275.002,-34.0706 275.002,-34.0706 311.0137,-34.0706 311.0137,-34.0706 315.0137,-34.0706 319.0137,-38.0706 319.0137,-42.0706 319.0137,-42.0706 319.0137,-50.0706 319.0137,-50.0706 319.0137,-54.0706 315.0137,-58.0706 311.0137,-58.0706\" fill=\"none\" stroke=\"#000000\"/>\n",
       "<text fill=\"#000000\" font-family=\"Courier,monospace\" font-size=\"10.00\" text-anchor=\"start\" x=\"275.0049\" y=\"-43.0706\">accept</text>\n",
       "</g>\n",
       "<!-- 2&#45;&gt;1 -->\n",
       "<g class=\"edge\" id=\"edge4\">\n",
       "<title>2-&gt;1</title>\n",
       "<path d=\"M136.8886,-49.7286C141.8738,-52.0054 148.675,-54.7448 155.0049,-56.0706 191.0831,-63.627 233.4935,-58.5317 261.6823,-53.2369\" fill=\"none\" stroke=\"#000000\"/>\n",
       "<polygon fill=\"#000000\" points=\"266.7755,-52.2489 262.2955,-55.4099 264.3213,-52.725 261.867,-53.2011 261.867,-53.2011 261.867,-53.2011 264.3213,-52.725 261.4385,-50.9923 266.7755,-52.2489 266.7755,-52.2489\" stroke=\"#000000\"/>\n",
       "<text fill=\"#000000\" font-family=\"Courier,monospace\" font-size=\"9.00\" text-anchor=\"start\" x=\"211.3044\" y=\"-63.3706\">b</text>\n",
       "</g>\n",
       "<!-- 2&#45;&gt;2 -->\n",
       "<g class=\"edge\" id=\"edge2\">\n",
       "<title>2-&gt;2</title>\n",
       "<path d=\"M125.1158,-54.3241C122.5341,-62.7226 123.9971,-72.0706 129.5049,-72.0706 133.8939,-72.0706 135.7145,-66.1346 134.9665,-59.4732\" fill=\"none\" stroke=\"#000000\"/>\n",
       "<polygon fill=\"#000000\" points=\"133.8939,-54.3241 137.1164,-58.7601 134.4038,-56.7715 134.9137,-59.219 134.9137,-59.219 134.9137,-59.219 134.4038,-56.7715 132.7109,-59.6779 133.8939,-54.3241 133.8939,-54.3241\" stroke=\"#000000\"/>\n",
       "<text fill=\"#000000\" font-family=\"Courier,monospace\" font-size=\"9.00\" text-anchor=\"start\" x=\"121.4036\" y=\"-76.3706\">b b</text>\n",
       "</g>\n",
       "<!-- 3 -->\n",
       "<g class=\"node\" id=\"node5\">\n",
       "<title>3</title>\n",
       "<path d=\"M215.8385,-16.0706C215.8385,-16.0706 211.1712,-16.0706 211.1712,-16.0706 208.8376,-16.0706 206.5039,-13.737 206.5039,-11.4033 206.5039,-11.4033 206.5039,-4.7379 206.5039,-4.7379 206.5039,-2.4043 208.8376,-.0706 211.1712,-.0706 211.1712,-.0706 215.8385,-.0706 215.8385,-.0706 218.1722,-.0706 220.5059,-2.4043 220.5059,-4.7379 220.5059,-4.7379 220.5059,-11.4033 220.5059,-11.4033 220.5059,-13.737 218.1722,-16.0706 215.8385,-16.0706\" fill=\"none\" stroke=\"#000000\"/>\n",
       "<text fill=\"#000000\" font-family=\"Courier,monospace\" font-size=\"10.00\" text-anchor=\"middle\" x=\"213.5049\" y=\"-5.0706\">2</text>\n",
       "</g>\n",
       "<!-- 2&#45;&gt;3 -->\n",
       "<g class=\"edge\" id=\"edge3\">\n",
       "<title>2-&gt;3</title>\n",
       "<path d=\"M136.539,-43.9323C147.7208,-40.4219 170.1152,-32.9348 188.0049,-24.0706 192.6821,-21.7531 197.591,-18.8086 201.839,-16.079\" fill=\"none\" stroke=\"#000000\"/>\n",
       "<polygon fill=\"#000000\" points=\"206.1469,-13.2414 203.2091,-17.8709 204.0591,-14.6166 201.9714,-15.9919 201.9714,-15.9919 201.9714,-15.9919 204.0591,-14.6166 200.7336,-14.1129 206.1469,-13.2414 206.1469,-13.2414\" stroke=\"#000000\"/>\n",
       "<text fill=\"#000000\" font-family=\"Courier,monospace\" font-size=\"9.00\" text-anchor=\"start\" x=\"158.5027\" y=\"-41.3706\">a|b a</text>\n",
       "</g>\n",
       "<!-- 3&#45;&gt;1 -->\n",
       "<g class=\"edge\" id=\"edge8\">\n",
       "<title>3-&gt;1</title>\n",
       "<path d=\"M220.5602,-11.4429C230.0656,-15.9862 247.5739,-24.3546 262.9973,-31.7265\" fill=\"none\" stroke=\"#000000\"/>\n",
       "<polygon fill=\"#000000\" points=\"267.7058,-33.977 262.2243,-33.8508 265.4502,-32.8989 263.1946,-31.8207 263.1946,-31.8207 263.1946,-31.8207 265.4502,-32.8989 264.1649,-29.7907 267.7058,-33.977 267.7058,-33.977\" stroke=\"#000000\"/>\n",
       "<text fill=\"#000000\" font-family=\"Courier,monospace\" font-size=\"9.00\" text-anchor=\"start\" x=\"241.9175\" y=\"-29.8706\">ε</text>\n",
       "</g>\n",
       "<!-- 3&#45;&gt;2 -->\n",
       "<g class=\"edge\" id=\"edge6\">\n",
       "<title>3-&gt;2</title>\n",
       "<path d=\"M206.4838,-5.4595C194.9288,-1.6297 171.5391,4.1172 155.0049,-5.0706 144.2728,-11.0342 137.4739,-23.595 133.6207,-33.2518\" fill=\"none\" stroke=\"#000000\"/>\n",
       "<polygon fill=\"#000000\" points=\"131.8689,-37.9866 131.4937,-32.5165 132.7364,-35.6419 133.6039,-33.2972 133.6039,-33.2972 133.6039,-33.2972 132.7364,-35.6419 135.7141,-34.078 131.8689,-37.9866 131.8689,-37.9866\" stroke=\"#000000\"/>\n",
       "<text fill=\"#000000\" font-family=\"Courier,monospace\" font-size=\"9.00\" text-anchor=\"start\" x=\"169.3044\" y=\"-9.3706\">a</text>\n",
       "</g>\n",
       "<!-- 3&#45;&gt;3 -->\n",
       "<g class=\"edge\" id=\"edge7\">\n",
       "<title>3-&gt;3</title>\n",
       "<path d=\"M209.1158,-16.3241C206.5341,-24.7226 207.9971,-34.0706 213.5049,-34.0706 217.8939,-34.0706 219.7145,-28.1346 218.9665,-21.4732\" fill=\"none\" stroke=\"#000000\"/>\n",
       "<polygon fill=\"#000000\" points=\"217.8939,-16.3241 221.1164,-20.7601 218.4038,-18.7715 218.9137,-21.219 218.9137,-21.219 218.9137,-21.219 218.4038,-18.7715 216.7109,-21.6779 217.8939,-16.3241 217.8939,-16.3241\" stroke=\"#000000\"/>\n",
       "<text fill=\"#000000\" font-family=\"Courier,monospace\" font-size=\"9.00\" text-anchor=\"start\" x=\"211.3044\" y=\"-38.3706\">b</text>\n",
       "</g>\n",
       "</g>\n",
       "</svg>"
      ],
      "text/plain": [
       "<IPython.core.display.SVG object>"
      ]
     },
     "metadata": {},
     "output_type": "display_data"
    },
    {
     "data": {
      "text/html": [
       "eliminate 2"
      ],
      "text/plain": [
       "<IPython.core.display.HTML object>"
      ]
     },
     "metadata": {},
     "output_type": "display_data"
    },
    {
     "data": {
      "image/svg+xml": [
       "<svg height=\"61pt\" viewBox=\"0.00 0.00 303.01 61.00\" width=\"303pt\" xmlns=\"http://www.w3.org/2000/svg\" xmlns:xlink=\"http://www.w3.org/1999/xlink\">\n",
       "<g class=\"graph\" id=\"graph0\" transform=\"scale(1 1) rotate(0) translate(4 57)\">\n",
       "<title>%3</title>\n",
       "<polygon fill=\"#ffffff\" points=\"-4,4 -4,-57 299.0107,-57 299.0107,4 -4,4\" stroke=\"transparent\"/>\n",
       "<!-- _START -->\n",
       "<g class=\"node\" id=\"node1\">\n",
       "<title>_START</title>\n",
       "</g>\n",
       "<!-- 0 -->\n",
       "<g class=\"node\" id=\"node2\">\n",
       "<title>0</title>\n",
       "<path d=\"M70.674,-20C70.674,-20 43.3309,-20 43.3309,-20 40.6642,-20 37.9976,-17.3333 37.9976,-14.6667 37.9976,-14.6667 37.9976,-9.3333 37.9976,-9.3333 37.9976,-6.6667 40.6642,-4 43.3309,-4 43.3309,-4 70.674,-4 70.674,-4 73.3407,-4 76.0073,-6.6667 76.0073,-9.3333 76.0073,-9.3333 76.0073,-14.6667 76.0073,-14.6667 76.0073,-17.3333 73.3407,-20 70.674,-20\" fill=\"none\" stroke=\"#000000\"/>\n",
       "<text fill=\"#000000\" font-family=\"Courier,monospace\" font-size=\"10.00\" text-anchor=\"start\" x=\"42\" y=\"-9\">start</text>\n",
       "</g>\n",
       "<!-- _START&#45;&gt;0 -->\n",
       "<g class=\"edge\" id=\"edge1\">\n",
       "<title>_START-&gt;0</title>\n",
       "<path d=\"M1.1345,-12C4.3241,-12 18.9859,-12 32.4885,-12\" fill=\"none\" stroke=\"#000000\"/>\n",
       "<polygon fill=\"#000000\" points=\"37.7747,-12 32.7748,-14.2501 35.2747,-12 32.7747,-12.0001 32.7747,-12.0001 32.7747,-12.0001 35.2747,-12 32.7747,-9.7501 37.7747,-12 37.7747,-12\" stroke=\"#000000\"/>\n",
       "</g>\n",
       "<!-- 2 -->\n",
       "<g class=\"node\" id=\"node4\">\n",
       "<title>2</title>\n",
       "<path d=\"M131.8385,-20C131.8385,-20 127.1712,-20 127.1712,-20 124.8376,-20 122.5039,-17.6663 122.5039,-15.3327 122.5039,-15.3327 122.5039,-8.6673 122.5039,-8.6673 122.5039,-6.3337 124.8376,-4 127.1712,-4 127.1712,-4 131.8385,-4 131.8385,-4 134.1722,-4 136.5059,-6.3337 136.5059,-8.6673 136.5059,-8.6673 136.5059,-15.3327 136.5059,-15.3327 136.5059,-17.6663 134.1722,-20 131.8385,-20\" fill=\"none\" stroke=\"#000000\"/>\n",
       "<text fill=\"#000000\" font-family=\"Courier,monospace\" font-size=\"10.00\" text-anchor=\"middle\" x=\"129.5049\" y=\"-9\">1</text>\n",
       "</g>\n",
       "<!-- 0&#45;&gt;2 -->\n",
       "<g class=\"edge\" id=\"edge4\">\n",
       "<title>0-&gt;2</title>\n",
       "<path d=\"M76.0516,-12C89.0316,-12 105.8419,-12 117.1145,-12\" fill=\"none\" stroke=\"#000000\"/>\n",
       "<polygon fill=\"#000000\" points=\"122.1624,-12 117.1624,-14.2501 119.6624,-12 117.1624,-12.0001 117.1624,-12.0001 117.1624,-12.0001 119.6624,-12 117.1623,-9.7501 122.1624,-12 122.1624,-12\" stroke=\"#000000\"/>\n",
       "<text fill=\"#000000\" font-family=\"Courier,monospace\" font-size=\"9.00\" text-anchor=\"start\" x=\"96.9175\" y=\"-17.8\">ε</text>\n",
       "</g>\n",
       "<!-- 1 -->\n",
       "<g class=\"node\" id=\"node3\">\n",
       "<title>1</title>\n",
       "<path d=\"M285.6799,-20C285.6799,-20 252.3357,-20 252.3357,-20 249.6691,-20 247.0024,-17.3333 247.0024,-14.6667 247.0024,-14.6667 247.0024,-9.3333 247.0024,-9.3333 247.0024,-6.6667 249.6691,-4 252.3357,-4 252.3357,-4 285.6799,-4 285.6799,-4 288.3466,-4 291.0132,-6.6667 291.0132,-9.3333 291.0132,-9.3333 291.0132,-14.6667 291.0132,-14.6667 291.0132,-17.3333 288.3466,-20 285.6799,-20\" fill=\"none\" stroke=\"#000000\"/>\n",
       "<path d=\"M287.0137,-24C287.0137,-24 251.002,-24 251.002,-24 247.002,-24 243.002,-20 243.002,-16 243.002,-16 243.002,-8 243.002,-8 243.002,-4 247.002,0 251.002,0 251.002,0 287.0137,0 287.0137,0 291.0137,0 295.0137,-4 295.0137,-8 295.0137,-8 295.0137,-16 295.0137,-16 295.0137,-20 291.0137,-24 287.0137,-24\" fill=\"none\" stroke=\"#000000\"/>\n",
       "<text fill=\"#000000\" font-family=\"Courier,monospace\" font-size=\"10.00\" text-anchor=\"start\" x=\"251.0049\" y=\"-9\">accept</text>\n",
       "</g>\n",
       "<!-- 2&#45;&gt;1 -->\n",
       "<g class=\"edge\" id=\"edge3\">\n",
       "<title>2-&gt;1</title>\n",
       "<path d=\"M136.6146,-12C154.9556,-12 204.7387,-12 237.7583,-12\" fill=\"none\" stroke=\"#000000\"/>\n",
       "<polygon fill=\"#000000\" points=\"242.9065,-12 237.9065,-14.2501 240.4065,-12 237.9065,-12.0001 237.9065,-12.0001 237.9065,-12.0001 240.4065,-12 237.9064,-9.7501 242.9065,-12 242.9065,-12\" stroke=\"#000000\"/>\n",
       "<text fill=\"#000000\" font-family=\"Courier,monospace\" font-size=\"9.00\" text-anchor=\"start\" x=\"157.5996\" y=\"-16.3\">b|(a|b a) b*</text>\n",
       "</g>\n",
       "<!-- 2&#45;&gt;2 -->\n",
       "<g class=\"edge\" id=\"edge2\">\n",
       "<title>2-&gt;2</title>\n",
       "<path d=\"M125.1158,-20.2534C122.5341,-28.652 123.9971,-38 129.5049,-38 133.8939,-38 135.7145,-32.0639 134.9665,-25.4025\" fill=\"none\" stroke=\"#000000\"/>\n",
       "<polygon fill=\"#000000\" points=\"133.8939,-20.2534 137.1164,-24.6895 134.4038,-22.7009 134.9137,-25.1484 134.9137,-25.1484 134.9137,-25.1484 134.4038,-22.7009 132.7109,-25.6073 133.8939,-20.2534 133.8939,-20.2534\" stroke=\"#000000\"/>\n",
       "<text fill=\"#000000\" font-family=\"Courier,monospace\" font-size=\"9.00\" text-anchor=\"start\" x=\"86.2979\" y=\"-42.3\">b b|(a|b a) b* a</text>\n",
       "</g>\n",
       "</g>\n",
       "</svg>"
      ],
      "text/plain": [
       "<IPython.core.display.SVG object>"
      ]
     },
     "metadata": {},
     "output_type": "display_data"
    },
    {
     "data": {
      "text/html": [
       "eliminate 1"
      ],
      "text/plain": [
       "<IPython.core.display.HTML object>"
      ]
     },
     "metadata": {},
     "output_type": "display_data"
    },
    {
     "data": {
      "image/svg+xml": [
       "<svg height=\"35pt\" viewBox=\"0.00 0.00 361.01 35.00\" width=\"361pt\" xmlns=\"http://www.w3.org/2000/svg\" xmlns:xlink=\"http://www.w3.org/1999/xlink\">\n",
       "<g class=\"graph\" id=\"graph0\" transform=\"scale(1 1) rotate(0) translate(4 31)\">\n",
       "<title>%3</title>\n",
       "<polygon fill=\"#ffffff\" points=\"-4,4 -4,-31 357.0107,-31 357.0107,4 -4,4\" stroke=\"transparent\"/>\n",
       "<!-- _START -->\n",
       "<g class=\"node\" id=\"node1\">\n",
       "<title>_START</title>\n",
       "</g>\n",
       "<!-- 0 -->\n",
       "<g class=\"node\" id=\"node2\">\n",
       "<title>0</title>\n",
       "<path d=\"M70.674,-20C70.674,-20 43.3309,-20 43.3309,-20 40.6642,-20 37.9976,-17.3333 37.9976,-14.6667 37.9976,-14.6667 37.9976,-9.3333 37.9976,-9.3333 37.9976,-6.6667 40.6642,-4 43.3309,-4 43.3309,-4 70.674,-4 70.674,-4 73.3407,-4 76.0073,-6.6667 76.0073,-9.3333 76.0073,-9.3333 76.0073,-14.6667 76.0073,-14.6667 76.0073,-17.3333 73.3407,-20 70.674,-20\" fill=\"none\" stroke=\"#000000\"/>\n",
       "<text fill=\"#000000\" font-family=\"Courier,monospace\" font-size=\"10.00\" text-anchor=\"start\" x=\"42\" y=\"-9\">start</text>\n",
       "</g>\n",
       "<!-- _START&#45;&gt;0 -->\n",
       "<g class=\"edge\" id=\"edge1\">\n",
       "<title>_START-&gt;0</title>\n",
       "<path d=\"M1.1345,-12C4.3241,-12 18.9859,-12 32.4885,-12\" fill=\"none\" stroke=\"#000000\"/>\n",
       "<polygon fill=\"#000000\" points=\"37.7747,-12 32.7748,-14.2501 35.2747,-12 32.7747,-12.0001 32.7747,-12.0001 32.7747,-12.0001 35.2747,-12 32.7747,-9.7501 37.7747,-12 37.7747,-12\" stroke=\"#000000\"/>\n",
       "</g>\n",
       "<!-- 1 -->\n",
       "<g class=\"node\" id=\"node3\">\n",
       "<title>1</title>\n",
       "<path d=\"M343.6799,-20C343.6799,-20 310.3357,-20 310.3357,-20 307.6691,-20 305.0024,-17.3333 305.0024,-14.6667 305.0024,-14.6667 305.0024,-9.3333 305.0024,-9.3333 305.0024,-6.6667 307.6691,-4 310.3357,-4 310.3357,-4 343.6799,-4 343.6799,-4 346.3466,-4 349.0132,-6.6667 349.0132,-9.3333 349.0132,-9.3333 349.0132,-14.6667 349.0132,-14.6667 349.0132,-17.3333 346.3466,-20 343.6799,-20\" fill=\"none\" stroke=\"#000000\"/>\n",
       "<path d=\"M345.0137,-24C345.0137,-24 309.002,-24 309.002,-24 305.002,-24 301.002,-20 301.002,-16 301.002,-16 301.002,-8 301.002,-8 301.002,-4 305.002,0 309.002,0 309.002,0 345.0137,0 345.0137,0 349.0137,0 353.0137,-4 353.0137,-8 353.0137,-8 353.0137,-16 353.0137,-16 353.0137,-20 349.0137,-24 345.0137,-24\" fill=\"none\" stroke=\"#000000\"/>\n",
       "<text fill=\"#000000\" font-family=\"Courier,monospace\" font-size=\"10.00\" text-anchor=\"start\" x=\"309.0049\" y=\"-9\">accept</text>\n",
       "</g>\n",
       "<!-- 0&#45;&gt;1 -->\n",
       "<g class=\"edge\" id=\"edge2\">\n",
       "<title>0-&gt;1</title>\n",
       "<path d=\"M76.4206,-12C122.5733,-12 239.1766,-12 295.5418,-12\" fill=\"none\" stroke=\"#000000\"/>\n",
       "<polygon fill=\"#000000\" points=\"300.8041,-12 295.8041,-14.2501 298.3041,-12 295.8041,-12.0001 295.8041,-12.0001 295.8041,-12.0001 298.3041,-12 295.804,-9.7501 300.8041,-12 300.8041,-12\" stroke=\"#000000\"/>\n",
       "<text fill=\"#000000\" font-family=\"Courier,monospace\" font-size=\"9.00\" text-anchor=\"start\" x=\"97.1899\" y=\"-16.3\">(b b|(a|b a) b* a)* (b|(a|b a) b*)</text>\n",
       "</g>\n",
       "</g>\n",
       "</svg>"
      ],
      "text/plain": [
       "<IPython.core.display.SVG object>"
      ]
     },
     "metadata": {},
     "output_type": "display_data"
    },
    {
     "data": {
      "text/html": [
       "(b b|(a|b a) b* a)* (b|(a|b a) b*)"
      ],
      "text/plain": [
       "<tock.regexps.RegularExpression at 0x10c035710>"
      ]
     },
     "execution_count": 11,
     "metadata": {},
     "output_type": "execute_result"
    }
   ],
   "source": [
    "to_regexp(m68, display_steps=True)"
   ]
  },
  {
   "cell_type": "markdown",
   "metadata": {},
   "source": [
    "(The answer is different from the book's because the elimination order was different.) The thing to note here is that if there are multiple incoming transitions and/or multiple outgoing transitions, you must consider all possible combinations. For example, when eliminating state 3, there are two outgoing transitions (to states 1 and 2), so a self-loop from 1 to 1 is created, and the transition from 1 to 2 is modified."
   ]
  }
 ],
 "metadata": {
  "kernelspec": {
   "display_name": "Python 2",
   "language": "python",
   "name": "python2"
  },
  "language_info": {
   "codemirror_mode": {
    "name": "ipython",
    "version": 2
   },
   "file_extension": ".py",
   "mimetype": "text/x-python",
   "name": "python",
   "nbconvert_exporter": "python",
   "pygments_lexer": "ipython2",
   "version": "2.7.14"
  }
 },
 "nbformat": 4,
 "nbformat_minor": 1
}
