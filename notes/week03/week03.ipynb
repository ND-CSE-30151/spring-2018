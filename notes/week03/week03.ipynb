{
 "cells": [
  {
   "cell_type": "markdown",
   "metadata": {
    "deletable": true,
    "editable": true
   },
   "source": [
    "# Week 3: 2018/01/29-02/02"
   ]
  },
  {
   "cell_type": "code",
   "execution_count": 1,
   "metadata": {
    "collapsed": false,
    "deletable": true,
    "editable": true
   },
   "outputs": [],
   "source": [
    "from tock import *"
   ]
  },
  {
   "cell_type": "markdown",
   "metadata": {
    "deletable": true,
    "editable": true
   },
   "source": [
    "# Monday reading\n",
    "\n",
    "Read Section 1.3, but you can save Lemma 1.60 and its proof for next time."
   ]
  },
  {
   "cell_type": "markdown",
   "metadata": {
    "deletable": true,
    "editable": true
   },
   "source": [
    "# Tuesday class\n",
    "\n",
    "## Regular expressions\n",
    "\n",
    "Regular expressions were invented by Stephen Kleene (pronounced clay-knee) back in the 1950s as a characterization of the languages recognized by the earliest neural networks. But they became widely used through various Unix tools, like `grep`, which is where you have likely encountered them.\n",
    "\n",
    "![Regex Golf](http://imgs.xkcd.com/comics/regex_golf.png)\n",
    "\n",
    "There are some differences between Unix regular expressions and true regular expressions. True regular expressions have three operations: concatenation, union ($\\cup$ in the book, `|` in Unix), and Kleene star (`*`). The order of operations is star, then union, then concatenation. Use parentheses to change the order of operations, just as in arithmetic expressions.\n",
    "\n",
    "Unix regular expressions use a dot (`.`) to match any symbol; the book uses $\\Sigma$ for this purpose.\n",
    "\n",
    "Another difference is that Unix regular expressions usually match anywhere in a string, whereas true regular expressions usually must match the entire string. When using `grep`, use the `-Ex` flags to approximate true regular expressions (`-E` to get the union operator, `-x` to match the whole line)."
   ]
  },
  {
   "cell_type": "code",
   "execution_count": 2,
   "metadata": {
    "collapsed": false,
    "deletable": true,
    "editable": true
   },
   "outputs": [
    {
     "name": "stdout",
     "output_type": "stream",
     "text": [
      "Overwriting movies.txt\n"
     ]
    }
   ],
   "source": [
    "%%file movies.txt\n",
    "the phantom menace\n",
    "attack of the clones\n",
    "revenge of the sith\n",
    "a new hope\n",
    "the empire strikes back\n",
    "return of the jedi\n",
    "the force awakens\n",
    "rogue one\n",
    "the last jedi\n",
    "solo\n",
    "the motion picture\n",
    "the wrath of khan\n",
    "the search for spock\n",
    "the voyage home\n",
    "the final frontier\n",
    "the undiscovered country\n",
    "generations\n",
    "first contact\n",
    "insurrection\n",
    "nemesis\n",
    "into darkness\n",
    "beyond"
   ]
  },
  {
   "cell_type": "code",
   "execution_count": 3,
   "metadata": {
    "collapsed": false,
    "deletable": true,
    "editable": true
   },
   "outputs": [
    {
     "name": "stdout",
     "output_type": "stream",
     "text": [
      "the phantom menace\r\n",
      "attack of the clones\r\n",
      "revenge of the sith\r\n",
      "a new hope\r\n",
      "the empire strikes back\r\n",
      "return of the jedi\r\n",
      "beyond\r\n"
     ]
    }
   ],
   "source": [
    "!grep -Ex '.*(m | (t|n)|b).*' movies.txt"
   ]
  },
  {
   "cell_type": "markdown",
   "metadata": {
    "collapsed": true,
    "deletable": true,
    "editable": true
   },
   "source": [
    "Almost right.\n",
    "\n",
    "**Question.** Can you fix the regular expression so that it also accepts `the force awakens`, `rogue one`, and `the last jedi`, but not `beyond`?"
   ]
  },
  {
   "cell_type": "markdown",
   "metadata": {
    "deletable": true,
    "editable": true
   },
   "source": [
    "## Converting regular expressions to NFAs\n",
    "\n",
    "Regular expressions are the third \"model of computation\" of this course, and they, too, are equivalent to both DFAs and NFAs. The proof involves algorithms to convert between regular expressions and NFAs. Today we're converting regular expressions to NFAs, which is not as difficult as the subset construction from last time.\n",
    "\n",
    "The algorithm in the book is a slight variation on the algorithm from a paper by Ken Thompson, one of the co-developers of Unix, [for the QED editor](https://swtch.com/~rsc/regexp/regexp1.html), from which are descended `sed`, `grep`, and `vi`. (But many modern regular expression engines actually do not use this algorithm, but one that is asymptotically much slower!)\n",
    "\n",
    "Here's a step by step visualization of the example from the book. You can try different regular expressions to see how they get converted. (Note that in Tock, unlike in Unix tools, symbols in regular expressions are separated by spaces.)"
   ]
  },
  {
   "cell_type": "code",
   "execution_count": 4,
   "metadata": {
    "collapsed": false,
    "deletable": true,
    "editable": true
   },
   "outputs": [
    {
     "data": {
      "text/html": [
       "subexpression: a"
      ],
      "text/plain": [
       "<IPython.core.display.HTML object>"
      ]
     },
     "metadata": {},
     "output_type": "display_data"
    },
    {
     "data": {
      "image/svg+xml": [
       "<svg height=\"35pt\" viewBox=\"0.00 0.00 141.00 35.00\" width=\"141pt\" xmlns=\"http://www.w3.org/2000/svg\" xmlns:xlink=\"http://www.w3.org/1999/xlink\">\n",
       "<g class=\"graph\" id=\"graph0\" transform=\"scale(1 1) rotate(0) translate(4 31)\">\n",
       "<title>%3</title>\n",
       "<polygon fill=\"#ffffff\" points=\"-4,4 -4,-31 137.0039,-31 137.0039,4 -4,4\" stroke=\"transparent\"/>\n",
       "<!-- _START -->\n",
       "<g class=\"node\" id=\"node1\">\n",
       "<title>_START</title>\n",
       "</g>\n",
       "<!-- 0 -->\n",
       "<g class=\"node\" id=\"node2\">\n",
       "<title>0</title>\n",
       "<path d=\"M52.6696,-20C52.6696,-20 43.3324,-20 43.3324,-20 40.6657,-20 37.999,-17.3333 37.999,-14.6667 37.999,-14.6667 37.999,-9.3333 37.999,-9.3333 37.999,-6.6667 40.6657,-4 43.3324,-4 43.3324,-4 52.6696,-4 52.6696,-4 55.3363,-4 58.0029,-6.6667 58.0029,-9.3333 58.0029,-9.3333 58.0029,-14.6667 58.0029,-14.6667 58.0029,-17.3333 55.3363,-20 52.6696,-20\" fill=\"none\" stroke=\"#000000\"/>\n",
       "<text fill=\"#000000\" font-family=\"Courier,monospace\" font-size=\"10.00\" text-anchor=\"start\" x=\"42\" y=\"-9\">q1</text>\n",
       "</g>\n",
       "<!-- _START&#45;&gt;0 -->\n",
       "<g class=\"edge\" id=\"edge1\">\n",
       "<title>_START-&gt;0</title>\n",
       "<path d=\"M1.0335,-12C4.1371,-12 20.1615,-12 32.6403,-12\" fill=\"none\" stroke=\"#000000\"/>\n",
       "<polygon fill=\"#000000\" points=\"37.7232,-12 32.7233,-14.2501 35.2232,-12 32.7232,-12.0001 32.7232,-12.0001 32.7232,-12.0001 35.2232,-12 32.7232,-9.7501 37.7232,-12 37.7232,-12\" stroke=\"#000000\"/>\n",
       "</g>\n",
       "<!-- 1 -->\n",
       "<g class=\"node\" id=\"node3\">\n",
       "<title>1</title>\n",
       "<path d=\"M123.6713,-20C123.6713,-20 114.3346,-20 114.3346,-20 111.6679,-20 109.0013,-17.3333 109.0013,-14.6667 109.0013,-14.6667 109.0013,-9.3333 109.0013,-9.3333 109.0013,-6.6667 111.6679,-4 114.3346,-4 114.3346,-4 123.6713,-4 123.6713,-4 126.3379,-4 129.0046,-6.6667 129.0046,-9.3333 129.0046,-9.3333 129.0046,-14.6667 129.0046,-14.6667 129.0046,-17.3333 126.3379,-20 123.6713,-20\" fill=\"none\" stroke=\"#000000\"/>\n",
       "<path d=\"M125.0049,-24C125.0049,-24 113.001,-24 113.001,-24 109.001,-24 105.001,-20 105.001,-16 105.001,-16 105.001,-8 105.001,-8 105.001,-4 109.001,0 113.001,0 113.001,0 125.0049,0 125.0049,0 129.0049,0 133.0049,-4 133.0049,-8 133.0049,-8 133.0049,-16 133.0049,-16 133.0049,-20 129.0049,-24 125.0049,-24\" fill=\"none\" stroke=\"#000000\"/>\n",
       "<text fill=\"#000000\" font-family=\"Courier,monospace\" font-size=\"10.00\" text-anchor=\"start\" x=\"113.002\" y=\"-9\">q2</text>\n",
       "</g>\n",
       "<!-- 0&#45;&gt;1 -->\n",
       "<g class=\"edge\" id=\"edge2\">\n",
       "<title>0-&gt;1</title>\n",
       "<path d=\"M58.1738,-12C69.0063,-12 86.4036,-12 99.8235,-12\" fill=\"none\" stroke=\"#000000\"/>\n",
       "<polygon fill=\"#000000\" points=\"104.9328,-12 99.9328,-14.2501 102.4328,-12 99.9328,-12.0001 99.9328,-12.0001 99.9328,-12.0001 102.4328,-12 99.9328,-9.7501 104.9328,-12 104.9328,-12\" stroke=\"#000000\"/>\n",
       "<text fill=\"#000000\" font-family=\"Courier,monospace\" font-size=\"9.00\" text-anchor=\"start\" x=\"79.3015\" y=\"-16.3\">a</text>\n",
       "</g>\n",
       "</g>\n",
       "</svg>"
      ],
      "text/plain": [
       "<IPython.core.display.SVG object>"
      ]
     },
     "metadata": {},
     "output_type": "display_data"
    },
    {
     "data": {
      "text/html": [
       "subexpression: b"
      ],
      "text/plain": [
       "<IPython.core.display.HTML object>"
      ]
     },
     "metadata": {},
     "output_type": "display_data"
    },
    {
     "data": {
      "image/svg+xml": [
       "<svg height=\"35pt\" viewBox=\"0.00 0.00 141.00 35.00\" width=\"141pt\" xmlns=\"http://www.w3.org/2000/svg\" xmlns:xlink=\"http://www.w3.org/1999/xlink\">\n",
       "<g class=\"graph\" id=\"graph0\" transform=\"scale(1 1) rotate(0) translate(4 31)\">\n",
       "<title>%3</title>\n",
       "<polygon fill=\"#ffffff\" points=\"-4,4 -4,-31 137.0039,-31 137.0039,4 -4,4\" stroke=\"transparent\"/>\n",
       "<!-- _START -->\n",
       "<g class=\"node\" id=\"node1\">\n",
       "<title>_START</title>\n",
       "</g>\n",
       "<!-- 1 -->\n",
       "<g class=\"node\" id=\"node3\">\n",
       "<title>1</title>\n",
       "<path d=\"M52.6696,-20C52.6696,-20 43.3324,-20 43.3324,-20 40.6657,-20 37.999,-17.3333 37.999,-14.6667 37.999,-14.6667 37.999,-9.3333 37.999,-9.3333 37.999,-6.6667 40.6657,-4 43.3324,-4 43.3324,-4 52.6696,-4 52.6696,-4 55.3363,-4 58.0029,-6.6667 58.0029,-9.3333 58.0029,-9.3333 58.0029,-14.6667 58.0029,-14.6667 58.0029,-17.3333 55.3363,-20 52.6696,-20\" fill=\"none\" stroke=\"#000000\"/>\n",
       "<text fill=\"#000000\" font-family=\"Courier,monospace\" font-size=\"10.00\" text-anchor=\"start\" x=\"42\" y=\"-9\">q3</text>\n",
       "</g>\n",
       "<!-- _START&#45;&gt;1 -->\n",
       "<g class=\"edge\" id=\"edge1\">\n",
       "<title>_START-&gt;1</title>\n",
       "<path d=\"M1.0335,-12C4.1371,-12 20.1615,-12 32.6403,-12\" fill=\"none\" stroke=\"#000000\"/>\n",
       "<polygon fill=\"#000000\" points=\"37.7232,-12 32.7233,-14.2501 35.2232,-12 32.7232,-12.0001 32.7232,-12.0001 32.7232,-12.0001 35.2232,-12 32.7232,-9.7501 37.7232,-12 37.7232,-12\" stroke=\"#000000\"/>\n",
       "</g>\n",
       "<!-- 0 -->\n",
       "<g class=\"node\" id=\"node2\">\n",
       "<title>0</title>\n",
       "<path d=\"M123.6713,-20C123.6713,-20 114.3346,-20 114.3346,-20 111.6679,-20 109.0013,-17.3333 109.0013,-14.6667 109.0013,-14.6667 109.0013,-9.3333 109.0013,-9.3333 109.0013,-6.6667 111.6679,-4 114.3346,-4 114.3346,-4 123.6713,-4 123.6713,-4 126.3379,-4 129.0046,-6.6667 129.0046,-9.3333 129.0046,-9.3333 129.0046,-14.6667 129.0046,-14.6667 129.0046,-17.3333 126.3379,-20 123.6713,-20\" fill=\"none\" stroke=\"#000000\"/>\n",
       "<path d=\"M125.0049,-24C125.0049,-24 113.001,-24 113.001,-24 109.001,-24 105.001,-20 105.001,-16 105.001,-16 105.001,-8 105.001,-8 105.001,-4 109.001,0 113.001,0 113.001,0 125.0049,0 125.0049,0 129.0049,0 133.0049,-4 133.0049,-8 133.0049,-8 133.0049,-16 133.0049,-16 133.0049,-20 129.0049,-24 125.0049,-24\" fill=\"none\" stroke=\"#000000\"/>\n",
       "<text fill=\"#000000\" font-family=\"Courier,monospace\" font-size=\"10.00\" text-anchor=\"start\" x=\"113.002\" y=\"-9\">q4</text>\n",
       "</g>\n",
       "<!-- 1&#45;&gt;0 -->\n",
       "<g class=\"edge\" id=\"edge2\">\n",
       "<title>1-&gt;0</title>\n",
       "<path d=\"M58.1738,-12C69.0063,-12 86.4036,-12 99.8235,-12\" fill=\"none\" stroke=\"#000000\"/>\n",
       "<polygon fill=\"#000000\" points=\"104.9328,-12 99.9328,-14.2501 102.4328,-12 99.9328,-12.0001 99.9328,-12.0001 99.9328,-12.0001 102.4328,-12 99.9328,-9.7501 104.9328,-12 104.9328,-12\" stroke=\"#000000\"/>\n",
       "<text fill=\"#000000\" font-family=\"Courier,monospace\" font-size=\"9.00\" text-anchor=\"start\" x=\"79.3015\" y=\"-16.3\">b</text>\n",
       "</g>\n",
       "</g>\n",
       "</svg>"
      ],
      "text/plain": [
       "<IPython.core.display.SVG object>"
      ]
     },
     "metadata": {},
     "output_type": "display_data"
    },
    {
     "data": {
      "text/html": [
       "subexpression: a b"
      ],
      "text/plain": [
       "<IPython.core.display.HTML object>"
      ]
     },
     "metadata": {},
     "output_type": "display_data"
    },
    {
     "data": {
      "image/svg+xml": [
       "<svg height=\"36pt\" viewBox=\"0.00 0.00 274.01 36.00\" width=\"274pt\" xmlns=\"http://www.w3.org/2000/svg\" xmlns:xlink=\"http://www.w3.org/1999/xlink\">\n",
       "<g class=\"graph\" id=\"graph0\" transform=\"scale(1 1) rotate(0) translate(4 32)\">\n",
       "<title>%3</title>\n",
       "<polygon fill=\"#ffffff\" points=\"-4,4 -4,-32 270.0078,-32 270.0078,4 -4,4\" stroke=\"transparent\"/>\n",
       "<!-- _START -->\n",
       "<g class=\"node\" id=\"node1\">\n",
       "<title>_START</title>\n",
       "</g>\n",
       "<!-- 2 -->\n",
       "<g class=\"node\" id=\"node4\">\n",
       "<title>2</title>\n",
       "<path d=\"M52.6696,-20C52.6696,-20 43.3324,-20 43.3324,-20 40.6657,-20 37.999,-17.3333 37.999,-14.6667 37.999,-14.6667 37.999,-9.3333 37.999,-9.3333 37.999,-6.6667 40.6657,-4 43.3324,-4 43.3324,-4 52.6696,-4 52.6696,-4 55.3363,-4 58.0029,-6.6667 58.0029,-9.3333 58.0029,-9.3333 58.0029,-14.6667 58.0029,-14.6667 58.0029,-17.3333 55.3363,-20 52.6696,-20\" fill=\"none\" stroke=\"#000000\"/>\n",
       "<text fill=\"#000000\" font-family=\"Courier,monospace\" font-size=\"10.00\" text-anchor=\"start\" x=\"42\" y=\"-9\">q1</text>\n",
       "</g>\n",
       "<!-- _START&#45;&gt;2 -->\n",
       "<g class=\"edge\" id=\"edge1\">\n",
       "<title>_START-&gt;2</title>\n",
       "<path d=\"M1.0335,-12C4.1371,-12 20.1615,-12 32.6403,-12\" fill=\"none\" stroke=\"#000000\"/>\n",
       "<polygon fill=\"#000000\" points=\"37.7232,-12 32.7233,-14.2501 35.2232,-12 32.7232,-12.0001 32.7232,-12.0001 32.7232,-12.0001 35.2232,-12 32.7232,-9.7501 37.7232,-12 37.7232,-12\" stroke=\"#000000\"/>\n",
       "</g>\n",
       "<!-- 0 -->\n",
       "<g class=\"node\" id=\"node2\">\n",
       "<title>0</title>\n",
       "<path d=\"M119.6715,-20C119.6715,-20 110.3343,-20 110.3343,-20 107.6676,-20 105.001,-17.3333 105.001,-14.6667 105.001,-14.6667 105.001,-9.3333 105.001,-9.3333 105.001,-6.6667 107.6676,-4 110.3343,-4 110.3343,-4 119.6715,-4 119.6715,-4 122.3382,-4 125.0049,-6.6667 125.0049,-9.3333 125.0049,-9.3333 125.0049,-14.6667 125.0049,-14.6667 125.0049,-17.3333 122.3382,-20 119.6715,-20\" fill=\"none\" stroke=\"#000000\"/>\n",
       "<text fill=\"#000000\" font-family=\"Courier,monospace\" font-size=\"10.00\" text-anchor=\"start\" x=\"109.002\" y=\"-9\">q2</text>\n",
       "</g>\n",
       "<!-- 1 -->\n",
       "<g class=\"node\" id=\"node3\">\n",
       "<title>1</title>\n",
       "<path d=\"M185.6735,-20C185.6735,-20 176.3363,-20 176.3363,-20 173.6696,-20 171.0029,-17.3333 171.0029,-14.6667 171.0029,-14.6667 171.0029,-9.3333 171.0029,-9.3333 171.0029,-6.6667 173.6696,-4 176.3363,-4 176.3363,-4 185.6735,-4 185.6735,-4 188.3402,-4 191.0068,-6.6667 191.0068,-9.3333 191.0068,-9.3333 191.0068,-14.6667 191.0068,-14.6667 191.0068,-17.3333 188.3402,-20 185.6735,-20\" fill=\"none\" stroke=\"#000000\"/>\n",
       "<text fill=\"#000000\" font-family=\"Courier,monospace\" font-size=\"10.00\" text-anchor=\"start\" x=\"175.0039\" y=\"-9\">q3</text>\n",
       "</g>\n",
       "<!-- 0&#45;&gt;1 -->\n",
       "<g class=\"edge\" id=\"edge4\">\n",
       "<title>0-&gt;1</title>\n",
       "<path d=\"M125.0272,-12C135.8819,-12 153.3206,-12 165.8504,-12\" fill=\"none\" stroke=\"#000000\"/>\n",
       "<polygon fill=\"#000000\" points=\"170.8863,-12 165.8863,-14.2501 168.3863,-12 165.8863,-12.0001 165.8863,-12.0001 165.8863,-12.0001 168.3863,-12 165.8862,-9.7501 170.8863,-12 170.8863,-12\" stroke=\"#000000\"/>\n",
       "<text fill=\"#000000\" font-family=\"Courier,monospace\" font-size=\"9.00\" text-anchor=\"start\" x=\"145.9165\" y=\"-17.8\">ε</text>\n",
       "</g>\n",
       "<!-- 3 -->\n",
       "<g class=\"node\" id=\"node5\">\n",
       "<title>3</title>\n",
       "<path d=\"M256.6752,-20C256.6752,-20 247.3385,-20 247.3385,-20 244.6718,-20 242.0052,-17.3333 242.0052,-14.6667 242.0052,-14.6667 242.0052,-9.3333 242.0052,-9.3333 242.0052,-6.6667 244.6718,-4 247.3385,-4 247.3385,-4 256.6752,-4 256.6752,-4 259.3418,-4 262.0085,-6.6667 262.0085,-9.3333 262.0085,-9.3333 262.0085,-14.6667 262.0085,-14.6667 262.0085,-17.3333 259.3418,-20 256.6752,-20\" fill=\"none\" stroke=\"#000000\"/>\n",
       "<path d=\"M258.0088,-24C258.0088,-24 246.0049,-24 246.0049,-24 242.0049,-24 238.0049,-20 238.0049,-16 238.0049,-16 238.0049,-8 238.0049,-8 238.0049,-4 242.0049,0 246.0049,0 246.0049,0 258.0088,0 258.0088,0 262.0088,0 266.0088,-4 266.0088,-8 266.0088,-8 266.0088,-16 266.0088,-16 266.0088,-20 262.0088,-24 258.0088,-24\" fill=\"none\" stroke=\"#000000\"/>\n",
       "<text fill=\"#000000\" font-family=\"Courier,monospace\" font-size=\"10.00\" text-anchor=\"start\" x=\"246.0059\" y=\"-9\">q4</text>\n",
       "</g>\n",
       "<!-- 1&#45;&gt;3 -->\n",
       "<g class=\"edge\" id=\"edge3\">\n",
       "<title>1-&gt;3</title>\n",
       "<path d=\"M191.1777,-12C202.0102,-12 219.4075,-12 232.8274,-12\" fill=\"none\" stroke=\"#000000\"/>\n",
       "<polygon fill=\"#000000\" points=\"237.9367,-12 232.9368,-14.2501 235.4367,-12 232.9367,-12.0001 232.9367,-12.0001 232.9367,-12.0001 235.4367,-12 232.9367,-9.7501 237.9367,-12 237.9367,-12\" stroke=\"#000000\"/>\n",
       "<text fill=\"#000000\" font-family=\"Courier,monospace\" font-size=\"9.00\" text-anchor=\"start\" x=\"212.3054\" y=\"-16.3\">b</text>\n",
       "</g>\n",
       "<!-- 2&#45;&gt;0 -->\n",
       "<g class=\"edge\" id=\"edge2\">\n",
       "<title>2-&gt;0</title>\n",
       "<path d=\"M58.1771,-12C69.1963,-12 86.8992,-12 99.6188,-12\" fill=\"none\" stroke=\"#000000\"/>\n",
       "<polygon fill=\"#000000\" points=\"104.731,-12 99.7311,-14.2501 102.231,-12 99.731,-12.0001 99.731,-12.0001 99.731,-12.0001 102.231,-12 99.731,-9.7501 104.731,-12 104.731,-12\" stroke=\"#000000\"/>\n",
       "<text fill=\"#000000\" font-family=\"Courier,monospace\" font-size=\"9.00\" text-anchor=\"start\" x=\"79.3015\" y=\"-16.3\">a</text>\n",
       "</g>\n",
       "</g>\n",
       "</svg>"
      ],
      "text/plain": [
       "<IPython.core.display.SVG object>"
      ]
     },
     "metadata": {},
     "output_type": "display_data"
    },
    {
     "data": {
      "text/html": [
       "subexpression: a"
      ],
      "text/plain": [
       "<IPython.core.display.HTML object>"
      ]
     },
     "metadata": {},
     "output_type": "display_data"
    },
    {
     "data": {
      "image/svg+xml": [
       "<svg height=\"35pt\" viewBox=\"0.00 0.00 141.00 35.00\" width=\"141pt\" xmlns=\"http://www.w3.org/2000/svg\" xmlns:xlink=\"http://www.w3.org/1999/xlink\">\n",
       "<g class=\"graph\" id=\"graph0\" transform=\"scale(1 1) rotate(0) translate(4 31)\">\n",
       "<title>%3</title>\n",
       "<polygon fill=\"#ffffff\" points=\"-4,4 -4,-31 137.0039,-31 137.0039,4 -4,4\" stroke=\"transparent\"/>\n",
       "<!-- _START -->\n",
       "<g class=\"node\" id=\"node1\">\n",
       "<title>_START</title>\n",
       "</g>\n",
       "<!-- 0 -->\n",
       "<g class=\"node\" id=\"node2\">\n",
       "<title>0</title>\n",
       "<path d=\"M52.6696,-20C52.6696,-20 43.3324,-20 43.3324,-20 40.6657,-20 37.999,-17.3333 37.999,-14.6667 37.999,-14.6667 37.999,-9.3333 37.999,-9.3333 37.999,-6.6667 40.6657,-4 43.3324,-4 43.3324,-4 52.6696,-4 52.6696,-4 55.3363,-4 58.0029,-6.6667 58.0029,-9.3333 58.0029,-9.3333 58.0029,-14.6667 58.0029,-14.6667 58.0029,-17.3333 55.3363,-20 52.6696,-20\" fill=\"none\" stroke=\"#000000\"/>\n",
       "<text fill=\"#000000\" font-family=\"Courier,monospace\" font-size=\"10.00\" text-anchor=\"start\" x=\"42\" y=\"-9\">q5</text>\n",
       "</g>\n",
       "<!-- _START&#45;&gt;0 -->\n",
       "<g class=\"edge\" id=\"edge1\">\n",
       "<title>_START-&gt;0</title>\n",
       "<path d=\"M1.0335,-12C4.1371,-12 20.1615,-12 32.6403,-12\" fill=\"none\" stroke=\"#000000\"/>\n",
       "<polygon fill=\"#000000\" points=\"37.7232,-12 32.7233,-14.2501 35.2232,-12 32.7232,-12.0001 32.7232,-12.0001 32.7232,-12.0001 35.2232,-12 32.7232,-9.7501 37.7232,-12 37.7232,-12\" stroke=\"#000000\"/>\n",
       "</g>\n",
       "<!-- 1 -->\n",
       "<g class=\"node\" id=\"node3\">\n",
       "<title>1</title>\n",
       "<path d=\"M123.6713,-20C123.6713,-20 114.3346,-20 114.3346,-20 111.6679,-20 109.0013,-17.3333 109.0013,-14.6667 109.0013,-14.6667 109.0013,-9.3333 109.0013,-9.3333 109.0013,-6.6667 111.6679,-4 114.3346,-4 114.3346,-4 123.6713,-4 123.6713,-4 126.3379,-4 129.0046,-6.6667 129.0046,-9.3333 129.0046,-9.3333 129.0046,-14.6667 129.0046,-14.6667 129.0046,-17.3333 126.3379,-20 123.6713,-20\" fill=\"none\" stroke=\"#000000\"/>\n",
       "<path d=\"M125.0049,-24C125.0049,-24 113.001,-24 113.001,-24 109.001,-24 105.001,-20 105.001,-16 105.001,-16 105.001,-8 105.001,-8 105.001,-4 109.001,0 113.001,0 113.001,0 125.0049,0 125.0049,0 129.0049,0 133.0049,-4 133.0049,-8 133.0049,-8 133.0049,-16 133.0049,-16 133.0049,-20 129.0049,-24 125.0049,-24\" fill=\"none\" stroke=\"#000000\"/>\n",
       "<text fill=\"#000000\" font-family=\"Courier,monospace\" font-size=\"10.00\" text-anchor=\"start\" x=\"113.002\" y=\"-9\">q6</text>\n",
       "</g>\n",
       "<!-- 0&#45;&gt;1 -->\n",
       "<g class=\"edge\" id=\"edge2\">\n",
       "<title>0-&gt;1</title>\n",
       "<path d=\"M58.1738,-12C69.0063,-12 86.4036,-12 99.8235,-12\" fill=\"none\" stroke=\"#000000\"/>\n",
       "<polygon fill=\"#000000\" points=\"104.9328,-12 99.9328,-14.2501 102.4328,-12 99.9328,-12.0001 99.9328,-12.0001 99.9328,-12.0001 102.4328,-12 99.9328,-9.7501 104.9328,-12 104.9328,-12\" stroke=\"#000000\"/>\n",
       "<text fill=\"#000000\" font-family=\"Courier,monospace\" font-size=\"9.00\" text-anchor=\"start\" x=\"79.3015\" y=\"-16.3\">a</text>\n",
       "</g>\n",
       "</g>\n",
       "</svg>"
      ],
      "text/plain": [
       "<IPython.core.display.SVG object>"
      ]
     },
     "metadata": {},
     "output_type": "display_data"
    },
    {
     "data": {
      "text/html": [
       "subexpression: a b|a"
      ],
      "text/plain": [
       "<IPython.core.display.HTML object>"
      ]
     },
     "metadata": {},
     "output_type": "display_data"
    },
    {
     "data": {
      "image/svg+xml": [
       "<svg height=\"74pt\" viewBox=\"0.00 0.00 348.01 74.00\" width=\"348pt\" xmlns=\"http://www.w3.org/2000/svg\" xmlns:xlink=\"http://www.w3.org/1999/xlink\">\n",
       "<g class=\"graph\" id=\"graph0\" transform=\"scale(1 1) rotate(0) translate(4 70)\">\n",
       "<title>%3</title>\n",
       "<polygon fill=\"#ffffff\" points=\"-4,4 -4,-70 344.0098,-70 344.0098,4 -4,4\" stroke=\"transparent\"/>\n",
       "<!-- _START -->\n",
       "<g class=\"node\" id=\"node1\">\n",
       "<title>_START</title>\n",
       "</g>\n",
       "<!-- 4 -->\n",
       "<g class=\"node\" id=\"node6\">\n",
       "<title>4</title>\n",
       "<path d=\"M52.6696,-39C52.6696,-39 43.3324,-39 43.3324,-39 40.6657,-39 37.999,-36.3333 37.999,-33.6667 37.999,-33.6667 37.999,-28.3333 37.999,-28.3333 37.999,-25.6667 40.6657,-23 43.3324,-23 43.3324,-23 52.6696,-23 52.6696,-23 55.3363,-23 58.0029,-25.6667 58.0029,-28.3333 58.0029,-28.3333 58.0029,-33.6667 58.0029,-33.6667 58.0029,-36.3333 55.3363,-39 52.6696,-39\" fill=\"none\" stroke=\"#000000\"/>\n",
       "<text fill=\"#000000\" font-family=\"Courier,monospace\" font-size=\"10.00\" text-anchor=\"start\" x=\"42\" y=\"-28\">q7</text>\n",
       "</g>\n",
       "<!-- _START&#45;&gt;4 -->\n",
       "<g class=\"edge\" id=\"edge1\">\n",
       "<title>_START-&gt;4</title>\n",
       "<path d=\"M1.0335,-31C4.1371,-31 20.1615,-31 32.6403,-31\" fill=\"none\" stroke=\"#000000\"/>\n",
       "<polygon fill=\"#000000\" points=\"37.7232,-31 32.7233,-33.2501 35.2232,-31 32.7232,-31.0001 32.7232,-31.0001 32.7232,-31.0001 35.2232,-31 32.7232,-28.7501 37.7232,-31 37.7232,-31\" stroke=\"#000000\"/>\n",
       "</g>\n",
       "<!-- 0 -->\n",
       "<g class=\"node\" id=\"node2\">\n",
       "<title>0</title>\n",
       "<path d=\"M118.6715,-59C118.6715,-59 109.3343,-59 109.3343,-59 106.6676,-59 104.001,-56.3333 104.001,-53.6667 104.001,-53.6667 104.001,-48.3333 104.001,-48.3333 104.001,-45.6667 106.6676,-43 109.3343,-43 109.3343,-43 118.6715,-43 118.6715,-43 121.3382,-43 124.0049,-45.6667 124.0049,-48.3333 124.0049,-48.3333 124.0049,-53.6667 124.0049,-53.6667 124.0049,-56.3333 121.3382,-59 118.6715,-59\" fill=\"none\" stroke=\"#000000\"/>\n",
       "<text fill=\"#000000\" font-family=\"Courier,monospace\" font-size=\"10.00\" text-anchor=\"start\" x=\"108.002\" y=\"-48\">q5</text>\n",
       "</g>\n",
       "<!-- 6 -->\n",
       "<g class=\"node\" id=\"node8\">\n",
       "<title>6</title>\n",
       "<path d=\"M189.6732,-59C189.6732,-59 180.3365,-59 180.3365,-59 177.6699,-59 175.0032,-56.3333 175.0032,-53.6667 175.0032,-53.6667 175.0032,-48.3333 175.0032,-48.3333 175.0032,-45.6667 177.6699,-43 180.3365,-43 180.3365,-43 189.6732,-43 189.6732,-43 192.3399,-43 195.0066,-45.6667 195.0066,-48.3333 195.0066,-48.3333 195.0066,-53.6667 195.0066,-53.6667 195.0066,-56.3333 192.3399,-59 189.6732,-59\" fill=\"none\" stroke=\"#000000\"/>\n",
       "<path d=\"M191.0068,-63C191.0068,-63 179.0029,-63 179.0029,-63 175.0029,-63 171.0029,-59 171.0029,-55 171.0029,-55 171.0029,-47 171.0029,-47 171.0029,-43 175.0029,-39 179.0029,-39 179.0029,-39 191.0068,-39 191.0068,-39 195.0068,-39 199.0068,-43 199.0068,-47 199.0068,-47 199.0068,-55 199.0068,-55 199.0068,-59 195.0068,-63 191.0068,-63\" fill=\"none\" stroke=\"#000000\"/>\n",
       "<text fill=\"#000000\" font-family=\"Courier,monospace\" font-size=\"10.00\" text-anchor=\"start\" x=\"179.0039\" y=\"-48\">q6</text>\n",
       "</g>\n",
       "<!-- 0&#45;&gt;6 -->\n",
       "<g class=\"edge\" id=\"edge5\">\n",
       "<title>0-&gt;6</title>\n",
       "<path d=\"M124.1758,-51C135.0083,-51 152.4055,-51 165.8255,-51\" fill=\"none\" stroke=\"#000000\"/>\n",
       "<polygon fill=\"#000000\" points=\"170.9348,-51 165.9348,-53.2501 168.4348,-51 165.9348,-51.0001 165.9348,-51.0001 165.9348,-51.0001 168.4348,-51 165.9347,-48.7501 170.9348,-51 170.9348,-51\" stroke=\"#000000\"/>\n",
       "<text fill=\"#000000\" font-family=\"Courier,monospace\" font-size=\"9.00\" text-anchor=\"start\" x=\"145.3035\" y=\"-55.3\">a</text>\n",
       "</g>\n",
       "<!-- 1 -->\n",
       "<g class=\"node\" id=\"node3\">\n",
       "<title>1</title>\n",
       "<path d=\"M118.6715,-20C118.6715,-20 109.3343,-20 109.3343,-20 106.6676,-20 104.001,-17.3333 104.001,-14.6667 104.001,-14.6667 104.001,-9.3333 104.001,-9.3333 104.001,-6.6667 106.6676,-4 109.3343,-4 109.3343,-4 118.6715,-4 118.6715,-4 121.3382,-4 124.0049,-6.6667 124.0049,-9.3333 124.0049,-9.3333 124.0049,-14.6667 124.0049,-14.6667 124.0049,-17.3333 121.3382,-20 118.6715,-20\" fill=\"none\" stroke=\"#000000\"/>\n",
       "<text fill=\"#000000\" font-family=\"Courier,monospace\" font-size=\"10.00\" text-anchor=\"start\" x=\"108.002\" y=\"-9\">q1</text>\n",
       "</g>\n",
       "<!-- 2 -->\n",
       "<g class=\"node\" id=\"node4\">\n",
       "<title>2</title>\n",
       "<path d=\"M189.6735,-20C189.6735,-20 180.3363,-20 180.3363,-20 177.6696,-20 175.0029,-17.3333 175.0029,-14.6667 175.0029,-14.6667 175.0029,-9.3333 175.0029,-9.3333 175.0029,-6.6667 177.6696,-4 180.3363,-4 180.3363,-4 189.6735,-4 189.6735,-4 192.3402,-4 195.0068,-6.6667 195.0068,-9.3333 195.0068,-9.3333 195.0068,-14.6667 195.0068,-14.6667 195.0068,-17.3333 192.3402,-20 189.6735,-20\" fill=\"none\" stroke=\"#000000\"/>\n",
       "<text fill=\"#000000\" font-family=\"Courier,monospace\" font-size=\"10.00\" text-anchor=\"start\" x=\"179.0039\" y=\"-9\">q2</text>\n",
       "</g>\n",
       "<!-- 1&#45;&gt;2 -->\n",
       "<g class=\"edge\" id=\"edge2\">\n",
       "<title>1-&gt;2</title>\n",
       "<path d=\"M124.1758,-12C136.0915,-12 155.9506,-12 169.7216,-12\" fill=\"none\" stroke=\"#000000\"/>\n",
       "<polygon fill=\"#000000\" points=\"174.8509,-12 169.8509,-14.2501 172.3509,-12 169.8509,-12.0001 169.8509,-12.0001 169.8509,-12.0001 172.3509,-12 169.8509,-9.7501 174.8509,-12 174.8509,-12\" stroke=\"#000000\"/>\n",
       "<text fill=\"#000000\" font-family=\"Courier,monospace\" font-size=\"9.00\" text-anchor=\"start\" x=\"145.3035\" y=\"-16.3\">a</text>\n",
       "</g>\n",
       "<!-- 3 -->\n",
       "<g class=\"node\" id=\"node5\">\n",
       "<title>3</title>\n",
       "<path d=\"M259.6755,-20C259.6755,-20 250.3382,-20 250.3382,-20 247.6715,-20 245.0049,-17.3333 245.0049,-14.6667 245.0049,-14.6667 245.0049,-9.3333 245.0049,-9.3333 245.0049,-6.6667 247.6715,-4 250.3382,-4 250.3382,-4 259.6755,-4 259.6755,-4 262.3421,-4 265.0088,-6.6667 265.0088,-9.3333 265.0088,-9.3333 265.0088,-14.6667 265.0088,-14.6667 265.0088,-17.3333 262.3421,-20 259.6755,-20\" fill=\"none\" stroke=\"#000000\"/>\n",
       "<text fill=\"#000000\" font-family=\"Courier,monospace\" font-size=\"10.00\" text-anchor=\"start\" x=\"249.0059\" y=\"-9\">q3</text>\n",
       "</g>\n",
       "<!-- 2&#45;&gt;3 -->\n",
       "<g class=\"edge\" id=\"edge4\">\n",
       "<title>2-&gt;3</title>\n",
       "<path d=\"M195.0345,-12C206.7824,-12 226.3618,-12 239.9388,-12\" fill=\"none\" stroke=\"#000000\"/>\n",
       "<polygon fill=\"#000000\" points=\"244.9959,-12 239.9959,-14.2501 242.4959,-12 239.9959,-12.0001 239.9959,-12.0001 239.9959,-12.0001 242.4959,-12 239.9958,-9.7501 244.9959,-12 244.9959,-12\" stroke=\"#000000\"/>\n",
       "<text fill=\"#000000\" font-family=\"Courier,monospace\" font-size=\"9.00\" text-anchor=\"start\" x=\"219.9185\" y=\"-17.8\">ε</text>\n",
       "</g>\n",
       "<!-- 5 -->\n",
       "<g class=\"node\" id=\"node7\">\n",
       "<title>5</title>\n",
       "<path d=\"M330.6771,-20C330.6771,-20 321.3404,-20 321.3404,-20 318.6738,-20 316.0071,-17.3333 316.0071,-14.6667 316.0071,-14.6667 316.0071,-9.3333 316.0071,-9.3333 316.0071,-6.6667 318.6738,-4 321.3404,-4 321.3404,-4 330.6771,-4 330.6771,-4 333.3438,-4 336.0105,-6.6667 336.0105,-9.3333 336.0105,-9.3333 336.0105,-14.6667 336.0105,-14.6667 336.0105,-17.3333 333.3438,-20 330.6771,-20\" fill=\"none\" stroke=\"#000000\"/>\n",
       "<path d=\"M332.0107,-24C332.0107,-24 320.0068,-24 320.0068,-24 316.0068,-24 312.0068,-20 312.0068,-16 312.0068,-16 312.0068,-8 312.0068,-8 312.0068,-4 316.0068,0 320.0068,0 320.0068,0 332.0107,0 332.0107,0 336.0107,0 340.0107,-4 340.0107,-8 340.0107,-8 340.0107,-16 340.0107,-16 340.0107,-20 336.0107,-24 332.0107,-24\" fill=\"none\" stroke=\"#000000\"/>\n",
       "<text fill=\"#000000\" font-family=\"Courier,monospace\" font-size=\"10.00\" text-anchor=\"start\" x=\"320.0078\" y=\"-9\">q4</text>\n",
       "</g>\n",
       "<!-- 3&#45;&gt;5 -->\n",
       "<g class=\"edge\" id=\"edge3\">\n",
       "<title>3-&gt;5</title>\n",
       "<path d=\"M265.1797,-12C276.0122,-12 293.4094,-12 306.8294,-12\" fill=\"none\" stroke=\"#000000\"/>\n",
       "<polygon fill=\"#000000\" points=\"311.9387,-12 306.9387,-14.2501 309.4387,-12 306.9387,-12.0001 306.9387,-12.0001 306.9387,-12.0001 309.4387,-12 306.9386,-9.7501 311.9387,-12 311.9387,-12\" stroke=\"#000000\"/>\n",
       "<text fill=\"#000000\" font-family=\"Courier,monospace\" font-size=\"9.00\" text-anchor=\"start\" x=\"286.3074\" y=\"-16.3\">b</text>\n",
       "</g>\n",
       "<!-- 4&#45;&gt;0 -->\n",
       "<g class=\"edge\" id=\"edge7\">\n",
       "<title>4-&gt;0</title>\n",
       "<path d=\"M58.0253,-34.0376C68.88,-37.3268 86.3187,-42.6111 98.8485,-46.4079\" fill=\"none\" stroke=\"#000000\"/>\n",
       "<polygon fill=\"#000000\" points=\"103.8843,-47.9338 98.4466,-48.6371 101.4917,-47.2088 99.0992,-46.4838 99.0992,-46.4838 99.0992,-46.4838 101.4917,-47.2088 99.7517,-44.3305 103.8843,-47.9338 103.8843,-47.9338\" stroke=\"#000000\"/>\n",
       "<text fill=\"#000000\" font-family=\"Courier,monospace\" font-size=\"9.00\" text-anchor=\"start\" x=\"78.9146\" y=\"-47.8\">ε</text>\n",
       "</g>\n",
       "<!-- 4&#45;&gt;1 -->\n",
       "<g class=\"edge\" id=\"edge6\">\n",
       "<title>4-&gt;1</title>\n",
       "<path d=\"M57.7009,-22.8859C62.8076,-19.1242 69.3744,-15.0415 76.002,-13 83.2395,-10.7706 91.6239,-10.3389 98.6728,-10.5412\" fill=\"none\" stroke=\"#000000\"/>\n",
       "<polygon fill=\"#000000\" points=\"103.7618,-10.8002 98.6538,-12.793 101.265,-10.6731 98.7682,-10.546 98.7682,-10.546 98.7682,-10.546 101.265,-10.6731 98.8826,-8.2989 103.7618,-10.8002 103.7618,-10.8002\" stroke=\"#000000\"/>\n",
       "<text fill=\"#000000\" font-family=\"Courier,monospace\" font-size=\"9.00\" text-anchor=\"start\" x=\"78.9146\" y=\"-18.8\">ε</text>\n",
       "</g>\n",
       "</g>\n",
       "</svg>"
      ],
      "text/plain": [
       "<IPython.core.display.SVG object>"
      ]
     },
     "metadata": {},
     "output_type": "display_data"
    },
    {
     "data": {
      "text/html": [
       "subexpression: (a b|a)*"
      ],
      "text/plain": [
       "<IPython.core.display.HTML object>"
      ]
     },
     "metadata": {},
     "output_type": "display_data"
    },
    {
     "data": {
      "image/svg+xml": [
       "<svg height=\"138pt\" viewBox=\"0.00 0.00 422.01 138.00\" width=\"422pt\" xmlns=\"http://www.w3.org/2000/svg\" xmlns:xlink=\"http://www.w3.org/1999/xlink\">\n",
       "<g class=\"graph\" id=\"graph0\" transform=\"scale(1 1) rotate(0) translate(4 134)\">\n",
       "<title>%3</title>\n",
       "<polygon fill=\"#ffffff\" points=\"-4,4 -4,-134 418.0117,-134 418.0117,4 -4,4\" stroke=\"transparent\"/>\n",
       "<!-- _START -->\n",
       "<g class=\"node\" id=\"node1\">\n",
       "<title>_START</title>\n",
       "</g>\n",
       "<!-- 4 -->\n",
       "<g class=\"node\" id=\"node6\">\n",
       "<title>4</title>\n",
       "<path d=\"M56.6693,-72C56.6693,-72 47.3326,-72 47.3326,-72 44.666,-72 41.9993,-69.3333 41.9993,-66.6667 41.9993,-66.6667 41.9993,-61.3333 41.9993,-61.3333 41.9993,-58.6667 44.666,-56 47.3326,-56 47.3326,-56 56.6693,-56 56.6693,-56 59.336,-56 62.0027,-58.6667 62.0027,-61.3333 62.0027,-61.3333 62.0027,-66.6667 62.0027,-66.6667 62.0027,-69.3333 59.336,-72 56.6693,-72\" fill=\"none\" stroke=\"#000000\"/>\n",
       "<path d=\"M58.0029,-76C58.0029,-76 45.999,-76 45.999,-76 41.999,-76 37.999,-72 37.999,-68 37.999,-68 37.999,-60 37.999,-60 37.999,-56 41.999,-52 45.999,-52 45.999,-52 58.0029,-52 58.0029,-52 62.0029,-52 66.0029,-56 66.0029,-60 66.0029,-60 66.0029,-68 66.0029,-68 66.0029,-72 62.0029,-76 58.0029,-76\" fill=\"none\" stroke=\"#000000\"/>\n",
       "<text fill=\"#000000\" font-family=\"Courier,monospace\" font-size=\"10.00\" text-anchor=\"start\" x=\"46\" y=\"-61\">q8</text>\n",
       "</g>\n",
       "<!-- _START&#45;&gt;4 -->\n",
       "<g class=\"edge\" id=\"edge1\">\n",
       "<title>_START-&gt;4</title>\n",
       "<path d=\"M1.0784,-64C4.2393,-64 19.7612,-64 32.8465,-64\" fill=\"none\" stroke=\"#000000\"/>\n",
       "<polygon fill=\"#000000\" points=\"37.8941,-64 32.8941,-66.2501 35.3941,-64 32.8941,-64.0001 32.8941,-64.0001 32.8941,-64.0001 35.3941,-64 32.894,-61.7501 37.8941,-64 37.8941,-64\" stroke=\"#000000\"/>\n",
       "</g>\n",
       "<!-- 0 -->\n",
       "<g class=\"node\" id=\"node2\">\n",
       "<title>0</title>\n",
       "<path d=\"M192.6735,-44C192.6735,-44 183.3363,-44 183.3363,-44 180.6696,-44 178.0029,-41.3333 178.0029,-38.6667 178.0029,-38.6667 178.0029,-33.3333 178.0029,-33.3333 178.0029,-30.6667 180.6696,-28 183.3363,-28 183.3363,-28 192.6735,-28 192.6735,-28 195.3402,-28 198.0068,-30.6667 198.0068,-33.3333 198.0068,-33.3333 198.0068,-38.6667 198.0068,-38.6667 198.0068,-41.3333 195.3402,-44 192.6735,-44\" fill=\"none\" stroke=\"#000000\"/>\n",
       "<text fill=\"#000000\" font-family=\"Courier,monospace\" font-size=\"10.00\" text-anchor=\"start\" x=\"182.0039\" y=\"-33\">q5</text>\n",
       "</g>\n",
       "<!-- 7 -->\n",
       "<g class=\"node\" id=\"node9\">\n",
       "<title>7</title>\n",
       "<path d=\"M263.6752,-59C263.6752,-59 254.3385,-59 254.3385,-59 251.6718,-59 249.0052,-56.3333 249.0052,-53.6667 249.0052,-53.6667 249.0052,-48.3333 249.0052,-48.3333 249.0052,-45.6667 251.6718,-43 254.3385,-43 254.3385,-43 263.6752,-43 263.6752,-43 266.3418,-43 269.0085,-45.6667 269.0085,-48.3333 269.0085,-48.3333 269.0085,-53.6667 269.0085,-53.6667 269.0085,-56.3333 266.3418,-59 263.6752,-59\" fill=\"none\" stroke=\"#000000\"/>\n",
       "<path d=\"M265.0088,-63C265.0088,-63 253.0049,-63 253.0049,-63 249.0049,-63 245.0049,-59 245.0049,-55 245.0049,-55 245.0049,-47 245.0049,-47 245.0049,-43 249.0049,-39 253.0049,-39 253.0049,-39 265.0088,-39 265.0088,-39 269.0088,-39 273.0088,-43 273.0088,-47 273.0088,-47 273.0088,-55 273.0088,-55 273.0088,-59 269.0088,-63 265.0088,-63\" fill=\"none\" stroke=\"#000000\"/>\n",
       "<text fill=\"#000000\" font-family=\"Courier,monospace\" font-size=\"10.00\" text-anchor=\"start\" x=\"253.0059\" y=\"-48\">q6</text>\n",
       "</g>\n",
       "<!-- 0&#45;&gt;7 -->\n",
       "<g class=\"edge\" id=\"edge5\">\n",
       "<title>0-&gt;7</title>\n",
       "<path d=\"M198.1777,-38.1491C209.0102,-40.4376 226.4075,-44.113 239.8274,-46.9481\" fill=\"none\" stroke=\"#000000\"/>\n",
       "<polygon fill=\"#000000\" points=\"244.9367,-48.0275 239.5796,-49.1954 242.4907,-47.5107 240.0447,-46.9939 240.0447,-46.9939 240.0447,-46.9939 242.4907,-47.5107 240.5098,-44.7925 244.9367,-48.0275 244.9367,-48.0275\" stroke=\"#000000\"/>\n",
       "<text fill=\"#000000\" font-family=\"Courier,monospace\" font-size=\"9.00\" text-anchor=\"start\" x=\"219.3054\" y=\"-47.3\">a</text>\n",
       "</g>\n",
       "<!-- 1 -->\n",
       "<g class=\"node\" id=\"node3\">\n",
       "<title>1</title>\n",
       "<path d=\"M192.6735,-130C192.6735,-130 183.3363,-130 183.3363,-130 180.6696,-130 178.0029,-127.3333 178.0029,-124.6667 178.0029,-124.6667 178.0029,-119.3333 178.0029,-119.3333 178.0029,-116.6667 180.6696,-114 183.3363,-114 183.3363,-114 192.6735,-114 192.6735,-114 195.3402,-114 198.0068,-116.6667 198.0068,-119.3333 198.0068,-119.3333 198.0068,-124.6667 198.0068,-124.6667 198.0068,-127.3333 195.3402,-130 192.6735,-130\" fill=\"none\" stroke=\"#000000\"/>\n",
       "<text fill=\"#000000\" font-family=\"Courier,monospace\" font-size=\"10.00\" text-anchor=\"start\" x=\"182.0039\" y=\"-119\">q1</text>\n",
       "</g>\n",
       "<!-- 2 -->\n",
       "<g class=\"node\" id=\"node4\">\n",
       "<title>2</title>\n",
       "<path d=\"M263.6755,-109C263.6755,-109 254.3382,-109 254.3382,-109 251.6715,-109 249.0049,-106.3333 249.0049,-103.6667 249.0049,-103.6667 249.0049,-98.3333 249.0049,-98.3333 249.0049,-95.6667 251.6715,-93 254.3382,-93 254.3382,-93 263.6755,-93 263.6755,-93 266.3421,-93 269.0088,-95.6667 269.0088,-98.3333 269.0088,-98.3333 269.0088,-103.6667 269.0088,-103.6667 269.0088,-106.3333 266.3421,-109 263.6755,-109\" fill=\"none\" stroke=\"#000000\"/>\n",
       "<text fill=\"#000000\" font-family=\"Courier,monospace\" font-size=\"10.00\" text-anchor=\"start\" x=\"253.0059\" y=\"-98\">q2</text>\n",
       "</g>\n",
       "<!-- 1&#45;&gt;2 -->\n",
       "<g class=\"edge\" id=\"edge2\">\n",
       "<title>1-&gt;2</title>\n",
       "<path d=\"M198.1777,-118.9912C210.0935,-115.4669 229.9526,-109.5933 243.7235,-105.5203\" fill=\"none\" stroke=\"#000000\"/>\n",
       "<polygon fill=\"#000000\" points=\"248.8529,-104.0032 244.6964,-107.579 246.4555,-104.7123 244.0582,-105.4214 244.0582,-105.4214 244.0582,-105.4214 246.4555,-104.7123 243.42,-103.2638 248.8529,-104.0032 248.8529,-104.0032\" stroke=\"#000000\"/>\n",
       "<text fill=\"#000000\" font-family=\"Courier,monospace\" font-size=\"9.00\" text-anchor=\"start\" x=\"219.3054\" y=\"-117.3\">a</text>\n",
       "</g>\n",
       "<!-- 3 -->\n",
       "<g class=\"node\" id=\"node5\">\n",
       "<title>3</title>\n",
       "<path d=\"M333.6774,-70C333.6774,-70 324.3402,-70 324.3402,-70 321.6735,-70 319.0068,-67.3333 319.0068,-64.6667 319.0068,-64.6667 319.0068,-59.3333 319.0068,-59.3333 319.0068,-56.6667 321.6735,-54 324.3402,-54 324.3402,-54 333.6774,-54 333.6774,-54 336.3441,-54 339.0107,-56.6667 339.0107,-59.3333 339.0107,-59.3333 339.0107,-64.6667 339.0107,-64.6667 339.0107,-67.3333 336.3441,-70 333.6774,-70\" fill=\"none\" stroke=\"#000000\"/>\n",
       "<text fill=\"#000000\" font-family=\"Courier,monospace\" font-size=\"10.00\" text-anchor=\"start\" x=\"323.0078\" y=\"-59\">q3</text>\n",
       "</g>\n",
       "<!-- 2&#45;&gt;3 -->\n",
       "<g class=\"edge\" id=\"edge4\">\n",
       "<title>2-&gt;3</title>\n",
       "<path d=\"M269.0364,-95.4123C280.8883,-88.8093 300.7109,-77.7655 314.2998,-70.1948\" fill=\"none\" stroke=\"#000000\"/>\n",
       "<polygon fill=\"#000000\" points=\"318.9978,-67.5774 315.725,-71.9764 316.8139,-68.7941 314.6299,-70.0109 314.6299,-70.0109 314.6299,-70.0109 316.8139,-68.7941 313.5349,-68.0453 318.9978,-67.5774 318.9978,-67.5774\" stroke=\"#000000\"/>\n",
       "<text fill=\"#000000\" font-family=\"Courier,monospace\" font-size=\"9.00\" text-anchor=\"start\" x=\"293.9204\" y=\"-87.8\">ε</text>\n",
       "</g>\n",
       "<!-- 6 -->\n",
       "<g class=\"node\" id=\"node8\">\n",
       "<title>6</title>\n",
       "<path d=\"M404.6791,-24C404.6791,-24 395.3424,-24 395.3424,-24 392.6757,-24 390.0091,-21.3333 390.0091,-18.6667 390.0091,-18.6667 390.0091,-13.3333 390.0091,-13.3333 390.0091,-10.6667 392.6757,-8 395.3424,-8 395.3424,-8 404.6791,-8 404.6791,-8 407.3457,-8 410.0124,-10.6667 410.0124,-13.3333 410.0124,-13.3333 410.0124,-18.6667 410.0124,-18.6667 410.0124,-21.3333 407.3457,-24 404.6791,-24\" fill=\"none\" stroke=\"#000000\"/>\n",
       "<path d=\"M406.0127,-28C406.0127,-28 394.0088,-28 394.0088,-28 390.0088,-28 386.0088,-24 386.0088,-20 386.0088,-20 386.0088,-12 386.0088,-12 386.0088,-8 390.0088,-4 394.0088,-4 394.0088,-4 406.0127,-4 406.0127,-4 410.0127,-4 414.0127,-8 414.0127,-12 414.0127,-12 414.0127,-20 414.0127,-20 414.0127,-24 410.0127,-28 406.0127,-28\" fill=\"none\" stroke=\"#000000\"/>\n",
       "<text fill=\"#000000\" font-family=\"Courier,monospace\" font-size=\"10.00\" text-anchor=\"start\" x=\"394.0098\" y=\"-13\">q4</text>\n",
       "</g>\n",
       "<!-- 3&#45;&gt;6 -->\n",
       "<g class=\"edge\" id=\"edge3\">\n",
       "<title>3-&gt;6</title>\n",
       "<path d=\"M339.1816,-55.4093C350.2058,-48.2671 368.0293,-36.7198 381.5401,-27.9666\" fill=\"none\" stroke=\"#000000\"/>\n",
       "<polygon fill=\"#000000\" points=\"385.9406,-25.1156 382.9677,-29.7226 383.8425,-26.475 381.7443,-27.8343 381.7443,-27.8343 381.7443,-27.8343 383.8425,-26.475 380.5209,-25.946 385.9406,-25.1156 385.9406,-25.1156\" stroke=\"#000000\"/>\n",
       "<text fill=\"#000000\" font-family=\"Courier,monospace\" font-size=\"9.00\" text-anchor=\"start\" x=\"360.3093\" y=\"-47.3\">b</text>\n",
       "</g>\n",
       "<!-- 5 -->\n",
       "<g class=\"node\" id=\"node7\">\n",
       "<title>5</title>\n",
       "<path d=\"M126.6715,-72C126.6715,-72 117.3343,-72 117.3343,-72 114.6676,-72 112.001,-69.3333 112.001,-66.6667 112.001,-66.6667 112.001,-61.3333 112.001,-61.3333 112.001,-58.6667 114.6676,-56 117.3343,-56 117.3343,-56 126.6715,-56 126.6715,-56 129.3382,-56 132.0049,-58.6667 132.0049,-61.3333 132.0049,-61.3333 132.0049,-66.6667 132.0049,-66.6667 132.0049,-69.3333 129.3382,-72 126.6715,-72\" fill=\"none\" stroke=\"#000000\"/>\n",
       "<text fill=\"#000000\" font-family=\"Courier,monospace\" font-size=\"10.00\" text-anchor=\"start\" x=\"116.002\" y=\"-61\">q7</text>\n",
       "</g>\n",
       "<!-- 4&#45;&gt;5 -->\n",
       "<g class=\"edge\" id=\"edge8\">\n",
       "<title>4-&gt;5</title>\n",
       "<path d=\"M66.1669,-64C77.9461,-64 94.6753,-64 106.7472,-64\" fill=\"none\" stroke=\"#000000\"/>\n",
       "<polygon fill=\"#000000\" points=\"111.9314,-64 106.9315,-66.2501 109.4314,-64 106.9314,-64.0001 106.9314,-64.0001 106.9314,-64.0001 109.4314,-64 106.9314,-61.7501 111.9314,-64 111.9314,-64\" stroke=\"#000000\"/>\n",
       "<text fill=\"#000000\" font-family=\"Courier,monospace\" font-size=\"9.00\" text-anchor=\"start\" x=\"86.9146\" y=\"-69.8\">ε</text>\n",
       "</g>\n",
       "<!-- 5&#45;&gt;0 -->\n",
       "<g class=\"edge\" id=\"edge7\">\n",
       "<title>5-&gt;0</title>\n",
       "<path d=\"M132.2461,-58.5372C137.4913,-55.8276 144.018,-52.5896 150.0039,-50 157.4086,-46.7966 165.8103,-43.6521 172.8274,-41.1573\" fill=\"none\" stroke=\"#000000\"/>\n",
       "<polygon fill=\"#000000\" points=\"177.8842,-39.386 173.9092,-43.1625 175.5247,-40.2125 173.1653,-41.039 173.1653,-41.039 173.1653,-41.039 175.5247,-40.2125 172.4214,-38.9155 177.8842,-39.386 177.8842,-39.386\" stroke=\"#000000\"/>\n",
       "<text fill=\"#000000\" font-family=\"Courier,monospace\" font-size=\"9.00\" text-anchor=\"start\" x=\"152.9165\" y=\"-55.8\">ε</text>\n",
       "</g>\n",
       "<!-- 5&#45;&gt;1 -->\n",
       "<g class=\"edge\" id=\"edge6\">\n",
       "<title>5-&gt;1</title>\n",
       "<path d=\"M128.7665,-72.0257C134.22,-78.2983 142.235,-87.0833 150.0039,-94 157.4041,-100.5884 166.2907,-107.1992 173.6089,-112.3416\" fill=\"none\" stroke=\"#000000\"/>\n",
       "<polygon fill=\"#000000\" points=\"177.9355,-115.3404 172.5444,-114.3413 175.8808,-113.9162 173.8261,-112.4921 173.8261,-112.4921 173.8261,-112.4921 175.8808,-113.9162 175.1078,-110.6428 177.9355,-115.3404 177.9355,-115.3404\" stroke=\"#000000\"/>\n",
       "<text fill=\"#000000\" font-family=\"Courier,monospace\" font-size=\"9.00\" text-anchor=\"start\" x=\"152.9165\" y=\"-107.8\">ε</text>\n",
       "</g>\n",
       "<!-- 6&#45;&gt;5 -->\n",
       "<g class=\"edge\" id=\"edge9\">\n",
       "<title>6-&gt;5</title>\n",
       "<path d=\"M385.8078,-10.8494C371.6235,-6.1721 349.0998,0 329.0088,0 188.0049,0 188.0049,0 188.0049,0 158.9718,0 137.8748,-32.3116 128.094,-51.0173\" fill=\"none\" stroke=\"#000000\"/>\n",
       "<polygon fill=\"#000000\" points=\"125.6381,-55.8944 125.8773,-50.4166 126.7625,-53.6615 127.8869,-51.4286 127.8869,-51.4286 127.8869,-51.4286 126.7625,-53.6615 129.8965,-52.4405 125.6381,-55.8944 125.6381,-55.8944\" stroke=\"#000000\"/>\n",
       "<text fill=\"#000000\" font-family=\"Courier,monospace\" font-size=\"9.00\" text-anchor=\"start\" x=\"256.9194\" y=\"-5.8\">ε</text>\n",
       "</g>\n",
       "<!-- 7&#45;&gt;5 -->\n",
       "<g class=\"edge\" id=\"edge10\">\n",
       "<title>7-&gt;5</title>\n",
       "<path d=\"M244.8978,-56.7744C239.4046,-58.7762 232.9994,-60.814 227.0059,-62 195.6457,-68.2056 157.9878,-66.849 137.369,-65.3779\" fill=\"none\" stroke=\"#000000\"/>\n",
       "<polygon fill=\"#000000\" points=\"132.2663,-64.9861 137.4239,-63.1256 134.7589,-65.1776 137.2516,-65.369 137.2516,-65.369 137.2516,-65.369 134.7589,-65.1776 137.0793,-67.6124 132.2663,-64.9861 132.2663,-64.9861\" stroke=\"#000000\"/>\n",
       "<text fill=\"#000000\" font-family=\"Courier,monospace\" font-size=\"9.00\" text-anchor=\"start\" x=\"185.9175\" y=\"-71.8\">ε</text>\n",
       "</g>\n",
       "</g>\n",
       "</svg>"
      ],
      "text/plain": [
       "<IPython.core.display.SVG object>"
      ]
     },
     "metadata": {},
     "output_type": "display_data"
    }
   ],
   "source": [
    "m = from_regexp('(a b|a)*', display_steps=True)"
   ]
  },
  {
   "cell_type": "code",
   "execution_count": 5,
   "metadata": {
    "collapsed": false,
    "deletable": true,
    "editable": true
   },
   "outputs": [
    {
     "data": {
      "text/html": [
       "subexpression: a"
      ],
      "text/plain": [
       "<IPython.core.display.HTML object>"
      ]
     },
     "metadata": {},
     "output_type": "display_data"
    },
    {
     "data": {
      "image/svg+xml": [
       "<svg height=\"35pt\" viewBox=\"0.00 0.00 153.01 35.00\" width=\"153pt\" xmlns=\"http://www.w3.org/2000/svg\" xmlns:xlink=\"http://www.w3.org/1999/xlink\">\n",
       "<g class=\"graph\" id=\"graph0\" transform=\"scale(1 1) rotate(0) translate(4 31)\">\n",
       "<title>%3</title>\n",
       "<polygon fill=\"#ffffff\" points=\"-4,4 -4,-31 149.0059,-31 149.0059,4 -4,4\" stroke=\"transparent\"/>\n",
       "<!-- _START -->\n",
       "<g class=\"node\" id=\"node1\">\n",
       "<title>_START</title>\n",
       "</g>\n",
       "<!-- 0 -->\n",
       "<g class=\"node\" id=\"node2\">\n",
       "<title>0</title>\n",
       "<path d=\"M58.6711,-20C58.6711,-20 43.3319,-20 43.3319,-20 40.6652,-20 37.9985,-17.3333 37.9985,-14.6667 37.9985,-14.6667 37.9985,-9.3333 37.9985,-9.3333 37.9985,-6.6667 40.6652,-4 43.3319,-4 43.3319,-4 58.6711,-4 58.6711,-4 61.3377,-4 64.0044,-6.6667 64.0044,-9.3333 64.0044,-9.3333 64.0044,-14.6667 64.0044,-14.6667 64.0044,-17.3333 61.3377,-20 58.6711,-20\" fill=\"none\" stroke=\"#000000\"/>\n",
       "<text fill=\"#000000\" font-family=\"Courier,monospace\" font-size=\"10.00\" text-anchor=\"start\" x=\"42\" y=\"-9\">q01</text>\n",
       "</g>\n",
       "<!-- _START&#45;&gt;0 -->\n",
       "<g class=\"edge\" id=\"edge1\">\n",
       "<title>_START-&gt;0</title>\n",
       "<path d=\"M1.0672,-12C4.1772,-12 19.4906,-12 32.349,-12\" fill=\"none\" stroke=\"#000000\"/>\n",
       "<polygon fill=\"#000000\" points=\"37.6667,-12 32.6668,-14.2501 35.1667,-12 32.6667,-12.0001 32.6667,-12.0001 32.6667,-12.0001 35.1667,-12 32.6667,-9.7501 37.6667,-12 37.6667,-12\" stroke=\"#000000\"/>\n",
       "</g>\n",
       "<!-- 1 -->\n",
       "<g class=\"node\" id=\"node3\">\n",
       "<title>1</title>\n",
       "<path d=\"M135.6736,-20C135.6736,-20 120.3351,-20 120.3351,-20 117.6685,-20 115.0018,-17.3333 115.0018,-14.6667 115.0018,-14.6667 115.0018,-9.3333 115.0018,-9.3333 115.0018,-6.6667 117.6685,-4 120.3351,-4 120.3351,-4 135.6736,-4 135.6736,-4 138.3403,-4 141.007,-6.6667 141.007,-9.3333 141.007,-9.3333 141.007,-14.6667 141.007,-14.6667 141.007,-17.3333 138.3403,-20 135.6736,-20\" fill=\"none\" stroke=\"#000000\"/>\n",
       "<path d=\"M137.0073,-24C137.0073,-24 119.0015,-24 119.0015,-24 115.0015,-24 111.0015,-20 111.0015,-16 111.0015,-16 111.0015,-8 111.0015,-8 111.0015,-4 115.0015,0 119.0015,0 119.0015,0 137.0073,0 137.0073,0 141.0073,0 145.0073,-4 145.0073,-8 145.0073,-8 145.0073,-16 145.0073,-16 145.0073,-20 141.0073,-24 137.0073,-24\" fill=\"none\" stroke=\"#000000\"/>\n",
       "<text fill=\"#000000\" font-family=\"Courier,monospace\" font-size=\"10.00\" text-anchor=\"start\" x=\"119.0029\" y=\"-9\">q02</text>\n",
       "</g>\n",
       "<!-- 0&#45;&gt;1 -->\n",
       "<g class=\"edge\" id=\"edge2\">\n",
       "<title>0-&gt;1</title>\n",
       "<path d=\"M64.064,-12C75.4281,-12 92.1441,-12 105.6346,-12\" fill=\"none\" stroke=\"#000000\"/>\n",
       "<polygon fill=\"#000000\" points=\"110.8163,-12 105.8163,-14.2501 108.3163,-12 105.8163,-12.0001 105.8163,-12.0001 105.8163,-12.0001 108.3163,-12 105.8162,-9.7501 110.8163,-12 110.8163,-12\" stroke=\"#000000\"/>\n",
       "<text fill=\"#000000\" font-family=\"Courier,monospace\" font-size=\"9.00\" text-anchor=\"start\" x=\"85.3025\" y=\"-16.3\">a</text>\n",
       "</g>\n",
       "</g>\n",
       "</svg>"
      ],
      "text/plain": [
       "<IPython.core.display.SVG object>"
      ]
     },
     "metadata": {},
     "output_type": "display_data"
    },
    {
     "data": {
      "text/html": [
       "subexpression: b"
      ],
      "text/plain": [
       "<IPython.core.display.HTML object>"
      ]
     },
     "metadata": {},
     "output_type": "display_data"
    },
    {
     "data": {
      "image/svg+xml": [
       "<svg height=\"35pt\" viewBox=\"0.00 0.00 153.01 35.00\" width=\"153pt\" xmlns=\"http://www.w3.org/2000/svg\" xmlns:xlink=\"http://www.w3.org/1999/xlink\">\n",
       "<g class=\"graph\" id=\"graph0\" transform=\"scale(1 1) rotate(0) translate(4 31)\">\n",
       "<title>%3</title>\n",
       "<polygon fill=\"#ffffff\" points=\"-4,4 -4,-31 149.0059,-31 149.0059,4 -4,4\" stroke=\"transparent\"/>\n",
       "<!-- _START -->\n",
       "<g class=\"node\" id=\"node1\">\n",
       "<title>_START</title>\n",
       "</g>\n",
       "<!-- 0 -->\n",
       "<g class=\"node\" id=\"node2\">\n",
       "<title>0</title>\n",
       "<path d=\"M58.6711,-20C58.6711,-20 43.3319,-20 43.3319,-20 40.6652,-20 37.9985,-17.3333 37.9985,-14.6667 37.9985,-14.6667 37.9985,-9.3333 37.9985,-9.3333 37.9985,-6.6667 40.6652,-4 43.3319,-4 43.3319,-4 58.6711,-4 58.6711,-4 61.3377,-4 64.0044,-6.6667 64.0044,-9.3333 64.0044,-9.3333 64.0044,-14.6667 64.0044,-14.6667 64.0044,-17.3333 61.3377,-20 58.6711,-20\" fill=\"none\" stroke=\"#000000\"/>\n",
       "<text fill=\"#000000\" font-family=\"Courier,monospace\" font-size=\"10.00\" text-anchor=\"start\" x=\"42\" y=\"-9\">q03</text>\n",
       "</g>\n",
       "<!-- _START&#45;&gt;0 -->\n",
       "<g class=\"edge\" id=\"edge1\">\n",
       "<title>_START-&gt;0</title>\n",
       "<path d=\"M1.0672,-12C4.1772,-12 19.4906,-12 32.349,-12\" fill=\"none\" stroke=\"#000000\"/>\n",
       "<polygon fill=\"#000000\" points=\"37.6667,-12 32.6668,-14.2501 35.1667,-12 32.6667,-12.0001 32.6667,-12.0001 32.6667,-12.0001 35.1667,-12 32.6667,-9.7501 37.6667,-12 37.6667,-12\" stroke=\"#000000\"/>\n",
       "</g>\n",
       "<!-- 1 -->\n",
       "<g class=\"node\" id=\"node3\">\n",
       "<title>1</title>\n",
       "<path d=\"M135.6736,-20C135.6736,-20 120.3351,-20 120.3351,-20 117.6685,-20 115.0018,-17.3333 115.0018,-14.6667 115.0018,-14.6667 115.0018,-9.3333 115.0018,-9.3333 115.0018,-6.6667 117.6685,-4 120.3351,-4 120.3351,-4 135.6736,-4 135.6736,-4 138.3403,-4 141.007,-6.6667 141.007,-9.3333 141.007,-9.3333 141.007,-14.6667 141.007,-14.6667 141.007,-17.3333 138.3403,-20 135.6736,-20\" fill=\"none\" stroke=\"#000000\"/>\n",
       "<path d=\"M137.0073,-24C137.0073,-24 119.0015,-24 119.0015,-24 115.0015,-24 111.0015,-20 111.0015,-16 111.0015,-16 111.0015,-8 111.0015,-8 111.0015,-4 115.0015,0 119.0015,0 119.0015,0 137.0073,0 137.0073,0 141.0073,0 145.0073,-4 145.0073,-8 145.0073,-8 145.0073,-16 145.0073,-16 145.0073,-20 141.0073,-24 137.0073,-24\" fill=\"none\" stroke=\"#000000\"/>\n",
       "<text fill=\"#000000\" font-family=\"Courier,monospace\" font-size=\"10.00\" text-anchor=\"start\" x=\"119.0029\" y=\"-9\">q04</text>\n",
       "</g>\n",
       "<!-- 0&#45;&gt;1 -->\n",
       "<g class=\"edge\" id=\"edge2\">\n",
       "<title>0-&gt;1</title>\n",
       "<path d=\"M64.064,-12C75.4281,-12 92.1441,-12 105.6346,-12\" fill=\"none\" stroke=\"#000000\"/>\n",
       "<polygon fill=\"#000000\" points=\"110.8163,-12 105.8163,-14.2501 108.3163,-12 105.8163,-12.0001 105.8163,-12.0001 105.8163,-12.0001 108.3163,-12 105.8162,-9.7501 110.8163,-12 110.8163,-12\" stroke=\"#000000\"/>\n",
       "<text fill=\"#000000\" font-family=\"Courier,monospace\" font-size=\"9.00\" text-anchor=\"start\" x=\"85.3025\" y=\"-16.3\">b</text>\n",
       "</g>\n",
       "</g>\n",
       "</svg>"
      ],
      "text/plain": [
       "<IPython.core.display.SVG object>"
      ]
     },
     "metadata": {},
     "output_type": "display_data"
    },
    {
     "data": {
      "text/html": [
       "subexpression: a|b"
      ],
      "text/plain": [
       "<IPython.core.display.HTML object>"
      ]
     },
     "metadata": {},
     "output_type": "display_data"
    },
    {
     "data": {
      "image/svg+xml": [
       "<svg height=\"77pt\" viewBox=\"0.00 0.00 225.01 77.00\" width=\"225pt\" xmlns=\"http://www.w3.org/2000/svg\" xmlns:xlink=\"http://www.w3.org/1999/xlink\">\n",
       "<g class=\"graph\" id=\"graph0\" transform=\"scale(1 1) rotate(0) translate(4 73)\">\n",
       "<title>%3</title>\n",
       "<polygon fill=\"#ffffff\" points=\"-4,4 -4,-73 221.0088,-73 221.0088,4 -4,4\" stroke=\"transparent\"/>\n",
       "<!-- _START -->\n",
       "<g class=\"node\" id=\"node1\">\n",
       "<title>_START</title>\n",
       "</g>\n",
       "<!-- 3 -->\n",
       "<g class=\"node\" id=\"node5\">\n",
       "<title>3</title>\n",
       "<path d=\"M58.6711,-41C58.6711,-41 43.3319,-41 43.3319,-41 40.6652,-41 37.9985,-38.3333 37.9985,-35.6667 37.9985,-35.6667 37.9985,-30.3333 37.9985,-30.3333 37.9985,-27.6667 40.6652,-25 43.3319,-25 43.3319,-25 58.6711,-25 58.6711,-25 61.3377,-25 64.0044,-27.6667 64.0044,-30.3333 64.0044,-30.3333 64.0044,-35.6667 64.0044,-35.6667 64.0044,-38.3333 61.3377,-41 58.6711,-41\" fill=\"none\" stroke=\"#000000\"/>\n",
       "<text fill=\"#000000\" font-family=\"Courier,monospace\" font-size=\"10.00\" text-anchor=\"start\" x=\"42\" y=\"-30\">q05</text>\n",
       "</g>\n",
       "<!-- _START&#45;&gt;3 -->\n",
       "<g class=\"edge\" id=\"edge1\">\n",
       "<title>_START-&gt;3</title>\n",
       "<path d=\"M1.0672,-33C4.1772,-33 19.4906,-33 32.349,-33\" fill=\"none\" stroke=\"#000000\"/>\n",
       "<polygon fill=\"#000000\" points=\"37.6667,-33 32.6668,-35.2501 35.1667,-33 32.6667,-33.0001 32.6667,-33.0001 32.6667,-33.0001 35.1667,-33 32.6667,-30.7501 37.6667,-33 37.6667,-33\" stroke=\"#000000\"/>\n",
       "</g>\n",
       "<!-- 0 -->\n",
       "<g class=\"node\" id=\"node2\">\n",
       "<title>0</title>\n",
       "<path d=\"M130.674,-62C130.674,-62 115.3348,-62 115.3348,-62 112.6681,-62 110.0015,-59.3333 110.0015,-56.6667 110.0015,-56.6667 110.0015,-51.3333 110.0015,-51.3333 110.0015,-48.6667 112.6681,-46 115.3348,-46 115.3348,-46 130.674,-46 130.674,-46 133.3407,-46 136.0073,-48.6667 136.0073,-51.3333 136.0073,-51.3333 136.0073,-56.6667 136.0073,-56.6667 136.0073,-59.3333 133.3407,-62 130.674,-62\" fill=\"none\" stroke=\"#000000\"/>\n",
       "<text fill=\"#000000\" font-family=\"Courier,monospace\" font-size=\"10.00\" text-anchor=\"start\" x=\"114.0029\" y=\"-51\">q01</text>\n",
       "</g>\n",
       "<!-- 2 -->\n",
       "<g class=\"node\" id=\"node4\">\n",
       "<title>2</title>\n",
       "<path d=\"M207.6766,-62C207.6766,-62 192.3381,-62 192.3381,-62 189.6714,-62 187.0047,-59.3333 187.0047,-56.6667 187.0047,-56.6667 187.0047,-51.3333 187.0047,-51.3333 187.0047,-48.6667 189.6714,-46 192.3381,-46 192.3381,-46 207.6766,-46 207.6766,-46 210.3432,-46 213.0099,-48.6667 213.0099,-51.3333 213.0099,-51.3333 213.0099,-56.6667 213.0099,-56.6667 213.0099,-59.3333 210.3432,-62 207.6766,-62\" fill=\"none\" stroke=\"#000000\"/>\n",
       "<path d=\"M209.0103,-66C209.0103,-66 191.0044,-66 191.0044,-66 187.0044,-66 183.0044,-62 183.0044,-58 183.0044,-58 183.0044,-50 183.0044,-50 183.0044,-46 187.0044,-42 191.0044,-42 191.0044,-42 209.0103,-42 209.0103,-42 213.0103,-42 217.0103,-46 217.0103,-50 217.0103,-50 217.0103,-58 217.0103,-58 217.0103,-62 213.0103,-66 209.0103,-66\" fill=\"none\" stroke=\"#000000\"/>\n",
       "<text fill=\"#000000\" font-family=\"Courier,monospace\" font-size=\"10.00\" text-anchor=\"start\" x=\"191.0059\" y=\"-51\">q02</text>\n",
       "</g>\n",
       "<!-- 0&#45;&gt;2 -->\n",
       "<g class=\"edge\" id=\"edge2\">\n",
       "<title>0-&gt;2</title>\n",
       "<path d=\"M136.0669,-54C147.431,-54 164.147,-54 177.6375,-54\" fill=\"none\" stroke=\"#000000\"/>\n",
       "<polygon fill=\"#000000\" points=\"182.8192,-54 177.8193,-56.2501 180.3192,-54 177.8192,-54.0001 177.8192,-54.0001 177.8192,-54.0001 180.3192,-54 177.8192,-51.7501 182.8192,-54 182.8192,-54\" stroke=\"#000000\"/>\n",
       "<text fill=\"#000000\" font-family=\"Courier,monospace\" font-size=\"9.00\" text-anchor=\"start\" x=\"157.3054\" y=\"-58.3\">a</text>\n",
       "</g>\n",
       "<!-- 1 -->\n",
       "<g class=\"node\" id=\"node3\">\n",
       "<title>1</title>\n",
       "<path d=\"M207.6766,-20C207.6766,-20 192.3381,-20 192.3381,-20 189.6714,-20 187.0047,-17.3333 187.0047,-14.6667 187.0047,-14.6667 187.0047,-9.3333 187.0047,-9.3333 187.0047,-6.6667 189.6714,-4 192.3381,-4 192.3381,-4 207.6766,-4 207.6766,-4 210.3432,-4 213.0099,-6.6667 213.0099,-9.3333 213.0099,-9.3333 213.0099,-14.6667 213.0099,-14.6667 213.0099,-17.3333 210.3432,-20 207.6766,-20\" fill=\"none\" stroke=\"#000000\"/>\n",
       "<path d=\"M209.0103,-24C209.0103,-24 191.0044,-24 191.0044,-24 187.0044,-24 183.0044,-20 183.0044,-16 183.0044,-16 183.0044,-8 183.0044,-8 183.0044,-4 187.0044,0 191.0044,0 191.0044,0 209.0103,0 209.0103,0 213.0103,0 217.0103,-4 217.0103,-8 217.0103,-8 217.0103,-16 217.0103,-16 217.0103,-20 213.0103,-24 209.0103,-24\" fill=\"none\" stroke=\"#000000\"/>\n",
       "<text fill=\"#000000\" font-family=\"Courier,monospace\" font-size=\"10.00\" text-anchor=\"start\" x=\"191.0059\" y=\"-9\">q04</text>\n",
       "</g>\n",
       "<!-- 3&#45;&gt;0 -->\n",
       "<g class=\"edge\" id=\"edge4\">\n",
       "<title>3-&gt;0</title>\n",
       "<path d=\"M64.2079,-36.8517C75.6771,-40.1968 92.3897,-45.0711 105.0678,-48.7687\" fill=\"none\" stroke=\"#000000\"/>\n",
       "<polygon fill=\"#000000\" points=\"109.8817,-50.1727 104.4516,-50.9327 107.4817,-49.4727 105.0817,-48.7727 105.0817,-48.7727 105.0817,-48.7727 107.4817,-49.4727 105.7117,-46.6127 109.8817,-50.1727 109.8817,-50.1727\" stroke=\"#000000\"/>\n",
       "<text fill=\"#000000\" font-family=\"Courier,monospace\" font-size=\"9.00\" text-anchor=\"start\" x=\"84.9155\" y=\"-49.8\">ε</text>\n",
       "</g>\n",
       "<!-- 4 -->\n",
       "<g class=\"node\" id=\"node6\">\n",
       "<title>4</title>\n",
       "<path d=\"M130.674,-21C130.674,-21 115.3348,-21 115.3348,-21 112.6681,-21 110.0015,-18.3333 110.0015,-15.6667 110.0015,-15.6667 110.0015,-10.3333 110.0015,-10.3333 110.0015,-7.6667 112.6681,-5 115.3348,-5 115.3348,-5 130.674,-5 130.674,-5 133.3407,-5 136.0073,-7.6667 136.0073,-10.3333 136.0073,-10.3333 136.0073,-15.6667 136.0073,-15.6667 136.0073,-18.3333 133.3407,-21 130.674,-21\" fill=\"none\" stroke=\"#000000\"/>\n",
       "<text fill=\"#000000\" font-family=\"Courier,monospace\" font-size=\"10.00\" text-anchor=\"start\" x=\"114.0029\" y=\"-10\">q03</text>\n",
       "</g>\n",
       "<!-- 3&#45;&gt;4 -->\n",
       "<g class=\"edge\" id=\"edge5\">\n",
       "<title>3-&gt;4</title>\n",
       "<path d=\"M62.8408,-24.9414C68.4104,-21.571 75.2921,-17.983 82.0029,-16 89.2028,-13.8725 97.4082,-12.9869 104.5773,-12.6817\" fill=\"none\" stroke=\"#000000\"/>\n",
       "<polygon fill=\"#000000\" points=\"109.8237,-12.5506 104.8816,-14.9249 107.3245,-12.6131 104.8253,-12.6756 104.8253,-12.6756 104.8253,-12.6756 107.3245,-12.6131 104.769,-10.4263 109.8237,-12.5506 109.8237,-12.5506\" stroke=\"#000000\"/>\n",
       "<text fill=\"#000000\" font-family=\"Courier,monospace\" font-size=\"9.00\" text-anchor=\"start\" x=\"84.9155\" y=\"-21.8\">ε</text>\n",
       "</g>\n",
       "<!-- 4&#45;&gt;1 -->\n",
       "<g class=\"edge\" id=\"edge3\">\n",
       "<title>4-&gt;1</title>\n",
       "<path d=\"M136.0669,-12.8304C147.431,-12.6828 164.147,-12.4657 177.6375,-12.2905\" fill=\"none\" stroke=\"#000000\"/>\n",
       "<polygon fill=\"#000000\" points=\"182.8192,-12.2232 177.8489,-14.538 180.3194,-12.2557 177.8196,-12.2882 177.8196,-12.2882 177.8196,-12.2882 180.3194,-12.2557 177.7904,-10.0384 182.8192,-12.2232 182.8192,-12.2232\" stroke=\"#000000\"/>\n",
       "<text fill=\"#000000\" font-family=\"Courier,monospace\" font-size=\"9.00\" text-anchor=\"start\" x=\"157.3054\" y=\"-16.3\">b</text>\n",
       "</g>\n",
       "</g>\n",
       "</svg>"
      ],
      "text/plain": [
       "<IPython.core.display.SVG object>"
      ]
     },
     "metadata": {},
     "output_type": "display_data"
    },
    {
     "data": {
      "text/html": [
       "subexpression: (a|b)*"
      ],
      "text/plain": [
       "<IPython.core.display.HTML object>"
      ]
     },
     "metadata": {},
     "output_type": "display_data"
    },
    {
     "data": {
      "image/svg+xml": [
       "<svg height=\"162pt\" viewBox=\"0.00 0.00 305.01 162.00\" width=\"305pt\" xmlns=\"http://www.w3.org/2000/svg\" xmlns:xlink=\"http://www.w3.org/1999/xlink\">\n",
       "<g class=\"graph\" id=\"graph0\" transform=\"scale(1 1) rotate(0) translate(4 158)\">\n",
       "<title>%3</title>\n",
       "<polygon fill=\"#ffffff\" points=\"-4,4 -4,-158 301.0117,-158 301.0117,4 -4,4\" stroke=\"transparent\"/>\n",
       "<!-- _START -->\n",
       "<g class=\"node\" id=\"node1\">\n",
       "<title>_START</title>\n",
       "</g>\n",
       "<!-- 2 -->\n",
       "<g class=\"node\" id=\"node4\">\n",
       "<title>2</title>\n",
       "<path d=\"M62.6707,-86C62.6707,-86 47.3322,-86 47.3322,-86 44.6655,-86 41.9989,-83.3333 41.9989,-80.6667 41.9989,-80.6667 41.9989,-75.3333 41.9989,-75.3333 41.9989,-72.6667 44.6655,-70 47.3322,-70 47.3322,-70 62.6707,-70 62.6707,-70 65.3374,-70 68.004,-72.6667 68.004,-75.3333 68.004,-75.3333 68.004,-80.6667 68.004,-80.6667 68.004,-83.3333 65.3374,-86 62.6707,-86\" fill=\"none\" stroke=\"#000000\"/>\n",
       "<path d=\"M64.0044,-90C64.0044,-90 45.9985,-90 45.9985,-90 41.9985,-90 37.9985,-86 37.9985,-82 37.9985,-82 37.9985,-74 37.9985,-74 37.9985,-70 41.9985,-66 45.9985,-66 45.9985,-66 64.0044,-66 64.0044,-66 68.0044,-66 72.0044,-70 72.0044,-74 72.0044,-74 72.0044,-82 72.0044,-82 72.0044,-86 68.0044,-90 64.0044,-90\" fill=\"none\" stroke=\"#000000\"/>\n",
       "<text fill=\"#000000\" font-family=\"Courier,monospace\" font-size=\"10.00\" text-anchor=\"start\" x=\"46\" y=\"-75\">q06</text>\n",
       "</g>\n",
       "<!-- _START&#45;&gt;2 -->\n",
       "<g class=\"edge\" id=\"edge1\">\n",
       "<title>_START-&gt;2</title>\n",
       "<path d=\"M1.1121,-78C4.292,-78 19.2929,-78 32.6625,-78\" fill=\"none\" stroke=\"#000000\"/>\n",
       "<polygon fill=\"#000000\" points=\"37.869,-78 32.8691,-80.2501 35.369,-78 32.869,-78.0001 32.869,-78.0001 32.869,-78.0001 35.369,-78 32.869,-75.7501 37.869,-78 37.869,-78\" stroke=\"#000000\"/>\n",
       "</g>\n",
       "<!-- 0 -->\n",
       "<g class=\"node\" id=\"node2\">\n",
       "<title>0</title>\n",
       "<path d=\"M210.6769,-154C210.6769,-154 195.3377,-154 195.3377,-154 192.6711,-154 190.0044,-151.3333 190.0044,-148.6667 190.0044,-148.6667 190.0044,-143.3333 190.0044,-143.3333 190.0044,-140.6667 192.6711,-138 195.3377,-138 195.3377,-138 210.6769,-138 210.6769,-138 213.3436,-138 216.0103,-140.6667 216.0103,-143.3333 216.0103,-143.3333 216.0103,-148.6667 216.0103,-148.6667 216.0103,-151.3333 213.3436,-154 210.6769,-154\" fill=\"none\" stroke=\"#000000\"/>\n",
       "<text fill=\"#000000\" font-family=\"Courier,monospace\" font-size=\"10.00\" text-anchor=\"start\" x=\"194.0059\" y=\"-143\">q01</text>\n",
       "</g>\n",
       "<!-- 4 -->\n",
       "<g class=\"node\" id=\"node6\">\n",
       "<title>4</title>\n",
       "<path d=\"M287.6795,-128C287.6795,-128 272.341,-128 272.341,-128 269.6743,-128 267.0077,-125.3333 267.0077,-122.6667 267.0077,-122.6667 267.0077,-117.3333 267.0077,-117.3333 267.0077,-114.6667 269.6743,-112 272.341,-112 272.341,-112 287.6795,-112 287.6795,-112 290.3462,-112 293.0128,-114.6667 293.0128,-117.3333 293.0128,-117.3333 293.0128,-122.6667 293.0128,-122.6667 293.0128,-125.3333 290.3462,-128 287.6795,-128\" fill=\"none\" stroke=\"#000000\"/>\n",
       "<path d=\"M289.0132,-132C289.0132,-132 271.0073,-132 271.0073,-132 267.0073,-132 263.0073,-128 263.0073,-124 263.0073,-124 263.0073,-116 263.0073,-116 263.0073,-112 267.0073,-108 271.0073,-108 271.0073,-108 289.0132,-108 289.0132,-108 293.0132,-108 297.0132,-112 297.0132,-116 297.0132,-116 297.0132,-124 297.0132,-124 297.0132,-128 293.0132,-132 289.0132,-132\" fill=\"none\" stroke=\"#000000\"/>\n",
       "<text fill=\"#000000\" font-family=\"Courier,monospace\" font-size=\"10.00\" text-anchor=\"start\" x=\"271.0088\" y=\"-117\">q02</text>\n",
       "</g>\n",
       "<!-- 0&#45;&gt;4 -->\n",
       "<g class=\"edge\" id=\"edge2\">\n",
       "<title>0-&gt;4</title>\n",
       "<path d=\"M216.0698,-141.5895C227.5345,-137.7184 244.4463,-132.0082 257.9978,-127.4325\" fill=\"none\" stroke=\"#000000\"/>\n",
       "<polygon fill=\"#000000\" points=\"262.8221,-125.8036 258.8047,-129.5349 260.4535,-126.6034 258.0849,-127.4032 258.0849,-127.4032 258.0849,-127.4032 260.4535,-126.6034 257.3651,-125.2714 262.8221,-125.8036 262.8221,-125.8036\" stroke=\"#000000\"/>\n",
       "<text fill=\"#000000\" font-family=\"Courier,monospace\" font-size=\"9.00\" text-anchor=\"start\" x=\"237.3083\" y=\"-139.3\">a</text>\n",
       "</g>\n",
       "<!-- 1 -->\n",
       "<g class=\"node\" id=\"node3\">\n",
       "<title>1</title>\n",
       "<path d=\"M138.674,-86C138.674,-86 123.3348,-86 123.3348,-86 120.6681,-86 118.0015,-83.3333 118.0015,-80.6667 118.0015,-80.6667 118.0015,-75.3333 118.0015,-75.3333 118.0015,-72.6667 120.6681,-70 123.3348,-70 123.3348,-70 138.674,-70 138.674,-70 141.3407,-70 144.0073,-72.6667 144.0073,-75.3333 144.0073,-75.3333 144.0073,-80.6667 144.0073,-80.6667 144.0073,-83.3333 141.3407,-86 138.674,-86\" fill=\"none\" stroke=\"#000000\"/>\n",
       "<text fill=\"#000000\" font-family=\"Courier,monospace\" font-size=\"10.00\" text-anchor=\"start\" x=\"122.0029\" y=\"-75\">q05</text>\n",
       "</g>\n",
       "<!-- 1&#45;&gt;0 -->\n",
       "<g class=\"edge\" id=\"edge4\">\n",
       "<title>1-&gt;0</title>\n",
       "<path d=\"M136.2828,-86.2721C141.9812,-94.8165 151.6432,-108.2429 162.0059,-118 168.9699,-124.5571 177.6006,-130.6907 185.1446,-135.5359\" fill=\"none\" stroke=\"#000000\"/>\n",
       "<polygon fill=\"#000000\" points=\"189.6766,-138.3785 184.2453,-137.6278 187.5588,-137.0501 185.4409,-135.7217 185.4409,-135.7217 185.4409,-135.7217 187.5588,-137.0501 186.6364,-133.8156 189.6766,-138.3785 189.6766,-138.3785\" stroke=\"#000000\"/>\n",
       "<text fill=\"#000000\" font-family=\"Courier,monospace\" font-size=\"9.00\" text-anchor=\"start\" x=\"164.9185\" y=\"-130.8\">ε</text>\n",
       "</g>\n",
       "<!-- 3 -->\n",
       "<g class=\"node\" id=\"node5\">\n",
       "<title>3</title>\n",
       "<path d=\"M210.6769,-16C210.6769,-16 195.3377,-16 195.3377,-16 192.6711,-16 190.0044,-13.3333 190.0044,-10.6667 190.0044,-10.6667 190.0044,-5.3333 190.0044,-5.3333 190.0044,-2.6667 192.6711,0 195.3377,0 195.3377,0 210.6769,0 210.6769,0 213.3436,0 216.0103,-2.6667 216.0103,-5.3333 216.0103,-5.3333 216.0103,-10.6667 216.0103,-10.6667 216.0103,-13.3333 213.3436,-16 210.6769,-16\" fill=\"none\" stroke=\"#000000\"/>\n",
       "<text fill=\"#000000\" font-family=\"Courier,monospace\" font-size=\"10.00\" text-anchor=\"start\" x=\"194.0059\" y=\"-5\">q03</text>\n",
       "</g>\n",
       "<!-- 1&#45;&gt;3 -->\n",
       "<g class=\"edge\" id=\"edge5\">\n",
       "<title>1-&gt;3</title>\n",
       "<path d=\"M133.391,-69.9224C137.3721,-57.8109 146.4995,-34.9846 162.0059,-22 168.4721,-16.5854 177.1395,-13.2282 184.8395,-11.1648\" fill=\"none\" stroke=\"#000000\"/>\n",
       "<polygon fill=\"#000000\" points=\"189.9767,-9.9337 185.6388,-13.2871 187.5456,-10.5164 185.1144,-11.099 185.1144,-11.099 185.1144,-11.099 187.5456,-10.5164 184.59,-8.911 189.9767,-9.9337 189.9767,-9.9337\" stroke=\"#000000\"/>\n",
       "<text fill=\"#000000\" font-family=\"Courier,monospace\" font-size=\"9.00\" text-anchor=\"start\" x=\"164.9185\" y=\"-27.8\">ε</text>\n",
       "</g>\n",
       "<!-- 2&#45;&gt;1 -->\n",
       "<g class=\"edge\" id=\"edge6\">\n",
       "<title>2-&gt;1</title>\n",
       "<path d=\"M72.2477,-78C84.3576,-78 100.5238,-78 112.8334,-78\" fill=\"none\" stroke=\"#000000\"/>\n",
       "<polygon fill=\"#000000\" points=\"117.8498,-78 112.8498,-80.2501 115.3498,-78 112.8498,-78.0001 112.8498,-78.0001 112.8498,-78.0001 115.3498,-78 112.8497,-75.7501 117.8498,-78 117.8498,-78\" stroke=\"#000000\"/>\n",
       "<text fill=\"#000000\" font-family=\"Courier,monospace\" font-size=\"9.00\" text-anchor=\"start\" x=\"92.9155\" y=\"-83.8\">ε</text>\n",
       "</g>\n",
       "<!-- 5 -->\n",
       "<g class=\"node\" id=\"node7\">\n",
       "<title>5</title>\n",
       "<path d=\"M287.6795,-45C287.6795,-45 272.341,-45 272.341,-45 269.6743,-45 267.0077,-42.3333 267.0077,-39.6667 267.0077,-39.6667 267.0077,-34.3333 267.0077,-34.3333 267.0077,-31.6667 269.6743,-29 272.341,-29 272.341,-29 287.6795,-29 287.6795,-29 290.3462,-29 293.0128,-31.6667 293.0128,-34.3333 293.0128,-34.3333 293.0128,-39.6667 293.0128,-39.6667 293.0128,-42.3333 290.3462,-45 287.6795,-45\" fill=\"none\" stroke=\"#000000\"/>\n",
       "<path d=\"M289.0132,-49C289.0132,-49 271.0073,-49 271.0073,-49 267.0073,-49 263.0073,-45 263.0073,-41 263.0073,-41 263.0073,-33 263.0073,-33 263.0073,-29 267.0073,-25 271.0073,-25 271.0073,-25 289.0132,-25 289.0132,-25 293.0132,-25 297.0132,-29 297.0132,-33 297.0132,-33 297.0132,-41 297.0132,-41 297.0132,-45 293.0132,-49 289.0132,-49\" fill=\"none\" stroke=\"#000000\"/>\n",
       "<text fill=\"#000000\" font-family=\"Courier,monospace\" font-size=\"10.00\" text-anchor=\"start\" x=\"271.0088\" y=\"-34\">q04</text>\n",
       "</g>\n",
       "<!-- 3&#45;&gt;5 -->\n",
       "<g class=\"edge\" id=\"edge3\">\n",
       "<title>3-&gt;5</title>\n",
       "<path d=\"M216.2956,-12.6025C224.5814,-15.5077 235.4496,-19.3827 245.0088,-23 249.3242,-24.633 253.9172,-26.4283 258.3078,-28.1727\" fill=\"none\" stroke=\"#000000\"/>\n",
       "<polygon fill=\"#000000\" points=\"262.9697,-30.0355 257.4918,-30.2696 260.6482,-29.1078 258.3267,-28.1802 258.3267,-28.1802 258.3267,-28.1802 260.6482,-29.1078 259.1615,-26.0908 262.9697,-30.0355 262.9697,-30.0355\" stroke=\"#000000\"/>\n",
       "<text fill=\"#000000\" font-family=\"Courier,monospace\" font-size=\"9.00\" text-anchor=\"start\" x=\"237.3083\" y=\"-27.3\">b</text>\n",
       "</g>\n",
       "<!-- 4&#45;&gt;1 -->\n",
       "<g class=\"edge\" id=\"edge7\">\n",
       "<title>4-&gt;1</title>\n",
       "<path d=\"M262.9855,-115.2013C234.7364,-107.2387 178.4132,-91.363 149.3285,-83.165\" fill=\"none\" stroke=\"#000000\"/>\n",
       "<polygon fill=\"#000000\" points=\"144.2277,-81.7272 149.6506,-80.9182 146.6339,-82.4055 149.0402,-83.0838 149.0402,-83.0838 149.0402,-83.0838 146.6339,-82.4055 148.4297,-85.2494 144.2277,-81.7272 144.2277,-81.7272\" stroke=\"#000000\"/>\n",
       "<text fill=\"#000000\" font-family=\"Courier,monospace\" font-size=\"9.00\" text-anchor=\"start\" x=\"200.9199\" y=\"-106.8\">ε</text>\n",
       "</g>\n",
       "<!-- 5&#45;&gt;1 -->\n",
       "<g class=\"edge\" id=\"edge8\">\n",
       "<title>5-&gt;1</title>\n",
       "<path d=\"M262.9855,-41.6845C234.7364,-49.4574 178.4132,-64.9551 149.3285,-72.958\" fill=\"none\" stroke=\"#000000\"/>\n",
       "<polygon fill=\"#000000\" points=\"144.2277,-74.3615 148.4516,-70.8656 146.6381,-73.6982 149.0485,-73.035 149.0485,-73.035 149.0485,-73.035 146.6381,-73.6982 149.6455,-75.2043 144.2277,-74.3615 144.2277,-74.3615\" stroke=\"#000000\"/>\n",
       "<text fill=\"#000000\" font-family=\"Courier,monospace\" font-size=\"9.00\" text-anchor=\"start\" x=\"200.9199\" y=\"-66.8\">ε</text>\n",
       "</g>\n",
       "</g>\n",
       "</svg>"
      ],
      "text/plain": [
       "<IPython.core.display.SVG object>"
      ]
     },
     "metadata": {},
     "output_type": "display_data"
    },
    {
     "data": {
      "text/html": [
       "subexpression: a"
      ],
      "text/plain": [
       "<IPython.core.display.HTML object>"
      ]
     },
     "metadata": {},
     "output_type": "display_data"
    },
    {
     "data": {
      "image/svg+xml": [
       "<svg height=\"35pt\" viewBox=\"0.00 0.00 153.01 35.00\" width=\"153pt\" xmlns=\"http://www.w3.org/2000/svg\" xmlns:xlink=\"http://www.w3.org/1999/xlink\">\n",
       "<g class=\"graph\" id=\"graph0\" transform=\"scale(1 1) rotate(0) translate(4 31)\">\n",
       "<title>%3</title>\n",
       "<polygon fill=\"#ffffff\" points=\"-4,4 -4,-31 149.0059,-31 149.0059,4 -4,4\" stroke=\"transparent\"/>\n",
       "<!-- _START -->\n",
       "<g class=\"node\" id=\"node1\">\n",
       "<title>_START</title>\n",
       "</g>\n",
       "<!-- 1 -->\n",
       "<g class=\"node\" id=\"node3\">\n",
       "<title>1</title>\n",
       "<path d=\"M58.6711,-20C58.6711,-20 43.3319,-20 43.3319,-20 40.6652,-20 37.9985,-17.3333 37.9985,-14.6667 37.9985,-14.6667 37.9985,-9.3333 37.9985,-9.3333 37.9985,-6.6667 40.6652,-4 43.3319,-4 43.3319,-4 58.6711,-4 58.6711,-4 61.3377,-4 64.0044,-6.6667 64.0044,-9.3333 64.0044,-9.3333 64.0044,-14.6667 64.0044,-14.6667 64.0044,-17.3333 61.3377,-20 58.6711,-20\" fill=\"none\" stroke=\"#000000\"/>\n",
       "<text fill=\"#000000\" font-family=\"Courier,monospace\" font-size=\"10.00\" text-anchor=\"start\" x=\"42\" y=\"-9\">q07</text>\n",
       "</g>\n",
       "<!-- _START&#45;&gt;1 -->\n",
       "<g class=\"edge\" id=\"edge1\">\n",
       "<title>_START-&gt;1</title>\n",
       "<path d=\"M1.0672,-12C4.1772,-12 19.4906,-12 32.349,-12\" fill=\"none\" stroke=\"#000000\"/>\n",
       "<polygon fill=\"#000000\" points=\"37.6667,-12 32.6668,-14.2501 35.1667,-12 32.6667,-12.0001 32.6667,-12.0001 32.6667,-12.0001 35.1667,-12 32.6667,-9.7501 37.6667,-12 37.6667,-12\" stroke=\"#000000\"/>\n",
       "</g>\n",
       "<!-- 0 -->\n",
       "<g class=\"node\" id=\"node2\">\n",
       "<title>0</title>\n",
       "<path d=\"M135.6736,-20C135.6736,-20 120.3351,-20 120.3351,-20 117.6685,-20 115.0018,-17.3333 115.0018,-14.6667 115.0018,-14.6667 115.0018,-9.3333 115.0018,-9.3333 115.0018,-6.6667 117.6685,-4 120.3351,-4 120.3351,-4 135.6736,-4 135.6736,-4 138.3403,-4 141.007,-6.6667 141.007,-9.3333 141.007,-9.3333 141.007,-14.6667 141.007,-14.6667 141.007,-17.3333 138.3403,-20 135.6736,-20\" fill=\"none\" stroke=\"#000000\"/>\n",
       "<path d=\"M137.0073,-24C137.0073,-24 119.0015,-24 119.0015,-24 115.0015,-24 111.0015,-20 111.0015,-16 111.0015,-16 111.0015,-8 111.0015,-8 111.0015,-4 115.0015,0 119.0015,0 119.0015,0 137.0073,0 137.0073,0 141.0073,0 145.0073,-4 145.0073,-8 145.0073,-8 145.0073,-16 145.0073,-16 145.0073,-20 141.0073,-24 137.0073,-24\" fill=\"none\" stroke=\"#000000\"/>\n",
       "<text fill=\"#000000\" font-family=\"Courier,monospace\" font-size=\"10.00\" text-anchor=\"start\" x=\"119.0029\" y=\"-9\">q08</text>\n",
       "</g>\n",
       "<!-- 1&#45;&gt;0 -->\n",
       "<g class=\"edge\" id=\"edge2\">\n",
       "<title>1-&gt;0</title>\n",
       "<path d=\"M64.064,-12C75.4281,-12 92.1441,-12 105.6346,-12\" fill=\"none\" stroke=\"#000000\"/>\n",
       "<polygon fill=\"#000000\" points=\"110.8163,-12 105.8163,-14.2501 108.3163,-12 105.8163,-12.0001 105.8163,-12.0001 105.8163,-12.0001 108.3163,-12 105.8162,-9.7501 110.8163,-12 110.8163,-12\" stroke=\"#000000\"/>\n",
       "<text fill=\"#000000\" font-family=\"Courier,monospace\" font-size=\"9.00\" text-anchor=\"start\" x=\"85.3025\" y=\"-16.3\">a</text>\n",
       "</g>\n",
       "</g>\n",
       "</svg>"
      ],
      "text/plain": [
       "<IPython.core.display.SVG object>"
      ]
     },
     "metadata": {},
     "output_type": "display_data"
    },
    {
     "data": {
      "text/html": [
       "subexpression: b"
      ],
      "text/plain": [
       "<IPython.core.display.HTML object>"
      ]
     },
     "metadata": {},
     "output_type": "display_data"
    },
    {
     "data": {
      "image/svg+xml": [
       "<svg height=\"35pt\" viewBox=\"0.00 0.00 153.01 35.00\" width=\"153pt\" xmlns=\"http://www.w3.org/2000/svg\" xmlns:xlink=\"http://www.w3.org/1999/xlink\">\n",
       "<g class=\"graph\" id=\"graph0\" transform=\"scale(1 1) rotate(0) translate(4 31)\">\n",
       "<title>%3</title>\n",
       "<polygon fill=\"#ffffff\" points=\"-4,4 -4,-31 149.0059,-31 149.0059,4 -4,4\" stroke=\"transparent\"/>\n",
       "<!-- _START -->\n",
       "<g class=\"node\" id=\"node1\">\n",
       "<title>_START</title>\n",
       "</g>\n",
       "<!-- 0 -->\n",
       "<g class=\"node\" id=\"node2\">\n",
       "<title>0</title>\n",
       "<path d=\"M58.6711,-20C58.6711,-20 43.3319,-20 43.3319,-20 40.6652,-20 37.9985,-17.3333 37.9985,-14.6667 37.9985,-14.6667 37.9985,-9.3333 37.9985,-9.3333 37.9985,-6.6667 40.6652,-4 43.3319,-4 43.3319,-4 58.6711,-4 58.6711,-4 61.3377,-4 64.0044,-6.6667 64.0044,-9.3333 64.0044,-9.3333 64.0044,-14.6667 64.0044,-14.6667 64.0044,-17.3333 61.3377,-20 58.6711,-20\" fill=\"none\" stroke=\"#000000\"/>\n",
       "<text fill=\"#000000\" font-family=\"Courier,monospace\" font-size=\"10.00\" text-anchor=\"start\" x=\"42\" y=\"-9\">q09</text>\n",
       "</g>\n",
       "<!-- _START&#45;&gt;0 -->\n",
       "<g class=\"edge\" id=\"edge1\">\n",
       "<title>_START-&gt;0</title>\n",
       "<path d=\"M1.0672,-12C4.1772,-12 19.4906,-12 32.349,-12\" fill=\"none\" stroke=\"#000000\"/>\n",
       "<polygon fill=\"#000000\" points=\"37.6667,-12 32.6668,-14.2501 35.1667,-12 32.6667,-12.0001 32.6667,-12.0001 32.6667,-12.0001 35.1667,-12 32.6667,-9.7501 37.6667,-12 37.6667,-12\" stroke=\"#000000\"/>\n",
       "</g>\n",
       "<!-- 1 -->\n",
       "<g class=\"node\" id=\"node3\">\n",
       "<title>1</title>\n",
       "<path d=\"M135.6736,-20C135.6736,-20 120.3351,-20 120.3351,-20 117.6685,-20 115.0018,-17.3333 115.0018,-14.6667 115.0018,-14.6667 115.0018,-9.3333 115.0018,-9.3333 115.0018,-6.6667 117.6685,-4 120.3351,-4 120.3351,-4 135.6736,-4 135.6736,-4 138.3403,-4 141.007,-6.6667 141.007,-9.3333 141.007,-9.3333 141.007,-14.6667 141.007,-14.6667 141.007,-17.3333 138.3403,-20 135.6736,-20\" fill=\"none\" stroke=\"#000000\"/>\n",
       "<path d=\"M137.0073,-24C137.0073,-24 119.0015,-24 119.0015,-24 115.0015,-24 111.0015,-20 111.0015,-16 111.0015,-16 111.0015,-8 111.0015,-8 111.0015,-4 115.0015,0 119.0015,0 119.0015,0 137.0073,0 137.0073,0 141.0073,0 145.0073,-4 145.0073,-8 145.0073,-8 145.0073,-16 145.0073,-16 145.0073,-20 141.0073,-24 137.0073,-24\" fill=\"none\" stroke=\"#000000\"/>\n",
       "<text fill=\"#000000\" font-family=\"Courier,monospace\" font-size=\"10.00\" text-anchor=\"start\" x=\"119.0029\" y=\"-9\">q10</text>\n",
       "</g>\n",
       "<!-- 0&#45;&gt;1 -->\n",
       "<g class=\"edge\" id=\"edge2\">\n",
       "<title>0-&gt;1</title>\n",
       "<path d=\"M64.064,-12C75.4281,-12 92.1441,-12 105.6346,-12\" fill=\"none\" stroke=\"#000000\"/>\n",
       "<polygon fill=\"#000000\" points=\"110.8163,-12 105.8163,-14.2501 108.3163,-12 105.8163,-12.0001 105.8163,-12.0001 105.8163,-12.0001 108.3163,-12 105.8162,-9.7501 110.8163,-12 110.8163,-12\" stroke=\"#000000\"/>\n",
       "<text fill=\"#000000\" font-family=\"Courier,monospace\" font-size=\"9.00\" text-anchor=\"start\" x=\"85.3025\" y=\"-16.3\">b</text>\n",
       "</g>\n",
       "</g>\n",
       "</svg>"
      ],
      "text/plain": [
       "<IPython.core.display.SVG object>"
      ]
     },
     "metadata": {},
     "output_type": "display_data"
    },
    {
     "data": {
      "text/html": [
       "subexpression: a"
      ],
      "text/plain": [
       "<IPython.core.display.HTML object>"
      ]
     },
     "metadata": {},
     "output_type": "display_data"
    },
    {
     "data": {
      "image/svg+xml": [
       "<svg height=\"35pt\" viewBox=\"0.00 0.00 153.01 35.00\" width=\"153pt\" xmlns=\"http://www.w3.org/2000/svg\" xmlns:xlink=\"http://www.w3.org/1999/xlink\">\n",
       "<g class=\"graph\" id=\"graph0\" transform=\"scale(1 1) rotate(0) translate(4 31)\">\n",
       "<title>%3</title>\n",
       "<polygon fill=\"#ffffff\" points=\"-4,4 -4,-31 149.0059,-31 149.0059,4 -4,4\" stroke=\"transparent\"/>\n",
       "<!-- _START -->\n",
       "<g class=\"node\" id=\"node1\">\n",
       "<title>_START</title>\n",
       "</g>\n",
       "<!-- 0 -->\n",
       "<g class=\"node\" id=\"node2\">\n",
       "<title>0</title>\n",
       "<path d=\"M58.6711,-20C58.6711,-20 43.3319,-20 43.3319,-20 40.6652,-20 37.9985,-17.3333 37.9985,-14.6667 37.9985,-14.6667 37.9985,-9.3333 37.9985,-9.3333 37.9985,-6.6667 40.6652,-4 43.3319,-4 43.3319,-4 58.6711,-4 58.6711,-4 61.3377,-4 64.0044,-6.6667 64.0044,-9.3333 64.0044,-9.3333 64.0044,-14.6667 64.0044,-14.6667 64.0044,-17.3333 61.3377,-20 58.6711,-20\" fill=\"none\" stroke=\"#000000\"/>\n",
       "<text fill=\"#000000\" font-family=\"Courier,monospace\" font-size=\"10.00\" text-anchor=\"start\" x=\"42\" y=\"-9\">q11</text>\n",
       "</g>\n",
       "<!-- _START&#45;&gt;0 -->\n",
       "<g class=\"edge\" id=\"edge1\">\n",
       "<title>_START-&gt;0</title>\n",
       "<path d=\"M1.0672,-12C4.1772,-12 19.4906,-12 32.349,-12\" fill=\"none\" stroke=\"#000000\"/>\n",
       "<polygon fill=\"#000000\" points=\"37.6667,-12 32.6668,-14.2501 35.1667,-12 32.6667,-12.0001 32.6667,-12.0001 32.6667,-12.0001 35.1667,-12 32.6667,-9.7501 37.6667,-12 37.6667,-12\" stroke=\"#000000\"/>\n",
       "</g>\n",
       "<!-- 1 -->\n",
       "<g class=\"node\" id=\"node3\">\n",
       "<title>1</title>\n",
       "<path d=\"M135.6736,-20C135.6736,-20 120.3351,-20 120.3351,-20 117.6685,-20 115.0018,-17.3333 115.0018,-14.6667 115.0018,-14.6667 115.0018,-9.3333 115.0018,-9.3333 115.0018,-6.6667 117.6685,-4 120.3351,-4 120.3351,-4 135.6736,-4 135.6736,-4 138.3403,-4 141.007,-6.6667 141.007,-9.3333 141.007,-9.3333 141.007,-14.6667 141.007,-14.6667 141.007,-17.3333 138.3403,-20 135.6736,-20\" fill=\"none\" stroke=\"#000000\"/>\n",
       "<path d=\"M137.0073,-24C137.0073,-24 119.0015,-24 119.0015,-24 115.0015,-24 111.0015,-20 111.0015,-16 111.0015,-16 111.0015,-8 111.0015,-8 111.0015,-4 115.0015,0 119.0015,0 119.0015,0 137.0073,0 137.0073,0 141.0073,0 145.0073,-4 145.0073,-8 145.0073,-8 145.0073,-16 145.0073,-16 145.0073,-20 141.0073,-24 137.0073,-24\" fill=\"none\" stroke=\"#000000\"/>\n",
       "<text fill=\"#000000\" font-family=\"Courier,monospace\" font-size=\"10.00\" text-anchor=\"start\" x=\"119.0029\" y=\"-9\">q12</text>\n",
       "</g>\n",
       "<!-- 0&#45;&gt;1 -->\n",
       "<g class=\"edge\" id=\"edge2\">\n",
       "<title>0-&gt;1</title>\n",
       "<path d=\"M64.064,-12C75.4281,-12 92.1441,-12 105.6346,-12\" fill=\"none\" stroke=\"#000000\"/>\n",
       "<polygon fill=\"#000000\" points=\"110.8163,-12 105.8163,-14.2501 108.3163,-12 105.8163,-12.0001 105.8163,-12.0001 105.8163,-12.0001 108.3163,-12 105.8162,-9.7501 110.8163,-12 110.8163,-12\" stroke=\"#000000\"/>\n",
       "<text fill=\"#000000\" font-family=\"Courier,monospace\" font-size=\"9.00\" text-anchor=\"start\" x=\"85.3025\" y=\"-16.3\">a</text>\n",
       "</g>\n",
       "</g>\n",
       "</svg>"
      ],
      "text/plain": [
       "<IPython.core.display.SVG object>"
      ]
     },
     "metadata": {},
     "output_type": "display_data"
    },
    {
     "data": {
      "text/html": [
       "subexpression: (a|b)* a b a"
      ],
      "text/plain": [
       "<IPython.core.display.HTML object>"
      ]
     },
     "metadata": {},
     "output_type": "display_data"
    },
    {
     "data": {
      "image/svg+xml": [
       "<svg height=\"174pt\" viewBox=\"0.00 0.00 732.03 174.00\" width=\"732pt\" xmlns=\"http://www.w3.org/2000/svg\" xmlns:xlink=\"http://www.w3.org/1999/xlink\">\n",
       "<g class=\"graph\" id=\"graph0\" transform=\"scale(1 1) rotate(0) translate(4 170)\">\n",
       "<title>%3</title>\n",
       "<polygon fill=\"#ffffff\" points=\"-4,4 -4,-170 728.0293,-170 728.0293,4 -4,4\" stroke=\"transparent\"/>\n",
       "<!-- _START -->\n",
       "<g class=\"node\" id=\"node1\">\n",
       "<title>_START</title>\n",
       "</g>\n",
       "<!-- 9 -->\n",
       "<g class=\"node\" id=\"node11\">\n",
       "<title>9</title>\n",
       "<path d=\"M58.6711,-24C58.6711,-24 43.3319,-24 43.3319,-24 40.6652,-24 37.9985,-21.3333 37.9985,-18.6667 37.9985,-18.6667 37.9985,-13.3333 37.9985,-13.3333 37.9985,-10.6667 40.6652,-8 43.3319,-8 43.3319,-8 58.6711,-8 58.6711,-8 61.3377,-8 64.0044,-10.6667 64.0044,-13.3333 64.0044,-13.3333 64.0044,-18.6667 64.0044,-18.6667 64.0044,-21.3333 61.3377,-24 58.6711,-24\" fill=\"none\" stroke=\"#000000\"/>\n",
       "<text fill=\"#000000\" font-family=\"Courier,monospace\" font-size=\"10.00\" text-anchor=\"start\" x=\"42\" y=\"-13\">q06</text>\n",
       "</g>\n",
       "<!-- _START&#45;&gt;9 -->\n",
       "<g class=\"edge\" id=\"edge1\">\n",
       "<title>_START-&gt;9</title>\n",
       "<path d=\"M1.0672,-16C4.1772,-16 19.4906,-16 32.349,-16\" fill=\"none\" stroke=\"#000000\"/>\n",
       "<polygon fill=\"#000000\" points=\"37.6667,-16 32.6668,-18.2501 35.1667,-16 32.6667,-16.0001 32.6667,-16.0001 32.6667,-16.0001 35.1667,-16 32.6667,-13.7501 37.6667,-16 37.6667,-16\" stroke=\"#000000\"/>\n",
       "</g>\n",
       "<!-- 0 -->\n",
       "<g class=\"node\" id=\"node2\">\n",
       "<title>0</title>\n",
       "<path d=\"M202.6769,-136C202.6769,-136 187.3377,-136 187.3377,-136 184.6711,-136 182.0044,-133.3333 182.0044,-130.6667 182.0044,-130.6667 182.0044,-125.3333 182.0044,-125.3333 182.0044,-122.6667 184.6711,-120 187.3377,-120 187.3377,-120 202.6769,-120 202.6769,-120 205.3436,-120 208.0103,-122.6667 208.0103,-125.3333 208.0103,-125.3333 208.0103,-130.6667 208.0103,-130.6667 208.0103,-133.3333 205.3436,-136 202.6769,-136\" fill=\"none\" stroke=\"#000000\"/>\n",
       "<text fill=\"#000000\" font-family=\"Courier,monospace\" font-size=\"10.00\" text-anchor=\"start\" x=\"186.0059\" y=\"-125\">q01</text>\n",
       "</g>\n",
       "<!-- 1 -->\n",
       "<g class=\"node\" id=\"node3\">\n",
       "<title>1</title>\n",
       "<path d=\"M275.6799,-136C275.6799,-136 260.3407,-136 260.3407,-136 257.674,-136 255.0073,-133.3333 255.0073,-130.6667 255.0073,-130.6667 255.0073,-125.3333 255.0073,-125.3333 255.0073,-122.6667 257.674,-120 260.3407,-120 260.3407,-120 275.6799,-120 275.6799,-120 278.3465,-120 281.0132,-122.6667 281.0132,-125.3333 281.0132,-125.3333 281.0132,-130.6667 281.0132,-130.6667 281.0132,-133.3333 278.3465,-136 275.6799,-136\" fill=\"none\" stroke=\"#000000\"/>\n",
       "<text fill=\"#000000\" font-family=\"Courier,monospace\" font-size=\"10.00\" text-anchor=\"start\" x=\"259.0088\" y=\"-125\">q02</text>\n",
       "</g>\n",
       "<!-- 0&#45;&gt;1 -->\n",
       "<g class=\"edge\" id=\"edge2\">\n",
       "<title>0-&gt;1</title>\n",
       "<path d=\"M208.0588,-128C219.5422,-128 236.3954,-128 249.3109,-128\" fill=\"none\" stroke=\"#000000\"/>\n",
       "<polygon fill=\"#000000\" points=\"254.5779,-128 249.5779,-130.2501 252.0779,-128 249.5779,-128.0001 249.5779,-128.0001 249.5779,-128.0001 252.0779,-128 249.5778,-125.7501 254.5779,-128 254.5779,-128\" stroke=\"#000000\"/>\n",
       "<text fill=\"#000000\" font-family=\"Courier,monospace\" font-size=\"9.00\" text-anchor=\"start\" x=\"229.3083\" y=\"-132.3\">a</text>\n",
       "</g>\n",
       "<!-- 2 -->\n",
       "<g class=\"node\" id=\"node4\">\n",
       "<title>2</title>\n",
       "<path d=\"M130.674,-97C130.674,-97 115.3348,-97 115.3348,-97 112.6681,-97 110.0015,-94.3333 110.0015,-91.6667 110.0015,-91.6667 110.0015,-86.3333 110.0015,-86.3333 110.0015,-83.6667 112.6681,-81 115.3348,-81 115.3348,-81 130.674,-81 130.674,-81 133.3407,-81 136.0073,-83.6667 136.0073,-86.3333 136.0073,-86.3333 136.0073,-91.6667 136.0073,-91.6667 136.0073,-94.3333 133.3407,-97 130.674,-97\" fill=\"none\" stroke=\"#000000\"/>\n",
       "<text fill=\"#000000\" font-family=\"Courier,monospace\" font-size=\"10.00\" text-anchor=\"start\" x=\"114.0029\" y=\"-86\">q05</text>\n",
       "</g>\n",
       "<!-- 1&#45;&gt;2 -->\n",
       "<g class=\"edge\" id=\"edge8\">\n",
       "<title>1-&gt;2</title>\n",
       "<path d=\"M258.0685,-136.0522C252.2937,-140.2043 244.664,-144.8408 237.0088,-147 213.4655,-153.6406 205.5905,-151.4921 182.0059,-145 168.3945,-141.2532 164.7343,-139.1766 154.0059,-130 144.5076,-121.8756 136.1227,-110.3683 130.4761,-101.6118\" fill=\"none\" stroke=\"#000000\"/>\n",
       "<polygon fill=\"#000000\" points=\"127.6312,-97.069 132.192,-100.1124 128.9581,-99.1878 130.2851,-101.3066 130.2851,-101.3066 130.2851,-101.3066 128.9581,-99.1878 128.3781,-102.5008 127.6312,-97.069 127.6312,-97.069\" stroke=\"#000000\"/>\n",
       "<text fill=\"#000000\" font-family=\"Courier,monospace\" font-size=\"9.00\" text-anchor=\"start\" x=\"192.9199\" y=\"-155.8\">ε</text>\n",
       "</g>\n",
       "<!-- 3 -->\n",
       "<g class=\"node\" id=\"node5\">\n",
       "<title>3</title>\n",
       "<path d=\"M347.6828,-69C347.6828,-69 332.3436,-69 332.3436,-69 329.6769,-69 327.0103,-66.3333 327.0103,-63.6667 327.0103,-63.6667 327.0103,-58.3333 327.0103,-58.3333 327.0103,-55.6667 329.6769,-53 332.3436,-53 332.3436,-53 347.6828,-53 347.6828,-53 350.3494,-53 353.0161,-55.6667 353.0161,-58.3333 353.0161,-58.3333 353.0161,-63.6667 353.0161,-63.6667 353.0161,-66.3333 350.3494,-69 347.6828,-69\" fill=\"none\" stroke=\"#000000\"/>\n",
       "<text fill=\"#000000\" font-family=\"Courier,monospace\" font-size=\"10.00\" text-anchor=\"start\" x=\"331.0117\" y=\"-58\">q07</text>\n",
       "</g>\n",
       "<!-- 1&#45;&gt;3 -->\n",
       "<g class=\"edge\" id=\"edge9\">\n",
       "<title>1-&gt;3</title>\n",
       "<path d=\"M276.8392,-119.7845C289.4709,-108.0305 312.7725,-86.3479 327.272,-72.8559\" fill=\"none\" stroke=\"#000000\"/>\n",
       "<polygon fill=\"#000000\" points=\"331.112,-69.2827 328.9843,-74.336 329.2818,-70.9858 327.4516,-72.6888 327.4516,-72.6888 327.4516,-72.6888 329.2818,-70.9858 325.9188,-71.0416 331.112,-69.2827 331.112,-69.2827\" stroke=\"#000000\"/>\n",
       "<text fill=\"#000000\" font-family=\"Courier,monospace\" font-size=\"9.00\" text-anchor=\"start\" x=\"301.9243\" y=\"-103.8\">ε</text>\n",
       "</g>\n",
       "<!-- 2&#45;&gt;0 -->\n",
       "<g class=\"edge\" id=\"edge4\">\n",
       "<title>2-&gt;0</title>\n",
       "<path d=\"M136.2657,-96.3065C141.7505,-99.3195 148.1786,-102.839 154.0059,-106 161.5061,-110.0685 169.7972,-114.5249 176.9496,-118.3565\" fill=\"none\" stroke=\"#000000\"/>\n",
       "<polygon fill=\"#000000\" points=\"181.6957,-120.8969 176.2256,-120.521 179.4916,-119.7171 177.2874,-118.5373 177.2874,-118.5373 177.2874,-118.5373 179.4916,-119.7171 178.3493,-116.5536 181.6957,-120.8969 181.6957,-120.8969\" stroke=\"#000000\"/>\n",
       "<text fill=\"#000000\" font-family=\"Courier,monospace\" font-size=\"9.00\" text-anchor=\"start\" x=\"156.9185\" y=\"-115.8\">ε</text>\n",
       "</g>\n",
       "<!-- 4 -->\n",
       "<g class=\"node\" id=\"node6\">\n",
       "<title>4</title>\n",
       "<path d=\"M202.6769,-102C202.6769,-102 187.3377,-102 187.3377,-102 184.6711,-102 182.0044,-99.3333 182.0044,-96.6667 182.0044,-96.6667 182.0044,-91.3333 182.0044,-91.3333 182.0044,-88.6667 184.6711,-86 187.3377,-86 187.3377,-86 202.6769,-86 202.6769,-86 205.3436,-86 208.0103,-88.6667 208.0103,-91.3333 208.0103,-91.3333 208.0103,-96.6667 208.0103,-96.6667 208.0103,-99.3333 205.3436,-102 202.6769,-102\" fill=\"none\" stroke=\"#000000\"/>\n",
       "<text fill=\"#000000\" font-family=\"Courier,monospace\" font-size=\"10.00\" text-anchor=\"start\" x=\"186.0059\" y=\"-91\">q03</text>\n",
       "</g>\n",
       "<!-- 2&#45;&gt;4 -->\n",
       "<g class=\"edge\" id=\"edge5\">\n",
       "<title>2-&gt;4</title>\n",
       "<path d=\"M136.3171,-88.9752C144.3473,-89.0471 154.7763,-89.2939 164.0059,-90 168.1148,-90.3143 172.5139,-90.7941 176.6695,-91.3136\" fill=\"none\" stroke=\"#000000\"/>\n",
       "<polygon fill=\"#000000\" points=\"181.7628,-91.9833 176.5121,-93.5622 179.2841,-91.6574 176.8054,-91.3314 176.8054,-91.3314 176.8054,-91.3314 179.2841,-91.6574 177.0988,-89.1006 181.7628,-91.9833 181.7628,-91.9833\" stroke=\"#000000\"/>\n",
       "<text fill=\"#000000\" font-family=\"Courier,monospace\" font-size=\"9.00\" text-anchor=\"start\" x=\"156.9185\" y=\"-95.8\">ε</text>\n",
       "</g>\n",
       "<!-- 6 -->\n",
       "<g class=\"node\" id=\"node8\">\n",
       "<title>6</title>\n",
       "<path d=\"M420.6857,-69C420.6857,-69 405.3465,-69 405.3465,-69 402.6799,-69 400.0132,-66.3333 400.0132,-63.6667 400.0132,-63.6667 400.0132,-58.3333 400.0132,-58.3333 400.0132,-55.6667 402.6799,-53 405.3465,-53 405.3465,-53 420.6857,-53 420.6857,-53 423.3524,-53 426.019,-55.6667 426.019,-58.3333 426.019,-58.3333 426.019,-63.6667 426.019,-63.6667 426.019,-66.3333 423.3524,-69 420.6857,-69\" fill=\"none\" stroke=\"#000000\"/>\n",
       "<text fill=\"#000000\" font-family=\"Courier,monospace\" font-size=\"10.00\" text-anchor=\"start\" x=\"404.0146\" y=\"-58\">q08</text>\n",
       "</g>\n",
       "<!-- 3&#45;&gt;6 -->\n",
       "<g class=\"edge\" id=\"edge12\">\n",
       "<title>3-&gt;6</title>\n",
       "<path d=\"M353.0646,-61C364.5481,-61 381.4013,-61 394.3168,-61\" fill=\"none\" stroke=\"#000000\"/>\n",
       "<polygon fill=\"#000000\" points=\"399.5837,-61 394.5838,-63.2501 397.0837,-61 394.5837,-61.0001 394.5837,-61.0001 394.5837,-61.0001 397.0837,-61 394.5837,-58.7501 399.5837,-61 399.5837,-61\" stroke=\"#000000\"/>\n",
       "<text fill=\"#000000\" font-family=\"Courier,monospace\" font-size=\"9.00\" text-anchor=\"start\" x=\"374.3142\" y=\"-65.3\">a</text>\n",
       "</g>\n",
       "<!-- 5 -->\n",
       "<g class=\"node\" id=\"node7\">\n",
       "<title>5</title>\n",
       "<path d=\"M275.6799,-69C275.6799,-69 260.3407,-69 260.3407,-69 257.674,-69 255.0073,-66.3333 255.0073,-63.6667 255.0073,-63.6667 255.0073,-58.3333 255.0073,-58.3333 255.0073,-55.6667 257.674,-53 260.3407,-53 260.3407,-53 275.6799,-53 275.6799,-53 278.3465,-53 281.0132,-55.6667 281.0132,-58.3333 281.0132,-58.3333 281.0132,-63.6667 281.0132,-63.6667 281.0132,-66.3333 278.3465,-69 275.6799,-69\" fill=\"none\" stroke=\"#000000\"/>\n",
       "<text fill=\"#000000\" font-family=\"Courier,monospace\" font-size=\"10.00\" text-anchor=\"start\" x=\"259.0088\" y=\"-58\">q04</text>\n",
       "</g>\n",
       "<!-- 4&#45;&gt;5 -->\n",
       "<g class=\"edge\" id=\"edge3\">\n",
       "<title>4-&gt;5</title>\n",
       "<path d=\"M208.0588,-88.1003C219.7473,-82.8166 236.9991,-75.0182 249.999,-69.1418\" fill=\"none\" stroke=\"#000000\"/>\n",
       "<polygon fill=\"#000000\" points=\"254.5779,-67.0719 250.9486,-71.1818 252.2998,-68.1017 250.0217,-69.1315 250.0217,-69.1315 250.0217,-69.1315 252.2998,-68.1017 249.0949,-67.0813 254.5779,-67.0719 254.5779,-67.0719\" stroke=\"#000000\"/>\n",
       "<text fill=\"#000000\" font-family=\"Courier,monospace\" font-size=\"9.00\" text-anchor=\"start\" x=\"229.3083\" y=\"-83.3\">b</text>\n",
       "</g>\n",
       "<!-- 5&#45;&gt;2 -->\n",
       "<g class=\"edge\" id=\"edge10\">\n",
       "<title>5-&gt;2</title>\n",
       "<path d=\"M254.9923,-59.2428C237.9747,-57.3427 207.3514,-55.2911 182.0059,-61 167.2946,-64.3136 151.944,-71.7417 140.5891,-78.1148\" fill=\"none\" stroke=\"#000000\"/>\n",
       "<polygon fill=\"#000000\" points=\"135.9809,-80.7664 139.1925,-76.3224 138.1478,-79.5195 140.3147,-78.2726 140.3147,-78.2726 140.3147,-78.2726 138.1478,-79.5195 141.4369,-80.2228 135.9809,-80.7664 135.9809,-80.7664\" stroke=\"#000000\"/>\n",
       "<text fill=\"#000000\" font-family=\"Courier,monospace\" font-size=\"9.00\" text-anchor=\"start\" x=\"192.9199\" y=\"-66.8\">ε</text>\n",
       "</g>\n",
       "<!-- 5&#45;&gt;3 -->\n",
       "<g class=\"edge\" id=\"edge11\">\n",
       "<title>5-&gt;3</title>\n",
       "<path d=\"M281.2167,-61C292.5844,-61 309.1031,-61 321.7391,-61\" fill=\"none\" stroke=\"#000000\"/>\n",
       "<polygon fill=\"#000000\" points=\"326.8905,-61 321.8905,-63.2501 324.3905,-61 321.8905,-61.0001 321.8905,-61.0001 321.8905,-61.0001 324.3905,-61 321.8904,-58.7501 326.8905,-61 326.8905,-61\" stroke=\"#000000\"/>\n",
       "<text fill=\"#000000\" font-family=\"Courier,monospace\" font-size=\"9.00\" text-anchor=\"start\" x=\"301.9243\" y=\"-66.8\">ε</text>\n",
       "</g>\n",
       "<!-- 7 -->\n",
       "<g class=\"node\" id=\"node9\">\n",
       "<title>7</title>\n",
       "<path d=\"M492.6886,-69C492.6886,-69 477.3494,-69 477.3494,-69 474.6828,-69 472.0161,-66.3333 472.0161,-63.6667 472.0161,-63.6667 472.0161,-58.3333 472.0161,-58.3333 472.0161,-55.6667 474.6828,-53 477.3494,-53 477.3494,-53 492.6886,-53 492.6886,-53 495.3553,-53 498.022,-55.6667 498.022,-58.3333 498.022,-58.3333 498.022,-63.6667 498.022,-63.6667 498.022,-66.3333 495.3553,-69 492.6886,-69\" fill=\"none\" stroke=\"#000000\"/>\n",
       "<text fill=\"#000000\" font-family=\"Courier,monospace\" font-size=\"10.00\" text-anchor=\"start\" x=\"476.0176\" y=\"-58\">q09</text>\n",
       "</g>\n",
       "<!-- 6&#45;&gt;7 -->\n",
       "<g class=\"edge\" id=\"edge15\">\n",
       "<title>6-&gt;7</title>\n",
       "<path d=\"M426.2226,-61C437.5903,-61 454.1089,-61 466.7449,-61\" fill=\"none\" stroke=\"#000000\"/>\n",
       "<polygon fill=\"#000000\" points=\"471.8963,-61 466.8964,-63.2501 469.3963,-61 466.8963,-61.0001 466.8963,-61.0001 466.8963,-61.0001 469.3963,-61 466.8963,-58.7501 471.8963,-61 471.8963,-61\" stroke=\"#000000\"/>\n",
       "<text fill=\"#000000\" font-family=\"Courier,monospace\" font-size=\"9.00\" text-anchor=\"start\" x=\"446.9302\" y=\"-66.8\">ε</text>\n",
       "</g>\n",
       "<!-- 8 -->\n",
       "<g class=\"node\" id=\"node10\">\n",
       "<title>8</title>\n",
       "<path d=\"M565.6916,-69C565.6916,-69 550.3524,-69 550.3524,-69 547.6857,-69 545.019,-66.3333 545.019,-63.6667 545.019,-63.6667 545.019,-58.3333 545.019,-58.3333 545.019,-55.6667 547.6857,-53 550.3524,-53 550.3524,-53 565.6916,-53 565.6916,-53 568.3582,-53 571.0249,-55.6667 571.0249,-58.3333 571.0249,-58.3333 571.0249,-63.6667 571.0249,-63.6667 571.0249,-66.3333 568.3582,-69 565.6916,-69\" fill=\"none\" stroke=\"#000000\"/>\n",
       "<text fill=\"#000000\" font-family=\"Courier,monospace\" font-size=\"10.00\" text-anchor=\"start\" x=\"549.0205\" y=\"-58\">q10</text>\n",
       "</g>\n",
       "<!-- 7&#45;&gt;8 -->\n",
       "<g class=\"edge\" id=\"edge13\">\n",
       "<title>7-&gt;8</title>\n",
       "<path d=\"M498.0705,-61C509.5539,-61 526.4072,-61 539.3226,-61\" fill=\"none\" stroke=\"#000000\"/>\n",
       "<polygon fill=\"#000000\" points=\"544.5896,-61 539.5896,-63.2501 542.0896,-61 539.5896,-61.0001 539.5896,-61.0001 539.5896,-61.0001 542.0896,-61 539.5896,-58.7501 544.5896,-61 544.5896,-61\" stroke=\"#000000\"/>\n",
       "<text fill=\"#000000\" font-family=\"Courier,monospace\" font-size=\"9.00\" text-anchor=\"start\" x=\"519.3201\" y=\"-65.3\">b</text>\n",
       "</g>\n",
       "<!-- 11 -->\n",
       "<g class=\"node\" id=\"node13\">\n",
       "<title>11</title>\n",
       "<path d=\"M637.6945,-69C637.6945,-69 622.3553,-69 622.3553,-69 619.6886,-69 617.022,-66.3333 617.022,-63.6667 617.022,-63.6667 617.022,-58.3333 617.022,-58.3333 617.022,-55.6667 619.6886,-53 622.3553,-53 622.3553,-53 637.6945,-53 637.6945,-53 640.3612,-53 643.0278,-55.6667 643.0278,-58.3333 643.0278,-58.3333 643.0278,-63.6667 643.0278,-63.6667 643.0278,-66.3333 640.3612,-69 637.6945,-69\" fill=\"none\" stroke=\"#000000\"/>\n",
       "<text fill=\"#000000\" font-family=\"Courier,monospace\" font-size=\"10.00\" text-anchor=\"start\" x=\"621.0234\" y=\"-58\">q11</text>\n",
       "</g>\n",
       "<!-- 8&#45;&gt;11 -->\n",
       "<g class=\"edge\" id=\"edge16\">\n",
       "<title>8-&gt;11</title>\n",
       "<path d=\"M571.2284,-61C582.5961,-61 599.1148,-61 611.7508,-61\" fill=\"none\" stroke=\"#000000\"/>\n",
       "<polygon fill=\"#000000\" points=\"616.9022,-61 611.9022,-63.2501 614.4022,-61 611.9022,-61.0001 611.9022,-61.0001 611.9022,-61.0001 614.4022,-61 611.9021,-58.7501 616.9022,-61 616.9022,-61\" stroke=\"#000000\"/>\n",
       "<text fill=\"#000000\" font-family=\"Courier,monospace\" font-size=\"9.00\" text-anchor=\"start\" x=\"591.936\" y=\"-66.8\">ε</text>\n",
       "</g>\n",
       "<!-- 9&#45;&gt;2 -->\n",
       "<g class=\"edge\" id=\"edge6\">\n",
       "<title>9-&gt;2</title>\n",
       "<path d=\"M58.9821,-24.0912C71.6738,-36.9586 96.5243,-62.1532 111.2536,-77.0865\" fill=\"none\" stroke=\"#000000\"/>\n",
       "<polygon fill=\"#000000\" points=\"114.7667,-80.6482 109.6536,-78.6684 113.0111,-78.8683 111.2555,-77.0884 111.2555,-77.0884 111.2555,-77.0884 113.0111,-78.8683 112.8574,-75.5084 114.7667,-80.6482 114.7667,-80.6482\" stroke=\"#000000\"/>\n",
       "<text fill=\"#000000\" font-family=\"Courier,monospace\" font-size=\"9.00\" text-anchor=\"start\" x=\"84.9155\" y=\"-61.8\">ε</text>\n",
       "</g>\n",
       "<!-- 9&#45;&gt;3 -->\n",
       "<g class=\"edge\" id=\"edge7\">\n",
       "<title>9-&gt;3</title>\n",
       "<path d=\"M64.0785,-11.286C78.36,-6.5664 102.0035,0 123.0044,0 123.0044,0 123.0044,0 268.0103,0 297.5119,0 321.1356,-30.181 332.5539,-48.0844\" fill=\"none\" stroke=\"#000000\"/>\n",
       "<polygon fill=\"#000000\" points=\"335.4455,-52.7733 330.9058,-49.6985 334.1332,-50.6454 332.8209,-48.5175 332.8209,-48.5175 332.8209,-48.5175 334.1332,-50.6454 334.736,-47.3364 335.4455,-52.7733 335.4455,-52.7733\" stroke=\"#000000\"/>\n",
       "<text fill=\"#000000\" font-family=\"Courier,monospace\" font-size=\"9.00\" text-anchor=\"start\" x=\"192.9199\" y=\"-5.8\">ε</text>\n",
       "</g>\n",
       "<!-- 10 -->\n",
       "<g class=\"node\" id=\"node12\">\n",
       "<title>10</title>\n",
       "<path d=\"M714.6971,-69C714.6971,-69 699.3586,-69 699.3586,-69 696.6919,-69 694.0252,-66.3333 694.0252,-63.6667 694.0252,-63.6667 694.0252,-58.3333 694.0252,-58.3333 694.0252,-55.6667 696.6919,-53 699.3586,-53 699.3586,-53 714.6971,-53 714.6971,-53 717.3638,-53 720.0304,-55.6667 720.0304,-58.3333 720.0304,-58.3333 720.0304,-63.6667 720.0304,-63.6667 720.0304,-66.3333 717.3638,-69 714.6971,-69\" fill=\"none\" stroke=\"#000000\"/>\n",
       "<path d=\"M716.0308,-73C716.0308,-73 698.0249,-73 698.0249,-73 694.0249,-73 690.0249,-69 690.0249,-65 690.0249,-65 690.0249,-57 690.0249,-57 690.0249,-53 694.0249,-49 698.0249,-49 698.0249,-49 716.0308,-49 716.0308,-49 720.0308,-49 724.0308,-53 724.0308,-57 724.0308,-57 724.0308,-65 724.0308,-65 724.0308,-69 720.0308,-73 716.0308,-73\" fill=\"none\" stroke=\"#000000\"/>\n",
       "<text fill=\"#000000\" font-family=\"Courier,monospace\" font-size=\"10.00\" text-anchor=\"start\" x=\"698.0264\" y=\"-58\">q12</text>\n",
       "</g>\n",
       "<!-- 11&#45;&gt;10 -->\n",
       "<g class=\"edge\" id=\"edge14\">\n",
       "<title>11-&gt;10</title>\n",
       "<path d=\"M643.0874,-61C654.4515,-61 671.1676,-61 684.658,-61\" fill=\"none\" stroke=\"#000000\"/>\n",
       "<polygon fill=\"#000000\" points=\"689.8397,-61 684.8398,-63.2501 687.3397,-61 684.8397,-61.0001 684.8397,-61.0001 684.8397,-61.0001 687.3397,-61 684.8397,-58.7501 689.8397,-61 689.8397,-61\" stroke=\"#000000\"/>\n",
       "<text fill=\"#000000\" font-family=\"Courier,monospace\" font-size=\"9.00\" text-anchor=\"start\" x=\"664.3259\" y=\"-65.3\">a</text>\n",
       "</g>\n",
       "</g>\n",
       "</svg>"
      ],
      "text/plain": [
       "<IPython.core.display.SVG object>"
      ]
     },
     "metadata": {},
     "output_type": "display_data"
    }
   ],
   "source": [
    "m = from_regexp('(a|b)* a b a', display_steps=True)"
   ]
  },
  {
   "cell_type": "markdown",
   "metadata": {
    "deletable": true,
    "editable": true
   },
   "source": [
    "**Question.** If a regular expression has $n$ symbols, how big will the resulting NFA be?\n",
    "\n",
    "For a very cool \"real-time\" visualization of (a slightly different version of) this construction, see [Debuggex](https://www.debuggex.com)."
   ]
  },
  {
   "cell_type": "markdown",
   "metadata": {
    "deletable": true,
    "editable": true
   },
   "source": [
    "# Wednesday reading\n",
    "\n",
    "Read or reread Lemma 1.60 and its proof, which (in my opinion) is the most complicated one so far."
   ]
  },
  {
   "cell_type": "markdown",
   "metadata": {
    "deletable": true,
    "editable": true
   },
   "source": [
    "# Thursday class\n",
    "\n",
    "Homework 2 is due this evening.\n",
    "\n",
    "## NFAs to regular expressions"
   ]
  },
  {
   "cell_type": "markdown",
   "metadata": {
    "deletable": true,
    "editable": true
   },
   "source": [
    "Today we're completing the proof from last time by converting NFAs to regular expressions. The algorithm for this is known as the _state elimination_ algorithm, because it eliminates the states of the NFA one by one. \n",
    "\n",
    "To make this construction simpler, the new concept of a generalized NFA (GNFA) is introduced. In this course, GNFAs are a \"throwaway\" formalism; they exist just to make this proof possible. But elsewhere they might be useful in their own right.\n",
    "\n",
    "A GNFA is a NFA whose transitions can be labeled with regular expressions instead of symbols. The algorithm first changes the NFA into a GNFA, and then eliminates the states one by one. When there is just one transition left, its label is the final answer.\n",
    "\n",
    "The order of elimination is arbitrary, although some orders may lead to more compact regular expressions than others. Tock eliminates states in reverse alphabetical order, for no particularly good reason."
   ]
  },
  {
   "cell_type": "code",
   "execution_count": 6,
   "metadata": {
    "collapsed": false,
    "deletable": true,
    "editable": true
   },
   "outputs": [
    {
     "data": {
      "image/svg+xml": [
       "<svg height=\"78pt\" viewBox=\"0.00 0.00 136.00 78.00\" width=\"136pt\" xmlns=\"http://www.w3.org/2000/svg\" xmlns:xlink=\"http://www.w3.org/1999/xlink\">\n",
       "<g class=\"graph\" id=\"graph0\" transform=\"scale(1 1) rotate(0) translate(4 74)\">\n",
       "<title>%3</title>\n",
       "<polygon fill=\"#ffffff\" points=\"-4,4 -4,-74 132,-74 132,4 -4,4\" stroke=\"transparent\"/>\n",
       "<!-- _START -->\n",
       "<g class=\"node\" id=\"node1\">\n",
       "<title>_START</title>\n",
       "</g>\n",
       "<!-- 1 -->\n",
       "<g class=\"node\" id=\"node3\">\n",
       "<title>1</title>\n",
       "<path d=\"M47.8337,-20C47.8337,-20 43.1663,-20 43.1663,-20 40.8327,-20 38.499,-17.6663 38.499,-15.3327 38.499,-15.3327 38.499,-8.6673 38.499,-8.6673 38.499,-6.3337 40.8327,-4 43.1663,-4 43.1663,-4 47.8337,-4 47.8337,-4 50.1673,-4 52.501,-6.3337 52.501,-8.6673 52.501,-8.6673 52.501,-15.3327 52.501,-15.3327 52.501,-17.6663 50.1673,-20 47.8337,-20\" fill=\"none\" stroke=\"#000000\"/>\n",
       "<text fill=\"#000000\" font-family=\"Courier,monospace\" font-size=\"10.00\" text-anchor=\"middle\" x=\"45.5\" y=\"-9\">1</text>\n",
       "</g>\n",
       "<!-- _START&#45;&gt;1 -->\n",
       "<g class=\"edge\" id=\"edge1\">\n",
       "<title>_START-&gt;1</title>\n",
       "<path d=\"M1.0054,-12C4.1203,-12 20.9736,-12 33.0166,-12\" fill=\"none\" stroke=\"#000000\"/>\n",
       "<polygon fill=\"#000000\" points=\"38.1447,-12 33.1447,-14.2501 35.6447,-12 33.1447,-12.0001 33.1447,-12.0001 33.1447,-12.0001 35.6447,-12 33.1447,-9.7501 38.1447,-12 38.1447,-12\" stroke=\"#000000\"/>\n",
       "</g>\n",
       "<!-- 0 -->\n",
       "<g class=\"node\" id=\"node2\">\n",
       "<title>0</title>\n",
       "<path d=\"M116.3336,-20C116.3336,-20 111.6664,-20 111.6664,-20 109.3328,-20 106.9992,-17.6664 106.9992,-15.3328 106.9992,-15.3328 106.9992,-8.6672 106.9992,-8.6672 106.9992,-6.3336 109.3328,-4 111.6664,-4 111.6664,-4 116.3336,-4 116.3336,-4 118.6672,-4 121.0008,-6.3336 121.0008,-8.6672 121.0008,-8.6672 121.0008,-15.3328 121.0008,-15.3328 121.0008,-17.6664 118.6672,-20 116.3336,-20\" fill=\"none\" stroke=\"#000000\"/>\n",
       "<path d=\"M117.667,-24C117.667,-24 110.333,-24 110.333,-24 106.666,-24 102.999,-20.333 102.999,-16.666 102.999,-16.666 102.999,-7.334 102.999,-7.334 102.999,-3.667 106.666,0 110.333,0 110.333,0 117.667,0 117.667,0 121.334,0 125.001,-3.667 125.001,-7.334 125.001,-7.334 125.001,-16.666 125.001,-16.666 125.001,-20.333 121.334,-24 117.667,-24\" fill=\"none\" stroke=\"#000000\"/>\n",
       "<text fill=\"#000000\" font-family=\"Courier,monospace\" font-size=\"10.00\" text-anchor=\"start\" x=\"110.9995\" y=\"-9\">2</text>\n",
       "</g>\n",
       "<!-- 0&#45;&gt;0 -->\n",
       "<g class=\"edge\" id=\"edge4\">\n",
       "<title>0-&gt;0</title>\n",
       "<path d=\"M108.0476,-24.0139C105.969,-32.9717 107.9531,-42 114,-42 118.9131,-42 121.1441,-36.0399 120.6931,-29.0001\" fill=\"none\" stroke=\"#000000\"/>\n",
       "<polygon fill=\"#000000\" points=\"119.9524,-24.0139 122.9128,-28.629 120.3198,-26.4868 120.6872,-28.9596 120.6872,-28.9596 120.6872,-28.9596 120.3198,-26.4868 118.4616,-29.2903 119.9524,-24.0139 119.9524,-24.0139\" stroke=\"#000000\"/>\n",
       "<text fill=\"#000000\" font-family=\"Courier,monospace\" font-size=\"9.00\" text-anchor=\"start\" x=\"111.7996\" y=\"-59.8\">a</text>\n",
       "<text fill=\"#000000\" font-family=\"Courier,monospace\" font-size=\"9.00\" text-anchor=\"start\" x=\"111.7996\" y=\"-46.8\">b</text>\n",
       "</g>\n",
       "<!-- 1&#45;&gt;0 -->\n",
       "<g class=\"edge\" id=\"edge3\">\n",
       "<title>1-&gt;0</title>\n",
       "<path d=\"M52.5727,-12C63.0743,-12 83.0898,-12 97.4207,-12\" fill=\"none\" stroke=\"#000000\"/>\n",
       "<polygon fill=\"#000000\" points=\"102.7916,-12 97.7917,-14.2501 100.2916,-12 97.7916,-12.0001 97.7916,-12.0001 97.7916,-12.0001 100.2916,-12 97.7916,-9.7501 102.7916,-12 102.7916,-12\" stroke=\"#000000\"/>\n",
       "<text fill=\"#000000\" font-family=\"Courier,monospace\" font-size=\"9.00\" text-anchor=\"start\" x=\"74.2996\" y=\"-16.3\">b</text>\n",
       "</g>\n",
       "<!-- 1&#45;&gt;1 -->\n",
       "<g class=\"edge\" id=\"edge2\">\n",
       "<title>1-&gt;1</title>\n",
       "<path d=\"M41.6962,-20.2534C39.4586,-28.652 40.7266,-38 45.5,-38 49.3038,-38 50.8816,-32.0639 50.2334,-25.4025\" fill=\"none\" stroke=\"#000000\"/>\n",
       "<polygon fill=\"#000000\" points=\"49.3038,-20.2534 52.4064,-24.7741 49.748,-22.7137 50.1922,-25.1739 50.1922,-25.1739 50.1922,-25.1739 49.748,-22.7137 47.978,-25.5737 49.3038,-20.2534 49.3038,-20.2534\" stroke=\"#000000\"/>\n",
       "<text fill=\"#000000\" font-family=\"Courier,monospace\" font-size=\"9.00\" text-anchor=\"start\" x=\"43.2996\" y=\"-42.3\">a</text>\n",
       "</g>\n",
       "</g>\n",
       "</svg>"
      ],
      "text/plain": [
       "<IPython.core.display.SVG object>"
      ]
     },
     "metadata": {},
     "output_type": "display_data"
    }
   ],
   "source": [
    "m66 = read_csv('sipser-1-66.csv')\n",
    "m66"
   ]
  },
  {
   "cell_type": "code",
   "execution_count": 7,
   "metadata": {
    "collapsed": false,
    "deletable": true,
    "editable": true
   },
   "outputs": [
    {
     "data": {
      "image/svg+xml": [
       "<svg height=\"61pt\" viewBox=\"0.00 0.00 305.01 61.00\" width=\"305pt\" xmlns=\"http://www.w3.org/2000/svg\" xmlns:xlink=\"http://www.w3.org/1999/xlink\">\n",
       "<g class=\"graph\" id=\"graph0\" transform=\"scale(1 1) rotate(0) translate(4 57)\">\n",
       "<title>%3</title>\n",
       "<polygon fill=\"#ffffff\" points=\"-4,4 -4,-57 301.0107,-57 301.0107,4 -4,4\" stroke=\"transparent\"/>\n",
       "<!-- _START -->\n",
       "<g class=\"node\" id=\"node1\">\n",
       "<title>_START</title>\n",
       "</g>\n",
       "<!-- 0 -->\n",
       "<g class=\"node\" id=\"node2\">\n",
       "<title>0</title>\n",
       "<path d=\"M70.674,-20C70.674,-20 43.3309,-20 43.3309,-20 40.6642,-20 37.9976,-17.3333 37.9976,-14.6667 37.9976,-14.6667 37.9976,-9.3333 37.9976,-9.3333 37.9976,-6.6667 40.6642,-4 43.3309,-4 43.3309,-4 70.674,-4 70.674,-4 73.3407,-4 76.0073,-6.6667 76.0073,-9.3333 76.0073,-9.3333 76.0073,-14.6667 76.0073,-14.6667 76.0073,-17.3333 73.3407,-20 70.674,-20\" fill=\"none\" stroke=\"#000000\"/>\n",
       "<text fill=\"#000000\" font-family=\"Courier,monospace\" font-size=\"10.00\" text-anchor=\"start\" x=\"42\" y=\"-9\">start</text>\n",
       "</g>\n",
       "<!-- _START&#45;&gt;0 -->\n",
       "<g class=\"edge\" id=\"edge1\">\n",
       "<title>_START-&gt;0</title>\n",
       "<path d=\"M1.1345,-12C4.3241,-12 18.9859,-12 32.4885,-12\" fill=\"none\" stroke=\"#000000\"/>\n",
       "<polygon fill=\"#000000\" points=\"37.7747,-12 32.7748,-14.2501 35.2747,-12 32.7747,-12.0001 32.7747,-12.0001 32.7747,-12.0001 35.2747,-12 32.7747,-9.7501 37.7747,-12 37.7747,-12\" stroke=\"#000000\"/>\n",
       "</g>\n",
       "<!-- 3 -->\n",
       "<g class=\"node\" id=\"node5\">\n",
       "<title>3</title>\n",
       "<path d=\"M131.8385,-20C131.8385,-20 127.1712,-20 127.1712,-20 124.8376,-20 122.5039,-17.6663 122.5039,-15.3327 122.5039,-15.3327 122.5039,-8.6673 122.5039,-8.6673 122.5039,-6.3337 124.8376,-4 127.1712,-4 127.1712,-4 131.8385,-4 131.8385,-4 134.1722,-4 136.5059,-6.3337 136.5059,-8.6673 136.5059,-8.6673 136.5059,-15.3327 136.5059,-15.3327 136.5059,-17.6663 134.1722,-20 131.8385,-20\" fill=\"none\" stroke=\"#000000\"/>\n",
       "<text fill=\"#000000\" font-family=\"Courier,monospace\" font-size=\"10.00\" text-anchor=\"middle\" x=\"129.5049\" y=\"-9\">1</text>\n",
       "</g>\n",
       "<!-- 0&#45;&gt;3 -->\n",
       "<g class=\"edge\" id=\"edge6\">\n",
       "<title>0-&gt;3</title>\n",
       "<path d=\"M76.0516,-12C89.0316,-12 105.8419,-12 117.1145,-12\" fill=\"none\" stroke=\"#000000\"/>\n",
       "<polygon fill=\"#000000\" points=\"122.1624,-12 117.1624,-14.2501 119.6624,-12 117.1624,-12.0001 117.1624,-12.0001 117.1624,-12.0001 119.6624,-12 117.1623,-9.7501 122.1624,-12 122.1624,-12\" stroke=\"#000000\"/>\n",
       "<text fill=\"#000000\" font-family=\"Courier,monospace\" font-size=\"9.00\" text-anchor=\"start\" x=\"96.9175\" y=\"-17.8\">ε</text>\n",
       "</g>\n",
       "<!-- 1 -->\n",
       "<g class=\"node\" id=\"node3\">\n",
       "<title>1</title>\n",
       "<path d=\"M287.6799,-20C287.6799,-20 254.3357,-20 254.3357,-20 251.6691,-20 249.0024,-17.3333 249.0024,-14.6667 249.0024,-14.6667 249.0024,-9.3333 249.0024,-9.3333 249.0024,-6.6667 251.6691,-4 254.3357,-4 254.3357,-4 287.6799,-4 287.6799,-4 290.3466,-4 293.0132,-6.6667 293.0132,-9.3333 293.0132,-9.3333 293.0132,-14.6667 293.0132,-14.6667 293.0132,-17.3333 290.3466,-20 287.6799,-20\" fill=\"none\" stroke=\"#000000\"/>\n",
       "<path d=\"M289.0137,-24C289.0137,-24 253.002,-24 253.002,-24 249.002,-24 245.002,-20 245.002,-16 245.002,-16 245.002,-8 245.002,-8 245.002,-4 249.002,0 253.002,0 253.002,0 289.0137,0 289.0137,0 293.0137,0 297.0137,-4 297.0137,-8 297.0137,-8 297.0137,-16 297.0137,-16 297.0137,-20 293.0137,-24 289.0137,-24\" fill=\"none\" stroke=\"#000000\"/>\n",
       "<text fill=\"#000000\" font-family=\"Courier,monospace\" font-size=\"10.00\" text-anchor=\"start\" x=\"253.0049\" y=\"-9\">accept</text>\n",
       "</g>\n",
       "<!-- 2 -->\n",
       "<g class=\"node\" id=\"node4\">\n",
       "<title>2</title>\n",
       "<path d=\"M193.8385,-20C193.8385,-20 189.1712,-20 189.1712,-20 186.8376,-20 184.5039,-17.6663 184.5039,-15.3327 184.5039,-15.3327 184.5039,-8.6673 184.5039,-8.6673 184.5039,-6.3337 186.8376,-4 189.1712,-4 189.1712,-4 193.8385,-4 193.8385,-4 196.1722,-4 198.5059,-6.3337 198.5059,-8.6673 198.5059,-8.6673 198.5059,-15.3327 198.5059,-15.3327 198.5059,-17.6663 196.1722,-20 193.8385,-20\" fill=\"none\" stroke=\"#000000\"/>\n",
       "<text fill=\"#000000\" font-family=\"Courier,monospace\" font-size=\"10.00\" text-anchor=\"middle\" x=\"191.5049\" y=\"-9\">2</text>\n",
       "</g>\n",
       "<!-- 2&#45;&gt;1 -->\n",
       "<g class=\"edge\" id=\"edge5\">\n",
       "<title>2-&gt;1</title>\n",
       "<path d=\"M198.5602,-12C207.8471,-12 224.7732,-12 239.9304,-12\" fill=\"none\" stroke=\"#000000\"/>\n",
       "<polygon fill=\"#000000\" points=\"244.9893,-12 239.9894,-14.2501 242.4893,-12 239.9893,-12.0001 239.9893,-12.0001 239.9893,-12.0001 242.4893,-12 239.9893,-9.7501 244.9893,-12 244.9893,-12\" stroke=\"#000000\"/>\n",
       "<text fill=\"#000000\" font-family=\"Courier,monospace\" font-size=\"9.00\" text-anchor=\"start\" x=\"219.9175\" y=\"-17.8\">ε</text>\n",
       "</g>\n",
       "<!-- 2&#45;&gt;2 -->\n",
       "<g class=\"edge\" id=\"edge4\">\n",
       "<title>2-&gt;2</title>\n",
       "<path d=\"M187.1158,-20.2534C184.5341,-28.652 185.9971,-38 191.5049,-38 195.8939,-38 197.7145,-32.0639 196.9665,-25.4025\" fill=\"none\" stroke=\"#000000\"/>\n",
       "<polygon fill=\"#000000\" points=\"195.8939,-20.2534 199.1164,-24.6895 196.4038,-22.7009 196.9137,-25.1484 196.9137,-25.1484 196.9137,-25.1484 196.4038,-22.7009 194.7109,-25.6073 195.8939,-20.2534 195.8939,-20.2534\" stroke=\"#000000\"/>\n",
       "<text fill=\"#000000\" font-family=\"Courier,monospace\" font-size=\"9.00\" text-anchor=\"start\" x=\"183.4036\" y=\"-42.3\">a|b</text>\n",
       "</g>\n",
       "<!-- 3&#45;&gt;2 -->\n",
       "<g class=\"edge\" id=\"edge3\">\n",
       "<title>3-&gt;2</title>\n",
       "<path d=\"M136.6171,-12C146.9883,-12 166.4105,-12 179.1494,-12\" fill=\"none\" stroke=\"#000000\"/>\n",
       "<polygon fill=\"#000000\" points=\"184.4756,-12 179.4757,-14.2501 181.9756,-12 179.4756,-12.0001 179.4756,-12.0001 179.4756,-12.0001 181.9756,-12 179.4756,-9.7501 184.4756,-12 184.4756,-12\" stroke=\"#000000\"/>\n",
       "<text fill=\"#000000\" font-family=\"Courier,monospace\" font-size=\"9.00\" text-anchor=\"start\" x=\"158.3044\" y=\"-16.3\">b</text>\n",
       "</g>\n",
       "<!-- 3&#45;&gt;3 -->\n",
       "<g class=\"edge\" id=\"edge2\">\n",
       "<title>3-&gt;3</title>\n",
       "<path d=\"M125.1158,-20.2534C122.5341,-28.652 123.9971,-38 129.5049,-38 133.8939,-38 135.7145,-32.0639 134.9665,-25.4025\" fill=\"none\" stroke=\"#000000\"/>\n",
       "<polygon fill=\"#000000\" points=\"133.8939,-20.2534 137.1164,-24.6895 134.4038,-22.7009 134.9137,-25.1484 134.9137,-25.1484 134.9137,-25.1484 134.4038,-22.7009 132.7109,-25.6073 133.8939,-20.2534 133.8939,-20.2534\" stroke=\"#000000\"/>\n",
       "<text fill=\"#000000\" font-family=\"Courier,monospace\" font-size=\"9.00\" text-anchor=\"start\" x=\"127.3044\" y=\"-42.3\">a</text>\n",
       "</g>\n",
       "</g>\n",
       "</svg>"
      ],
      "text/plain": [
       "<IPython.core.display.SVG object>"
      ]
     },
     "metadata": {},
     "output_type": "display_data"
    },
    {
     "data": {
      "text/html": [
       "eliminate 2"
      ],
      "text/plain": [
       "<IPython.core.display.HTML object>"
      ]
     },
     "metadata": {},
     "output_type": "display_data"
    },
    {
     "data": {
      "image/svg+xml": [
       "<svg height=\"61pt\" viewBox=\"0.00 0.00 282.01 61.00\" width=\"282pt\" xmlns=\"http://www.w3.org/2000/svg\" xmlns:xlink=\"http://www.w3.org/1999/xlink\">\n",
       "<g class=\"graph\" id=\"graph0\" transform=\"scale(1 1) rotate(0) translate(4 57)\">\n",
       "<title>%3</title>\n",
       "<polygon fill=\"#ffffff\" points=\"-4,4 -4,-57 278.0107,-57 278.0107,4 -4,4\" stroke=\"transparent\"/>\n",
       "<!-- _START -->\n",
       "<g class=\"node\" id=\"node1\">\n",
       "<title>_START</title>\n",
       "</g>\n",
       "<!-- 0 -->\n",
       "<g class=\"node\" id=\"node2\">\n",
       "<title>0</title>\n",
       "<path d=\"M70.674,-20C70.674,-20 43.3309,-20 43.3309,-20 40.6642,-20 37.9976,-17.3333 37.9976,-14.6667 37.9976,-14.6667 37.9976,-9.3333 37.9976,-9.3333 37.9976,-6.6667 40.6642,-4 43.3309,-4 43.3309,-4 70.674,-4 70.674,-4 73.3407,-4 76.0073,-6.6667 76.0073,-9.3333 76.0073,-9.3333 76.0073,-14.6667 76.0073,-14.6667 76.0073,-17.3333 73.3407,-20 70.674,-20\" fill=\"none\" stroke=\"#000000\"/>\n",
       "<text fill=\"#000000\" font-family=\"Courier,monospace\" font-size=\"10.00\" text-anchor=\"start\" x=\"42\" y=\"-9\">start</text>\n",
       "</g>\n",
       "<!-- _START&#45;&gt;0 -->\n",
       "<g class=\"edge\" id=\"edge1\">\n",
       "<title>_START-&gt;0</title>\n",
       "<path d=\"M1.1345,-12C4.3241,-12 18.9859,-12 32.4885,-12\" fill=\"none\" stroke=\"#000000\"/>\n",
       "<polygon fill=\"#000000\" points=\"37.7747,-12 32.7748,-14.2501 35.2747,-12 32.7747,-12.0001 32.7747,-12.0001 32.7747,-12.0001 35.2747,-12 32.7747,-9.7501 37.7747,-12 37.7747,-12\" stroke=\"#000000\"/>\n",
       "</g>\n",
       "<!-- 2 -->\n",
       "<g class=\"node\" id=\"node4\">\n",
       "<title>2</title>\n",
       "<path d=\"M131.8385,-20C131.8385,-20 127.1712,-20 127.1712,-20 124.8376,-20 122.5039,-17.6663 122.5039,-15.3327 122.5039,-15.3327 122.5039,-8.6673 122.5039,-8.6673 122.5039,-6.3337 124.8376,-4 127.1712,-4 127.1712,-4 131.8385,-4 131.8385,-4 134.1722,-4 136.5059,-6.3337 136.5059,-8.6673 136.5059,-8.6673 136.5059,-15.3327 136.5059,-15.3327 136.5059,-17.6663 134.1722,-20 131.8385,-20\" fill=\"none\" stroke=\"#000000\"/>\n",
       "<text fill=\"#000000\" font-family=\"Courier,monospace\" font-size=\"10.00\" text-anchor=\"middle\" x=\"129.5049\" y=\"-9\">1</text>\n",
       "</g>\n",
       "<!-- 0&#45;&gt;2 -->\n",
       "<g class=\"edge\" id=\"edge4\">\n",
       "<title>0-&gt;2</title>\n",
       "<path d=\"M76.0516,-12C89.0316,-12 105.8419,-12 117.1145,-12\" fill=\"none\" stroke=\"#000000\"/>\n",
       "<polygon fill=\"#000000\" points=\"122.1624,-12 117.1624,-14.2501 119.6624,-12 117.1624,-12.0001 117.1624,-12.0001 117.1624,-12.0001 119.6624,-12 117.1623,-9.7501 122.1624,-12 122.1624,-12\" stroke=\"#000000\"/>\n",
       "<text fill=\"#000000\" font-family=\"Courier,monospace\" font-size=\"9.00\" text-anchor=\"start\" x=\"96.9175\" y=\"-17.8\">ε</text>\n",
       "</g>\n",
       "<!-- 1 -->\n",
       "<g class=\"node\" id=\"node3\">\n",
       "<title>1</title>\n",
       "<path d=\"M264.6799,-20C264.6799,-20 231.3357,-20 231.3357,-20 228.6691,-20 226.0024,-17.3333 226.0024,-14.6667 226.0024,-14.6667 226.0024,-9.3333 226.0024,-9.3333 226.0024,-6.6667 228.6691,-4 231.3357,-4 231.3357,-4 264.6799,-4 264.6799,-4 267.3466,-4 270.0132,-6.6667 270.0132,-9.3333 270.0132,-9.3333 270.0132,-14.6667 270.0132,-14.6667 270.0132,-17.3333 267.3466,-20 264.6799,-20\" fill=\"none\" stroke=\"#000000\"/>\n",
       "<path d=\"M266.0137,-24C266.0137,-24 230.002,-24 230.002,-24 226.002,-24 222.002,-20 222.002,-16 222.002,-16 222.002,-8 222.002,-8 222.002,-4 226.002,0 230.002,0 230.002,0 266.0137,0 266.0137,0 270.0137,0 274.0137,-4 274.0137,-8 274.0137,-8 274.0137,-16 274.0137,-16 274.0137,-20 270.0137,-24 266.0137,-24\" fill=\"none\" stroke=\"#000000\"/>\n",
       "<text fill=\"#000000\" font-family=\"Courier,monospace\" font-size=\"10.00\" text-anchor=\"start\" x=\"230.0049\" y=\"-9\">accept</text>\n",
       "</g>\n",
       "<!-- 2&#45;&gt;1 -->\n",
       "<g class=\"edge\" id=\"edge3\">\n",
       "<title>2-&gt;1</title>\n",
       "<path d=\"M136.5629,-12C151.8847,-12 189.001,-12 216.2062,-12\" fill=\"none\" stroke=\"#000000\"/>\n",
       "<polygon fill=\"#000000\" points=\"221.5057,-12 216.5057,-14.2501 219.0057,-12 216.5057,-12.0001 216.5057,-12.0001 216.5057,-12.0001 219.0057,-12 216.5056,-9.7501 221.5057,-12 221.5057,-12\" stroke=\"#000000\"/>\n",
       "<text fill=\"#000000\" font-family=\"Courier,monospace\" font-size=\"9.00\" text-anchor=\"start\" x=\"158.4014\" y=\"-16.3\">b (a|b)*</text>\n",
       "</g>\n",
       "<!-- 2&#45;&gt;2 -->\n",
       "<g class=\"edge\" id=\"edge2\">\n",
       "<title>2-&gt;2</title>\n",
       "<path d=\"M125.1158,-20.2534C122.5341,-28.652 123.9971,-38 129.5049,-38 133.8939,-38 135.7145,-32.0639 134.9665,-25.4025\" fill=\"none\" stroke=\"#000000\"/>\n",
       "<polygon fill=\"#000000\" points=\"133.8939,-20.2534 137.1164,-24.6895 134.4038,-22.7009 134.9137,-25.1484 134.9137,-25.1484 134.9137,-25.1484 134.4038,-22.7009 132.7109,-25.6073 133.8939,-20.2534 133.8939,-20.2534\" stroke=\"#000000\"/>\n",
       "<text fill=\"#000000\" font-family=\"Courier,monospace\" font-size=\"9.00\" text-anchor=\"start\" x=\"127.3044\" y=\"-42.3\">a</text>\n",
       "</g>\n",
       "</g>\n",
       "</svg>"
      ],
      "text/plain": [
       "<IPython.core.display.SVG object>"
      ]
     },
     "metadata": {},
     "output_type": "display_data"
    },
    {
     "data": {
      "text/html": [
       "eliminate 1"
      ],
      "text/plain": [
       "<IPython.core.display.HTML object>"
      ]
     },
     "metadata": {},
     "output_type": "display_data"
    },
    {
     "data": {
      "image/svg+xml": [
       "<svg height=\"35pt\" viewBox=\"0.00 0.00 237.01 35.00\" width=\"237pt\" xmlns=\"http://www.w3.org/2000/svg\" xmlns:xlink=\"http://www.w3.org/1999/xlink\">\n",
       "<g class=\"graph\" id=\"graph0\" transform=\"scale(1 1) rotate(0) translate(4 31)\">\n",
       "<title>%3</title>\n",
       "<polygon fill=\"#ffffff\" points=\"-4,4 -4,-31 233.0107,-31 233.0107,4 -4,4\" stroke=\"transparent\"/>\n",
       "<!-- _START -->\n",
       "<g class=\"node\" id=\"node1\">\n",
       "<title>_START</title>\n",
       "</g>\n",
       "<!-- 0 -->\n",
       "<g class=\"node\" id=\"node2\">\n",
       "<title>0</title>\n",
       "<path d=\"M70.674,-20C70.674,-20 43.3309,-20 43.3309,-20 40.6642,-20 37.9976,-17.3333 37.9976,-14.6667 37.9976,-14.6667 37.9976,-9.3333 37.9976,-9.3333 37.9976,-6.6667 40.6642,-4 43.3309,-4 43.3309,-4 70.674,-4 70.674,-4 73.3407,-4 76.0073,-6.6667 76.0073,-9.3333 76.0073,-9.3333 76.0073,-14.6667 76.0073,-14.6667 76.0073,-17.3333 73.3407,-20 70.674,-20\" fill=\"none\" stroke=\"#000000\"/>\n",
       "<text fill=\"#000000\" font-family=\"Courier,monospace\" font-size=\"10.00\" text-anchor=\"start\" x=\"42\" y=\"-9\">start</text>\n",
       "</g>\n",
       "<!-- _START&#45;&gt;0 -->\n",
       "<g class=\"edge\" id=\"edge1\">\n",
       "<title>_START-&gt;0</title>\n",
       "<path d=\"M1.1345,-12C4.3241,-12 18.9859,-12 32.4885,-12\" fill=\"none\" stroke=\"#000000\"/>\n",
       "<polygon fill=\"#000000\" points=\"37.7747,-12 32.7748,-14.2501 35.2747,-12 32.7747,-12.0001 32.7747,-12.0001 32.7747,-12.0001 35.2747,-12 32.7747,-9.7501 37.7747,-12 37.7747,-12\" stroke=\"#000000\"/>\n",
       "</g>\n",
       "<!-- 1 -->\n",
       "<g class=\"node\" id=\"node3\">\n",
       "<title>1</title>\n",
       "<path d=\"M219.6799,-20C219.6799,-20 186.3357,-20 186.3357,-20 183.6691,-20 181.0024,-17.3333 181.0024,-14.6667 181.0024,-14.6667 181.0024,-9.3333 181.0024,-9.3333 181.0024,-6.6667 183.6691,-4 186.3357,-4 186.3357,-4 219.6799,-4 219.6799,-4 222.3466,-4 225.0132,-6.6667 225.0132,-9.3333 225.0132,-9.3333 225.0132,-14.6667 225.0132,-14.6667 225.0132,-17.3333 222.3466,-20 219.6799,-20\" fill=\"none\" stroke=\"#000000\"/>\n",
       "<path d=\"M221.0137,-24C221.0137,-24 185.002,-24 185.002,-24 181.002,-24 177.002,-20 177.002,-16 177.002,-16 177.002,-8 177.002,-8 177.002,-4 181.002,0 185.002,0 185.002,0 221.0137,0 221.0137,0 225.0137,0 229.0137,-4 229.0137,-8 229.0137,-8 229.0137,-16 229.0137,-16 229.0137,-20 225.0137,-24 221.0137,-24\" fill=\"none\" stroke=\"#000000\"/>\n",
       "<text fill=\"#000000\" font-family=\"Courier,monospace\" font-size=\"10.00\" text-anchor=\"start\" x=\"185.0049\" y=\"-9\">accept</text>\n",
       "</g>\n",
       "<!-- 0&#45;&gt;1 -->\n",
       "<g class=\"edge\" id=\"edge2\">\n",
       "<title>0-&gt;1</title>\n",
       "<path d=\"M76.0901,-12C100.3221,-12 142.4605,-12 171.4935,-12\" fill=\"none\" stroke=\"#000000\"/>\n",
       "<polygon fill=\"#000000\" points=\"176.7548,-12 171.7549,-14.2501 174.2548,-12 171.7548,-12.0001 171.7548,-12.0001 171.7548,-12.0001 174.2548,-12 171.7548,-9.7501 176.7548,-12 176.7548,-12\" stroke=\"#000000\"/>\n",
       "<text fill=\"#000000\" font-family=\"Courier,monospace\" font-size=\"9.00\" text-anchor=\"start\" x=\"97.3\" y=\"-16.3\">a* b (a|b)*</text>\n",
       "</g>\n",
       "</g>\n",
       "</svg>"
      ],
      "text/plain": [
       "<IPython.core.display.SVG object>"
      ]
     },
     "metadata": {},
     "output_type": "display_data"
    },
    {
     "data": {
      "text/html": [
       "a* b (a|b)*"
      ],
      "text/plain": [
       "<tock.regexps.RegularExpression at 0x10ae46ba8>"
      ]
     },
     "execution_count": 7,
     "metadata": {},
     "output_type": "execute_result"
    }
   ],
   "source": [
    "to_regexp(m66, display_steps=True)"
   ]
  },
  {
   "cell_type": "code",
   "execution_count": 8,
   "metadata": {
    "collapsed": false,
    "deletable": true,
    "editable": true
   },
   "outputs": [
    {
     "data": {
      "image/svg+xml": [
       "<svg height=\"89pt\" viewBox=\"0.00 0.00 198.00 89.12\" width=\"198pt\" xmlns=\"http://www.w3.org/2000/svg\" xmlns:xlink=\"http://www.w3.org/1999/xlink\">\n",
       "<g class=\"graph\" id=\"graph0\" transform=\"scale(1 1) rotate(0) translate(4 85.1242)\">\n",
       "<title>%3</title>\n",
       "<polygon fill=\"#ffffff\" points=\"-4,4 -4,-85.1242 194.0029,-85.1242 194.0029,4 -4,4\" stroke=\"transparent\"/>\n",
       "<!-- _START -->\n",
       "<g class=\"node\" id=\"node1\">\n",
       "<title>_START</title>\n",
       "</g>\n",
       "<!-- 2 -->\n",
       "<g class=\"node\" id=\"node4\">\n",
       "<title>2</title>\n",
       "<path d=\"M47.3341,-39.1242C47.3341,-39.1242 42.6668,-39.1242 42.6668,-39.1242 40.3332,-39.1242 37.9995,-36.7906 37.9995,-34.4569 37.9995,-34.4569 37.9995,-27.7915 37.9995,-27.7915 37.9995,-25.4579 40.3332,-23.1242 42.6668,-23.1242 42.6668,-23.1242 47.3341,-23.1242 47.3341,-23.1242 49.6678,-23.1242 52.0015,-25.4579 52.0015,-27.7915 52.0015,-27.7915 52.0015,-34.4569 52.0015,-34.4569 52.0015,-36.7906 49.6678,-39.1242 47.3341,-39.1242\" fill=\"none\" stroke=\"#000000\"/>\n",
       "<text fill=\"#000000\" font-family=\"Courier,monospace\" font-size=\"10.00\" text-anchor=\"middle\" x=\"45.0005\" y=\"-28.1242\">1</text>\n",
       "</g>\n",
       "<!-- _START&#45;&gt;2 -->\n",
       "<g class=\"edge\" id=\"edge1\">\n",
       "<title>_START-&gt;2</title>\n",
       "<path d=\"M1.2724,-31.1242C4.962,-31.1242 21.0921,-31.1242 32.6887,-31.1242\" fill=\"none\" stroke=\"#000000\"/>\n",
       "<polygon fill=\"#000000\" points=\"37.9431,-31.1242 32.9432,-33.3743 35.4431,-31.1243 32.9431,-31.1243 32.9431,-31.1243 32.9431,-31.1243 35.4431,-31.1243 32.9431,-28.8743 37.9431,-31.1242 37.9431,-31.1242\" stroke=\"#000000\"/>\n",
       "</g>\n",
       "<!-- 0 -->\n",
       "<g class=\"node\" id=\"node2\">\n",
       "<title>0</title>\n",
       "<path d=\"M112.3351,-68.1242C112.3351,-68.1242 107.6679,-68.1242 107.6679,-68.1242 105.3343,-68.1242 103.0007,-65.7906 103.0007,-63.457 103.0007,-63.457 103.0007,-56.7914 103.0007,-56.7914 103.0007,-54.4578 105.3343,-52.1242 107.6679,-52.1242 107.6679,-52.1242 112.3351,-52.1242 112.3351,-52.1242 114.6687,-52.1242 117.0023,-54.4578 117.0023,-56.7914 117.0023,-56.7914 117.0023,-63.457 117.0023,-63.457 117.0023,-65.7906 114.6687,-68.1242 112.3351,-68.1242\" fill=\"none\" stroke=\"#000000\"/>\n",
       "<path d=\"M113.6685,-72.1242C113.6685,-72.1242 106.3345,-72.1242 106.3345,-72.1242 102.6675,-72.1242 99.0005,-68.4572 99.0005,-64.7902 99.0005,-64.7902 99.0005,-55.4582 99.0005,-55.4582 99.0005,-51.7912 102.6675,-48.1242 106.3345,-48.1242 106.3345,-48.1242 113.6685,-48.1242 113.6685,-48.1242 117.3354,-48.1242 121.0024,-51.7912 121.0024,-55.4582 121.0024,-55.4582 121.0024,-64.7902 121.0024,-64.7902 121.0024,-68.4572 117.3354,-72.1242 113.6685,-72.1242\" fill=\"none\" stroke=\"#000000\"/>\n",
       "<text fill=\"#000000\" font-family=\"Courier,monospace\" font-size=\"10.00\" text-anchor=\"start\" x=\"107.001\" y=\"-57.1242\">3</text>\n",
       "</g>\n",
       "<!-- 1 -->\n",
       "<g class=\"node\" id=\"node3\">\n",
       "<title>1</title>\n",
       "<path d=\"M181.336,-23.1242C181.336,-23.1242 176.6688,-23.1242 176.6688,-23.1242 174.3352,-23.1242 172.0016,-20.7906 172.0016,-18.457 172.0016,-18.457 172.0016,-11.7914 172.0016,-11.7914 172.0016,-9.4578 174.3352,-7.1242 176.6688,-7.1242 176.6688,-7.1242 181.336,-7.1242 181.336,-7.1242 183.6696,-7.1242 186.0032,-9.4578 186.0032,-11.7914 186.0032,-11.7914 186.0032,-18.457 186.0032,-18.457 186.0032,-20.7906 183.6696,-23.1242 181.336,-23.1242\" fill=\"none\" stroke=\"#000000\"/>\n",
       "<path d=\"M182.6694,-27.1242C182.6694,-27.1242 175.3354,-27.1242 175.3354,-27.1242 171.6685,-27.1242 168.0015,-23.4572 168.0015,-19.7902 168.0015,-19.7902 168.0015,-10.4582 168.0015,-10.4582 168.0015,-6.7912 171.6685,-3.1242 175.3354,-3.1242 175.3354,-3.1242 182.6694,-3.1242 182.6694,-3.1242 186.3364,-3.1242 190.0034,-6.7912 190.0034,-10.4582 190.0034,-10.4582 190.0034,-19.7902 190.0034,-19.7902 190.0034,-23.4572 186.3364,-27.1242 182.6694,-27.1242\" fill=\"none\" stroke=\"#000000\"/>\n",
       "<text fill=\"#000000\" font-family=\"Courier,monospace\" font-size=\"10.00\" text-anchor=\"middle\" x=\"179.0024\" y=\"-12.1242\">2</text>\n",
       "</g>\n",
       "<!-- 0&#45;&gt;1 -->\n",
       "<g class=\"edge\" id=\"edge6\">\n",
       "<title>0-&gt;1</title>\n",
       "<path d=\"M121.0877,-52.8942C132.4878,-45.4594 150.346,-33.813 163.2187,-25.4178\" fill=\"none\" stroke=\"#000000\"/>\n",
       "<polygon fill=\"#000000\" points=\"167.7145,-22.4858 164.7555,-27.1018 165.6205,-23.8515 163.5264,-25.2171 163.5264,-25.2171 163.5264,-25.2171 165.6205,-23.8515 162.2973,-23.3325 167.7145,-22.4858 167.7145,-22.4858\" stroke=\"#000000\"/>\n",
       "<text fill=\"#000000\" font-family=\"Courier,monospace\" font-size=\"9.00\" text-anchor=\"start\" x=\"142.3015\" y=\"-44.4242\">a</text>\n",
       "</g>\n",
       "<!-- 0&#45;&gt;2 -->\n",
       "<g class=\"edge\" id=\"edge7\">\n",
       "<title>0-&gt;2</title>\n",
       "<path d=\"M98.845,-54.0003C93.5101,-51.1636 86.9938,-47.8301 81.001,-45.1242 73.2083,-41.6057 64.2479,-38.1192 57.2159,-35.5057\" fill=\"none\" stroke=\"#000000\"/>\n",
       "<polygon fill=\"#000000\" points=\"52.2657,-33.6912 57.7347,-33.2995 54.613,-34.5516 56.9603,-35.412 56.9603,-35.412 56.9603,-35.412 54.613,-34.5516 56.1859,-37.5246 52.2657,-33.6912 52.2657,-33.6912\" stroke=\"#000000\"/>\n",
       "<text fill=\"#000000\" font-family=\"Courier,monospace\" font-size=\"9.00\" text-anchor=\"start\" x=\"73.3005\" y=\"-49.4242\">b</text>\n",
       "</g>\n",
       "<!-- 1&#45;&gt;1 -->\n",
       "<g class=\"edge\" id=\"edge5\">\n",
       "<title>1-&gt;1</title>\n",
       "<path d=\"M173.3807,-27.1381C171.4176,-36.0959 173.2915,-45.1242 179.0024,-45.1242 183.6426,-45.1242 185.7497,-39.1641 185.3237,-32.1243\" fill=\"none\" stroke=\"#000000\"/>\n",
       "<polygon fill=\"#000000\" points=\"184.6241,-27.1381 187.5471,-31.777 184.9715,-29.6139 185.3189,-32.0896 185.3189,-32.0896 185.3189,-32.0896 184.9715,-29.6139 183.0908,-32.4023 184.6241,-27.1381 184.6241,-27.1381\" stroke=\"#000000\"/>\n",
       "<text fill=\"#000000\" font-family=\"Courier,monospace\" font-size=\"9.00\" text-anchor=\"start\" x=\"176.802\" y=\"-49.4242\">b</text>\n",
       "</g>\n",
       "<!-- 1&#45;&gt;2 -->\n",
       "<g class=\"edge\" id=\"edge4\">\n",
       "<title>1-&gt;2</title>\n",
       "<path d=\"M167.7494,-10.4386C152.1526,-4.5891 123.1549,3.9512 99.001,-2.1242 83.1082,-6.1217 66.7948,-15.8042 56.3182,-22.8853\" fill=\"none\" stroke=\"#000000\"/>\n",
       "<polygon fill=\"#000000\" points=\"52.2038,-25.7366 55.0318,-21.0392 54.2586,-24.3126 56.3134,-22.8885 56.3134,-22.8885 56.3134,-22.8885 54.2586,-24.3126 57.595,-24.7379 52.2038,-25.7366 52.2038,-25.7366\" stroke=\"#000000\"/>\n",
       "<text fill=\"#000000\" font-family=\"Courier,monospace\" font-size=\"9.00\" text-anchor=\"start\" x=\"107.801\" y=\"-6.4242\">a</text>\n",
       "</g>\n",
       "<!-- 2&#45;&gt;0 -->\n",
       "<g class=\"edge\" id=\"edge3\">\n",
       "<title>2-&gt;0</title>\n",
       "<path d=\"M48.5661,-39.4064C52.5113,-47.395 59.7025,-59.0061 70.001,-64.1242 77.3133,-67.7583 86.297,-67.2351 93.8968,-65.5955\" fill=\"none\" stroke=\"#000000\"/>\n",
       "<polygon fill=\"#000000\" points=\"98.8996,-64.3195 94.6109,-67.7355 96.4772,-64.9374 94.0547,-65.5553 94.0547,-65.5553 94.0547,-65.5553 96.4772,-64.9374 93.4986,-63.3751 98.8996,-64.3195 98.8996,-64.3195\" stroke=\"#000000\"/>\n",
       "<text fill=\"#000000\" font-family=\"Courier,monospace\" font-size=\"9.00\" text-anchor=\"start\" x=\"73.3005\" y=\"-70.4242\">b</text>\n",
       "</g>\n",
       "<!-- 2&#45;&gt;1 -->\n",
       "<g class=\"edge\" id=\"edge2\">\n",
       "<title>2-&gt;1</title>\n",
       "<path d=\"M52.3325,-30.1339C62.7141,-28.7407 82.2957,-26.1465 99.001,-24.1242 121.0662,-21.4531 146.5885,-18.6277 162.7586,-16.8703\" fill=\"none\" stroke=\"#000000\"/>\n",
       "<polygon fill=\"#000000\" points=\"167.8653,-16.3171 163.1368,-19.0926 165.3798,-16.5864 162.8944,-16.8557 162.8944,-16.8557 162.8944,-16.8557 165.3798,-16.5864 162.652,-14.6188 167.8653,-16.3171 167.8653,-16.3171\" stroke=\"#000000\"/>\n",
       "<text fill=\"#000000\" font-family=\"Courier,monospace\" font-size=\"9.00\" text-anchor=\"start\" x=\"107.801\" y=\"-28.4242\">a</text>\n",
       "</g>\n",
       "</g>\n",
       "</svg>"
      ],
      "text/plain": [
       "<IPython.core.display.SVG object>"
      ]
     },
     "metadata": {},
     "output_type": "display_data"
    }
   ],
   "source": [
    "m68 = read_csv('sipser-1-68.csv')\n",
    "m68"
   ]
  },
  {
   "cell_type": "code",
   "execution_count": 9,
   "metadata": {
    "collapsed": false,
    "deletable": true,
    "editable": true
   },
   "outputs": [
    {
     "data": {
      "image/svg+xml": [
       "<svg height=\"105pt\" viewBox=\"0.00 0.00 365.01 105.00\" width=\"365pt\" xmlns=\"http://www.w3.org/2000/svg\" xmlns:xlink=\"http://www.w3.org/1999/xlink\">\n",
       "<g class=\"graph\" id=\"graph0\" transform=\"scale(1 1) rotate(0) translate(4 101)\">\n",
       "<title>%3</title>\n",
       "<polygon fill=\"#ffffff\" points=\"-4,4 -4,-101 361.0127,-101 361.0127,4 -4,4\" stroke=\"transparent\"/>\n",
       "<!-- _START -->\n",
       "<g class=\"node\" id=\"node1\">\n",
       "<title>_START</title>\n",
       "</g>\n",
       "<!-- 0 -->\n",
       "<g class=\"node\" id=\"node2\">\n",
       "<title>0</title>\n",
       "<path d=\"M70.674,-55C70.674,-55 43.3309,-55 43.3309,-55 40.6642,-55 37.9976,-52.3333 37.9976,-49.6667 37.9976,-49.6667 37.9976,-44.3333 37.9976,-44.3333 37.9976,-41.6667 40.6642,-39 43.3309,-39 43.3309,-39 70.674,-39 70.674,-39 73.3407,-39 76.0073,-41.6667 76.0073,-44.3333 76.0073,-44.3333 76.0073,-49.6667 76.0073,-49.6667 76.0073,-52.3333 73.3407,-55 70.674,-55\" fill=\"none\" stroke=\"#000000\"/>\n",
       "<text fill=\"#000000\" font-family=\"Courier,monospace\" font-size=\"10.00\" text-anchor=\"start\" x=\"42\" y=\"-44\">start</text>\n",
       "</g>\n",
       "<!-- _START&#45;&gt;0 -->\n",
       "<g class=\"edge\" id=\"edge1\">\n",
       "<title>_START-&gt;0</title>\n",
       "<path d=\"M1.1345,-47C4.3241,-47 18.9859,-47 32.4885,-47\" fill=\"none\" stroke=\"#000000\"/>\n",
       "<polygon fill=\"#000000\" points=\"37.7747,-47 32.7748,-49.2501 35.2747,-47 32.7747,-47.0001 32.7747,-47.0001 32.7747,-47.0001 35.2747,-47 32.7747,-44.7501 37.7747,-47 37.7747,-47\" stroke=\"#000000\"/>\n",
       "</g>\n",
       "<!-- 4 -->\n",
       "<g class=\"node\" id=\"node6\">\n",
       "<title>4</title>\n",
       "<path d=\"M131.339,-55C131.339,-55 126.6717,-55 126.6717,-55 124.3381,-55 122.0044,-52.6663 122.0044,-50.3327 122.0044,-50.3327 122.0044,-43.6673 122.0044,-43.6673 122.0044,-41.3337 124.3381,-39 126.6717,-39 126.6717,-39 131.339,-39 131.339,-39 133.6727,-39 136.0063,-41.3337 136.0063,-43.6673 136.0063,-43.6673 136.0063,-50.3327 136.0063,-50.3327 136.0063,-52.6663 133.6727,-55 131.339,-55\" fill=\"none\" stroke=\"#000000\"/>\n",
       "<text fill=\"#000000\" font-family=\"Courier,monospace\" font-size=\"10.00\" text-anchor=\"middle\" x=\"129.0054\" y=\"-44\">1</text>\n",
       "</g>\n",
       "<!-- 0&#45;&gt;4 -->\n",
       "<g class=\"edge\" id=\"edge10\">\n",
       "<title>0-&gt;4</title>\n",
       "<path d=\"M76.2979,-47C89.0682,-47 105.442,-47 116.5258,-47\" fill=\"none\" stroke=\"#000000\"/>\n",
       "<polygon fill=\"#000000\" points=\"121.7926,-47 116.7926,-49.2501 119.2926,-47 116.7926,-47.0001 116.7926,-47.0001 116.7926,-47.0001 119.2926,-47 116.7925,-44.7501 121.7926,-47 121.7926,-47\" stroke=\"#000000\"/>\n",
       "<text fill=\"#000000\" font-family=\"Courier,monospace\" font-size=\"9.00\" text-anchor=\"start\" x=\"96.9175\" y=\"-52.8\">ε</text>\n",
       "</g>\n",
       "<!-- 1 -->\n",
       "<g class=\"node\" id=\"node3\">\n",
       "<title>1</title>\n",
       "<path d=\"M347.6818,-23C347.6818,-23 314.3377,-23 314.3377,-23 311.671,-23 309.0044,-20.3333 309.0044,-17.6667 309.0044,-17.6667 309.0044,-12.3333 309.0044,-12.3333 309.0044,-9.6667 311.671,-7 314.3377,-7 314.3377,-7 347.6818,-7 347.6818,-7 350.3485,-7 353.0152,-9.6667 353.0152,-12.3333 353.0152,-12.3333 353.0152,-17.6667 353.0152,-17.6667 353.0152,-20.3333 350.3485,-23 347.6818,-23\" fill=\"none\" stroke=\"#000000\"/>\n",
       "<path d=\"M349.0156,-27C349.0156,-27 313.0039,-27 313.0039,-27 309.0039,-27 305.0039,-23 305.0039,-19 305.0039,-19 305.0039,-11 305.0039,-11 305.0039,-7 309.0039,-3 313.0039,-3 313.0039,-3 349.0156,-3 349.0156,-3 353.0156,-3 357.0156,-7 357.0156,-11 357.0156,-11 357.0156,-19 357.0156,-19 357.0156,-23 353.0156,-27 349.0156,-27\" fill=\"none\" stroke=\"#000000\"/>\n",
       "<text fill=\"#000000\" font-family=\"Courier,monospace\" font-size=\"10.00\" text-anchor=\"start\" x=\"313.0068\" y=\"-12\">accept</text>\n",
       "</g>\n",
       "<!-- 2 -->\n",
       "<g class=\"node\" id=\"node4\">\n",
       "<title>2</title>\n",
       "<path d=\"M253.8405,-59C253.8405,-59 249.1732,-59 249.1732,-59 246.8395,-59 244.5059,-56.6663 244.5059,-54.3327 244.5059,-54.3327 244.5059,-47.6673 244.5059,-47.6673 244.5059,-45.3337 246.8395,-43 249.1732,-43 249.1732,-43 253.8405,-43 253.8405,-43 256.1742,-43 258.5078,-45.3337 258.5078,-47.6673 258.5078,-47.6673 258.5078,-54.3327 258.5078,-54.3327 258.5078,-56.6663 256.1742,-59 253.8405,-59\" fill=\"none\" stroke=\"#000000\"/>\n",
       "<text fill=\"#000000\" font-family=\"Courier,monospace\" font-size=\"10.00\" text-anchor=\"middle\" x=\"251.5068\" y=\"-48\">2</text>\n",
       "</g>\n",
       "<!-- 2&#45;&gt;1 -->\n",
       "<g class=\"edge\" id=\"edge6\">\n",
       "<title>2-&gt;1</title>\n",
       "<path d=\"M258.5622,-47.8052C267.9298,-43.5634 285.0701,-35.8021 300.3274,-28.8934\" fill=\"none\" stroke=\"#000000\"/>\n",
       "<polygon fill=\"#000000\" points=\"304.9913,-26.7815 301.3646,-30.8937 302.7139,-27.8128 300.4365,-28.844 300.4365,-28.844 300.4365,-28.844 302.7139,-27.8128 299.5083,-26.7944 304.9913,-26.7815 304.9913,-26.7815\" stroke=\"#000000\"/>\n",
       "<text fill=\"#000000\" font-family=\"Courier,monospace\" font-size=\"9.00\" text-anchor=\"start\" x=\"279.9194\" y=\"-44.8\">ε</text>\n",
       "</g>\n",
       "<!-- 2&#45;&gt;2 -->\n",
       "<g class=\"edge\" id=\"edge5\">\n",
       "<title>2-&gt;2</title>\n",
       "<path d=\"M247.1178,-59.2534C244.536,-67.652 245.999,-77 251.5068,-77 255.8959,-77 257.7164,-71.0639 256.9685,-64.4025\" fill=\"none\" stroke=\"#000000\"/>\n",
       "<polygon fill=\"#000000\" points=\"255.8959,-59.2534 259.1183,-63.6895 256.4057,-61.7009 256.9156,-64.1484 256.9156,-64.1484 256.9156,-64.1484 256.4057,-61.7009 254.7129,-64.6073 255.8959,-59.2534 255.8959,-59.2534\" stroke=\"#000000\"/>\n",
       "<text fill=\"#000000\" font-family=\"Courier,monospace\" font-size=\"9.00\" text-anchor=\"start\" x=\"249.3064\" y=\"-81.3\">b</text>\n",
       "</g>\n",
       "<!-- 2&#45;&gt;4 -->\n",
       "<g class=\"edge\" id=\"edge4\">\n",
       "<title>2-&gt;4</title>\n",
       "<path d=\"M244.4105,-50.8041C228.3248,-50.355 187.8552,-49.1977 154.0059,-48 149.8275,-47.8522 145.2571,-47.6741 141.18,-47.5095\" fill=\"none\" stroke=\"#000000\"/>\n",
       "<polygon fill=\"#000000\" points=\"136.0093,-47.2974 141.0974,-45.2543 138.5072,-47.3999 141.0051,-47.5024 141.0051,-47.5024 141.0051,-47.5024 138.5072,-47.3999 140.9129,-49.7505 136.0093,-47.2974 136.0093,-47.2974\" stroke=\"#000000\"/>\n",
       "<text fill=\"#000000\" font-family=\"Courier,monospace\" font-size=\"9.00\" text-anchor=\"start\" x=\"187.8059\" y=\"-53.3\">a</text>\n",
       "</g>\n",
       "<!-- 3 -->\n",
       "<g class=\"node\" id=\"node5\">\n",
       "<title>3</title>\n",
       "<path d=\"M192.34,-16C192.34,-16 187.6727,-16 187.6727,-16 185.339,-16 183.0054,-13.6663 183.0054,-11.3327 183.0054,-11.3327 183.0054,-4.6673 183.0054,-4.6673 183.0054,-2.3337 185.339,0 187.6727,0 187.6727,0 192.34,0 192.34,0 194.6737,0 197.0073,-2.3337 197.0073,-4.6673 197.0073,-4.6673 197.0073,-11.3327 197.0073,-11.3327 197.0073,-13.6663 194.6737,-16 192.34,-16\" fill=\"none\" stroke=\"#000000\"/>\n",
       "<text fill=\"#000000\" font-family=\"Courier,monospace\" font-size=\"10.00\" text-anchor=\"middle\" x=\"190.0063\" y=\"-5\">3</text>\n",
       "</g>\n",
       "<!-- 3&#45;&gt;1 -->\n",
       "<g class=\"edge\" id=\"edge9\">\n",
       "<title>3-&gt;1</title>\n",
       "<path d=\"M197.1926,-8.3568C215.7841,-9.2797 266.3388,-11.7895 299.7115,-13.4462\" fill=\"none\" stroke=\"#000000\"/>\n",
       "<polygon fill=\"#000000\" points=\"304.9125,-13.7044 299.8071,-15.7036 302.4156,-13.5804 299.9187,-13.4564 299.9187,-13.4564 299.9187,-13.4564 302.4156,-13.5804 300.0303,-11.2092 304.9125,-13.7044 304.9125,-13.7044\" stroke=\"#000000\"/>\n",
       "<text fill=\"#000000\" font-family=\"Courier,monospace\" font-size=\"9.00\" text-anchor=\"start\" x=\"249.4194\" y=\"-17.8\">ε</text>\n",
       "</g>\n",
       "<!-- 3&#45;&gt;2 -->\n",
       "<g class=\"edge\" id=\"edge7\">\n",
       "<title>3-&gt;2</title>\n",
       "<path d=\"M197.1896,-12.9643C204.4641,-17.9973 216.0334,-26.0172 226.0068,-33 230.6678,-36.2634 235.7952,-39.8779 240.2222,-43.0065\" fill=\"none\" stroke=\"#000000\"/>\n",
       "<polygon fill=\"#000000\" points=\"244.3726,-45.9421 238.9912,-44.8917 242.3315,-44.4984 240.2905,-43.0547 240.2905,-43.0547 240.2905,-43.0547 242.3315,-44.4984 241.5898,-41.2178 244.3726,-45.9421 244.3726,-45.9421\" stroke=\"#000000\"/>\n",
       "<text fill=\"#000000\" font-family=\"Courier,monospace\" font-size=\"9.00\" text-anchor=\"start\" x=\"218.3064\" y=\"-37.3\">a</text>\n",
       "</g>\n",
       "<!-- 3&#45;&gt;4 -->\n",
       "<g class=\"edge\" id=\"edge8\">\n",
       "<title>3-&gt;4</title>\n",
       "<path d=\"M182.8642,-5.1466C175.2073,-2.5775 162.9476,.0834 154.0059,-5 143.201,-11.1426 136.5761,-24.0049 132.8851,-33.8869\" fill=\"none\" stroke=\"#000000\"/>\n",
       "<polygon fill=\"#000000\" points=\"131.2157,-38.7315 130.7175,-33.2713 132.0302,-36.3679 132.8447,-34.0043 132.8447,-34.0043 132.8447,-34.0043 132.0302,-36.3679 134.972,-34.7373 131.2157,-38.7315 131.2157,-38.7315\" stroke=\"#000000\"/>\n",
       "<text fill=\"#000000\" font-family=\"Courier,monospace\" font-size=\"9.00\" text-anchor=\"start\" x=\"157.3054\" y=\"-9.3\">b</text>\n",
       "</g>\n",
       "<!-- 4&#45;&gt;2 -->\n",
       "<g class=\"edge\" id=\"edge2\">\n",
       "<title>4-&gt;2</title>\n",
       "<path d=\"M133.6774,-55.0056C138.0477,-61.7327 145.2126,-71.0232 154.0059,-76 165.3883,-82.4422 169.9744,-79.8848 183.0059,-81 202.1761,-82.6405 208.88,-84.7671 226.0068,-76 232.043,-72.9102 237.576,-67.8971 241.934,-63.1682\" fill=\"none\" stroke=\"#000000\"/>\n",
       "<polygon fill=\"#000000\" points=\"245.3037,-59.3112 243.7084,-64.557 243.6588,-61.1939 242.014,-63.0766 242.014,-63.0766 242.014,-63.0766 243.6588,-61.1939 240.3195,-61.5963 245.3037,-59.3112 245.3037,-59.3112\" stroke=\"#000000\"/>\n",
       "<text fill=\"#000000\" font-family=\"Courier,monospace\" font-size=\"9.00\" text-anchor=\"start\" x=\"187.8059\" y=\"-86.3\">a</text>\n",
       "</g>\n",
       "<!-- 4&#45;&gt;3 -->\n",
       "<g class=\"edge\" id=\"edge3\">\n",
       "<title>4-&gt;3</title>\n",
       "<path d=\"M136.4853,-42.2178C146.9334,-35.538 165.9978,-23.3495 178.3266,-15.4672\" fill=\"none\" stroke=\"#000000\"/>\n",
       "<polygon fill=\"#000000\" points=\"182.8444,-12.5789 179.8437,-17.1679 180.7381,-13.9255 178.6318,-15.2722 178.6318,-15.2722 178.6318,-15.2722 180.7381,-13.9255 177.4198,-13.3765 182.8444,-12.5789 182.8444,-12.5789\" stroke=\"#000000\"/>\n",
       "<text fill=\"#000000\" font-family=\"Courier,monospace\" font-size=\"9.00\" text-anchor=\"start\" x=\"157.3054\" y=\"-34.3\">b</text>\n",
       "</g>\n",
       "</g>\n",
       "</svg>"
      ],
      "text/plain": [
       "<IPython.core.display.SVG object>"
      ]
     },
     "metadata": {},
     "output_type": "display_data"
    },
    {
     "data": {
      "text/html": [
       "eliminate 3"
      ],
      "text/plain": [
       "<IPython.core.display.HTML object>"
      ]
     },
     "metadata": {},
     "output_type": "display_data"
    },
    {
     "data": {
      "image/svg+xml": [
       "<svg height=\"86pt\" viewBox=\"0.00 0.00 327.01 86.00\" width=\"327pt\" xmlns=\"http://www.w3.org/2000/svg\" xmlns:xlink=\"http://www.w3.org/1999/xlink\">\n",
       "<g class=\"graph\" id=\"graph0\" transform=\"scale(1 1) rotate(0) translate(4 82)\">\n",
       "<title>%3</title>\n",
       "<polygon fill=\"#ffffff\" points=\"-4,4 -4,-82 323.0107,-82 323.0107,4 -4,4\" stroke=\"transparent\"/>\n",
       "<!-- _START -->\n",
       "<g class=\"node\" id=\"node1\">\n",
       "<title>_START</title>\n",
       "</g>\n",
       "<!-- 0 -->\n",
       "<g class=\"node\" id=\"node2\">\n",
       "<title>0</title>\n",
       "<path d=\"M70.674,-37C70.674,-37 43.3309,-37 43.3309,-37 40.6642,-37 37.9976,-34.3333 37.9976,-31.6667 37.9976,-31.6667 37.9976,-26.3333 37.9976,-26.3333 37.9976,-23.6667 40.6642,-21 43.3309,-21 43.3309,-21 70.674,-21 70.674,-21 73.3407,-21 76.0073,-23.6667 76.0073,-26.3333 76.0073,-26.3333 76.0073,-31.6667 76.0073,-31.6667 76.0073,-34.3333 73.3407,-37 70.674,-37\" fill=\"none\" stroke=\"#000000\"/>\n",
       "<text fill=\"#000000\" font-family=\"Courier,monospace\" font-size=\"10.00\" text-anchor=\"start\" x=\"42\" y=\"-26\">start</text>\n",
       "</g>\n",
       "<!-- _START&#45;&gt;0 -->\n",
       "<g class=\"edge\" id=\"edge1\">\n",
       "<title>_START-&gt;0</title>\n",
       "<path d=\"M1.1345,-29C4.3241,-29 18.9859,-29 32.4885,-29\" fill=\"none\" stroke=\"#000000\"/>\n",
       "<polygon fill=\"#000000\" points=\"37.7747,-29 32.7748,-31.2501 35.2747,-29 32.7747,-29.0001 32.7747,-29.0001 32.7747,-29.0001 35.2747,-29 32.7747,-26.7501 37.7747,-29 37.7747,-29\" stroke=\"#000000\"/>\n",
       "</g>\n",
       "<!-- 3 -->\n",
       "<g class=\"node\" id=\"node5\">\n",
       "<title>3</title>\n",
       "<path d=\"M131.8385,-37C131.8385,-37 127.1712,-37 127.1712,-37 124.8376,-37 122.5039,-34.6663 122.5039,-32.3327 122.5039,-32.3327 122.5039,-25.6673 122.5039,-25.6673 122.5039,-23.3337 124.8376,-21 127.1712,-21 127.1712,-21 131.8385,-21 131.8385,-21 134.1722,-21 136.5059,-23.3337 136.5059,-25.6673 136.5059,-25.6673 136.5059,-32.3327 136.5059,-32.3327 136.5059,-34.6663 134.1722,-37 131.8385,-37\" fill=\"none\" stroke=\"#000000\"/>\n",
       "<text fill=\"#000000\" font-family=\"Courier,monospace\" font-size=\"10.00\" text-anchor=\"middle\" x=\"129.5049\" y=\"-26\">1</text>\n",
       "</g>\n",
       "<!-- 0&#45;&gt;3 -->\n",
       "<g class=\"edge\" id=\"edge8\">\n",
       "<title>0-&gt;3</title>\n",
       "<path d=\"M76.0516,-29C89.0316,-29 105.8419,-29 117.1145,-29\" fill=\"none\" stroke=\"#000000\"/>\n",
       "<polygon fill=\"#000000\" points=\"122.1624,-29 117.1624,-31.2501 119.6624,-29 117.1624,-29.0001 117.1624,-29.0001 117.1624,-29.0001 119.6624,-29 117.1623,-26.7501 122.1624,-29 122.1624,-29\" stroke=\"#000000\"/>\n",
       "<text fill=\"#000000\" font-family=\"Courier,monospace\" font-size=\"9.00\" text-anchor=\"start\" x=\"96.9175\" y=\"-34.8\">ε</text>\n",
       "</g>\n",
       "<!-- 1 -->\n",
       "<g class=\"node\" id=\"node3\">\n",
       "<title>1</title>\n",
       "<path d=\"M309.6799,-20C309.6799,-20 276.3357,-20 276.3357,-20 273.6691,-20 271.0024,-17.3333 271.0024,-14.6667 271.0024,-14.6667 271.0024,-9.3333 271.0024,-9.3333 271.0024,-6.6667 273.6691,-4 276.3357,-4 276.3357,-4 309.6799,-4 309.6799,-4 312.3466,-4 315.0132,-6.6667 315.0132,-9.3333 315.0132,-9.3333 315.0132,-14.6667 315.0132,-14.6667 315.0132,-17.3333 312.3466,-20 309.6799,-20\" fill=\"none\" stroke=\"#000000\"/>\n",
       "<path d=\"M311.0137,-24C311.0137,-24 275.002,-24 275.002,-24 271.002,-24 267.002,-20 267.002,-16 267.002,-16 267.002,-8 267.002,-8 267.002,-4 271.002,0 275.002,0 275.002,0 311.0137,0 311.0137,0 315.0137,0 319.0137,-4 319.0137,-8 319.0137,-8 319.0137,-16 319.0137,-16 319.0137,-20 315.0137,-24 311.0137,-24\" fill=\"none\" stroke=\"#000000\"/>\n",
       "<text fill=\"#000000\" font-family=\"Courier,monospace\" font-size=\"10.00\" text-anchor=\"start\" x=\"275.0049\" y=\"-9\">accept</text>\n",
       "</g>\n",
       "<!-- 2 -->\n",
       "<g class=\"node\" id=\"node4\">\n",
       "<title>2</title>\n",
       "<path d=\"M215.8385,-45C215.8385,-45 211.1712,-45 211.1712,-45 208.8376,-45 206.5039,-42.6663 206.5039,-40.3327 206.5039,-40.3327 206.5039,-33.6673 206.5039,-33.6673 206.5039,-31.3337 208.8376,-29 211.1712,-29 211.1712,-29 215.8385,-29 215.8385,-29 218.1722,-29 220.5059,-31.3337 220.5059,-33.6673 220.5059,-33.6673 220.5059,-40.3327 220.5059,-40.3327 220.5059,-42.6663 218.1722,-45 215.8385,-45\" fill=\"none\" stroke=\"#000000\"/>\n",
       "<text fill=\"#000000\" font-family=\"Courier,monospace\" font-size=\"10.00\" text-anchor=\"middle\" x=\"213.5049\" y=\"-34\">2</text>\n",
       "</g>\n",
       "<!-- 2&#45;&gt;1 -->\n",
       "<g class=\"edge\" id=\"edge7\">\n",
       "<title>2-&gt;1</title>\n",
       "<path d=\"M220.5602,-34.7814C229.8471,-31.8611 246.7732,-26.5387 261.9304,-21.7724\" fill=\"none\" stroke=\"#000000\"/>\n",
       "<polygon fill=\"#000000\" points=\"266.9893,-20.1816 262.8946,-23.8279 264.6045,-20.9316 262.2196,-21.6815 262.2196,-21.6815 262.2196,-21.6815 264.6045,-20.9316 261.5446,-19.5352 266.9893,-20.1816 266.9893,-20.1816\" stroke=\"#000000\"/>\n",
       "<text fill=\"#000000\" font-family=\"Courier,monospace\" font-size=\"9.00\" text-anchor=\"start\" x=\"241.9175\" y=\"-33.8\">ε</text>\n",
       "</g>\n",
       "<!-- 2&#45;&gt;2 -->\n",
       "<g class=\"edge\" id=\"edge6\">\n",
       "<title>2-&gt;2</title>\n",
       "<path d=\"M209.1158,-45.2534C206.5341,-53.652 207.9971,-63 213.5049,-63 217.8939,-63 219.7145,-57.0639 218.9665,-50.4025\" fill=\"none\" stroke=\"#000000\"/>\n",
       "<polygon fill=\"#000000\" points=\"217.8939,-45.2534 221.1164,-49.6895 218.4038,-47.7009 218.9137,-50.1484 218.9137,-50.1484 218.9137,-50.1484 218.4038,-47.7009 216.7109,-50.6073 217.8939,-45.2534 217.8939,-45.2534\" stroke=\"#000000\"/>\n",
       "<text fill=\"#000000\" font-family=\"Courier,monospace\" font-size=\"9.00\" text-anchor=\"start\" x=\"211.3044\" y=\"-67.3\">b</text>\n",
       "</g>\n",
       "<!-- 2&#45;&gt;3 -->\n",
       "<g class=\"edge\" id=\"edge5\">\n",
       "<title>2-&gt;3</title>\n",
       "<path d=\"M206.1817,-32.889C201.222,-30.3476 194.4265,-27.326 188.0049,-26 172.286,-22.7542 153.7136,-24.6509 141.7808,-26.5829\" fill=\"none\" stroke=\"#000000\"/>\n",
       "<polygon fill=\"#000000\" points=\"136.7995,-27.4547 141.3367,-24.3763 139.2621,-27.0236 141.7246,-26.5926 141.7246,-26.5926 141.7246,-26.5926 139.2621,-27.0236 142.1126,-28.8089 136.7995,-27.4547 136.7995,-27.4547\" stroke=\"#000000\"/>\n",
       "<text fill=\"#000000\" font-family=\"Courier,monospace\" font-size=\"9.00\" text-anchor=\"start\" x=\"169.3044\" y=\"-30.3\">a</text>\n",
       "</g>\n",
       "<!-- 3&#45;&gt;1 -->\n",
       "<g class=\"edge\" id=\"edge4\">\n",
       "<title>3-&gt;1</title>\n",
       "<path d=\"M136.6149,-26.3763C141.7109,-24.5239 148.7509,-22.0218 155.0049,-20 177.4861,-12.7324 182.6194,-8.3677 206.0049,-5 212.6035,-4.0497 214.346,-4.6771 221.0049,-5 234.2866,-5.6441 248.898,-6.9527 261.4675,-8.2661\" fill=\"none\" stroke=\"#000000\"/>\n",
       "<polygon fill=\"#000000\" points=\"266.7196,-8.8273 261.5088,-10.5332 264.2337,-8.5616 261.7479,-8.2959 261.7479,-8.2959 261.7479,-8.2959 264.2337,-8.5616 261.987,-6.0587 266.7196,-8.8273 266.7196,-8.8273\" stroke=\"#000000\"/>\n",
       "<text fill=\"#000000\" font-family=\"Courier,monospace\" font-size=\"9.00\" text-anchor=\"start\" x=\"211.3044\" y=\"-9.3\">b</text>\n",
       "</g>\n",
       "<!-- 3&#45;&gt;2 -->\n",
       "<g class=\"edge\" id=\"edge2\">\n",
       "<title>3-&gt;2</title>\n",
       "<path d=\"M136.5585,-34.9553C141.4043,-38.6417 148.1742,-43.0345 155.0049,-45 170.5526,-49.4738 189.1649,-45.3906 201.1534,-41.6009\" fill=\"none\" stroke=\"#000000\"/>\n",
       "<polygon fill=\"#000000\" points=\"206.1608,-39.9121 202.142,-43.6421 203.7919,-40.7111 201.423,-41.51 201.423,-41.51 201.423,-41.51 203.7919,-40.7111 200.7039,-39.378 206.1608,-39.9121 206.1608,-39.9121\" stroke=\"#000000\"/>\n",
       "<text fill=\"#000000\" font-family=\"Courier,monospace\" font-size=\"9.00\" text-anchor=\"start\" x=\"158.5027\" y=\"-50.3\">a|b a</text>\n",
       "</g>\n",
       "<!-- 3&#45;&gt;3 -->\n",
       "<g class=\"edge\" id=\"edge3\">\n",
       "<title>3-&gt;3</title>\n",
       "<path d=\"M125.1158,-37.2534C122.5341,-45.652 123.9971,-55 129.5049,-55 133.8939,-55 135.7145,-49.0639 134.9665,-42.4025\" fill=\"none\" stroke=\"#000000\"/>\n",
       "<polygon fill=\"#000000\" points=\"133.8939,-37.2534 137.1164,-41.6895 134.4038,-39.7009 134.9137,-42.1484 134.9137,-42.1484 134.9137,-42.1484 134.4038,-39.7009 132.7109,-42.6073 133.8939,-37.2534 133.8939,-37.2534\" stroke=\"#000000\"/>\n",
       "<text fill=\"#000000\" font-family=\"Courier,monospace\" font-size=\"9.00\" text-anchor=\"start\" x=\"121.4036\" y=\"-59.3\">b b</text>\n",
       "</g>\n",
       "</g>\n",
       "</svg>"
      ],
      "text/plain": [
       "<IPython.core.display.SVG object>"
      ]
     },
     "metadata": {},
     "output_type": "display_data"
    },
    {
     "data": {
      "text/html": [
       "eliminate 2"
      ],
      "text/plain": [
       "<IPython.core.display.HTML object>"
      ]
     },
     "metadata": {},
     "output_type": "display_data"
    },
    {
     "data": {
      "image/svg+xml": [
       "<svg height=\"61pt\" viewBox=\"0.00 0.00 303.01 61.00\" width=\"303pt\" xmlns=\"http://www.w3.org/2000/svg\" xmlns:xlink=\"http://www.w3.org/1999/xlink\">\n",
       "<g class=\"graph\" id=\"graph0\" transform=\"scale(1 1) rotate(0) translate(4 57)\">\n",
       "<title>%3</title>\n",
       "<polygon fill=\"#ffffff\" points=\"-4,4 -4,-57 299.0107,-57 299.0107,4 -4,4\" stroke=\"transparent\"/>\n",
       "<!-- _START -->\n",
       "<g class=\"node\" id=\"node1\">\n",
       "<title>_START</title>\n",
       "</g>\n",
       "<!-- 0 -->\n",
       "<g class=\"node\" id=\"node2\">\n",
       "<title>0</title>\n",
       "<path d=\"M70.674,-20C70.674,-20 43.3309,-20 43.3309,-20 40.6642,-20 37.9976,-17.3333 37.9976,-14.6667 37.9976,-14.6667 37.9976,-9.3333 37.9976,-9.3333 37.9976,-6.6667 40.6642,-4 43.3309,-4 43.3309,-4 70.674,-4 70.674,-4 73.3407,-4 76.0073,-6.6667 76.0073,-9.3333 76.0073,-9.3333 76.0073,-14.6667 76.0073,-14.6667 76.0073,-17.3333 73.3407,-20 70.674,-20\" fill=\"none\" stroke=\"#000000\"/>\n",
       "<text fill=\"#000000\" font-family=\"Courier,monospace\" font-size=\"10.00\" text-anchor=\"start\" x=\"42\" y=\"-9\">start</text>\n",
       "</g>\n",
       "<!-- _START&#45;&gt;0 -->\n",
       "<g class=\"edge\" id=\"edge1\">\n",
       "<title>_START-&gt;0</title>\n",
       "<path d=\"M1.1345,-12C4.3241,-12 18.9859,-12 32.4885,-12\" fill=\"none\" stroke=\"#000000\"/>\n",
       "<polygon fill=\"#000000\" points=\"37.7747,-12 32.7748,-14.2501 35.2747,-12 32.7747,-12.0001 32.7747,-12.0001 32.7747,-12.0001 35.2747,-12 32.7747,-9.7501 37.7747,-12 37.7747,-12\" stroke=\"#000000\"/>\n",
       "</g>\n",
       "<!-- 2 -->\n",
       "<g class=\"node\" id=\"node4\">\n",
       "<title>2</title>\n",
       "<path d=\"M131.8385,-20C131.8385,-20 127.1712,-20 127.1712,-20 124.8376,-20 122.5039,-17.6663 122.5039,-15.3327 122.5039,-15.3327 122.5039,-8.6673 122.5039,-8.6673 122.5039,-6.3337 124.8376,-4 127.1712,-4 127.1712,-4 131.8385,-4 131.8385,-4 134.1722,-4 136.5059,-6.3337 136.5059,-8.6673 136.5059,-8.6673 136.5059,-15.3327 136.5059,-15.3327 136.5059,-17.6663 134.1722,-20 131.8385,-20\" fill=\"none\" stroke=\"#000000\"/>\n",
       "<text fill=\"#000000\" font-family=\"Courier,monospace\" font-size=\"10.00\" text-anchor=\"middle\" x=\"129.5049\" y=\"-9\">1</text>\n",
       "</g>\n",
       "<!-- 0&#45;&gt;2 -->\n",
       "<g class=\"edge\" id=\"edge4\">\n",
       "<title>0-&gt;2</title>\n",
       "<path d=\"M76.0516,-12C89.0316,-12 105.8419,-12 117.1145,-12\" fill=\"none\" stroke=\"#000000\"/>\n",
       "<polygon fill=\"#000000\" points=\"122.1624,-12 117.1624,-14.2501 119.6624,-12 117.1624,-12.0001 117.1624,-12.0001 117.1624,-12.0001 119.6624,-12 117.1623,-9.7501 122.1624,-12 122.1624,-12\" stroke=\"#000000\"/>\n",
       "<text fill=\"#000000\" font-family=\"Courier,monospace\" font-size=\"9.00\" text-anchor=\"start\" x=\"96.9175\" y=\"-17.8\">ε</text>\n",
       "</g>\n",
       "<!-- 1 -->\n",
       "<g class=\"node\" id=\"node3\">\n",
       "<title>1</title>\n",
       "<path d=\"M285.6799,-20C285.6799,-20 252.3357,-20 252.3357,-20 249.6691,-20 247.0024,-17.3333 247.0024,-14.6667 247.0024,-14.6667 247.0024,-9.3333 247.0024,-9.3333 247.0024,-6.6667 249.6691,-4 252.3357,-4 252.3357,-4 285.6799,-4 285.6799,-4 288.3466,-4 291.0132,-6.6667 291.0132,-9.3333 291.0132,-9.3333 291.0132,-14.6667 291.0132,-14.6667 291.0132,-17.3333 288.3466,-20 285.6799,-20\" fill=\"none\" stroke=\"#000000\"/>\n",
       "<path d=\"M287.0137,-24C287.0137,-24 251.002,-24 251.002,-24 247.002,-24 243.002,-20 243.002,-16 243.002,-16 243.002,-8 243.002,-8 243.002,-4 247.002,0 251.002,0 251.002,0 287.0137,0 287.0137,0 291.0137,0 295.0137,-4 295.0137,-8 295.0137,-8 295.0137,-16 295.0137,-16 295.0137,-20 291.0137,-24 287.0137,-24\" fill=\"none\" stroke=\"#000000\"/>\n",
       "<text fill=\"#000000\" font-family=\"Courier,monospace\" font-size=\"10.00\" text-anchor=\"start\" x=\"251.0049\" y=\"-9\">accept</text>\n",
       "</g>\n",
       "<!-- 2&#45;&gt;1 -->\n",
       "<g class=\"edge\" id=\"edge3\">\n",
       "<title>2-&gt;1</title>\n",
       "<path d=\"M136.6146,-12C154.9556,-12 204.7387,-12 237.7583,-12\" fill=\"none\" stroke=\"#000000\"/>\n",
       "<polygon fill=\"#000000\" points=\"242.9065,-12 237.9065,-14.2501 240.4065,-12 237.9065,-12.0001 237.9065,-12.0001 237.9065,-12.0001 240.4065,-12 237.9064,-9.7501 242.9065,-12 242.9065,-12\" stroke=\"#000000\"/>\n",
       "<text fill=\"#000000\" font-family=\"Courier,monospace\" font-size=\"9.00\" text-anchor=\"start\" x=\"157.5996\" y=\"-16.3\">b|(a|b a) b*</text>\n",
       "</g>\n",
       "<!-- 2&#45;&gt;2 -->\n",
       "<g class=\"edge\" id=\"edge2\">\n",
       "<title>2-&gt;2</title>\n",
       "<path d=\"M125.1158,-20.2534C122.5341,-28.652 123.9971,-38 129.5049,-38 133.8939,-38 135.7145,-32.0639 134.9665,-25.4025\" fill=\"none\" stroke=\"#000000\"/>\n",
       "<polygon fill=\"#000000\" points=\"133.8939,-20.2534 137.1164,-24.6895 134.4038,-22.7009 134.9137,-25.1484 134.9137,-25.1484 134.9137,-25.1484 134.4038,-22.7009 132.7109,-25.6073 133.8939,-20.2534 133.8939,-20.2534\" stroke=\"#000000\"/>\n",
       "<text fill=\"#000000\" font-family=\"Courier,monospace\" font-size=\"9.00\" text-anchor=\"start\" x=\"86.2979\" y=\"-42.3\">b b|(a|b a) b* a</text>\n",
       "</g>\n",
       "</g>\n",
       "</svg>"
      ],
      "text/plain": [
       "<IPython.core.display.SVG object>"
      ]
     },
     "metadata": {},
     "output_type": "display_data"
    },
    {
     "data": {
      "text/html": [
       "eliminate 1"
      ],
      "text/plain": [
       "<IPython.core.display.HTML object>"
      ]
     },
     "metadata": {},
     "output_type": "display_data"
    },
    {
     "data": {
      "image/svg+xml": [
       "<svg height=\"35pt\" viewBox=\"0.00 0.00 361.01 35.00\" width=\"361pt\" xmlns=\"http://www.w3.org/2000/svg\" xmlns:xlink=\"http://www.w3.org/1999/xlink\">\n",
       "<g class=\"graph\" id=\"graph0\" transform=\"scale(1 1) rotate(0) translate(4 31)\">\n",
       "<title>%3</title>\n",
       "<polygon fill=\"#ffffff\" points=\"-4,4 -4,-31 357.0107,-31 357.0107,4 -4,4\" stroke=\"transparent\"/>\n",
       "<!-- _START -->\n",
       "<g class=\"node\" id=\"node1\">\n",
       "<title>_START</title>\n",
       "</g>\n",
       "<!-- 0 -->\n",
       "<g class=\"node\" id=\"node2\">\n",
       "<title>0</title>\n",
       "<path d=\"M70.674,-20C70.674,-20 43.3309,-20 43.3309,-20 40.6642,-20 37.9976,-17.3333 37.9976,-14.6667 37.9976,-14.6667 37.9976,-9.3333 37.9976,-9.3333 37.9976,-6.6667 40.6642,-4 43.3309,-4 43.3309,-4 70.674,-4 70.674,-4 73.3407,-4 76.0073,-6.6667 76.0073,-9.3333 76.0073,-9.3333 76.0073,-14.6667 76.0073,-14.6667 76.0073,-17.3333 73.3407,-20 70.674,-20\" fill=\"none\" stroke=\"#000000\"/>\n",
       "<text fill=\"#000000\" font-family=\"Courier,monospace\" font-size=\"10.00\" text-anchor=\"start\" x=\"42\" y=\"-9\">start</text>\n",
       "</g>\n",
       "<!-- _START&#45;&gt;0 -->\n",
       "<g class=\"edge\" id=\"edge1\">\n",
       "<title>_START-&gt;0</title>\n",
       "<path d=\"M1.1345,-12C4.3241,-12 18.9859,-12 32.4885,-12\" fill=\"none\" stroke=\"#000000\"/>\n",
       "<polygon fill=\"#000000\" points=\"37.7747,-12 32.7748,-14.2501 35.2747,-12 32.7747,-12.0001 32.7747,-12.0001 32.7747,-12.0001 35.2747,-12 32.7747,-9.7501 37.7747,-12 37.7747,-12\" stroke=\"#000000\"/>\n",
       "</g>\n",
       "<!-- 1 -->\n",
       "<g class=\"node\" id=\"node3\">\n",
       "<title>1</title>\n",
       "<path d=\"M343.6799,-20C343.6799,-20 310.3357,-20 310.3357,-20 307.6691,-20 305.0024,-17.3333 305.0024,-14.6667 305.0024,-14.6667 305.0024,-9.3333 305.0024,-9.3333 305.0024,-6.6667 307.6691,-4 310.3357,-4 310.3357,-4 343.6799,-4 343.6799,-4 346.3466,-4 349.0132,-6.6667 349.0132,-9.3333 349.0132,-9.3333 349.0132,-14.6667 349.0132,-14.6667 349.0132,-17.3333 346.3466,-20 343.6799,-20\" fill=\"none\" stroke=\"#000000\"/>\n",
       "<path d=\"M345.0137,-24C345.0137,-24 309.002,-24 309.002,-24 305.002,-24 301.002,-20 301.002,-16 301.002,-16 301.002,-8 301.002,-8 301.002,-4 305.002,0 309.002,0 309.002,0 345.0137,0 345.0137,0 349.0137,0 353.0137,-4 353.0137,-8 353.0137,-8 353.0137,-16 353.0137,-16 353.0137,-20 349.0137,-24 345.0137,-24\" fill=\"none\" stroke=\"#000000\"/>\n",
       "<text fill=\"#000000\" font-family=\"Courier,monospace\" font-size=\"10.00\" text-anchor=\"start\" x=\"309.0049\" y=\"-9\">accept</text>\n",
       "</g>\n",
       "<!-- 0&#45;&gt;1 -->\n",
       "<g class=\"edge\" id=\"edge2\">\n",
       "<title>0-&gt;1</title>\n",
       "<path d=\"M76.4206,-12C122.5733,-12 239.1766,-12 295.5418,-12\" fill=\"none\" stroke=\"#000000\"/>\n",
       "<polygon fill=\"#000000\" points=\"300.8041,-12 295.8041,-14.2501 298.3041,-12 295.8041,-12.0001 295.8041,-12.0001 295.8041,-12.0001 298.3041,-12 295.804,-9.7501 300.8041,-12 300.8041,-12\" stroke=\"#000000\"/>\n",
       "<text fill=\"#000000\" font-family=\"Courier,monospace\" font-size=\"9.00\" text-anchor=\"start\" x=\"97.1899\" y=\"-16.3\">(b b|(a|b a) b* a)* (b|(a|b a) b*)</text>\n",
       "</g>\n",
       "</g>\n",
       "</svg>"
      ],
      "text/plain": [
       "<IPython.core.display.SVG object>"
      ]
     },
     "metadata": {},
     "output_type": "display_data"
    },
    {
     "data": {
      "text/html": [
       "(b b|(a|b a) b* a)* (b|(a|b a) b*)"
      ],
      "text/plain": [
       "<tock.regexps.RegularExpression at 0x10af0eba8>"
      ]
     },
     "execution_count": 9,
     "metadata": {},
     "output_type": "execute_result"
    }
   ],
   "source": [
    "to_regexp(m68, display_steps=True)"
   ]
  },
  {
   "cell_type": "markdown",
   "metadata": {
    "deletable": true,
    "editable": true
   },
   "source": [
    "(The answer is different from the book's because the elimination order was different.)"
   ]
  }
 ],
 "metadata": {
  "kernelspec": {
   "display_name": "Python 3",
   "language": "python",
   "name": "python3"
  },
  "language_info": {
   "codemirror_mode": {
    "name": "ipython",
    "version": 3
   },
   "file_extension": ".py",
   "mimetype": "text/x-python",
   "name": "python",
   "nbconvert_exporter": "python",
   "pygments_lexer": "ipython3",
   "version": "3.6.0"
  }
 },
 "nbformat": 4,
 "nbformat_minor": 0
}
