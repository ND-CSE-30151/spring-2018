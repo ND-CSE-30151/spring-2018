{
 "cells": [
  {
   "cell_type": "markdown",
   "metadata": {
    "deletable": true,
    "editable": true
   },
   "source": [
    "# Week 1: 2018/01/17-19"
   ]
  },
  {
   "cell_type": "markdown",
   "metadata": {
    "deletable": true,
    "editable": true
   },
   "source": [
    "# About these notes\n",
    "\n",
    "These notes are _not_ a replacement for the (excellent) textbook. They are partly my commentary on the textbook and partly supplementary material that isn't found in the book. Please use them in conjunction with the textbook."
   ]
  },
  {
   "cell_type": "markdown",
   "metadata": {
    "deletable": true,
    "editable": true
   },
   "source": [
    "# Tuesday reading\n",
    "\n",
    "Read 0.1, which is an overview of the whole course.\n",
    "\n",
    "# Tuesday class\n",
    "\n",
    "Welcome to _Theory of Computing_! I'd like to introduce the course with a [game based on Post's Correspondence Problem](http://www.nd.edu/~dchiang/teaching/puzzles/post.html). (It will be covered in detail in Section 5.2.) How would you write a computer program to solve this problem?\n",
    "\n",
    "## Computable and uncomputable\n",
    "\n",
    "In order to answer this question, we need to ask a more basic question: What is a computer? Historically, the answer to this question came from a totally different direction. Although people had built calculating machines, like Leibniz's [stepped reckoner] or Babbage's [difference engine], the question was not \"what is a computer,\" but \"what does it mean to compute?\" For in 1936, everyone knew what a computer was -- a computer was a person who computed things. Just like a dishwasher is a person who washes dishes.\n",
    "\n",
    "[stepped reckoner]: https://en.wikipedia.org/wiki/Stepped_Reckoner\n",
    "[difference engine]: https://en.wikipedia.org/wiki/Difference_engine\n",
    "\n",
    "For example, when you do arithmetic or solve a system of linear equations or find a derivative, you're computing -- you're following an algorithm that you learned in school. But some math requires more ingenuity, like writing proofs, and in the early 20th century, mathematicians were starting to wonder whether there was an \"effective procedure\" (we would say, an algorithm) for writing proofs too. The theory of computing developed as the answer to these questions; computing _machines_ were only somewhat incidental.\n",
    "\n",
    "\n",
    "In 1936, Turing published the paper that many consider to be the founding document of computer science. His answer to the question about what was meant by an \"effective procedure\" was not the first, but it was the most convincing. He imagined a computing person in an idealized scenario:\n",
    "\n",
    "- He has an infinitely long paper tape, divided into squares.\n",
    "- He can write one symbol in each square, and the number of possible symbols is finite (e.g., `0` to `9`).\n",
    "- He can only look at a finite number of squares at a time. \n",
    "- He can only move a finite distance at a time.\n",
    "- He has only a finite number of “states of mind.”\n",
    "\n",
    "He then imagined building machines (which he called a-machines, but which we now call Turing machines) that would do the same thing automatically.\n",
    "\n",
    "Turing machines have been constructed out of [wood] or [Legos], but they were really invented just as a mathematical construct, a way of formalizing what it means to compute. Nevertheless, Turing machines are important for computer science because _any_ current digital computer (under some reasonable assumptions) can be emulated by a Turing machine. For example, it's possible to [compile C programs] into Turing machines. We will further argue that even computers of the future can be emulated by Turing machines. Thus, Turing machines serve as our definition of what a computer is. If something can be done on a computer, it can be done on a Turing machine; if something cannot be done on a Turing machine, it cannot be done on any other computer.\n",
    "\n",
    "Then, we'll be able to prove that there are problems that _no_ Turing machine can solve, and therefore that no program written for any current digital computer can solve. Post's Correspondence Problem is one of these.\n",
    "\n",
    "[wood]: https://www.youtube.com/watch?v=vo8izCKHiF0\n",
    "[Legos]: http://www.turing2012.fr/?p=530&lang=en\n",
    "[compile C programs]: https://github.com/shinh/elvm"
   ]
  },
  {
   "cell_type": "markdown",
   "metadata": {
    "deletable": true,
    "editable": true
   },
   "source": [
    "## Restricted computation\n",
    "\n",
    "Even though they're so simple, Turing machines are very powerful -- too powerful, it was felt by some. One annoying property they have is that they can go into an infinite loop, something that you've no doubt experienced both as a computer user and a computer programmer. So theoretical computer scientists were interested in restricted machines which are in some sense better behaved. In the first half of the course, we'll look at two important ones: finite automata and pushdown automata."
   ]
  },
  {
   "cell_type": "markdown",
   "metadata": {
    "deletable": true,
    "editable": true
   },
   "source": [
    "## Tractable and intractable\n",
    "\n",
    "Our investigation of Turing machines and models equivalent to it will lead to a reasonable definition of what “tractable” means, namely, those that can be solved in polynomial time. In Unit IV, we’ll see that there is a large class of problems, called NP-complete, that are interesting and useful but don’t seem to be tractably solvable. One of them is the _bounded_ version of Post's Correspondence Problem: If I give you a set of tiles and tell you that the solution uses at most $n$ (copies of) tiles, can you find the solution? Probably the most well-known NP-complete problem is the Traveling Salesman problem: If you have to visit $n$ cities, what is the shortest way to visit all of them exactly once? I say that these problems don't _seem_ to be tractably solvable, because no one knows if they are. The amazing thing is that if you were to discover a tractable solution for one of them, then you would have a solution for all of them!"
   ]
  },
  {
   "cell_type": "markdown",
   "metadata": {
    "deletable": true,
    "editable": true
   },
   "source": [
    "# Wednesday reading\n",
    "\n",
    "Skim Sections 0.2-4, which cover mathematical preliminaries that you should have gotten in Discrete Math. If anything seems unfamiliar to you, study it a little more carefully. The subsection \"Strings and Languages\" is especially important (and surprisingly short); we'll be focusing on it in class."
   ]
  },
  {
   "cell_type": "markdown",
   "metadata": {
    "deletable": true,
    "editable": true
   },
   "source": [
    "# Thursday class\n",
    "\n",
    "In this course we want to study all the things that a computer can do. That seems very diverse, and it would seem that we have to study many different kinds of computations separately. But maybe we can reduce them all to one kind of problem, and focus our study on that one kind of problem. And we claim that any computational problem can be reduced to problems of the form: Does string $w$ belong to language $L$?\n",
    "\n",
    "People are fairly comfortable these days with the idea that any kind of object we might want to compute about can be represented as a string. We deal every day with messages, music, pictures, movies, books, etc., in digital form, with the awareness that these are just strings of 0’s and 1’s.\n",
    "\n",
    "Less obvious, perhaps, is that it makes sense to reduce all kinds of computations down to questions about whether strings belong to languages. First of all, our experience with computers today is highly interactive. But user-computer interaction can be thought of as a sequence of inputs and outputs. Second, the output from a computer is much more than just a \"yes\" or \"no\" answer. But if you have any function $f(x)$ that takes an input $x$ and outputs another string, we can think of it as the related function $f'(x,y)$ that takes an input $x$ and a possible output $y$, and returns \"yes\" iff $f(x) = y$.\n",
    "\n",
    "Caveat: The function $f'$ might be *much slower* than the original $f$. This will matter when we get to Unit IV, and we'll deal with this issue when the time comes.\n",
    "\n",
    "## Strings\n",
    "\n",
    "An _alphabet_ is a nonempty finite set of _symbols_. We use $\\Sigma$ (uppercase sigma) or sometimes $\\Gamma$ (uppercase gamma) to stand for an alphabet. We write actual symbols as $\\texttt{a}, \\texttt{b},$ etc., but write variables standing for symbols as $a, b$, etc.\n",
    "\n",
    "A _string_ is a finite sequence of symbols. Unlike with sets, order matters and duplicates matter. We usually use $w$ for a variable that stands for a string and $u,v$ or $x,y,z$ when we need more variables. \n",
    "\n",
    "Note the following properties:\n",
    "- If $a$ is a symbol, it is also a string.\n",
    "- We write either $vw$ or $v \\circ w$ for the concatenation of $v$ and $w$. (Some authors write $v \\cdot w$.) Concatenation is associative: $(uv)w = u(vw) = uvw$.\n",
    "- We write $\\varepsilon$ for the _empty string_: $\\varepsilon \\circ w = w \\circ \\varepsilon = w$.\n",
    "\n",
    "Note that $\\varepsilon$ (epsilon) is not a symbol! It is a \"meta-symbol\" that stands for the empty string. (Also, it is more commonly written $\\epsilon$, but we'll try to stick to the book's style.)\n",
    "\n",
    "It might be helpful to compare this notation for strings with C++. A symbol is a `char`. Just like a constant `'a'` and a variable `a` are not the same in C++, so in math, the symbol $\\mathtt{a}$ and the variable $a$ are not the same. A string is a C++ `string`. In C++, the constants `'a'` and `\"a\"` are different; in math (and in Python), they are identical. In C++, the empty string is `\"\"`; in math, $\\varepsilon$. In C++, you concatenate strings with `v+w`; in math, we write $v\\circ w$ or $vw$.\n",
    "\n",
    "**Question.** (This question and all questions below are not for credit; they will be discussed in class.) True or false? Assume $\\Sigma = \\{\\mathtt{a},\\mathtt{b}\\}$.\n",
    "\n",
    "\\begin{align}\n",
    "\\mathtt{ab}&=\\mathtt{ba} \\\\\n",
    "\\mathtt{aa}&=\\mathtt{a} \\\\\n",
    "\\varepsilon &\\in \\Sigma \\\\\n",
    "\\varepsilon \\varepsilon &= \\varepsilon\n",
    "\\end{align}\n",
    "\n",
    "## Languages\n",
    "\n",
    "A set of strings is called a _language_. We write $\\Sigma^\\ast$ for the language of all strings over $\\Sigma$. As usual, $\\emptyset$ stands for the empty language.\n",
    "\n",
    "**Question.** True or false?\n",
    "\n",
    "\\begin{align}\n",
    "\\{\\mathtt{a}, \\mathtt{b}\\} &= \\{\\mathtt{b}, \\mathtt{a}\\} \\\\\n",
    "\\{\\mathtt{a}, \\mathtt{a}\\} &= \\{\\mathtt{a}\\} \\\\\n",
    "\\{\\texttt{a}\\} \\cup \\emptyset &= \\{\\texttt{a}\\} \\\\\n",
    "\\{\\texttt{a}\\} \\cup \\{\\varepsilon\\} &= \\{\\texttt{a}\\}\n",
    "\\end{align}\n",
    "\n",
    "**Question.** Is there such a thing (according to the definitions above) as \n",
    "\n",
    "- an infinite alphabet?\n",
    "- an infinite string?\n",
    "- an infinite language of finite strings?\n",
    "- an infinite language of infinite strings?\n",
    "\n",
    "**Question.** Prove that the length of strings in a infinite language is unbounded. That is, if $L$ is infinite, there does not exist an $N$ such that for all $w \\in L$, $|w| \\leq N$.\n",
    "\n",
    "Operations on strings often induce analogous operations on languages. For example, if $L$ and $L'$ are languages,\n",
    "\n",
    "\\begin{align}\n",
    "L^R &= \\{ w^R \\mid w \\in L \\} \\\\\n",
    "L \\circ L' = L L' &= \\{ w w' \\mid w \\in L, w' \\in L'\\}.\n",
    "\\end{align}\n",
    "\n",
    "The $\\ast$ operator that we saw above, known as the Kleene star, can be applied to any language. Thus $L^\\ast$ is defined as the smallest language such that:\n",
    "\n",
    "- $L \\subseteq L^\\ast$.\n",
    "- If $v \\in L^\\ast$ and $w \\in L^\\ast$, then $vw \\in L^\\ast$.\n",
    "- $\\varepsilon \\in L^\\ast$.\n",
    "\n",
    "## Language classes\n",
    "\n",
    "Since every language corresponds to a computational problem (given a string $w$, does $w$ belong to $L$?), and since some problems are harder than others, it follows that some languages are harder to recognize than others. Some languages can be recognized by a Turing machine and some can't. Some can be recognized by a Turing machine in polynomial time ($O(n^k)$ time for some $k$) and some can't. So we can talk about sets of languages, commonly called _language classes_.\n",
    "\n",
    "There are only a handful of language classes we will learn this semester. They are:\n",
    "![Overview of language classes](overview.pdf)\n",
    "Each of the six boxes is a language class, with the name of the class written above; inside each box are kinds of machines that accept that language class.\n",
    "Each class is a strict superset of the previous one, _except_ NP is not known to be a strict superset of P."
   ]
  },
  {
   "cell_type": "code",
   "execution_count": null,
   "metadata": {
    "collapsed": true,
    "deletable": true,
    "editable": true
   },
   "outputs": [],
   "source": []
  }
 ],
 "metadata": {
  "kernelspec": {
   "display_name": "Python 3",
   "language": "python",
   "name": "python3"
  },
  "language_info": {
   "codemirror_mode": {
    "name": "ipython",
    "version": 3
   },
   "file_extension": ".py",
   "mimetype": "text/x-python",
   "name": "python",
   "nbconvert_exporter": "python",
   "pygments_lexer": "ipython3",
   "version": "3.6.0"
  }
 },
 "nbformat": 4,
 "nbformat_minor": 0
}
